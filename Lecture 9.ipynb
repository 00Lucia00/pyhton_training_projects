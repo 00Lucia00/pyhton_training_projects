{
 "cells": [
  {
   "cell_type": "code",
   "execution_count": 1,
   "id": "1cc4dced-367c-47fb-a6bf-687aac965f73",
   "metadata": {},
   "outputs": [],
   "source": [
    "import pandas as pd\n",
    "import numpy as np\n",
    "from sklearn import datasets\n",
    "from sklearn.model_selection import train_test_split\n",
    "from sklearn.model_selection import StratifiedShuffleSplit\n",
    "%matplotlib inline  \n",
    "import matplotlib.pyplot as plt \n",
    "\n"
   ]
  },
  {
   "cell_type": "code",
   "execution_count": 2,
   "id": "0386e327-a2e8-48bc-8533-92d88bc563da",
   "metadata": {},
   "outputs": [
    {
     "name": "stdout",
     "output_type": "stream",
     "text": [
      "<class 'sklearn.utils.Bunch'> \n",
      "\n",
      "dict_keys(['data', 'target', 'frame', 'target_names', 'DESCR', 'feature_names', 'filename', 'data_module']) \n",
      "\n",
      "Shapes data: (150, 4) and target: (150, 1).\n",
      "Columns data: [0 1 2 3] and target: [0].\n"
     ]
    }
   ],
   "source": [
    "# type sklearn Bunch\n",
    "iris_org = datasets.load_iris()\n",
    "print(type(iris_org), '\\n')\n",
    "print(iris_org.keys(), '\\n')\n",
    "iris_d = pd.DataFrame(iris_org.data)\n",
    "iris_t = pd.DataFrame(iris_org.target)\n",
    "\n",
    "print(f\"Shapes data: {iris_d.shape} and target: {iris_t.shape}.\")\n",
    "print(f\"Columns data: {iris_d.columns.values} and target: {iris_t.columns.values}.\")\n",
    "iris = iris_d.join(iris_t, rsuffix='class')\n",
    "\n",
    "iris_features = ['sepal_length', 'sepal_width', 'petal_length', 'petal_width', 'iris_class']\n",
    "iris_species = iris_org.target_names\n",
    "iris.columns = iris_features"
   ]
  },
  {
   "cell_type": "code",
   "execution_count": 3,
   "id": "79db1ed6-3e8c-465c-ba1b-45c211dc56e0",
   "metadata": {},
   "outputs": [
    {
     "data": {
      "image/png": "[encoded data removed]",
      "text/plain": [
       "<Figure size 432x288 with 1 Axes>"
      ]
     },
     "metadata": {
      "needs_background": "light"
     },
     "output_type": "display_data"
    }
   ],
   "source": [
    "\n",
    "# alpha changes the transparency\n",
    "plt.scatter(iris.petal_length, iris.petal_width, alpha=0.2, label='petal')\n",
    "scatter = plt.scatter(iris.sepal_length, iris.sepal_width, alpha=0.2, \n",
    "                      color='red', label='sepal')\n",
    "\n",
    "#Adding the aesthetics\n",
    "plt.title('Petal and Sepal')\n",
    "plt.xlabel('Length')\n",
    "plt.ylabel('Width')\n",
    "plt.legend()\n",
    "\n",
    "#Show the plot\n",
    "plt.show()"
   ]
  },
  {
   "cell_type": "markdown",
   "id": "2463b739-bffd-4915-9fc3-802b34e1e856",
   "metadata": {},
   "source": [
    "## Sepal by class in one plot"
   ]
  },
  {
   "cell_type": "code",
   "execution_count": 4,
   "id": "c03b092b-c029-4b68-99a1-1d3027ba10ad",
   "metadata": {},
   "outputs": [],
   "source": [
    "colors = {0:'red', 1:'blue', 2:'green'}"
   ]
  },
  {
   "cell_type": "code",
   "execution_count": 5,
   "id": "80a13cf6-89c7-43db-ac5d-301a604bbc7a",
   "metadata": {},
   "outputs": [
    {
     "ename": "NameError",
     "evalue": "name 'names' is not defined",
     "output_type": "error",
     "traceback": [
      "\u001b[1;31m---------------------------------------------------------------------------\u001b[0m",
      "\u001b[1;31mNameError\u001b[0m                                 Traceback (most recent call last)",
      "Input \u001b[1;32mIn [5]\u001b[0m, in \u001b[0;36m<cell line: 5>\u001b[1;34m()\u001b[0m\n\u001b[0;32m      2\u001b[0m fig, ax \u001b[38;5;241m=\u001b[39m plt\u001b[38;5;241m.\u001b[39msubplots()\n\u001b[0;32m      4\u001b[0m \u001b[38;5;66;03m# plot each color\u001b[39;00m\n\u001b[1;32m----> 5\u001b[0m \u001b[38;5;28;01mfor\u001b[39;00m i \u001b[38;5;129;01min\u001b[39;00m \u001b[38;5;28mrange\u001b[39m(\u001b[38;5;28mlen\u001b[39m(\u001b[43mnames\u001b[49m)):\n\u001b[0;32m      6\u001b[0m     ax\u001b[38;5;241m.\u001b[39mscatter(iris[iris\u001b[38;5;241m.\u001b[39miris_class \u001b[38;5;241m==\u001b[39m i]\u001b[38;5;241m.\u001b[39msepal_length, \n\u001b[0;32m      7\u001b[0m                iris[iris\u001b[38;5;241m.\u001b[39miris_class \u001b[38;5;241m==\u001b[39m i]\u001b[38;5;241m.\u001b[39msepal_width, \n\u001b[0;32m      8\u001b[0m                color \u001b[38;5;241m=\u001b[39m colors[i], label \u001b[38;5;241m=\u001b[39m iris_species[i])\n\u001b[0;32m     10\u001b[0m \u001b[38;5;66;03m# set a title and labels\u001b[39;00m\n",
      "\u001b[1;31mNameError\u001b[0m: name 'names' is not defined"
     ]
    },
    {
     "data": {
      "image/png": "[encoded data removed]",
      "text/plain": [
       "<Figure size 432x288 with 1 Axes>"
      ]
     },
     "metadata": {
      "needs_background": "light"
     },
     "output_type": "display_data"
    }
   ],
   "source": [
    "# create a figure and axis\n",
    "fig, ax = plt.subplots()\n",
    "\n",
    "# plot each color\n",
    "for i in range(len(names)):\n",
    "    ax.scatter(iris[iris.iris_class == i].sepal_length, \n",
    "               iris[iris.iris_class == i].sepal_width, \n",
    "               color = colors[i], label = iris_species[i])\n",
    "\n",
    "# set a title and labels\n",
    "ax.set_title('Iris Dataset - Sepal')\n",
    "ax.set_xlabel('Length')\n",
    "ax.set_ylabel('Width')\n",
    "\n",
    "ax.legend()\n",
    "plt.show()"
   ]
  },
  {
   "cell_type": "markdown",
   "id": "fb113a29-bdc5-4c24-a723-e636baa06b5b",
   "metadata": {},
   "source": [
    "## Sepal and Petal by class"
   ]
  },
  {
   "cell_type": "code",
   "execution_count": null,
   "id": "84d6da14-7302-4cf1-beac-1554f5d25822",
   "metadata": {},
   "outputs": [],
   "source": [
    "# create a figure and axis\n",
    "figs, axes = plt.subplots(1, 2, figsize=(15,5))\n",
    "a = [[0,1],[2,3]]\n",
    "feats = ['Sepals', 'Petals']\n",
    "count = 0\n",
    "for ax in axes:\n",
    "    # plot each color\n",
    "    for i in range(len(names)):\n",
    "        ax.scatter(iris[iris.iris_class == i][iris.columns[a[count][0]]], \n",
    "                   iris[iris.iris_class == i][iris.columns[a[count][1]]],\n",
    "                   color = colors[i], label = names[i], alpha=0.5)\n",
    "     \n",
    "    # set a title and labels\n",
    "    ax.set_title('Iris Dataset - '+ feats[count])\n",
    "    ax.set_xlabel('Length')\n",
    "    ax.set_ylabel('Width')\n",
    "    ax.legend()    \n",
    "    count += 1\n",
    "plt.show()"
   ]
  },
  {
   "cell_type": "markdown",
   "id": "287277ac-eb9e-49e6-b7b9-8eeefe83cf45",
   "metadata": {},
   "source": [
    "# Housing"
   ]
  },
  {
   "cell_type": "code",
   "execution_count": null,
   "id": "cb18eb7e-72bd-4b90-9100-0257852f6f05",
   "metadata": {},
   "outputs": [],
   "source": [
    "housing = pd.read_csv('housing.csv')\n",
    "housing.hist(bins=50, figsize=(20,15)) \n",
    "plt.show() \n",
    "# a histogram for each numerical attribute - initial overview\n",
    "# What is missing? (skala?)"
   ]
  },
  {
   "cell_type": "code",
   "execution_count": null,
   "id": "fce06256-928a-4702-a661-98dcd8d56fe5",
   "metadata": {},
   "outputs": [],
   "source": [
    "train_set, test_set = train_test_split(housing, test_size=0.2, random_state=42)\n",
    "housing[\"income_cat\"] = pd.cut(housing[\"median_income\"],\n",
    "                                bins=[0., 1.5, 3.0, 4.5, 6., np.inf],\n",
    "                                labels=[1, 2, 3, 4, 5])\n",
    "housing[\"income_cat\"].hist()"
   ]
  },
  {
   "cell_type": "markdown",
   "id": "7fa4e7e6-9d4b-4944-9ec5-6fb301ab0778",
   "metadata": {},
   "source": [
    "## Stratified Split based on income"
   ]
  },
  {
   "cell_type": "code",
   "execution_count": null,
   "id": "8f6e804d-5264-4aff-a716-54c443b9d234",
   "metadata": {},
   "outputs": [],
   "source": [
    "split = StratifiedShuffleSplit(n_splits=1, test_size=0.2, random_state=42) \n",
    "for train_index, test_index in split.split(housing, housing[\"income_cat\"]):\n",
    "        strat_train_set = housing.loc[train_index]\n",
    "        strat_test_set = housing.loc[test_index]\n",
    "        \n",
    "test_vals = strat_test_set[\"income_cat\"].value_counts() / len(strat_test_set)\n",
    "test_vals"
   ]
  },
  {
   "cell_type": "code",
   "execution_count": null,
   "id": "fb2eb475-bfcf-4a4f-8b94-b1512afc9ae2",
   "metadata": {},
   "outputs": [],
   "source": [
    "strat_train_set[\"income_cat\"].hist()\n",
    "strat_test_set[\"income_cat\"].hist()\n",
    "plt.show()"
   ]
  },
  {
   "cell_type": "markdown",
   "id": "0625b9f8-7353-4c16-bb57-726e7a0e3bdd",
   "metadata": {},
   "source": [
    "##### Samma fördelning!"
   ]
  },
  {
   "cell_type": "markdown",
   "id": "9faa184f-be56-4692-8ef5-6d83f70ea912",
   "metadata": {},
   "source": [
    "# Titanic"
   ]
  },
  {
   "cell_type": "code",
   "execution_count": null,
   "id": "31c105ba-4ccf-42c6-830f-b3cd2fa442c4",
   "metadata": {},
   "outputs": [],
   "source": [
    "titanicT = pd.read_csv('titanic_train.csv')"
   ]
  },
  {
   "cell_type": "code",
   "execution_count": null,
   "id": "598651bb-1b74-490c-85c7-0134eb97eb2a",
   "metadata": {},
   "outputs": [],
   "source": [
    "titanicT.head()"
   ]
  },
  {
   "cell_type": "markdown",
   "id": "07883160-2499-4cd1-a4e4-fd828c796fc6",
   "metadata": {},
   "source": [
    "### What can we drop already?"
   ]
  },
  {
   "cell_type": "code",
   "execution_count": null,
   "id": "cc3d6b80-1274-4685-91ef-b656a5c2edd4",
   "metadata": {},
   "outputs": [],
   "source": [
    "titanicT.columns"
   ]
  },
  {
   "cell_type": "code",
   "execution_count": null,
   "id": "718f8936-ac1d-4d70-a725-2750810aca28",
   "metadata": {},
   "outputs": [],
   "source": [
    "x = titanicT.Age\n",
    "y = titanicT.\n",
    "f, ax = plt.subplots()\n",
    "im = ax.imshow(pd.DataFrame([y,x]))"
   ]
  },
  {
   "cell_type": "code",
   "execution_count": null,
   "id": "a4ccbcf3-6891-434e-9458-e597ef50c82c",
   "metadata": {},
   "outputs": [],
   "source": [
    "ti_co = titanicT.corr()\n",
    "ti_co"
   ]
  },
  {
   "cell_type": "code",
   "execution_count": null,
   "id": "722d10d0-f96f-43ee-b02e-cacf83b337da",
   "metadata": {},
   "outputs": [],
   "source": [
    "# Titanic corelation heatmap\n",
    "#excluding NA/null values.\n",
    "f, ax = plt.subplots(figsize =(6, 5))\n",
    "im = ax.imshow(ti_co)\n",
    "\n",
    "ax.set_xticks(np.arange(len(ti_co.columns)), labels=ti_co.columns.values)\n",
    "ax.set_yticks(np.arange(len(ti_co.columns)), labels=ti_co.columns.values)\n",
    "plt.setp(ax.get_xticklabels(), rotation=45, ha=\"right\",\n",
    "         rotation_mode=\"anchor\")\n",
    "ax.set_title(\"Correlation for titanic data\")\n",
    "fig.tight_layout()\n",
    "plt.show()"
   ]
  },
  {
   "cell_type": "code",
   "execution_count": null,
   "id": "13f05ce8-cb04-419c-94f2-db39ef897841",
   "metadata": {},
   "outputs": [],
   "source": [
    "import seaborn as sns\n",
    "\n",
    "plt.figure(figsize=(10,8))\n",
    "sns.heatmap(ti_co.corr(),annot=True)"
   ]
  },
  {
   "cell_type": "code",
   "execution_count": null,
   "id": "d8a0a549-4cd5-4012-a767-87658f743a83",
   "metadata": {},
   "outputs": [],
   "source": []
  },
  {
   "cell_type": "code",
   "execution_count": null,
   "id": "a03b3558-8e72-4eee-9174-12fd7f3208c0",
   "metadata": {},
   "outputs": [],
   "source": []
  }
 ],
 "metadata": {
  "kernelspec": {
   "display_name": "Python 3 (ipykernel)",
   "language": "python",
   "name": "python3"
  },
  "language_info": {
   "codemirror_mode": {
    "name": "ipython",
    "version": 3
   },
   "file_extension": ".py",
   "mimetype": "text/x-python",
   "name": "python",
   "nbconvert_exporter": "python",
   "pygments_lexer": "ipython3",
   "version": "3.9.12"
  }
 },
 "nbformat": 4,
 "nbformat_minor": 5
}
