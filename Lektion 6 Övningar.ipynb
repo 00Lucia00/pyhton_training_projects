{
 "cells": [
  {
   "cell_type": "markdown",
   "metadata": {},
   "source": [
    "### Load in NumPy (remember to pip install numpy first)"
   ]
  },
  {
   "cell_type": "code",
   "execution_count": null,
   "metadata": {},
   "outputs": [],
   "source": [
    "import numpy as np"
   ]
  },
  {
   "cell_type": "markdown",
   "metadata": {},
   "source": [
    "### The Basics"
   ]
  },
  {
   "cell_type": "code",
   "execution_count": null,
   "metadata": {},
   "outputs": [],
   "source": [
    "# 1 - Skapa en array med värdena 1, 2 och 3. "
   ]
  },
  {
   "cell_type": "code",
   "execution_count": null,
   "metadata": {},
   "outputs": [],
   "source": [
    "# 2 - Skapa en 2D array med 3 float-värden i varje."
   ]
  },
  {
   "cell_type": "code",
   "execution_count": null,
   "metadata": {},
   "outputs": [],
   "source": [
    "# 3 - Använd ndim för att skriva ut dimensionerna på din 2D array."
   ]
  },
  {
   "cell_type": "code",
   "execution_count": null,
   "metadata": {},
   "outputs": [],
   "source": [
    "# 4 - Använd .shape för att få formen av din 2D array."
   ]
  },
  {
   "cell_type": "code",
   "execution_count": null,
   "metadata": {},
   "outputs": [],
   "source": [
    "# 5 - Använd .dtype för att få vad för typ av variabler är i din 2D array."
   ]
  },
  {
   "cell_type": "code",
   "execution_count": null,
   "metadata": {},
   "outputs": [],
   "source": [
    "# 6 - Använd .itemsize för att få hur stor varje sak i arrayen är."
   ]
  },
  {
   "cell_type": "code",
   "execution_count": null,
   "metadata": {},
   "outputs": [],
   "source": [
    "# 7 - Använd .nbytes för att få totala storleken på arrayen."
   ]
  },
  {
   "cell_type": "code",
   "execution_count": null,
   "metadata": {},
   "outputs": [],
   "source": [
    "# 8 - Använd .size för att få hur många element som finns i arrayen."
   ]
  },
  {
   "cell_type": "markdown",
   "metadata": {},
   "source": [
    "### Accessing/Changing specific elements, rows, columns, etc"
   ]
  },
  {
   "cell_type": "code",
   "execution_count": null,
   "metadata": {},
   "outputs": [],
   "source": [
    "# 1 - Skapa en 2D array med värdena 1 till 7 i översta första raden och värdena 8 till 14 i den andra."
   ]
  },
  {
   "cell_type": "code",
   "execution_count": null,
   "metadata": {},
   "outputs": [],
   "source": [
    "# 2 - Skapa en 2D array till som har fem rader, och värdena 1 till 5 i första, 6 till 10 i andra, osv till 25."
   ]
  },
  {
   "cell_type": "code",
   "execution_count": null,
   "metadata": {},
   "outputs": [],
   "source": [
    "# 3a - Hämta 7 från båda dina tidigare arrayer. array_namn[rad, kolumn]\n",
    "# 3b - Hämta 13 från båda dina tidigare arrayer."
   ]
  },
  {
   "cell_type": "code",
   "execution_count": null,
   "metadata": {},
   "outputs": [],
   "source": [
    "# 4a - Använd : för att få tag i den första raden i båda arrayer.\n",
    "# 4b - Använd : för att få tag i den andra raden i båda arrayer."
   ]
  },
  {
   "cell_type": "code",
   "execution_count": null,
   "metadata": {},
   "outputs": [],
   "source": [
    "# 5a - Använd : för att välja den första kolumnen i båda arrayerna.\n",
    "# 5b - Använd : för att välja den tredje kolumnen i båda arrayerna."
   ]
  },
  {
   "cell_type": "code",
   "execution_count": null,
   "metadata": {},
   "outputs": [],
   "source": [
    "# 6a - Använd : för att välja siffrorna 2 till 6 i arrayen med 7 kolumner.\n",
    "# 6b - Använd : för att välja siffrorna 21 till 23 i arrayen med 5 kolumner.\n",
    "# 6c - Använd : för att välja siffrorna 2, 7, 12, 17 i arrayen med 5 kolumner. \n",
    "# 6d - Använd : i båda [] boxarna för att välja de nio siffrorna i mitten av din fyrkantiga array.\n",
    "# 6e - Använd : i båda [] boxarna för att välja 4 5 6 och 11 12 13 samtidigt i den första arrayen."
   ]
  },
  {
   "cell_type": "code",
   "execution_count": null,
   "metadata": {},
   "outputs": [],
   "source": [
    "# 7a - Skriv över 11 med 45 i båda arrayerna.\n",
    "# 7b - Skriv över hela andra raden med 7 i den ena arrayen."
   ]
  },
  {
   "cell_type": "markdown",
   "metadata": {},
   "source": [
    "*3-d example"
   ]
  },
  {
   "cell_type": "code",
   "execution_count": null,
   "metadata": {},
   "outputs": [],
   "source": [
    "# 8 - Skapa en 3D-array med 2 rader, 2 kolumner och 2 vad-tredje-dimensionen-nu-skulle-kallas. ([[[,],[,]]])"
   ]
  },
  {
   "cell_type": "code",
   "execution_count": null,
   "metadata": {},
   "outputs": [],
   "source": [
    "# 9 - Hämta element 0,1,1 från din 3D-array."
   ]
  },
  {
   "cell_type": "code",
   "execution_count": null,
   "metadata": {},
   "outputs": [],
   "source": [
    "# 10a - Skapa en 1, 8 matris. Använd .reshape() för att göra om den till en 4, 2 matris.\n",
    "# 10b - Skapa en 1, 8 matris. Använd .reshape() för att göra om den till en 2, 2, 2 matris.\n",
    "# 10c - Skapa en 1, 25 matris. Använd .reshape() för att göra om den till en 25, 1 matris.\n",
    "# 10d - Skapa en 1, 25 matris. Använd .reshape() för att göra om den till en 5, 5 matris."
   ]
  },
  {
   "cell_type": "markdown",
   "metadata": {},
   "source": [
    "### Initializing Different Types of Arrays"
   ]
  },
  {
   "cell_type": "code",
   "execution_count": null,
   "metadata": {},
   "outputs": [],
   "source": [
    "# 1a - Använd .zeros() för att skapa en matris med bara nollor med dimensionen 2, 3.\n",
    "# 1b - Använd .zeros() för att skapa en matris med bara nollor med dimensionen 3, 5."
   ]
  },
  {
   "cell_type": "code",
   "execution_count": null,
   "metadata": {},
   "outputs": [],
   "source": [
    "# 2a - Använd .ones() för att skapa en 3D matris med bara ettor med dimensionen 4, 2, 2.\n",
    "# 2b - Använd .ones() för att skapa en 3D matris med bara ettor med dimensionen 4, 2, 2. De skall vara i variabel-typen float."
   ]
  },
  {
   "cell_type": "code",
   "execution_count": null,
   "metadata": {},
   "outputs": [],
   "source": [
    "# 3 - Använd .full() för att skapa en 2, 2 matris full med siffran 42."
   ]
  },
  {
   "cell_type": "code",
   "execution_count": null,
   "metadata": {},
   "outputs": [],
   "source": [
    "# 4 - Använd .full_like() för att skapa en matris med samma dimensioner som i förra uppgiften, men 67 istället.\n",
    "# Any other number (full_like)\n",
    "np.full_like(a, 4)"
   ]
  },
  {
   "cell_type": "code",
   "execution_count": null,
   "metadata": {},
   "outputs": [],
   "source": [
    "# 5a - Använd .random.rand() för att skapa en ny matris med dimensionerna 4,2 med slumpade tal mellan 0 och 1.\n",
    "# 5b - Använd .random.randint() för att skapa en ny matris med dimensionerna 3,3 med slumpade tal mellan -4 och 8."
   ]
  },
  {
   "cell_type": "code",
   "execution_count": null,
   "metadata": {},
   "outputs": [],
   "source": [
    "# 6 - Använd .identity() för att skapa en identitetsmatris med dimensionerna 5,5. Bara ett nummer behövs."
   ]
  },
  {
   "cell_type": "code",
   "execution_count": null,
   "metadata": {},
   "outputs": [],
   "source": [
    "# 7a - Använd .repeat() för att repetera din identitetsmatris från förra uppgiften två gånger lodrätt.\n",
    "# 7b - Använd .repeat() för att repetera din identitetsmatris från förra uppgiften två gånger vågrätt.\n",
    "# 7c - Använd .repeat() två gånger, först lodrätt, sedan vågrätt"
   ]
  },
  {
   "cell_type": "markdown",
   "metadata": {},
   "source": [
    "### Annat"
   ]
  },
  {
   "cell_type": "code",
   "execution_count": null,
   "metadata": {},
   "outputs": [],
   "source": [
    "# 1a - Skapa en matris med dimensionerna 5,5 med bara ettor i med .ones().\n",
    "# 1b - Skapa sedan en matris med dimensionerna 3,3 med bara nollor i med .zeros().\n",
    "# 1c - Spara sedan din zeros matris till i mitten av din ones matris. Du kommer behöva använda : på vänster sida = tecknet.\n",
    "# ones_matris[?,?] = zeroes_matris"
   ]
  },
  {
   "cell_type": "code",
   "execution_count": null,
   "metadata": {},
   "outputs": [],
   "source": [
    "# 2 - Använd .copy() för att skapa en kopia på en matris du skapade i en föregående uppgift."
   ]
  },
  {
   "cell_type": "markdown",
   "metadata": {},
   "source": [
    "### Mathematics"
   ]
  },
  {
   "cell_type": "code",
   "execution_count": null,
   "metadata": {},
   "outputs": [],
   "source": [
    "# 1 - Skapa en array med siffrorna 1 till 4. "
   ]
  },
  {
   "cell_type": "code",
   "execution_count": null,
   "metadata": {},
   "outputs": [],
   "source": [
    "# 2 - Addera 2 till varje element i din array."
   ]
  },
  {
   "cell_type": "code",
   "execution_count": null,
   "metadata": {},
   "outputs": [],
   "source": [
    "# 3 - Subtrahera 2 till varje element i din array."
   ]
  },
  {
   "cell_type": "code",
   "execution_count": null,
   "metadata": {},
   "outputs": [],
   "source": [
    "# 4 - Multiplicera varje element i din array med 2."
   ]
  },
  {
   "cell_type": "code",
   "execution_count": null,
   "metadata": {},
   "outputs": [],
   "source": [
    "# 5 - Dela varje element i din array med 2."
   ]
  },
  {
   "cell_type": "code",
   "execution_count": null,
   "metadata": {},
   "outputs": [],
   "source": [
    "# 6a - Skapa en ny array av samma storlek. Addera dina två arrayer.\n",
    "# 6b - Multiplicera dina två arrayer."
   ]
  },
  {
   "cell_type": "code",
   "execution_count": null,
   "metadata": {},
   "outputs": [],
   "source": [
    "# 7 - Varje element av din array uphöjt med tre."
   ]
  },
  {
   "cell_type": "code",
   "execution_count": null,
   "metadata": {},
   "outputs": [],
   "source": [
    "# 8 - För skojs skull, ta sin, cos och tan på varje element i din array."
   ]
  },
  {
   "cell_type": "markdown",
   "metadata": {},
   "source": [
    "#### https://docs.scipy.org/doc/numpy/reference/routines.math.html"
   ]
  },
  {
   "cell_type": "markdown",
   "metadata": {},
   "source": [
    "##### Linear Algebra"
   ]
  },
  {
   "cell_type": "code",
   "execution_count": null,
   "metadata": {},
   "outputs": [],
   "source": [
    "# Skapa en array med dimensionerna 2,3, och en med dimensionerna 3,2. \n",
    "# Använd NumPy's matmul funktion på dem och se vad ni får. np.matmul(array1, array2)"
   ]
  },
  {
   "cell_type": "markdown",
   "metadata": {},
   "source": [
    "#### Create an identity matrix \n",
    "Find the determinant "
   ]
  },
  {
   "cell_type": "code",
   "execution_count": null,
   "metadata": {},
   "outputs": [],
   "source": [
    "# Kör följande koden.\n",
    "c = np.identity(3)\n",
    "print(c)\n",
    "np.linalg.det(c)"
   ]
  },
  {
   "cell_type": "markdown",
   "metadata": {},
   "source": [
    "#### Reference docs  https://docs.scipy.org/doc/numpy/reference/routines.linalg.html\n",
    "\n",
    "- Determinant\n",
    "- Trace\n",
    "- Singular Vector Decomposition\n",
    "- Eigenvalues\n",
    "- Matrix Norm\n",
    "- Inverse\n",
    "- Etc..."
   ]
  },
  {
   "cell_type": "markdown",
   "metadata": {},
   "source": [
    "##### Statistics"
   ]
  },
  {
   "cell_type": "code",
   "execution_count": null,
   "metadata": {},
   "outputs": [],
   "source": [
    "# 1 - Läs in filen data.txt som jag har skickat med via genfromtxt med delimiter=\",\". Skriv ut innehållet."
   ]
  },
  {
   "cell_type": "code",
   "execution_count": null,
   "metadata": {},
   "outputs": [],
   "source": [
    "# 2a - Hitta minsta värdet i filen med np.min.\n",
    "# 2b - Hitta största värdet i filen med np.max."
   ]
  },
  {
   "cell_type": "code",
   "execution_count": null,
   "metadata": {},
   "outputs": [],
   "source": [
    "# 3a - Använd axis=0 eller axis=1 för att visa vad högsta/minsta värdet av varje kolumn är.\n",
    "# 3b - Använd axis=0 eller axis=1 för att visa vad högsta/minsta värdet av varje rad är."
   ]
  },
  {
   "cell_type": "code",
   "execution_count": null,
   "metadata": {},
   "outputs": [],
   "source": [
    "# 4a - Använd sum() för att ta reda på vad summan av varje rad är. Sedan varje kolumn.\n",
    "# 4b - Använd sum() för att ta reda på vad summan av bara värdena i rad index 2 är."
   ]
  },
  {
   "cell_type": "markdown",
   "metadata": {},
   "source": [
    "### Reorganizing Arrays"
   ]
  },
  {
   "cell_type": "code",
   "execution_count": null,
   "metadata": {},
   "outputs": [],
   "source": [
    "# Vertically stacking vectors\n",
    "v1 = np.array([1,2,3,4])\n",
    "v2 = np.array([5,6,7,8])\n",
    "\n",
    "np.vstack([v1,v2,v1,v2])"
   ]
  },
  {
   "cell_type": "code",
   "execution_count": null,
   "metadata": {},
   "outputs": [],
   "source": [
    "# Horizontal  stack\n",
    "h1 = np.ones((2,4))\n",
    "h2 = np.zeros((2,2))\n",
    "\n",
    "np.hstack((h1,h2))"
   ]
  },
  {
   "cell_type": "markdown",
   "metadata": {},
   "source": [
    "##### Boolean Masking and Advanced Indexing"
   ]
  },
  {
   "cell_type": "code",
   "execution_count": null,
   "metadata": {},
   "outputs": [],
   "source": [
    "# 1 - Skapa en array av strings. Hämta alla strings som är längre än tre tecken.\n"
   ]
  },
  {
   "cell_type": "code",
   "execution_count": null,
   "metadata": {},
   "outputs": [],
   "source": [
    "# 2a - Skapa en array med nummer mellan 0 och 30. Hämta sedan ut alla som är under 20.\n",
    "# 2b - Hämta nu ut alla som är under 20 men över 10.\n",
    "# 2c - Hämta nu ut alla som är under 10 eller över 20."
   ]
  }
 ],
 "metadata": {
  "kernelspec": {
   "display_name": "Python 3 (ipykernel)",
   "language": "python",
   "name": "python3"
  },
  "language_info": {
   "codemirror_mode": {
    "name": "ipython",
    "version": 3
   },
   "file_extension": ".py",
   "mimetype": "text/x-python",
   "name": "python",
   "nbconvert_exporter": "python",
   "pygments_lexer": "ipython3",
   "version": "3.9.12"
  }
 },
 "nbformat": 4,
 "nbformat_minor": 4
}
