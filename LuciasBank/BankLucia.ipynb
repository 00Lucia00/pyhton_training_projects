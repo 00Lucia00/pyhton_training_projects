{
 "cells": [
  {
   "cell_type": "markdown",
   "id": "d377d2d0",
   "metadata": {},
   "source": [
    " # Main\n",
    "\n",
    " här körs de olika funktonerna"
   ]
  },
  {
   "cell_type": "code",
   "execution_count": 1,
   "id": "4c3f4f41",
   "metadata": {},
   "outputs": [],
   "source": [
    "from BankClass import Bank    #importerar klasserna\n",
    "from CustomerClass import Customer\n",
    "from AccountClass import Account"
   ]
  },
  {
   "cell_type": "code",
   "execution_count": 2,
   "id": "2f40350a",
   "metadata": {},
   "outputs": [],
   "source": [
    "path = \"pyTextfil.txt\"   #filnamn    # metoder som läser från fil och skriver till fil\n",
    "\n",
    "def read_customerfile(fileName):   \n",
    "    customerList = []\n",
    "    \n",
    "    file = open(fileName , \"r\", encoding = \"utf-8\")\n",
    "    read = file.read()\n",
    "    List = read.split('\\n')\n",
    "    file.close()\n",
    "    \n",
    "    for customer in List:\n",
    "        customerList.append(customer.split(','))\n",
    "        \n",
    "    print('Currently', len(customerList), 'customers')#visar att metoden läser in textfils innehåll\n",
    "    return customerList\n",
    "\n",
    "def write_toFile(fileName, writeStr): #skriver till fil\n",
    "    file = open(fileName , \"w\", encoding = \"utf-8\")\n",
    "    for a in writeStr:\n",
    "        #write = writeStr[a]\n",
    "        file.write(\",\".join(a) + '\\n')\n",
    "        #file.write()     \n",
    "    file.close()\n",
    "                \n",
    "    \n"
   ]
  },
  {
   "cell_type": "code",
   "execution_count": 3,
   "id": "ae2de733",
   "metadata": {},
   "outputs": [
    {
     "name": "stdout",
     "output_type": "stream",
     "text": [
      "Currently 6 customers\n",
      "[['Abbe', 'lösen1', 'konto1/100', 'konto6/500'], ['Babbe', 'lösen2', 'konto2/400'], ['Cabbe', 'lösen3', 'konto3/300'], ['Dabbe', 'lösen4', 'konto4/200'], ['Eabbe', 'lösen5', 'konto5/0'], ['']]\n"
     ]
    }
   ],
   "source": [
    "currentCustomer = None #deklarerar de variabler som håller kolla på händelser\n",
    "customerList = read_customerfile(path)\n",
    "print(customerList) #kollar innehåll"
   ]
  },
  {
   "cell_type": "markdown",
   "id": "a274fbdb",
   "metadata": {},
   "source": [
    "# Här startar bank metoderna\n",
    "bank metoder ska vara lite som admin funktioner"
   ]
  },
  {
   "cell_type": "code",
   "execution_count": 4,
   "id": "0429c6d6",
   "metadata": {},
   "outputs": [
    {
     "name": "stdout",
     "output_type": "stream",
     "text": [
      "Hi this is Lucia Bank\n"
     ]
    }
   ],
   "source": [
    "bank1 = Bank('Lucia',customerList) "
   ]
  },
  {
   "cell_type": "code",
   "execution_count": 5,
   "id": "2cc58207",
   "metadata": {},
   "outputs": [
    {
     "name": "stdout",
     "output_type": "stream",
     "text": [
      "Current customers: \n",
      "Abbe\n",
      "Babbe\n",
      "Cabbe\n",
      "Dabbe\n",
      "Eabbe\n",
      "\n",
      "This bank has 6 customers\n"
     ]
    }
   ],
   "source": [
    "bank1.get_customers() #kollar antal kunder i banken"
   ]
  },
  {
   "cell_type": "code",
   "execution_count": 6,
   "id": "348c3ad1",
   "metadata": {},
   "outputs": [
    {
     "name": "stdout",
     "output_type": "stream",
     "text": [
      "Welcome to our Bank Fabbe\n"
     ]
    },
    {
     "data": {
      "text/plain": [
       "True"
      ]
     },
     "execution_count": 6,
     "metadata": {},
     "output_type": "execute_result"
    }
   ],
   "source": [
    "bank1.add_customer('Fabbe','lösen6') #läggtill kund, ny kund har inga konton"
   ]
  },
  {
   "cell_type": "code",
   "execution_count": 7,
   "id": "039a5eed",
   "metadata": {},
   "outputs": [
    {
     "name": "stdout",
     "output_type": "stream",
     "text": [
      "Welcome Fabbe what can we do for you\n"
     ]
    }
   ],
   "source": [
    "currentCustomer = bank1.login('Fabbe','lösen6') #loggar in nya kund och ändrar variabel "
   ]
  },
  {
   "cell_type": "markdown",
   "id": "dae77eb8",
   "metadata": {},
   "source": [
    "Skapar ett Customer objekt som innehåller på inloggade kunds information, Customer metoder börjar komma in här"
   ]
  },
  {
   "cell_type": "code",
   "execution_count": 8,
   "id": "65bff8e7",
   "metadata": {},
   "outputs": [],
   "source": [
    "username, password, *accounts = currentCustomer  # delar upp inehåll av nuvarande inloggade kund\n",
    "c1 = Customer(username,password, accounts) #skapar kund objekt av inloggad person"
   ]
  },
  {
   "cell_type": "code",
   "execution_count": 9,
   "id": "51eb6c95",
   "metadata": {},
   "outputs": [
    {
     "name": "stdout",
     "output_type": "stream",
     "text": [
      "Password changed successfully\n"
     ]
    }
   ],
   "source": [
    "newPass = bank1.change_customer_password('Fabbe','lösen22') #ändra kundens lösenord\n"
   ]
  },
  {
   "cell_type": "code",
   "execution_count": 10,
   "id": "f9926d20",
   "metadata": {},
   "outputs": [],
   "source": [
    "currentCustomer[1] = newPass #uppdatera currentCustomer variabel"
   ]
  },
  {
   "cell_type": "code",
   "execution_count": 11,
   "id": "7e53b0dc",
   "metadata": {},
   "outputs": [
    {
     "name": "stdout",
     "output_type": "stream",
     "text": [
      "['Fabbe', 'lösen22']\n"
     ]
    },
    {
     "data": {
      "text/plain": [
       "['Fabbe', 'lösen22']"
      ]
     },
     "execution_count": 11,
     "metadata": {},
     "output_type": "execute_result"
    }
   ],
   "source": [
    "bank1.get_customer('Fabbe') #hämtar valfri kunds info"
   ]
  },
  {
   "cell_type": "code",
   "execution_count": 12,
   "id": "84b09e4f",
   "metadata": {},
   "outputs": [
    {
     "name": "stdout",
     "output_type": "stream",
     "text": [
      "Password changed successfully\n"
     ]
    },
    {
     "data": {
      "text/plain": [
       "'lösen22'"
      ]
     },
     "execution_count": 12,
     "metadata": {},
     "output_type": "execute_result"
    }
   ],
   "source": [
    "c1.change_customer_password('lösen6', newPass) #ändrar objektets lösen, vilket är nuvarande kunds info\n"
   ]
  },
  {
   "cell_type": "code",
   "execution_count": 13,
   "id": "f07693be",
   "metadata": {},
   "outputs": [
    {
     "name": "stdout",
     "output_type": "stream",
     "text": [
      "customer details:\n",
      " Fabbe lösen22 []\n"
     ]
    },
    {
     "data": {
      "text/plain": [
       "['Fabbe', 'lösen22', []]"
      ]
     },
     "execution_count": 13,
     "metadata": {},
     "output_type": "execute_result"
    }
   ],
   "source": [
    "c1.get_customer() #kollar så lösen ändrats i objektet"
   ]
  },
  {
   "cell_type": "code",
   "execution_count": 14,
   "id": "e913dfd8",
   "metadata": {},
   "outputs": [
    {
     "name": "stdout",
     "output_type": "stream",
     "text": [
      "Customer removed!\n",
      "[['Babbe', 'lösen2', 'konto2/400'], ['Cabbe', 'lösen3', 'konto3/300'], ['Dabbe', 'lösen4', 'konto4/200'], ['Eabbe', 'lösen5', 'konto5/0'], [''], ['Fabbe', 'lösen22']]\n"
     ]
    }
   ],
   "source": [
    "bank1.remove_customer('Abbe')\n",
    "print(customerList)#kollar så kunden är borttagen"
   ]
  },
  {
   "cell_type": "code",
   "execution_count": 22,
   "id": "3e4aaa71",
   "metadata": {},
   "outputs": [
    {
     "name": "stdout",
     "output_type": "stream",
     "text": [
      "Account Added\n"
     ]
    }
   ],
   "source": [
    "newAcc = c1.add_account(bank1.GenerateAccountNr()) # lägger till nytt konto för objekt"
   ]
  },
  {
   "cell_type": "code",
   "execution_count": 23,
   "id": "fde79a32",
   "metadata": {},
   "outputs": [
    {
     "name": "stdout",
     "output_type": "stream",
     "text": [
      "Account updated\n",
      "[['Babbe', 'lösen2', 'konto2/550'], ['Cabbe', 'lösen3', 'konto3/300'], ['Dabbe', 'lösen4', 'konto4/200'], ['Eabbe', 'lösen5', 'konto5/0'], [''], ['Fabbe', 'lösen22', 'konto40/0', 'konto98/0']]\n"
     ]
    }
   ],
   "source": [
    "customerList = bank1.add_account(newAcc) # lägger in de nya kontot i kund listan\n",
    "print(customerList)"
   ]
  },
  {
   "cell_type": "code",
   "execution_count": 17,
   "id": "ad5e3420",
   "metadata": {},
   "outputs": [
    {
     "data": {
      "text/plain": [
       "['konto40/0']"
      ]
     },
     "execution_count": 17,
     "metadata": {},
     "output_type": "execute_result"
    }
   ],
   "source": [
    "bank1.get_accounts() #hämtar den inloggade kundens konton"
   ]
  },
  {
   "cell_type": "code",
   "execution_count": 18,
   "id": "1bc37fb4",
   "metadata": {},
   "outputs": [
    {
     "name": "stdout",
     "output_type": "stream",
     "text": [
      "0 konto2 currentBalance 400\n"
     ]
    },
    {
     "data": {
      "text/plain": [
       "['konto2', '400']"
      ]
     },
     "execution_count": 18,
     "metadata": {},
     "output_type": "execute_result"
    }
   ],
   "source": [
    "bank1.get_account('konto2') # letar efter konton i hela kund listan för o se innehåll"
   ]
  },
  {
   "cell_type": "code",
   "execution_count": 19,
   "id": "4b50400a",
   "metadata": {},
   "outputs": [
    {
     "name": "stdout",
     "output_type": "stream",
     "text": [
      "konto2 New balance: 600\n"
     ]
    },
    {
     "data": {
      "text/plain": [
       "[['Babbe', 'lösen2', 'konto2/600'],\n",
       " ['Cabbe', 'lösen3', 'konto3/300'],\n",
       " ['Dabbe', 'lösen4', 'konto4/200'],\n",
       " ['Eabbe', 'lösen5', 'konto5/0'],\n",
       " [''],\n",
       " ['Fabbe', 'lösen22', 'konto40/0']]"
      ]
     },
     "execution_count": 19,
     "metadata": {},
     "output_type": "execute_result"
    }
   ],
   "source": [
    "#borde egentligen gjort så detta bara funkar för inloggad kund, men kände att de blir repetativt\n",
    "bank1.deposit('konto2', 200)#detta funkar för vilket konto som helst i kund listan// ur admin perspektiv"
   ]
  },
  {
   "cell_type": "code",
   "execution_count": 20,
   "id": "06f5ed7b",
   "metadata": {},
   "outputs": [
    {
     "name": "stdout",
     "output_type": "stream",
     "text": [
      "konto2 New balance: 550\n"
     ]
    },
    {
     "data": {
      "text/plain": [
       "[['Babbe', 'lösen2', 'konto2/550'],\n",
       " ['Cabbe', 'lösen3', 'konto3/300'],\n",
       " ['Dabbe', 'lösen4', 'konto4/200'],\n",
       " ['Eabbe', 'lösen5', 'konto5/0'],\n",
       " [''],\n",
       " ['Fabbe', 'lösen22', 'konto40/0']]"
      ]
     },
     "execution_count": 20,
     "metadata": {},
     "output_type": "execute_result"
    }
   ],
   "source": [
    "bank1. withdraw('konto2', 50)#detta funkar för vilket konto som helst ur kund listan"
   ]
  },
  {
   "cell_type": "code",
   "execution_count": 24,
   "id": "f3756d7a",
   "metadata": {},
   "outputs": [
    {
     "name": "stdout",
     "output_type": "stream",
     "text": [
      "[['konto40', 0], ['konto98', 0]]\n"
     ]
    },
    {
     "data": {
      "text/plain": [
       "True"
      ]
     },
     "execution_count": 24,
     "metadata": {},
     "output_type": "execute_result"
    }
   ],
   "source": [
    "c1.get_accounts() # kollar vilka konton denna kund har"
   ]
  },
  {
   "cell_type": "markdown",
   "id": "64c94cdd",
   "metadata": {},
   "source": [
    "Account  Metoder"
   ]
  },
  {
   "cell_type": "code",
   "execution_count": 25,
   "id": "cc8ccf92",
   "metadata": {},
   "outputs": [],
   "source": [
    "#väljer bara randome konto här för att visa att inloggad kund kan ändra i sina konton\n",
    "acNr,bal = c1.accountList[0] #delar upp innehåll för att lägga in parametrar"
   ]
  },
  {
   "cell_type": "code",
   "execution_count": 26,
   "id": "e2e65bb2",
   "metadata": {},
   "outputs": [
    {
     "name": "stdout",
     "output_type": "stream",
     "text": [
      "You have insufficient funds  \n",
      "Account: konto40\n",
      "current balance: 0\n"
     ]
    }
   ],
   "source": [
    "a1= Account(acNr,int(bal))\n",
    "a1.withdraw(50)\n",
    "a1.get_balance()"
   ]
  },
  {
   "cell_type": "code",
   "execution_count": 27,
   "id": "c04ec2ce",
   "metadata": {},
   "outputs": [
    {
     "name": "stdout",
     "output_type": "stream",
     "text": [
      "Amount Deposited: 500 currentBalance: 500\n",
      "['konto40', 500]\n"
     ]
    }
   ],
   "source": [
    "amount = 500\n",
    "balance = a1.deposit(amount)\n",
    "c1.accountList[0][1] = balance\n",
    "print(c1.accountList[0])"
   ]
  },
  {
   "cell_type": "code",
   "execution_count": 28,
   "id": "f66d906d",
   "metadata": {},
   "outputs": [
    {
     "name": "stdout",
     "output_type": "stream",
     "text": [
      "konto40 New balance: 500\n"
     ]
    },
    {
     "data": {
      "text/plain": [
       "[['Babbe', 'lösen2', 'konto2/550'],\n",
       " ['Cabbe', 'lösen3', 'konto3/300'],\n",
       " ['Dabbe', 'lösen4', 'konto4/200'],\n",
       " ['Eabbe', 'lösen5', 'konto5/0'],\n",
       " [''],\n",
       " ['Fabbe', 'lösen22', 'konto40/500', 'konto98/0']]"
      ]
     },
     "execution_count": 28,
     "metadata": {},
     "output_type": "execute_result"
    }
   ],
   "source": [
    "bank1.deposit(acNr, amount)\n"
   ]
  },
  {
   "cell_type": "code",
   "execution_count": 29,
   "id": "c8223b9b",
   "metadata": {},
   "outputs": [
    {
     "name": "stdout",
     "output_type": "stream",
     "text": [
      "konto98 This account has been removed!\n"
     ]
    }
   ],
   "source": [
    "#tar bara bort inloggad kunds konto//från admin perpektiv\n",
    "removeAcc = bank1.remove_account('konto98') #obs lägg in inloggad kunds konto"
   ]
  },
  {
   "cell_type": "code",
   "execution_count": 31,
   "id": "a321ec15",
   "metadata": {},
   "outputs": [
    {
     "name": "stdout",
     "output_type": "stream",
     "text": [
      "Account not found!\n"
     ]
    }
   ],
   "source": [
    "c1.remove_account(removeAcc) # tar bort i objektets list"
   ]
  },
  {
   "cell_type": "code",
   "execution_count": 32,
   "id": "39107d14",
   "metadata": {},
   "outputs": [
    {
     "name": "stdout",
     "output_type": "stream",
     "text": [
      "You have Logout!\n"
     ]
    },
    {
     "data": {
      "text/plain": [
       "True"
      ]
     },
     "execution_count": 32,
     "metadata": {},
     "output_type": "execute_result"
    }
   ],
   "source": [
    "bank1.logout()"
   ]
  },
  {
   "cell_type": "code",
   "execution_count": 33,
   "id": "a3aa3e65",
   "metadata": {},
   "outputs": [
    {
     "name": "stdout",
     "output_type": "stream",
     "text": [
      "[['Babbe', 'lösen2', 'konto2/550'], ['Cabbe', 'lösen3', 'konto3/300'], ['Dabbe', 'lösen4', 'konto4/200'], ['Eabbe', 'lösen5', 'konto5/0'], [''], ['Fabbe', 'lösen22', 'konto40/500']]\n"
     ]
    }
   ],
   "source": [
    "print(customerList) # kollar kundlistans innehåll innan den skrivs in i filen"
   ]
  },
  {
   "cell_type": "code",
   "execution_count": 34,
   "id": "62641644",
   "metadata": {},
   "outputs": [],
   "source": [
    "write_toFile(path, customerList)#skriver in listan"
   ]
  },
  {
   "cell_type": "code",
   "execution_count": null,
   "id": "ee50baa1",
   "metadata": {},
   "outputs": [],
   "source": []
  }
 ],
 "metadata": {
  "kernelspec": {
   "display_name": "Python 3 (ipykernel)",
   "language": "python",
   "name": "python3"
  },
  "language_info": {
   "codemirror_mode": {
    "name": "ipython",
    "version": 3
   },
   "file_extension": ".py",
   "mimetype": "text/x-python",
   "name": "python",
   "nbconvert_exporter": "python",
   "pygments_lexer": "ipython3",
   "version": "3.9.13"
  }
 },
 "nbformat": 4,
 "nbformat_minor": 5
}
