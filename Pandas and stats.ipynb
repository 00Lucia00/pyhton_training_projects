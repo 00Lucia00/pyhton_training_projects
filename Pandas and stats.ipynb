{
 "cells": [
  {
   "cell_type": "markdown",
   "id": "fd5fd624-30e4-41b8-a5b9-6d735a60ae40",
   "metadata": {},
   "source": [
    "## Blended learning: \n",
    "Watch the following video and then read the information in this file and do the excercises. \n",
    "Video link: https://youtu.be/LHBE6Q9XlzI?t=39852"
   ]
  },
  {
   "cell_type": "code",
   "execution_count": null,
   "id": "2cdb6d69-60d2-4361-8a55-9cce858af40d",
   "metadata": {},
   "outputs": [],
   "source": [
    "import pandas as pd"
   ]
  },
  {
   "cell_type": "markdown",
   "id": "67729205-e50e-4b92-a0b3-5de5616c1487",
   "metadata": {},
   "source": [
    "## Series object\n",
    "#### Can be indexed by other types than integer, have nonsequential indices or even floats."
   ]
  },
  {
   "cell_type": "code",
   "execution_count": null,
   "id": "2cc06a59-e353-4e8a-937d-ef88691ab433",
   "metadata": {},
   "outputs": [],
   "source": [
    "data = pd.Series([0.25, 0.5, 0.75, 1.0], \n",
    "                 index=['a','b','c','d'])\n",
    "print('string index')\n",
    "print(data)"
   ]
  },
  {
   "cell_type": "code",
   "execution_count": null,
   "id": "169bb4db-ae6e-4dc4-a9b4-9834f2470f40",
   "metadata": {},
   "outputs": [],
   "source": [
    "data = pd.Series([0.25, 0.5, 0.75, 1.0], \n",
    "                 index=[25, 0, 100, 56])\n",
    "print('nonsequential indices')\n",
    "print(data)"
   ]
  },
  {
   "cell_type": "code",
   "execution_count": null,
   "id": "0c035678-f892-43ca-a853-ae7bba19907b",
   "metadata": {},
   "outputs": [],
   "source": [
    "data = pd.Series([0.25, 0.5, 0.75, 1.0], \n",
    "                 index=[2.5, 0.0, 10.0, 5.6])\n",
    "print('float indices')\n",
    "print(data)"
   ]
  },
  {
   "cell_type": "markdown",
   "id": "98b3cc9e-a944-4365-b679-cb1f96e615f0",
   "metadata": {},
   "source": [
    "#### We have several methods to explore the data."
   ]
  },
  {
   "cell_type": "code",
   "execution_count": null,
   "id": "7a085f38-7d06-4d5a-ad8b-bd28382b7747",
   "metadata": {},
   "outputs": [],
   "source": [
    "data = pd.Series([0.25, 0.5, 0.75, 1.0], \n",
    "                 index=['a','b','c','d'])\n",
    "list(data.items())"
   ]
  },
  {
   "cell_type": "code",
   "execution_count": null,
   "id": "e896ac33-de52-4b62-9c25-c04c237dae9f",
   "metadata": {},
   "outputs": [],
   "source": [
    "data.keys()"
   ]
  },
  {
   "cell_type": "code",
   "execution_count": null,
   "id": "bad5a4be-bd12-479e-a111-c8325e2c3899",
   "metadata": {},
   "outputs": [],
   "source": [
    "data.values"
   ]
  },
  {
   "cell_type": "code",
   "execution_count": null,
   "id": "632a7d6f-2cf6-43c2-b3f8-211243f77255",
   "metadata": {},
   "outputs": [],
   "source": [
    "# Try to figure out what the following code does before running it.\n",
    "if not 'e' in data:\n",
    "    data['e'] = 1.25\n",
    "data"
   ]
  },
  {
   "cell_type": "code",
   "execution_count": null,
   "id": "0a56d3b9-8e12-4d10-a3c9-0eca52d14548",
   "metadata": {},
   "outputs": [],
   "source": [
    "# Fancy indexing\n",
    "data[['b','d', 'e']]"
   ]
  },
  {
   "cell_type": "markdown",
   "id": "0d7747a9-91ae-4af8-97c9-739894da811a",
   "metadata": {},
   "source": [
    "#### Implicit and explicit indexing"
   ]
  },
  {
   "cell_type": "code",
   "execution_count": null,
   "id": "9cb73150-1a1a-43c0-9e1e-1fa7afb71b02",
   "metadata": {},
   "outputs": [],
   "source": [
    "data = pd.Series({2:'a', 4:'b', 1:'c', 3:'d'})\n",
    "data"
   ]
  },
  {
   "cell_type": "code",
   "execution_count": null,
   "id": "60a4a838-5237-4f27-960e-81b679375bc6",
   "metadata": {},
   "outputs": [],
   "source": [
    "# Explicit index\n",
    "print(data[2], data.loc[2])"
   ]
  },
  {
   "cell_type": "code",
   "execution_count": null,
   "id": "6728fed2-a705-4765-a815-757e63ac6212",
   "metadata": {},
   "outputs": [],
   "source": [
    "# Implicit index\n",
    "print(data[2:3], '\\n', data.iloc[2])"
   ]
  },
  {
   "cell_type": "markdown",
   "id": "9e2080cb-58ca-429f-b4d8-fd775018783d",
   "metadata": {},
   "source": [
    "### Like a dict\n",
    "The series object is a bit like a dictionary in that it maps typed keys to a set of typed values. (Both keys and values in a dictionary can be arbitrary.) Can create a Series from a python dictionary."
   ]
  },
  {
   "cell_type": "code",
   "execution_count": null,
   "id": "164b72f3-3c45-4bdf-9b86-6112923a0582",
   "metadata": {},
   "outputs": [],
   "source": [
    "population_dict = {'California': 38332521,\n",
    "                   'Texas':      26448193,\n",
    "                   'New York':   19651127,\n",
    "                   'Florida':    19552860,\n",
    "                   'Illinois':   12882135}\n",
    "population = pd.Series(population_dict)\n",
    "population"
   ]
  },
  {
   "cell_type": "markdown",
   "id": "40ffebc7-ce2d-4e51-aa11-13c66380ca1c",
   "metadata": {},
   "source": [
    "Normal value retrieval is used (just as in dictionaries) and to get a list of the indexes available we use *.index*. Note that this returns the same type of object as *.keys()*."
   ]
  },
  {
   "cell_type": "code",
   "execution_count": null,
   "id": "d6d9db17-c710-4fbd-b171-b240dbe643d1",
   "metadata": {},
   "outputs": [],
   "source": [
    "print(population['California'])\n",
    "print(population.index)"
   ]
  },
  {
   "cell_type": "markdown",
   "id": "02dbb716-7af4-456f-b37d-54d7deca1f14",
   "metadata": {},
   "source": [
    "The Series also supports array-style operations such as slicing. Return all populations between Texas and Florida."
   ]
  },
  {
   "cell_type": "code",
   "execution_count": null,
   "id": "0c97e174-9cc7-4b32-9f68-a0f3800b8556",
   "metadata": {},
   "outputs": [],
   "source": [
    "population['Texas':'Florida']"
   ]
  },
  {
   "cell_type": "markdown",
   "id": "9ef580ae-86ac-43c6-9ccb-733cb72b4361",
   "metadata": {},
   "source": [
    "## Dataframe\n",
    "A dataframe can be created from a Series object, or several Series objects."
   ]
  },
  {
   "cell_type": "code",
   "execution_count": null,
   "id": "5f423fd9-10b1-478d-8afe-f580b42a769e",
   "metadata": {},
   "outputs": [],
   "source": [
    "area_dict = {'California': 423967, 'Texas': 695662, 'New York': 141297,\n",
    "             'Florida': 170312, 'Illinois': 149995}\n",
    "area = pd.Series(area_dict)\n",
    "area"
   ]
  },
  {
   "cell_type": "code",
   "execution_count": null,
   "id": "ea0ddb9f-3003-44bf-905f-eeae94892de7",
   "metadata": {},
   "outputs": [],
   "source": [
    "states = pd.DataFrame({'population': population,\n",
    "                       'area': area})\n",
    "states"
   ]
  },
  {
   "cell_type": "code",
   "execution_count": null,
   "id": "854f9c63-63f5-4ef0-94bc-7b3c8d66339a",
   "metadata": {},
   "outputs": [],
   "source": [
    "# Using column attribute, but if the column name can be confused with \n",
    "# a method, use the explicit dictionary-style access instead.\n",
    "a_pop = states.population\n",
    "ad_pop = states['population']\n",
    "print(a_pop == ad_pop, '\\n')\n",
    "print('Column attribute is the same as dict-style access: ',a_pop is ad_pop)"
   ]
  },
  {
   "cell_type": "markdown",
   "id": "4e0fa597-21f9-49d7-918c-ee4f4cac970f",
   "metadata": {},
   "source": [
    "#### Now that we have several columns, we can print both the row and column info. And, just as in a dict, we can access values in a column via its name."
   ]
  },
  {
   "cell_type": "code",
   "execution_count": null,
   "id": "7c8d99e3-b88a-4352-ae80-efc1e37cbbb0",
   "metadata": {},
   "outputs": [],
   "source": [
    "print(states.index)\n",
    "print(states.columns, '\\n')\n",
    "print(states['area'])"
   ]
  },
  {
   "cell_type": "code",
   "execution_count": null,
   "id": "60e91c67-b689-41c9-b83f-ec8cd3d464ad",
   "metadata": {},
   "outputs": [],
   "source": [
    "# Can add a new column in the same way as in a dictionary.\n",
    "states['density'] = states['population'] / states['area']\n",
    "states"
   ]
  },
  {
   "cell_type": "markdown",
   "id": "6ada914c-5319-498d-b86b-ee83427b4aa0",
   "metadata": {},
   "source": [
    "#### How would you obtain the area and density for the first three rows?\n",
    "Do you prefer loc or iloc?"
   ]
  },
  {
   "cell_type": "code",
   "execution_count": null,
   "id": "eb7e51f9-806d-446e-ab29-90dcaf578079",
   "metadata": {},
   "outputs": [],
   "source": []
  },
  {
   "cell_type": "code",
   "execution_count": null,
   "id": "dabf2e76-8390-435e-87ab-e647bfb79b93",
   "metadata": {},
   "outputs": [],
   "source": [
    "# implicit indexing of values gives us the first row\n",
    "states.values[0]"
   ]
  },
  {
   "cell_type": "code",
   "execution_count": null,
   "id": "a52bcb5d-a95f-4827-9da4-4f0c72cfc669",
   "metadata": {},
   "outputs": [],
   "source": [
    "# index location\n",
    "states.iloc[:3, 1:3]"
   ]
  },
  {
   "cell_type": "code",
   "execution_count": null,
   "id": "b4799355-0576-4874-a3b1-957f8d219a47",
   "metadata": {},
   "outputs": [],
   "source": [
    "# Note that it includes the given \"locations\"\n",
    "states.loc[:'New York', 'area':]"
   ]
  },
  {
   "cell_type": "markdown",
   "id": "8e2bd950-908a-4b02-a8b2-524889cdca80",
   "metadata": {},
   "source": [
    "#### Display the population and density for places where density is over 50 and under 100."
   ]
  },
  {
   "cell_type": "code",
   "execution_count": null,
   "id": "89505813-3b0d-45c8-9204-def7a0b327d5",
   "metadata": {},
   "outputs": [],
   "source": []
  },
  {
   "cell_type": "markdown",
   "id": "d884576a-0090-4c9c-9b3e-d328fd2fc308",
   "metadata": {},
   "source": [
    "#### Any list of dictionaries can be made into a DataFrame, and any missing keys will be filled by Pandas as NaN. "
   ]
  },
  {
   "cell_type": "code",
   "execution_count": null,
   "id": "38f6ab7a-11a9-413e-ad0e-a047bb095a11",
   "metadata": {},
   "outputs": [],
   "source": [
    "data = [{'a': i, 'b':2*i} for i in range(3)]\n",
    "pd.DataFrame(data)"
   ]
  },
  {
   "cell_type": "code",
   "execution_count": null,
   "id": "98a4d544-2797-413f-9e65-8c056e0832e4",
   "metadata": {},
   "outputs": [],
   "source": [
    "data.append({'a':8, 'c':9})\n",
    "pd.DataFrame(data)"
   ]
  },
  {
   "cell_type": "markdown",
   "id": "a3c0d963-6844-4935-89c0-6e8bd09189c6",
   "metadata": {},
   "source": [
    "#### Why did the columns change type?"
   ]
  },
  {
   "cell_type": "markdown",
   "id": "3d9c9737-623c-4ac5-b356-7792e11a7783",
   "metadata": {},
   "source": [
    "#### Add another row to *states* with the state of Alaska. Alaska has a population of 1723337."
   ]
  },
  {
   "cell_type": "code",
   "execution_count": null,
   "id": "6a9adaa5-e141-4117-95ee-61146b213ead",
   "metadata": {},
   "outputs": [],
   "source": []
  },
  {
   "cell_type": "markdown",
   "id": "d4e3e945-53e2-496f-be04-e936ae29c921",
   "metadata": {},
   "source": [
    "#### Change Alaskas area and density to be 0."
   ]
  },
  {
   "cell_type": "code",
   "execution_count": null,
   "id": "160e878c-a670-45a2-a819-ddb633cc400b",
   "metadata": {},
   "outputs": [],
   "source": []
  },
  {
   "cell_type": "markdown",
   "id": "cdfc0dac-562c-4a46-84eb-77a5c3b8d201",
   "metadata": {},
   "source": [
    "#### Create an array of the same shape and size as states, all values to be 0.20. \n",
    "Multiply states by this array, then add the resulting array to states (save in states)"
   ]
  },
  {
   "cell_type": "code",
   "execution_count": null,
   "id": "c715d632-03cd-4e6e-9f89-03922a1dc16f",
   "metadata": {},
   "outputs": [],
   "source": []
  },
  {
   "cell_type": "markdown",
   "id": "0e5fc8cc-0228-4a2c-9ade-ec35cf41b3ff",
   "metadata": {},
   "source": [
    "#### Increase all values by 10% as this data is now outdated."
   ]
  },
  {
   "cell_type": "code",
   "execution_count": null,
   "id": "339dd57d-8430-4f1b-b1a0-15d766290abb",
   "metadata": {},
   "outputs": [],
   "source": []
  },
  {
   "cell_type": "markdown",
   "id": "a266a7da-a642-4061-9ea4-af0d7f29ea49",
   "metadata": {},
   "source": [
    "#### Look up the  *transpose* option. What does it do? Check with states."
   ]
  },
  {
   "cell_type": "code",
   "execution_count": null,
   "id": "bbe42a67-b007-4c4c-8158-23540fc4d393",
   "metadata": {},
   "outputs": [],
   "source": []
  },
  {
   "cell_type": "markdown",
   "id": "4238f65c-c4f1-4890-b00d-6f2a2d39afdd",
   "metadata": {},
   "source": [
    "### Exercises\n",
    "\n",
    "1. Create a 20x20 array with only zeros. Set the first and last column to be float, the rest int.\n",
    "2. Change the first and last column to be ones.\n",
    "3. Create a dataframe with these numbers, index by the alphabet and name columns by numbers."
   ]
  },
  {
   "cell_type": "code",
   "execution_count": null,
   "id": "26e54e0b-d137-403b-9a1b-c956c2f62982",
   "metadata": {},
   "outputs": [],
   "source": []
  },
  {
   "cell_type": "markdown",
   "id": "2942a002-8974-4f08-9977-e9d24bcdf2bf",
   "metadata": {
    "jp-MarkdownHeadingCollapsed": true,
    "tags": []
   },
   "source": [
    "## Answer the following questions using the *movies* dataset\n",
    "Use the reference page if needed: https://pandas.pydata.org/docs/reference/frame.html"
   ]
  },
  {
   "cell_type": "code",
   "execution_count": null,
   "id": "8aaaa52a-541a-4da2-b290-4222166e7def",
   "metadata": {},
   "outputs": [],
   "source": [
    "movie_data = '/data/movie.csv'\n",
    "movies = pd.read_csv(movie_data)\n",
    "movies.head()"
   ]
  },
  {
   "cell_type": "markdown",
   "id": "8c0a2b7f-bbea-4419-9a4d-02b6fb08e3fc",
   "metadata": {},
   "source": [
    "#### Does this dataset contain any duplicate rows? Drop one of the duplicates in that case. "
   ]
  },
  {
   "cell_type": "code",
   "execution_count": null,
   "id": "e7fe2a27-3ca2-4c62-9c94-8e2f4dc514f1",
   "metadata": {},
   "outputs": [],
   "source": []
  },
  {
   "cell_type": "markdown",
   "id": "8ca3d505-ad73-457a-a344-e8d3fcdbe4d9",
   "metadata": {},
   "source": [
    "#### What data types are present in the dataset?   "
   ]
  },
  {
   "cell_type": "code",
   "execution_count": null,
   "id": "aa51f60a-e655-4011-be3f-82c07a5ffdc0",
   "metadata": {},
   "outputs": [],
   "source": []
  },
  {
   "cell_type": "markdown",
   "id": "a0322f4f-2bb0-40f1-925b-43b4f17e7484",
   "metadata": {},
   "source": [
    "#### Retrieve the \"director_name\" column by using \n",
    "1. the string as indexing operator\n",
    "2. the attribute\n",
    "3. loc \n",
    "4. iloc\n"
   ]
  },
  {
   "cell_type": "markdown",
   "id": "cce0e6c5-33b0-4fb2-9d77-0edf237164a8",
   "metadata": {},
   "source": [
    "#### What does the method .value_counts() do?"
   ]
  },
  {
   "cell_type": "markdown",
   "id": "b984968a-523f-43e8-ab62-af8e500d8584",
   "metadata": {},
   "source": [
    "#### How many rows in the director_name column have NaN values?"
   ]
  },
  {
   "cell_type": "code",
   "execution_count": null,
   "id": "7d9fbb8f-316b-4c5e-8896-d56c65271c5e",
   "metadata": {},
   "outputs": [],
   "source": []
  },
  {
   "cell_type": "markdown",
   "id": "818db175-0701-4230-971c-9e54fbd222c1",
   "metadata": {},
   "source": [
    "#### Remove all rows with NaN values in the director_name column."
   ]
  },
  {
   "cell_type": "code",
   "execution_count": null,
   "id": "46826e09-7e89-4337-afa4-cdf0cd9de1c6",
   "metadata": {},
   "outputs": [],
   "source": []
  },
  {
   "cell_type": "markdown",
   "id": "ced9dc8d-6af4-44d9-9533-f28e59609d3d",
   "metadata": {},
   "source": [
    "# Statistics and data\n",
    "I mentioned some basic statistics last week when I talked about normalisation and standardisation, and I showed some graphs. The following video shows some more graph options and discusses some more statistical ideas that are necessary to understand for machine learning. Stop the video when the time reaches **5:13:50**. \n",
    "Video link: https://youtu.be/ua-CiDNNj30?t=17042\n",
    "\n",
    "Answer the following questions.  \n",
    "1. We often use statistics when performing an exploratory data analysis (EDA). Why?\n",
    "2. What different types of graphs are there?\n",
    "3. Why would you use graphics to explore data?\n",
    "4. What kind of distributions are there? \n",
    "5. What does the distribution tell us about the data?"
   ]
  },
  {
   "cell_type": "code",
   "execution_count": null,
   "id": "d2114dc2-7338-46d0-8147-2019791060de",
   "metadata": {},
   "outputs": [],
   "source": []
  }
 ],
 "metadata": {
  "kernelspec": {
   "display_name": "Python 3 (ipykernel)",
   "language": "python",
   "name": "python3"
  },
  "language_info": {
   "codemirror_mode": {
    "name": "ipython",
    "version": 3
   },
   "file_extension": ".py",
   "mimetype": "text/x-python",
   "name": "python",
   "nbconvert_exporter": "python",
   "pygments_lexer": "ipython3",
   "version": "3.9.12"
  }
 },
 "nbformat": 4,
 "nbformat_minor": 5
}
