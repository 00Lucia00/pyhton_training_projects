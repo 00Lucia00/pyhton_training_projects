{
 "cells": [
  {
   "cell_type": "code",
   "execution_count": 24,
   "id": "a81be84a",
   "metadata": {},
   "outputs": [
    {
     "name": "stdout",
     "output_type": "stream",
     "text": [
      "[4 4 3]\n"
     ]
    },
    {
     "data": {
      "text/plain": [
       "['amsterdam', 'brastad', 'göteborg', 'paris', 'tokyo']"
      ]
     },
     "execution_count": 24,
     "metadata": {},
     "output_type": "execute_result"
    }
   ],
   "source": [
    "#using labelencoder for checking for duplacates and removing them example",
    "#Import från SKLearn\n",
    "from sklearn import preprocessing\n",
    "\n",
    "#Skapar modell och skapar variabel-ref\n",
    "le = preprocessing.LabelEncoder()\n",
    "\n",
    "#Array med data\n",
    "data = [\"paris\", \"paris\", \"tokyo\", \"amsterdam\", \"göteborg\", \"brastad\"]\n",
    "\n",
    "#Normalizering av data\n",
    "le.fit(data)\n",
    "\n",
    "#Skriv ut klass-alternativen från modellen\n",
    "list(le.classes_)\n",
    "\n",
    "#print(le.inverse_transform(data))\n",
    "\n",
    "print(le.transform([\"tokyo\", \"tokyo\", \"paris\"]))\n",
    "list(le.inverse_transform([0,1,2,3,4]))"
   ]
  }
 ],
 "metadata": {
  "kernelspec": {
   "display_name": "Python 3 (ipykernel)",
   "language": "python",
   "name": "python3"
  },
  "language_info": {
   "codemirror_mode": {
    "name": "ipython",
    "version": 3
   },
   "file_extension": ".py",
   "mimetype": "text/x-python",
   "name": "python",
   "nbconvert_exporter": "python",
   "pygments_lexer": "ipython3",
   "version": "3.9.12"
  }
 },
 "nbformat": 4,
 "nbformat_minor": 5
}
