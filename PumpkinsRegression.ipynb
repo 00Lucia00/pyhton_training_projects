{
 "cells": [
  {
   "cell_type": "code",
   "execution_count": 1,
   "id": "670a84e3",
   "metadata": {},
   "outputs": [],
   "source": [
    "# Source: https://www.kaggle.com/code/residentmario/pumpkin-price-polynomial-regression/notebook"
   ]
  },
  {
   "cell_type": "code",
   "execution_count": 2,
   "id": "b404dbdf",
   "metadata": {},
   "outputs": [
    {
     "data": {
      "text/html": [
       "<div>\n",
       "<style scoped>\n",
       "    .dataframe tbody tr th:only-of-type {\n",
       "        vertical-align: middle;\n",
       "    }\n",
       "\n",
       "    .dataframe tbody tr th {\n",
       "        vertical-align: top;\n",
       "    }\n",
       "\n",
       "    .dataframe thead th {\n",
       "        text-align: right;\n",
       "    }\n",
       "</style>\n",
       "<table border=\"1\" class=\"dataframe\">\n",
       "  <thead>\n",
       "    <tr style=\"text-align: right;\">\n",
       "      <th></th>\n",
       "      <th>size</th>\n",
       "      <th>price</th>\n",
       "      <th>size_class</th>\n",
       "    </tr>\n",
       "  </thead>\n",
       "  <tbody>\n",
       "    <tr>\n",
       "      <th>0</th>\n",
       "      <td>4.0</td>\n",
       "      <td>245.0</td>\n",
       "      <td>1</td>\n",
       "    </tr>\n",
       "    <tr>\n",
       "      <th>1</th>\n",
       "      <td>3.0</td>\n",
       "      <td>245.0</td>\n",
       "      <td>1</td>\n",
       "    </tr>\n",
       "    <tr>\n",
       "      <th>2</th>\n",
       "      <td>4.0</td>\n",
       "      <td>215.0</td>\n",
       "      <td>1</td>\n",
       "    </tr>\n",
       "    <tr>\n",
       "      <th>3</th>\n",
       "      <td>3.0</td>\n",
       "      <td>215.0</td>\n",
       "      <td>1</td>\n",
       "    </tr>\n",
       "    <tr>\n",
       "      <th>4</th>\n",
       "      <td>2.0</td>\n",
       "      <td>200.0</td>\n",
       "      <td>1</td>\n",
       "    </tr>\n",
       "  </tbody>\n",
       "</table>\n",
       "</div>"
      ],
      "text/plain": [
       "   size  price  size_class\n",
       "0   4.0  245.0           1\n",
       "1   3.0  245.0           1\n",
       "2   4.0  215.0           1\n",
       "3   3.0  215.0           1\n",
       "4   2.0  200.0           1"
      ]
     },
     "execution_count": 2,
     "metadata": {},
     "output_type": "execute_result"
    }
   ],
   "source": [
    "#Import and mapping of data\n",
    "import pandas as pd\n",
    "import numpy as np\n",
    "nyc_pumpkins = pd.read_csv(\"archive/new-york_9-24-2016_9-30-2017.csv\")\n",
    "cat_map = {\n",
    "    'sml': 0,\n",
    "    'med': 1,\n",
    "    'med-lge': 2,\n",
    "    'lge': 3,\n",
    "    'xlge': 4,\n",
    "    'exjbo': 5\n",
    "}\n",
    "nyc_pumpkins = nyc_pumpkins.assign(\n",
    "    size=nyc_pumpkins['Item Size'].map(cat_map),\n",
    "    price=nyc_pumpkins['High Price'] + nyc_pumpkins['Low Price'] / 2,\n",
    "    size_class=(nyc_pumpkins['Item Size'].map(cat_map) >= 2).astype(int)\n",
    ")\n",
    "nyc_pumpkins = nyc_pumpkins.drop([c for c in nyc_pumpkins.columns if c not in ['size', 'price', 'size_class']], \n",
    "                                 axis='columns')\n",
    "nyc_pumpkins = nyc_pumpkins.dropna()\n",
    "\n",
    "nyc_pumpkins.head()"
   ]
  },
  {
   "cell_type": "code",
   "execution_count": 3,
   "id": "4eb3430c",
   "metadata": {},
   "outputs": [],
   "source": [
    "#Fetch Sizes and Prices\n",
    "prices = nyc_pumpkins.values[:, :1]\n",
    "sizes = nyc_pumpkins.values[:, 1:2]"
   ]
  },
  {
   "cell_type": "code",
   "execution_count": 4,
   "id": "0af9d4e2",
   "metadata": {},
   "outputs": [],
   "source": [
    "#Träna modellen\n",
    "from sklearn.preprocessing import PolynomialFeatures\n",
    "from sklearn.linear_model import LinearRegression\n",
    "poly = PolynomialFeatures(degree=2)\n",
    "prices_poly = poly.fit_transform(prices)\n",
    "\n",
    "clf = LinearRegression()\n",
    "clf.fit(prices_poly, sizes)\n",
    "predicted_sizes = np.round(clf.predict(prices_poly))"
   ]
  },
  {
   "cell_type": "code",
   "execution_count": 5,
   "id": "068ea046",
   "metadata": {},
   "outputs": [],
   "source": [
    "import numpy as np\n",
    "import itertools\n",
    "\n",
    "class PolynomialFeatures:\n",
    "    def __init__(self, degree=2):\n",
    "        self.degree = degree\n",
    "    \n",
    "    def fit_transform(self, X):\n",
    "        nvars = X.shape[1]\n",
    "        var_combos = []\n",
    "        \n",
    "        for i in range(0, self.degree):\n",
    "            var_combos += itertools.combinations_with_replacement(set(range(nvars)), i + 1)\n",
    "        \n",
    "        mat = np.zeros((X.shape[0], len(var_combos)))\n",
    "        \n",
    "        for i, var_combo in enumerate(var_combos):\n",
    "            mat[:, i] = np.prod(X[:, var_combo], axis=1)\n",
    "        \n",
    "        return mat\n",
    "    \n",
    "\n",
    "class LinearRegression:\n",
    "    def __init__(self, degree=2):\n",
    "        self.degree = degree\n",
    "    \n",
    "    def fit(self, X, y):\n",
    "        self.betas = np.linalg.inv(X.T @ X) @ X.T @ y\n",
    "        \n",
    "    def predict(self, X):\n",
    "        return X @ self.betas"
   ]
  },
  {
   "cell_type": "code",
   "execution_count": 6,
   "id": "de7284f1",
   "metadata": {},
   "outputs": [
    {
     "data": {
      "text/plain": [
       "<AxesSubplot:title={'center':'$y - \\\\hat{y}$'}>"
      ]
     },
     "execution_count": 6,
     "metadata": {},
     "output_type": "execute_result"
    },
    {
     "data": {
      "image/png": "[encoded data removed]",
      "text/plain": [
       "<Figure size 432x288 with 1 Axes>"
      ]
     },
     "metadata": {},
     "output_type": "display_data"
    }
   ],
   "source": [
    "import matplotlib.pyplot as plt\n",
    "plt.style.use('fivethirtyeight')\n",
    "\n",
    "pd.Series((sizes - predicted_sizes).flatten()).value_counts().sort_index().plot.bar(\n",
    "    title='$y - \\hat{y}$'\n",
    ")"
   ]
  },
  {
   "cell_type": "code",
   "execution_count": 7,
   "id": "9edc12dd",
   "metadata": {},
   "outputs": [
    {
     "data": {
      "text/plain": [
       "<AxesSubplot:title={'center':'Accuracy Within 1 Class'}>"
      ]
     },
     "execution_count": 7,
     "metadata": {},
     "output_type": "execute_result"
    },
    {
     "data": {
      "image/png": "[encoded data removed]",
      "text/plain": [
       "<Figure size 432x288 with 1 Axes>"
      ]
     },
     "metadata": {},
     "output_type": "display_data"
    }
   ],
   "source": [
    "pd.Series(\n",
    "    np.abs((sizes - predicted_sizes).flatten()) <= 1\n",
    ").value_counts().plot.bar(title='Accuracy Within 1 Class')"
   ]
  }
 ],
 "metadata": {
  "kernelspec": {
   "display_name": "Python 3 (ipykernel)",
   "language": "python",
   "name": "python3"
  },
  "language_info": {
   "codemirror_mode": {
    "name": "ipython",
    "version": 3
   },
   "file_extension": ".py",
   "mimetype": "text/x-python",
   "name": "python",
   "nbconvert_exporter": "python",
   "pygments_lexer": "ipython3",
   "version": "3.9.12"
  }
 },
 "nbformat": 4,
 "nbformat_minor": 5
}
