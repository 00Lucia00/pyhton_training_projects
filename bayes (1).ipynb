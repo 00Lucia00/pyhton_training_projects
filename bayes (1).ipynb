{
 "cells": [
  {
   "attachments": {},
   "cell_type": "markdown",
   "metadata": {},
   "source": [
    "# Bayes Theorem and Naive Bayes"
   ]
  },
  {
   "attachments": {},
   "cell_type": "markdown",
   "metadata": {},
   "source": [
    "## Preliminaries\n",
    "\n",
    "### Conditional Probability\n",
    "$$P(A|B) = \\frac{P(A,B)}{P(B)}$$\n",
    "\n",
    "### Chain Rule\n",
    "$$P(A,B) = P(A|B)P(B)$$\n",
    "\n",
    "### Independence\n",
    "$$P(A,B) = P(A)P(B)$$\n",
    "\n",
    "### Conditional Independence\n",
    "$$P(A,B|C) = P(A|C)P(B|C)$$\n",
    "\n",
    "### Marginal Probability\n",
    "$$P(A) = \\sum_{B}P(A,B)$$\n",
    "\n",
    "## Bayes Theorem\n",
    "$$P(A|B) = \\frac{P(B|A)P(A)}{P(B)}$$\n",
    "$P(A)$ is called the **prior**, $P(B|A)$ is called the **likelihood**, and $P(A|B)$ is called the **posterior**."
   ]
  },
  {
   "attachments": {},
   "cell_type": "markdown",
   "metadata": {},
   "source": [
    "### Question 1\n",
    "A mammogram accurately classifies about 80% of cancerous tumors and 90% of benign tumors. If a woman is thought to have a 1% risk of breast cancer, what is the probability that she will have a positive mammogram result?\n",
    "\n",
    "Prior: P(Malignant) = 0.01, P(Benign) = 0.99\n",
    "\n",
    "Likelihood: P(Positive|Malignant) = 0.8, P(Positive|Benign) = 0.9\n",
    "\n",
    "Posterior: P(Positive) = P(Positive|Malignant)P(Malignant) + P(Positive|Benign)P(Benign)"
   ]
  },
  {
   "cell_type": "code",
   "execution_count": null,
   "metadata": {},
   "outputs": [
    {
     "data": {
      "text/plain": [
       "0.10700000000000001"
      ]
     },
     "execution_count": 55,
     "metadata": {},
     "output_type": "execute_result"
    }
   ],
   "source": [
    "0.8 * 0.01 + 0.1 * 0.99"
   ]
  },
  {
   "attachments": {},
   "cell_type": "markdown",
   "metadata": {},
   "source": [
    "### Question 2\n",
    "Consider a test to detect a disease that 0.1 % of the population have. The test is 99 % effective in detecting an infected person. However, the test gives a false positive result in 0.5 % of cases. If a person tests positive for the disease what is the probability that they actually have it? "
   ]
  },
  {
   "attachments": {},
   "cell_type": "markdown",
   "metadata": {},
   "source": [
    "## Maximum Likelihood Estimation\n",
    "\n",
    "Suppose a dataset $D = \\{x_1, x_2, \\ldots, x_N\\}$ is sampled from a distribution $P(x|\\theta)$, where $\\theta$ is a parameter of the distribution. The likelihood probability is $$P(D|\\theta) = \\prod_{i=1}^N P(x_i|\\theta).$$ The maximum likelihood estimate (MLE) of $\\theta$ is $$\\hat{\\theta} = \\arg\\max_\\theta P(D|\\theta).$$"
   ]
  },
  {
   "attachments": {},
   "cell_type": "markdown",
   "metadata": {},
   "source": [
    "### Example\n",
    "For a linear regression model, the dataset $D = \\{(x_1, y_1), (x_2, y_2), \\ldots, (x_N, y_N)\\}$ is sampled from a distribution $P(x, y|\\theta) = P(y|x, \\theta)P(x)$, where $P(y|x, \\theta) = \\mathcal{N}(y; \\theta_0 + \\theta_1x, \\sigma^2)$ and $P(x) = C$ (uniform distribution). The likelihood probability is $$P(D|\\theta) = \\prod_{i=1}^N P(y_i|x_i, \\theta)P(x_i) = \\prod_{i=1}^N \\frac{C}{\\sqrt{2\\pi\\sigma^2}}\\exp\\left(-\\frac{(y_i - \\theta_0 - \\theta_1x_i)^2}{2\\sigma^2}\\right).$$ The MLE of $\\theta$ is $$\\begin{align*} \\hat{\\theta} &= \\arg\\max_\\theta P(D|\\theta) \\\\ &= \\arg\\max_\\theta \\prod_{i=1}^N \\frac{C}{\\sqrt{2\\pi\\sigma^2}}\\exp\\left(-\\frac{(y_i - \\theta_0 - \\theta_1x_i)^2}{2\\sigma^2}\\right) \\\\ &= \\arg\\max_\\theta \\sum_{i=1}^N \\log\\left(\\frac{C}{\\sqrt{2\\pi\\sigma^2}}\\exp\\left(-\\frac{(y_i - \\theta_0 - \\theta_1x_i)^2}{2\\sigma^2}\\right)\\right) \\\\ &= \\arg\\max_\\theta \\sum_{i=1}^N \\left(\\log\\frac{C}{\\sqrt{2\\pi\\sigma^2}} - \\frac{(y_i - \\theta_0 - \\theta_1x_i)^2}{2\\sigma^2}\\right) \\\\ &= \\arg\\min_\\theta \\sum_{i=1}^N (y_i - \\theta_0 - \\theta_1x_i)^2. \\end{align*}$$\n",
    "\n",
    "Therefore, the MLE of $\\theta$ is the same as the least squares solution of the linear regression model."
   ]
  },
  {
   "attachments": {},
   "cell_type": "markdown",
   "metadata": {},
   "source": [
    "## Maximum A Posteriori Estimation\n",
    "Instead of maximizing the likelihood, we can maximize the posterior probability of the parameters given the data. The posterior probability is $$P(\\theta|D) = \\frac{P(D|\\theta)P(\\theta)}{P(D)}.$$\n",
    "This is called maximum a posteriori (MAP) estimation. The MAP estimate of $\\theta$ is $$\\hat{\\theta} = \\arg\\max_\\theta P(\\theta|D) = \\arg\\max_\\theta P(D|\\theta)P(\\theta).$$"
   ]
  },
  {
   "attachments": {},
   "cell_type": "markdown",
   "metadata": {},
   "source": [
    "### Example\n",
    "\n",
    "Following the example of linear regression, we assume that the parameters $\\theta$ follows a Gaussian distribution with mean $0$ and variance $\\sigma^2$. Then the MAP estimate of $\\theta$ is $$\\begin{align*} \\hat{\\theta} &= \\arg\\max_\\theta P(D|\\theta)P(\\theta) \\\\ &= \\arg\\max_\\theta \\prod_{i=1}^N \\exp\\left(-\\frac{(y_i - \\theta_0 - \\theta_1x_i)^2}{2\\sigma^2}\\right)\\frac{1}{\\sqrt{2\\pi\\sigma^2}}\\exp\\left(-\\frac{\\|\\theta\\|^2}{2\\sigma^2}\\right).\\\\&= \\arg\\max_\\theta \\sum_{i=1}^N \\left(-\\frac{(y_i - \\theta_0 - \\theta_1x_i)^2}{2\\sigma^2} - \\frac{\\|\\theta\\|^2}{2\\sigma^2}\\right) \\\\ &= \\arg\\min_\\theta \\sum_{i=1}^N (y_i - \\theta_0 - \\theta_1x_i)^2 + \\frac{\\|\\theta\\|^2}{\\sigma^2}. \\end{align*}$$\n",
    "\n",
    "Therefore, the MAP estimate of $\\theta$ is the same as adding a L2 regularization to the least squares solution of the linear regression model.\n",
    "\n",
    "If we use a Laplace distribution instead of a Gaussian distribution, the MAP estimate of $\\theta$ is the same as adding a L1 regularization."
   ]
  },
  {
   "attachments": {},
   "cell_type": "markdown",
   "metadata": {},
   "source": [
    "## Naive Bayes\n",
    "\n",
    "For a classification problem, we have a dataset $D = \\{(x_1, y_1), (x_2, y_2), \\ldots, (x_N, y_N)\\}$, where $x_i$ is a feature vector and $y_i$ is the label. The posterior probability of the label given the feature vector is $$P(y|x) = \\frac{P(x|y)P(y)}{P(x)} = \\frac{P(x|y)P(y)}{\\sum_{y'}P(x|y')P(y')} \\propto P(x|y)P(y),$$ where $P(x)$ is the marginal probability of the feature vector. \n",
    "\n",
    "The Naive Bayes classifier assumes that the features are conditionally independent given the label, i.e. $P(x|y) = \\prod_{i=1}^D P(x_{i}|y)$. The Naive Bayes classifier predicts the label with the highest posterior probability, i.e. $$\\begin{align*} \\hat{y} &= \\arg\\max_y P(y|x) \\\\ &= \\arg\\max_y P(x|y)P(y) \\\\ &= \\arg\\max_y P(y) \\prod_{i=1}^D P(x_{i}|y). \\end{align*}$$\n",
    "\n",
    "### Gaussian Naive Bayes\n",
    "\n",
    "The Gaussian Naive Bayes classifier assumes that the features are Gaussian distributed given the label, i.e. $P(x|y) = \\prod_{i=1}^D \\mathcal{N}(x_{i}; \\mu_{i}, \\sigma_{i}^2)$. The Gaussian Naive Bayes classifier predicts the label with the highest posterior probability, i.e. $$\\begin{align*} \\hat{y} &= \\arg\\max_y P(y|x) \\\\ &= \\arg\\max_y P(x|y)P(y) \\\\ &= \\arg\\max_y P(y) \\prod_{i=1}^D \\mathcal{N}(x_{i}; \\mu_{i}, \\sigma_{i}^2) \\\\ &= \\arg\\max_y \\log P(y) + \\sum_{i=1}^D \\log\\mathcal{N}(x_{i}; \\mu_{i}, \\sigma_{i}^2) \\\\ &= \\arg\\max_y \\log P(y) - \\sum_{i=1}^D \\frac{(x_{i} - \\mu_{i})^2}{2\\sigma_{i}^2}. \\end{align*}$$"
   ]
  },
  {
   "cell_type": "code",
   "execution_count": 1,
   "metadata": {},
   "outputs": [
    {
     "data": {
      "text/html": [
       "<div>\n",
       "<style scoped>\n",
       "    .dataframe tbody tr th:only-of-type {\n",
       "        vertical-align: middle;\n",
       "    }\n",
       "\n",
       "    .dataframe tbody tr th {\n",
       "        vertical-align: top;\n",
       "    }\n",
       "\n",
       "    .dataframe thead th {\n",
       "        text-align: right;\n",
       "    }\n",
       "</style>\n",
       "<table border=\"1\" class=\"dataframe\">\n",
       "  <thead>\n",
       "    <tr style=\"text-align: right;\">\n",
       "      <th></th>\n",
       "      <th>alcohol</th>\n",
       "      <th>malic_acid</th>\n",
       "      <th>ash</th>\n",
       "      <th>alcalinity_of_ash</th>\n",
       "      <th>magnesium</th>\n",
       "      <th>total_phenols</th>\n",
       "      <th>flavanoids</th>\n",
       "      <th>nonflavanoid_phenols</th>\n",
       "      <th>proanthocyanins</th>\n",
       "      <th>color_intensity</th>\n",
       "      <th>hue</th>\n",
       "      <th>od280/od315_of_diluted_wines</th>\n",
       "      <th>proline</th>\n",
       "    </tr>\n",
       "  </thead>\n",
       "  <tbody>\n",
       "    <tr>\n",
       "      <th>158</th>\n",
       "      <td>14.34</td>\n",
       "      <td>1.68</td>\n",
       "      <td>2.70</td>\n",
       "      <td>25.0</td>\n",
       "      <td>98.0</td>\n",
       "      <td>2.80</td>\n",
       "      <td>1.31</td>\n",
       "      <td>0.53</td>\n",
       "      <td>2.70</td>\n",
       "      <td>13.00</td>\n",
       "      <td>0.57</td>\n",
       "      <td>1.96</td>\n",
       "      <td>660.0</td>\n",
       "    </tr>\n",
       "    <tr>\n",
       "      <th>137</th>\n",
       "      <td>12.53</td>\n",
       "      <td>5.51</td>\n",
       "      <td>2.64</td>\n",
       "      <td>25.0</td>\n",
       "      <td>96.0</td>\n",
       "      <td>1.79</td>\n",
       "      <td>0.60</td>\n",
       "      <td>0.63</td>\n",
       "      <td>1.10</td>\n",
       "      <td>5.00</td>\n",
       "      <td>0.82</td>\n",
       "      <td>1.69</td>\n",
       "      <td>515.0</td>\n",
       "    </tr>\n",
       "    <tr>\n",
       "      <th>98</th>\n",
       "      <td>12.37</td>\n",
       "      <td>1.07</td>\n",
       "      <td>2.10</td>\n",
       "      <td>18.5</td>\n",
       "      <td>88.0</td>\n",
       "      <td>3.52</td>\n",
       "      <td>3.75</td>\n",
       "      <td>0.24</td>\n",
       "      <td>1.95</td>\n",
       "      <td>4.50</td>\n",
       "      <td>1.04</td>\n",
       "      <td>2.77</td>\n",
       "      <td>660.0</td>\n",
       "    </tr>\n",
       "    <tr>\n",
       "      <th>159</th>\n",
       "      <td>13.48</td>\n",
       "      <td>1.67</td>\n",
       "      <td>2.64</td>\n",
       "      <td>22.5</td>\n",
       "      <td>89.0</td>\n",
       "      <td>2.60</td>\n",
       "      <td>1.10</td>\n",
       "      <td>0.52</td>\n",
       "      <td>2.29</td>\n",
       "      <td>11.75</td>\n",
       "      <td>0.57</td>\n",
       "      <td>1.78</td>\n",
       "      <td>620.0</td>\n",
       "    </tr>\n",
       "    <tr>\n",
       "      <th>38</th>\n",
       "      <td>13.07</td>\n",
       "      <td>1.50</td>\n",
       "      <td>2.10</td>\n",
       "      <td>15.5</td>\n",
       "      <td>98.0</td>\n",
       "      <td>2.40</td>\n",
       "      <td>2.64</td>\n",
       "      <td>0.28</td>\n",
       "      <td>1.37</td>\n",
       "      <td>3.70</td>\n",
       "      <td>1.18</td>\n",
       "      <td>2.69</td>\n",
       "      <td>1020.0</td>\n",
       "    </tr>\n",
       "  </tbody>\n",
       "</table>\n",
       "</div>"
      ],
      "text/plain": [
       "     alcohol  malic_acid   ash  alcalinity_of_ash  magnesium  total_phenols  \\\n",
       "158    14.34        1.68  2.70               25.0       98.0           2.80   \n",
       "137    12.53        5.51  2.64               25.0       96.0           1.79   \n",
       "98     12.37        1.07  2.10               18.5       88.0           3.52   \n",
       "159    13.48        1.67  2.64               22.5       89.0           2.60   \n",
       "38     13.07        1.50  2.10               15.5       98.0           2.40   \n",
       "\n",
       "     flavanoids  nonflavanoid_phenols  proanthocyanins  color_intensity   hue  \\\n",
       "158        1.31                  0.53             2.70            13.00  0.57   \n",
       "137        0.60                  0.63             1.10             5.00  0.82   \n",
       "98         3.75                  0.24             1.95             4.50  1.04   \n",
       "159        1.10                  0.52             2.29            11.75  0.57   \n",
       "38         2.64                  0.28             1.37             3.70  1.18   \n",
       "\n",
       "     od280/od315_of_diluted_wines  proline  \n",
       "158                          1.96    660.0  \n",
       "137                          1.69    515.0  \n",
       "98                           2.77    660.0  \n",
       "159                          1.78    620.0  \n",
       "38                           2.69   1020.0  "
      ]
     },
     "execution_count": 1,
     "metadata": {},
     "output_type": "execute_result"
    }
   ],
   "source": [
    "from sklearn.datasets import load_wine\n",
    "from sklearn.model_selection import train_test_split\n",
    "from sklearn.metrics import accuracy_score\n",
    "\n",
    "X, y = load_wine(return_X_y=True, as_frame=True)\n",
    "X_train, X_test, y_train, y_test = train_test_split(X, y, test_size=0.2, random_state=42)\n",
    "X_train.head()"
   ]
  },
  {
   "cell_type": "code",
   "execution_count": 2,
   "metadata": {},
   "outputs": [
    {
     "data": {
      "text/plain": [
       "(178, 13)"
      ]
     },
     "execution_count": 2,
     "metadata": {},
     "output_type": "execute_result"
    }
   ],
   "source": [
    "X.shape"
   ]
  },
  {
   "cell_type": "code",
   "execution_count": 3,
   "metadata": {},
   "outputs": [
    {
     "data": {
      "text/plain": [
       "1    71\n",
       "0    59\n",
       "2    48\n",
       "Name: target, dtype: int64"
      ]
     },
     "execution_count": 3,
     "metadata": {},
     "output_type": "execute_result"
    }
   ],
   "source": [
    "y.value_counts()"
   ]
  },
  {
   "cell_type": "code",
   "execution_count": 4,
   "metadata": {},
   "outputs": [],
   "source": [
    "import numpy as np\n",
    "\n",
    "def fit_prior(y):\n",
    "    return y.value_counts(normalize=True).sort_index().values\n",
    "\n",
    "def fit_likelihood(X, y):\n",
    "    groups = X.groupby(y)\n",
    "    mu = groups.mean()\n",
    "    sigma = groups.std()\n",
    "    return mu.values, sigma.values\n",
    "\n",
    "def predict(x, mu, sigma, prior):\n",
    "    x = x.reshape(-1, 1, x.shape[-1])\n",
    "    log_likelihood = np.sum(-(x-mu)**2/(2*sigma**2), axis=-1)\n",
    "    log_posterior = log_likelihood + np.log(prior)\n",
    "    return np.argmax(log_posterior, axis=-1)"
   ]
  },
  {
   "cell_type": "code",
   "execution_count": 5,
   "metadata": {},
   "outputs": [
    {
     "data": {
      "text/plain": [
       "array([0.31690141, 0.40140845, 0.28169014])"
      ]
     },
     "execution_count": 5,
     "metadata": {},
     "output_type": "execute_result"
    }
   ],
   "source": [
    "prior = fit_prior(y_train)\n",
    "prior"
   ]
  },
  {
   "cell_type": "code",
   "execution_count": 6,
   "metadata": {},
   "outputs": [
    {
     "data": {
      "text/plain": [
       "(3, 13)"
      ]
     },
     "execution_count": 6,
     "metadata": {},
     "output_type": "execute_result"
    }
   ],
   "source": [
    "mu, sigma = fit_likelihood(X_train, y_train)\n",
    "mu.shape"
   ]
  },
  {
   "cell_type": "code",
   "execution_count": 7,
   "metadata": {},
   "outputs": [
    {
     "data": {
      "text/plain": [
       "(array([13.72622222, 12.2854386 , 13.127     ]),\n",
       " array([0.50639227, 0.56409874, 0.56187507]))"
      ]
     },
     "execution_count": 7,
     "metadata": {},
     "output_type": "execute_result"
    }
   ],
   "source": [
    "mu[:, 0], sigma[:, 0]"
   ]
  },
  {
   "cell_type": "code",
   "execution_count": 8,
   "metadata": {},
   "outputs": [
    {
     "data": {
      "text/plain": [
       "1.0"
      ]
     },
     "execution_count": 8,
     "metadata": {},
     "output_type": "execute_result"
    }
   ],
   "source": [
    "prior = fit_prior(y_train)\n",
    "mu, sigma = fit_likelihood(X_train, y_train)\n",
    "predictions = predict(X_test.values, mu, sigma, prior)\n",
    "accuracy_score(y_test, predictions)"
   ]
  },
  {
   "cell_type": "code",
   "execution_count": 9,
   "metadata": {},
   "outputs": [
    {
     "data": {
      "text/plain": [
       "1.0"
      ]
     },
     "execution_count": 9,
     "metadata": {},
     "output_type": "execute_result"
    }
   ],
   "source": [
    "from sklearn.naive_bayes import GaussianNB\n",
    "\n",
    "gnb = GaussianNB().fit(X_train, y_train)\n",
    "accuracy_score(y_test, gnb.predict(X_test))"
   ]
  },
  {
   "cell_type": "code",
   "execution_count": 10,
   "metadata": {},
   "outputs": [
    {
     "data": {
      "text/plain": [
       "array([0.31690141, 0.40140845, 0.28169014])"
      ]
     },
     "execution_count": 10,
     "metadata": {},
     "output_type": "execute_result"
    }
   ],
   "source": [
    "gnb.class_prior_"
   ]
  },
  {
   "cell_type": "code",
   "execution_count": 11,
   "metadata": {},
   "outputs": [
    {
     "data": {
      "text/plain": [
       "True"
      ]
     },
     "execution_count": 11,
     "metadata": {},
     "output_type": "execute_result"
    }
   ],
   "source": [
    "np.allclose(gnb.theta_ - mu, 0)"
   ]
  },
  {
   "attachments": {},
   "cell_type": "markdown",
   "metadata": {},
   "source": [
    "### Generative vs Discriminative\n",
    "\n",
    "A generative model learns the joint distribution of the features and the labels, i.e. $P(x, y)$. A discriminative model learns the conditional distribution of the labels given the features, i.e. $P(y|x)$. The logistic regression classifier is a discriminative model. The Naive Bayes classifier is a generative model. "
   ]
  },
  {
   "cell_type": "code",
   "execution_count": 12,
   "metadata": {},
   "outputs": [
    {
     "data": {
      "text/html": [
       "<div>\n",
       "<style scoped>\n",
       "    .dataframe tbody tr th:only-of-type {\n",
       "        vertical-align: middle;\n",
       "    }\n",
       "\n",
       "    .dataframe tbody tr th {\n",
       "        vertical-align: top;\n",
       "    }\n",
       "\n",
       "    .dataframe thead th {\n",
       "        text-align: right;\n",
       "    }\n",
       "</style>\n",
       "<table border=\"1\" class=\"dataframe\">\n",
       "  <thead>\n",
       "    <tr style=\"text-align: right;\">\n",
       "      <th></th>\n",
       "      <th>alcohol</th>\n",
       "      <th>malic_acid</th>\n",
       "      <th>ash</th>\n",
       "      <th>alcalinity_of_ash</th>\n",
       "      <th>magnesium</th>\n",
       "      <th>total_phenols</th>\n",
       "      <th>flavanoids</th>\n",
       "      <th>nonflavanoid_phenols</th>\n",
       "      <th>proanthocyanins</th>\n",
       "      <th>color_intensity</th>\n",
       "      <th>hue</th>\n",
       "      <th>od280/od315_of_diluted_wines</th>\n",
       "      <th>proline</th>\n",
       "      <th>target</th>\n",
       "    </tr>\n",
       "  </thead>\n",
       "  <tbody>\n",
       "    <tr>\n",
       "      <th>0</th>\n",
       "      <td>14.161095</td>\n",
       "      <td>2.469941</td>\n",
       "      <td>2.247387</td>\n",
       "      <td>18.696025</td>\n",
       "      <td>104.995482</td>\n",
       "      <td>2.245556</td>\n",
       "      <td>3.583508</td>\n",
       "      <td>0.184973</td>\n",
       "      <td>1.857330</td>\n",
       "      <td>3.167740</td>\n",
       "      <td>1.225863</td>\n",
       "      <td>3.160260</td>\n",
       "      <td>1030.662732</td>\n",
       "      <td>0</td>\n",
       "    </tr>\n",
       "    <tr>\n",
       "      <th>1</th>\n",
       "      <td>12.338195</td>\n",
       "      <td>1.600698</td>\n",
       "      <td>1.689366</td>\n",
       "      <td>25.904722</td>\n",
       "      <td>76.957632</td>\n",
       "      <td>2.188005</td>\n",
       "      <td>1.272699</td>\n",
       "      <td>0.367108</td>\n",
       "      <td>1.271664</td>\n",
       "      <td>3.400163</td>\n",
       "      <td>0.497391</td>\n",
       "      <td>2.404691</td>\n",
       "      <td>365.828865</td>\n",
       "      <td>1</td>\n",
       "    </tr>\n",
       "    <tr>\n",
       "      <th>2</th>\n",
       "      <td>13.156286</td>\n",
       "      <td>2.073288</td>\n",
       "      <td>2.405206</td>\n",
       "      <td>15.876211</td>\n",
       "      <td>109.981765</td>\n",
       "      <td>2.729928</td>\n",
       "      <td>2.759996</td>\n",
       "      <td>0.327098</td>\n",
       "      <td>2.507245</td>\n",
       "      <td>4.203271</td>\n",
       "      <td>0.977134</td>\n",
       "      <td>3.516518</td>\n",
       "      <td>966.137901</td>\n",
       "      <td>0</td>\n",
       "    </tr>\n",
       "    <tr>\n",
       "      <th>3</th>\n",
       "      <td>13.771448</td>\n",
       "      <td>2.840094</td>\n",
       "      <td>2.401525</td>\n",
       "      <td>17.390813</td>\n",
       "      <td>100.894598</td>\n",
       "      <td>3.351148</td>\n",
       "      <td>2.988868</td>\n",
       "      <td>0.244164</td>\n",
       "      <td>2.240241</td>\n",
       "      <td>5.315899</td>\n",
       "      <td>1.161786</td>\n",
       "      <td>3.288051</td>\n",
       "      <td>1206.650235</td>\n",
       "      <td>0</td>\n",
       "    </tr>\n",
       "    <tr>\n",
       "      <th>4</th>\n",
       "      <td>13.753939</td>\n",
       "      <td>4.333746</td>\n",
       "      <td>2.281483</td>\n",
       "      <td>25.275859</td>\n",
       "      <td>75.174540</td>\n",
       "      <td>1.976220</td>\n",
       "      <td>0.456767</td>\n",
       "      <td>0.522113</td>\n",
       "      <td>1.450091</td>\n",
       "      <td>8.466023</td>\n",
       "      <td>0.745128</td>\n",
       "      <td>1.687101</td>\n",
       "      <td>719.170669</td>\n",
       "      <td>2</td>\n",
       "    </tr>\n",
       "    <tr>\n",
       "      <th>5</th>\n",
       "      <td>13.118758</td>\n",
       "      <td>2.656861</td>\n",
       "      <td>2.247932</td>\n",
       "      <td>17.214433</td>\n",
       "      <td>98.630378</td>\n",
       "      <td>2.352983</td>\n",
       "      <td>2.221147</td>\n",
       "      <td>0.313868</td>\n",
       "      <td>2.275709</td>\n",
       "      <td>5.191220</td>\n",
       "      <td>1.149673</td>\n",
       "      <td>3.553827</td>\n",
       "      <td>964.988106</td>\n",
       "      <td>0</td>\n",
       "    </tr>\n",
       "    <tr>\n",
       "      <th>6</th>\n",
       "      <td>13.422244</td>\n",
       "      <td>3.025295</td>\n",
       "      <td>2.350087</td>\n",
       "      <td>15.926954</td>\n",
       "      <td>77.375740</td>\n",
       "      <td>2.123675</td>\n",
       "      <td>0.457912</td>\n",
       "      <td>0.656557</td>\n",
       "      <td>1.331002</td>\n",
       "      <td>9.621169</td>\n",
       "      <td>0.387378</td>\n",
       "      <td>1.571784</td>\n",
       "      <td>731.851291</td>\n",
       "      <td>2</td>\n",
       "    </tr>\n",
       "    <tr>\n",
       "      <th>7</th>\n",
       "      <td>13.845042</td>\n",
       "      <td>4.448254</td>\n",
       "      <td>2.568529</td>\n",
       "      <td>18.879752</td>\n",
       "      <td>76.800959</td>\n",
       "      <td>1.676267</td>\n",
       "      <td>0.959732</td>\n",
       "      <td>0.458080</td>\n",
       "      <td>1.378377</td>\n",
       "      <td>14.086467</td>\n",
       "      <td>0.642772</td>\n",
       "      <td>1.391573</td>\n",
       "      <td>586.294082</td>\n",
       "      <td>2</td>\n",
       "    </tr>\n",
       "    <tr>\n",
       "      <th>8</th>\n",
       "      <td>13.992257</td>\n",
       "      <td>1.367992</td>\n",
       "      <td>2.486750</td>\n",
       "      <td>15.173936</td>\n",
       "      <td>97.610472</td>\n",
       "      <td>2.792696</td>\n",
       "      <td>2.219250</td>\n",
       "      <td>0.269441</td>\n",
       "      <td>1.348392</td>\n",
       "      <td>7.424164</td>\n",
       "      <td>1.097808</td>\n",
       "      <td>4.196566</td>\n",
       "      <td>938.265416</td>\n",
       "      <td>0</td>\n",
       "    </tr>\n",
       "    <tr>\n",
       "      <th>9</th>\n",
       "      <td>12.191515</td>\n",
       "      <td>2.908275</td>\n",
       "      <td>2.270106</td>\n",
       "      <td>19.173036</td>\n",
       "      <td>93.768202</td>\n",
       "      <td>2.685457</td>\n",
       "      <td>1.066414</td>\n",
       "      <td>0.244168</td>\n",
       "      <td>1.661631</td>\n",
       "      <td>3.662709</td>\n",
       "      <td>0.969186</td>\n",
       "      <td>2.412022</td>\n",
       "      <td>342.757143</td>\n",
       "      <td>1</td>\n",
       "    </tr>\n",
       "  </tbody>\n",
       "</table>\n",
       "</div>"
      ],
      "text/plain": [
       "     alcohol  malic_acid       ash  alcalinity_of_ash   magnesium  \\\n",
       "0  14.161095    2.469941  2.247387          18.696025  104.995482   \n",
       "1  12.338195    1.600698  1.689366          25.904722   76.957632   \n",
       "2  13.156286    2.073288  2.405206          15.876211  109.981765   \n",
       "3  13.771448    2.840094  2.401525          17.390813  100.894598   \n",
       "4  13.753939    4.333746  2.281483          25.275859   75.174540   \n",
       "5  13.118758    2.656861  2.247932          17.214433   98.630378   \n",
       "6  13.422244    3.025295  2.350087          15.926954   77.375740   \n",
       "7  13.845042    4.448254  2.568529          18.879752   76.800959   \n",
       "8  13.992257    1.367992  2.486750          15.173936   97.610472   \n",
       "9  12.191515    2.908275  2.270106          19.173036   93.768202   \n",
       "\n",
       "   total_phenols  flavanoids  nonflavanoid_phenols  proanthocyanins  \\\n",
       "0       2.245556    3.583508              0.184973         1.857330   \n",
       "1       2.188005    1.272699              0.367108         1.271664   \n",
       "2       2.729928    2.759996              0.327098         2.507245   \n",
       "3       3.351148    2.988868              0.244164         2.240241   \n",
       "4       1.976220    0.456767              0.522113         1.450091   \n",
       "5       2.352983    2.221147              0.313868         2.275709   \n",
       "6       2.123675    0.457912              0.656557         1.331002   \n",
       "7       1.676267    0.959732              0.458080         1.378377   \n",
       "8       2.792696    2.219250              0.269441         1.348392   \n",
       "9       2.685457    1.066414              0.244168         1.661631   \n",
       "\n",
       "   color_intensity       hue  od280/od315_of_diluted_wines      proline  \\\n",
       "0         3.167740  1.225863                      3.160260  1030.662732   \n",
       "1         3.400163  0.497391                      2.404691   365.828865   \n",
       "2         4.203271  0.977134                      3.516518   966.137901   \n",
       "3         5.315899  1.161786                      3.288051  1206.650235   \n",
       "4         8.466023  0.745128                      1.687101   719.170669   \n",
       "5         5.191220  1.149673                      3.553827   964.988106   \n",
       "6         9.621169  0.387378                      1.571784   731.851291   \n",
       "7        14.086467  0.642772                      1.391573   586.294082   \n",
       "8         7.424164  1.097808                      4.196566   938.265416   \n",
       "9         3.662709  0.969186                      2.412022   342.757143   \n",
       "\n",
       "   target  \n",
       "0       0  \n",
       "1       1  \n",
       "2       0  \n",
       "3       0  \n",
       "4       2  \n",
       "5       0  \n",
       "6       2  \n",
       "7       2  \n",
       "8       0  \n",
       "9       1  "
      ]
     },
     "execution_count": 12,
     "metadata": {},
     "output_type": "execute_result"
    }
   ],
   "source": [
    "import pandas as pd\n",
    "\n",
    "def generate(prior, mu, sigma, n=1):\n",
    "    y = np.random.choice(len(prior), size=n, p=prior)\n",
    "    x = np.random.normal(loc=mu[y], scale=sigma[y])\n",
    "    return x, y\n",
    "\n",
    "X_gen, y_gen = generate(prior, mu, sigma, n=10)\n",
    "X_gen = pd.DataFrame(X_gen, columns=X.columns)\n",
    "y_gen = pd.Series(y_gen, name='target')\n",
    "X_gen.join(y_gen)"
   ]
  },
  {
   "cell_type": "code",
   "execution_count": 21,
   "metadata": {},
   "outputs": [],
   "source": [
    "from sklearn.datasets import load_digits\n",
    "import matplotlib.pyplot as plt\n",
    "\n",
    "X, y = load_digits(return_X_y=True, as_frame=True)\n",
    "gnb = GaussianNB().fit(X, y)\n",
    "\n",
    "Xgen, ygen = generate(gnb.class_prior_, gnb.theta_, np.sqrt(gnb.var_), n=3)"
   ]
  },
  {
   "cell_type": "code",
   "execution_count": 22,
   "metadata": {},
   "outputs": [
    {
     "name": "stdout",
     "output_type": "stream",
     "text": [
      "8\n"
     ]
    },
    {
     "data": {
      "image/png": "[encoded data removed]",
      "text/plain": [
       "<Figure size 640x480 with 1 Axes>"
      ]
     },
     "metadata": {},
     "output_type": "display_data"
    },
    {
     "name": "stdout",
     "output_type": "stream",
     "text": [
      "4\n"
     ]
    },
    {
     "data": {
      "image/png": "[encoded data removed]",
      "text/plain": [
       "<Figure size 640x480 with 1 Axes>"
      ]
     },
     "metadata": {},
     "output_type": "display_data"
    },
    {
     "name": "stdout",
     "output_type": "stream",
     "text": [
      "9\n"
     ]
    },
    {
     "data": {
      "image/png": "[encoded data removed]",
      "text/plain": [
       "<Figure size 640x480 with 1 Axes>"
      ]
     },
     "metadata": {},
     "output_type": "display_data"
    }
   ],
   "source": [
    "for i in range(3):\n",
    "    print(ygen[i])\n",
    "    plt.imshow(Xgen[i].reshape(8, 8))\n",
    "    plt.show()"
   ]
  },
  {
   "attachments": {},
   "cell_type": "markdown",
   "metadata": {},
   "source": [
    "### Problem 1\n",
    "\n",
    "Use Gaussian Naive Bayes to classify the titanic dataset"
   ]
  },
  {
   "cell_type": "code",
   "execution_count": 24,
   "metadata": {},
   "outputs": [
    {
     "data": {
      "text/html": [
       "<div>\n",
       "<style scoped>\n",
       "    .dataframe tbody tr th:only-of-type {\n",
       "        vertical-align: middle;\n",
       "    }\n",
       "\n",
       "    .dataframe tbody tr th {\n",
       "        vertical-align: top;\n",
       "    }\n",
       "\n",
       "    .dataframe thead th {\n",
       "        text-align: right;\n",
       "    }\n",
       "</style>\n",
       "<table border=\"1\" class=\"dataframe\">\n",
       "  <thead>\n",
       "    <tr style=\"text-align: right;\">\n",
       "      <th></th>\n",
       "      <th>Pclass</th>\n",
       "      <th>Sex</th>\n",
       "      <th>Age</th>\n",
       "      <th>SibSp</th>\n",
       "      <th>Parch</th>\n",
       "      <th>Fare</th>\n",
       "      <th>Embarked</th>\n",
       "    </tr>\n",
       "    <tr>\n",
       "      <th>PassengerId</th>\n",
       "      <th></th>\n",
       "      <th></th>\n",
       "      <th></th>\n",
       "      <th></th>\n",
       "      <th></th>\n",
       "      <th></th>\n",
       "      <th></th>\n",
       "    </tr>\n",
       "  </thead>\n",
       "  <tbody>\n",
       "    <tr>\n",
       "      <th>1</th>\n",
       "      <td>3</td>\n",
       "      <td>male</td>\n",
       "      <td>22.0</td>\n",
       "      <td>1</td>\n",
       "      <td>0</td>\n",
       "      <td>7.2500</td>\n",
       "      <td>S</td>\n",
       "    </tr>\n",
       "    <tr>\n",
       "      <th>2</th>\n",
       "      <td>1</td>\n",
       "      <td>female</td>\n",
       "      <td>38.0</td>\n",
       "      <td>1</td>\n",
       "      <td>0</td>\n",
       "      <td>71.2833</td>\n",
       "      <td>C</td>\n",
       "    </tr>\n",
       "    <tr>\n",
       "      <th>3</th>\n",
       "      <td>3</td>\n",
       "      <td>female</td>\n",
       "      <td>26.0</td>\n",
       "      <td>0</td>\n",
       "      <td>0</td>\n",
       "      <td>7.9250</td>\n",
       "      <td>S</td>\n",
       "    </tr>\n",
       "    <tr>\n",
       "      <th>4</th>\n",
       "      <td>1</td>\n",
       "      <td>female</td>\n",
       "      <td>35.0</td>\n",
       "      <td>1</td>\n",
       "      <td>0</td>\n",
       "      <td>53.1000</td>\n",
       "      <td>S</td>\n",
       "    </tr>\n",
       "    <tr>\n",
       "      <th>5</th>\n",
       "      <td>3</td>\n",
       "      <td>male</td>\n",
       "      <td>35.0</td>\n",
       "      <td>0</td>\n",
       "      <td>0</td>\n",
       "      <td>8.0500</td>\n",
       "      <td>S</td>\n",
       "    </tr>\n",
       "  </tbody>\n",
       "</table>\n",
       "</div>"
      ],
      "text/plain": [
       "             Pclass     Sex   Age  SibSp  Parch     Fare Embarked\n",
       "PassengerId                                                      \n",
       "1                 3    male  22.0      1      0   7.2500        S\n",
       "2                 1  female  38.0      1      0  71.2833        C\n",
       "3                 3  female  26.0      0      0   7.9250        S\n",
       "4                 1  female  35.0      1      0  53.1000        S\n",
       "5                 3    male  35.0      0      0   8.0500        S"
      ]
     },
     "execution_count": 24,
     "metadata": {},
     "output_type": "execute_result"
    }
   ],
   "source": [
    "import os\n",
    "\n",
    "if not os.path.exists('titanic'):\n",
    "    !kaggle competitions download -c titanic\n",
    "    !unzip titanic.zip -d titanic\n",
    "    !rm *.zip\n",
    "\n",
    "train_df = pd.read_csv('titanic/train.csv')\n",
    "test_df = pd.read_csv('titanic/test.csv')\n",
    "train_df.set_index('PassengerId', inplace=True)\n",
    "test_df.set_index('PassengerId', inplace=True)\n",
    "train_df.head()\n",
    "\n",
    "target = 'Survived'\n",
    "y_train = train_df[target]\n",
    "X_train = train_df.drop(['Name', 'Ticket', 'Cabin', target], axis=1)\n",
    "X_train.head()"
   ]
  },
  {
   "attachments": {},
   "cell_type": "markdown",
   "metadata": {},
   "source": [
    "### Problem 2\n",
    "\n",
    "Use Gaussian Naive Bayes to generate 10 samples of the titanic dataset."
   ]
  },
  {
   "attachments": {},
   "cell_type": "markdown",
   "metadata": {},
   "source": [
    "### Problem 3\n",
    "\n",
    "There are several features in the titanic dataset that are categorical. Do the samples generated from GaussianNB make sense?"
   ]
  },
  {
   "cell_type": "code",
   "execution_count": 25,
   "metadata": {},
   "outputs": [
    {
     "data": {
      "text/plain": [
       "Pclass        3\n",
       "Sex           2\n",
       "Age          88\n",
       "SibSp         7\n",
       "Parch         7\n",
       "Fare        248\n",
       "Embarked      3\n",
       "dtype: int64"
      ]
     },
     "execution_count": 25,
     "metadata": {},
     "output_type": "execute_result"
    }
   ],
   "source": [
    "X_train.nunique()"
   ]
  },
  {
   "attachments": {},
   "cell_type": "markdown",
   "metadata": {},
   "source": [
    "### Problem 4\n",
    "\n",
    "Fit categorical features with categorical distributions."
   ]
  }
 ],
 "metadata": {
  "kernelspec": {
   "display_name": "base",
   "language": "python",
   "name": "python3"
  },
  "language_info": {
   "codemirror_mode": {
    "name": "ipython",
    "version": 3
   },
   "file_extension": ".py",
   "mimetype": "text/x-python",
   "name": "python",
   "nbconvert_exporter": "python",
   "pygments_lexer": "ipython3",
   "version": "3.10.9"
  },
  "orig_nbformat": 4
 },
 "nbformat": 4,
 "nbformat_minor": 2
}
