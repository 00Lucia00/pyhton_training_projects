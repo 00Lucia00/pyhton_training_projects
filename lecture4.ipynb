{
 "cells": [
  {
   "attachments": {},
   "cell_type": "markdown",
   "metadata": {},
   "source": [
    "# Lecture 4: K-Nearest Neighbors and Support Vector Machines\n",
    "\n",
    "Resources: \n",
    "- https://www.cs.cornell.edu/courses/cs4780/2018fa/lectures/lecturenote09.html\n",
    "- https://web.mit.edu/6.034/wwwbob/svm.pdf"
   ]
  },
  {
   "attachments": {},
   "cell_type": "markdown",
   "metadata": {},
   "source": [
    "## K-Nearest Neighbors\n",
    "\n",
    "K-Nearest Neighbors is a simple algorithm that stores all available cases and classifies new cases based on a similarity measure (e.g., distance functions). An object is classified by a majority vote of its neighbors, with the object being assigned to the class most common among its k nearest neighbors. If k = 1, then the object is simply assigned to the class of that single nearest neighbor."
   ]
  },
  {
   "cell_type": "code",
   "execution_count": 1,
   "metadata": {},
   "outputs": [
    {
     "name": "stdout",
     "output_type": "stream",
     "text": [
      "<class 'pandas.core.frame.DataFrame'>\n",
      "RangeIndex: 178 entries, 0 to 177\n",
      "Data columns (total 13 columns):\n",
      " #   Column                        Non-Null Count  Dtype  \n",
      "---  ------                        --------------  -----  \n",
      " 0   alcohol                       178 non-null    float64\n",
      " 1   malic_acid                    178 non-null    float64\n",
      " 2   ash                           178 non-null    float64\n",
      " 3   alcalinity_of_ash             178 non-null    float64\n",
      " 4   magnesium                     178 non-null    float64\n",
      " 5   total_phenols                 178 non-null    float64\n",
      " 6   flavanoids                    178 non-null    float64\n",
      " 7   nonflavanoid_phenols          178 non-null    float64\n",
      " 8   proanthocyanins               178 non-null    float64\n",
      " 9   color_intensity               178 non-null    float64\n",
      " 10  hue                           178 non-null    float64\n",
      " 11  od280/od315_of_diluted_wines  178 non-null    float64\n",
      " 12  proline                       178 non-null    float64\n",
      "dtypes: float64(13)\n",
      "memory usage: 18.2 KB\n"
     ]
    }
   ],
   "source": [
    "import numpy as np\n",
    "import pandas as pd\n",
    "import matplotlib.pyplot as plt\n",
    "from sklearn.datasets import load_wine\n",
    "\n",
    "X, y = load_wine(return_X_y=True, as_frame=True)\n",
    "X.info()"
   ]
  },
  {
   "cell_type": "code",
   "execution_count": 2,
   "metadata": {},
   "outputs": [
    {
     "data": {
      "text/plain": [
       "1    71\n",
       "0    59\n",
       "2    48\n",
       "Name: target, dtype: int64"
      ]
     },
     "execution_count": 2,
     "metadata": {},
     "output_type": "execute_result"
    }
   ],
   "source": [
    "y.value_counts()"
   ]
  },
  {
   "cell_type": "code",
   "execution_count": 3,
   "metadata": {},
   "outputs": [
    {
     "data": {
      "text/html": [
       "<div>\n",
       "<style scoped>\n",
       "    .dataframe tbody tr th:only-of-type {\n",
       "        vertical-align: middle;\n",
       "    }\n",
       "\n",
       "    .dataframe tbody tr th {\n",
       "        vertical-align: top;\n",
       "    }\n",
       "\n",
       "    .dataframe thead th {\n",
       "        text-align: right;\n",
       "    }\n",
       "</style>\n",
       "<table border=\"1\" class=\"dataframe\">\n",
       "  <thead>\n",
       "    <tr style=\"text-align: right;\">\n",
       "      <th></th>\n",
       "      <th>alcohol</th>\n",
       "      <th>malic_acid</th>\n",
       "      <th>ash</th>\n",
       "      <th>alcalinity_of_ash</th>\n",
       "      <th>magnesium</th>\n",
       "      <th>total_phenols</th>\n",
       "      <th>flavanoids</th>\n",
       "      <th>nonflavanoid_phenols</th>\n",
       "      <th>proanthocyanins</th>\n",
       "      <th>color_intensity</th>\n",
       "      <th>hue</th>\n",
       "      <th>od280/od315_of_diluted_wines</th>\n",
       "      <th>proline</th>\n",
       "    </tr>\n",
       "  </thead>\n",
       "  <tbody>\n",
       "    <tr>\n",
       "      <th>0</th>\n",
       "      <td>14.23</td>\n",
       "      <td>1.71</td>\n",
       "      <td>2.43</td>\n",
       "      <td>15.6</td>\n",
       "      <td>127.0</td>\n",
       "      <td>2.80</td>\n",
       "      <td>3.06</td>\n",
       "      <td>0.28</td>\n",
       "      <td>2.29</td>\n",
       "      <td>5.64</td>\n",
       "      <td>1.04</td>\n",
       "      <td>3.92</td>\n",
       "      <td>1065.0</td>\n",
       "    </tr>\n",
       "    <tr>\n",
       "      <th>32</th>\n",
       "      <td>13.68</td>\n",
       "      <td>1.83</td>\n",
       "      <td>2.36</td>\n",
       "      <td>17.2</td>\n",
       "      <td>104.0</td>\n",
       "      <td>2.42</td>\n",
       "      <td>2.69</td>\n",
       "      <td>0.42</td>\n",
       "      <td>1.97</td>\n",
       "      <td>3.84</td>\n",
       "      <td>1.23</td>\n",
       "      <td>2.87</td>\n",
       "      <td>990.0</td>\n",
       "    </tr>\n",
       "    <tr>\n",
       "      <th>33</th>\n",
       "      <td>13.76</td>\n",
       "      <td>1.53</td>\n",
       "      <td>2.70</td>\n",
       "      <td>19.5</td>\n",
       "      <td>132.0</td>\n",
       "      <td>2.95</td>\n",
       "      <td>2.74</td>\n",
       "      <td>0.50</td>\n",
       "      <td>1.35</td>\n",
       "      <td>5.40</td>\n",
       "      <td>1.25</td>\n",
       "      <td>3.00</td>\n",
       "      <td>1235.0</td>\n",
       "    </tr>\n",
       "    <tr>\n",
       "      <th>34</th>\n",
       "      <td>13.51</td>\n",
       "      <td>1.80</td>\n",
       "      <td>2.65</td>\n",
       "      <td>19.0</td>\n",
       "      <td>110.0</td>\n",
       "      <td>2.35</td>\n",
       "      <td>2.53</td>\n",
       "      <td>0.29</td>\n",
       "      <td>1.54</td>\n",
       "      <td>4.20</td>\n",
       "      <td>1.10</td>\n",
       "      <td>2.87</td>\n",
       "      <td>1095.0</td>\n",
       "    </tr>\n",
       "    <tr>\n",
       "      <th>35</th>\n",
       "      <td>13.48</td>\n",
       "      <td>1.81</td>\n",
       "      <td>2.41</td>\n",
       "      <td>20.5</td>\n",
       "      <td>100.0</td>\n",
       "      <td>2.70</td>\n",
       "      <td>2.98</td>\n",
       "      <td>0.26</td>\n",
       "      <td>1.86</td>\n",
       "      <td>5.10</td>\n",
       "      <td>1.04</td>\n",
       "      <td>3.47</td>\n",
       "      <td>920.0</td>\n",
       "    </tr>\n",
       "  </tbody>\n",
       "</table>\n",
       "</div>"
      ],
      "text/plain": [
       "    alcohol  malic_acid   ash  alcalinity_of_ash  magnesium  total_phenols  \\\n",
       "0     14.23        1.71  2.43               15.6      127.0           2.80   \n",
       "32    13.68        1.83  2.36               17.2      104.0           2.42   \n",
       "33    13.76        1.53  2.70               19.5      132.0           2.95   \n",
       "34    13.51        1.80  2.65               19.0      110.0           2.35   \n",
       "35    13.48        1.81  2.41               20.5      100.0           2.70   \n",
       "\n",
       "    flavanoids  nonflavanoid_phenols  proanthocyanins  color_intensity   hue  \\\n",
       "0         3.06                  0.28             2.29             5.64  1.04   \n",
       "32        2.69                  0.42             1.97             3.84  1.23   \n",
       "33        2.74                  0.50             1.35             5.40  1.25   \n",
       "34        2.53                  0.29             1.54             4.20  1.10   \n",
       "35        2.98                  0.26             1.86             5.10  1.04   \n",
       "\n",
       "    od280/od315_of_diluted_wines  proline  \n",
       "0                           3.92   1065.0  \n",
       "32                          2.87    990.0  \n",
       "33                          3.00   1235.0  \n",
       "34                          2.87   1095.0  \n",
       "35                          3.47    920.0  "
      ]
     },
     "execution_count": 3,
     "metadata": {},
     "output_type": "execute_result"
    }
   ],
   "source": [
    "# sort the data by target values\n",
    "df = X.join(y).sort_values(by='target')\n",
    "X, y = df.drop(columns='target'), df['target']\n",
    "X.head()"
   ]
  },
  {
   "cell_type": "code",
   "execution_count": 4,
   "metadata": {},
   "outputs": [
    {
     "data": {
      "text/plain": [
       "array([  0,  59, 130], dtype=int64)"
      ]
     },
     "execution_count": 4,
     "metadata": {},
     "output_type": "execute_result"
    }
   ],
   "source": [
    "splits = y.diff().values.nonzero()[0]\n",
    "splits"
   ]
  },
  {
   "cell_type": "code",
   "execution_count": 5,
   "metadata": {},
   "outputs": [
    {
     "data": {
      "image/png": "[encoded data removed]",
      "text/plain": [
       "<Figure size 720x720 with 2 Axes>"
      ]
     },
     "metadata": {
      "needs_background": "light"
     },
     "output_type": "display_data"
    }
   ],
   "source": [
    "import seaborn as sns\n",
    "import matplotlib.pyplot as plt\n",
    "from sklearn.metrics import pairwise_distances\n",
    "\n",
    "sns.set()\n",
    "\n",
    "dist_mat = pairwise_distances(X, metric='euclidean')\n",
    "plt.figure(figsize=(10, 10))\n",
    "sns.heatmap(dist_mat)\n",
    "plt.xticks(splits, y[splits].values)\n",
    "plt.yticks(splits, y[splits].values)\n",
    "plt.show()"
   ]
  },
  {
   "cell_type": "code",
   "execution_count": 6,
   "metadata": {},
   "outputs": [],
   "source": [
    "from sklearn.model_selection import train_test_split\n",
    "from sklearn.metrics import accuracy_score\n",
    "\n",
    "X_train, X_test, y_train, y_test = train_test_split(X, y, test_size=0.2, random_state=42)"
   ]
  },
  {
   "cell_type": "code",
   "execution_count": 7,
   "metadata": {},
   "outputs": [
    {
     "name": "stdout",
     "output_type": "stream",
     "text": [
      "(36, 142)\n"
     ]
    },
    {
     "data": {
      "text/plain": [
       "array([[ 49, 103,  86],\n",
       "       [ 44,  16, 121],\n",
       "       [ 25,  69, 131],\n",
       "       [ 32, 139,  77],\n",
       "       [140,  73, 134]], dtype=int64)"
      ]
     },
     "execution_count": 7,
     "metadata": {},
     "output_type": "execute_result"
    }
   ],
   "source": [
    "dist_mat_test = pairwise_distances(X_test, X_train, metric='euclidean')\n",
    "print(dist_mat_test.shape)\n",
    "K = 3\n",
    "neighbors = np.argsort(dist_mat_test, axis=1)[:, :K]\n",
    "neighbors[:5]"
   ]
  },
  {
   "cell_type": "code",
   "execution_count": 8,
   "metadata": {},
   "outputs": [
    {
     "data": {
      "text/plain": [
       "132    2\n",
       "155    2\n",
       "71     1\n",
       "133    2\n",
       "8      0\n",
       "      ..\n",
       "111    1\n",
       "62     1\n",
       "44     0\n",
       "113    1\n",
       "67     1\n",
       "Name: target, Length: 142, dtype: int32"
      ]
     },
     "execution_count": 8,
     "metadata": {},
     "output_type": "execute_result"
    }
   ],
   "source": [
    "y_train"
   ]
  },
  {
   "cell_type": "code",
   "execution_count": 9,
   "metadata": {},
   "outputs": [
    {
     "data": {
      "text/plain": [
       "132    2\n",
       "155    2\n",
       "71     1\n",
       "Name: target, dtype: int32"
      ]
     },
     "execution_count": 9,
     "metadata": {},
     "output_type": "execute_result"
    }
   ],
   "source": [
    "y_train.loc[[132, 155, 71]]"
   ]
  },
  {
   "cell_type": "code",
   "execution_count": 10,
   "metadata": {},
   "outputs": [
    {
     "data": {
      "text/plain": [
       "57    0\n",
       "49    0\n",
       "27    0\n",
       "Name: target, dtype: int32"
      ]
     },
     "execution_count": 10,
     "metadata": {},
     "output_type": "execute_result"
    }
   ],
   "source": [
    "y_train.iloc[neighbors[0]]"
   ]
  },
  {
   "cell_type": "code",
   "execution_count": 11,
   "metadata": {},
   "outputs": [
    {
     "data": {
      "text/plain": [
       "array([0, 0, 1, 0, 1, 0, 1, 2, 2, 2, 0, 2, 0, 1, 0, 0, 1, 1, 0, 2, 0, 2,\n",
       "       1, 0, 1, 2, 2, 1, 1, 2, 0, 0, 2, 0, 2, 0])"
      ]
     },
     "execution_count": 11,
     "metadata": {},
     "output_type": "execute_result"
    }
   ],
   "source": [
    "prediction = np.array([y_train.iloc[nbs].mode().values[0] \n",
    "                       for nbs in neighbors])\n",
    "prediction"
   ]
  },
  {
   "cell_type": "code",
   "execution_count": 12,
   "metadata": {},
   "outputs": [
    {
     "data": {
      "text/plain": [
       "0.6944444444444444"
      ]
     },
     "execution_count": 12,
     "metadata": {},
     "output_type": "execute_result"
    }
   ],
   "source": [
    "accuracy_score(y_test, prediction)"
   ]
  },
  {
   "cell_type": "code",
   "execution_count": 13,
   "metadata": {},
   "outputs": [
    {
     "data": {
      "text/plain": [
       "0.6944444444444444"
      ]
     },
     "execution_count": 13,
     "metadata": {},
     "output_type": "execute_result"
    }
   ],
   "source": [
    "from sklearn.neighbors import KNeighborsClassifier\n",
    "\n",
    "knn = KNeighborsClassifier(n_neighbors=K)\n",
    "knn.fit(X_train, y_train)\n",
    "accuracy_score(y_test, knn.predict(X_test))"
   ]
  },
  {
   "attachments": {},
   "cell_type": "markdown",
   "metadata": {},
   "source": [
    "In practice, KNN has both low efficiency and low accuracy. However, it can be used as a baseline algorithm to compare with other more sophisticated algorithms. In addition, the concept of KNN is very important in machine learning. It is the basis of many other popular algorithms, such as K-means and support vector machine."
   ]
  },
  {
   "attachments": {},
   "cell_type": "markdown",
   "metadata": {},
   "source": [
    "### Non-Parametric Models\n",
    "\n",
    "A parametric model $f_\\theta$ assumes that the data can be well approximated by a fixed set of parameters $\\theta$. For example, a linear regression model uses a vector of weights and a bias to approximate the data. In contrast, a non-parametric model does not make any assumption on the functional form of the data. Instead, it **stores** the training data and uses it to make predictions. Decision tree, random forest, KNN are all non-parametric models. Next we are going to introduce another non-parametric model, support vector machine."
   ]
  },
  {
   "attachments": {},
   "cell_type": "markdown",
   "metadata": {},
   "source": [
    "## Support Vector Machines"
   ]
  },
  {
   "attachments": {},
   "cell_type": "markdown",
   "metadata": {},
   "source": [
    "How to use a linear model for classification?"
   ]
  },
  {
   "cell_type": "code",
   "execution_count": 110,
   "metadata": {},
   "outputs": [
    {
     "data": {
      "application/vnd.plotly.v1+json": {
       "config": {
        "plotlyServerURL": "https://plot.ly"
       },
       "data": [
        {
         "hovertemplate": "w=-1.633123935319537e+16<br>x0=%{x}<br>x1=%{y}<extra></extra>",
         "legendgroup": "",
         "line": {
          "color": "#AA0DFE",
          "dash": "solid"
         },
         "marker": {
          "symbol": "circle"
         },
         "mode": "lines",
         "name": "",
         "orientation": "v",
         "showlegend": false,
         "type": "scatter",
         "x": [
          -3.061616997868383E-16,
          3.061616997868383E-16
         ],
         "xaxis": "x",
         "y": [
          5,
          -5
         ],
         "yaxis": "y"
        },
        {
         "hovertemplate": "color=-1<br>x0=%{x}<br>x1=%{y}<extra></extra>",
         "legendgroup": "-1",
         "marker": {
          "color": "#636efa",
          "symbol": "circle"
         },
         "mode": "markers",
         "name": "-1",
         "orientation": "v",
         "showlegend": true,
         "type": "scatter",
         "x": [
          -1.2640858761317277,
          -0.9390893645042815,
          -0.9788931266422036,
          -1.0959177761808074,
          0.0927877032665807,
          -1.3458303758626546,
          -0.7435350897909956,
          -0.12759411789176,
          -1.153102006314186,
          -0.9399205237591854,
          -0.8404804519714507,
          -1.061445112759324,
          -0.8499148400220863,
          -0.17009891144506473,
          -0.4005410600492465,
          -1.3353311431445154,
          -0.7882528229679435,
          -0.26894603147751295,
          -0.9067193045058578,
          -1.5503095886064606,
          -0.43418530627428653,
          -1.3356230654184096,
          -0.549572025367794,
          -0.8849526323178083,
          -0.904542257666267,
          -1.1719268377855379,
          -1.0862141037752178,
          -1.3771989704983265,
          -1.1111640713051796,
          -0.8572063373728707,
          -0.4331152788322813,
          -1.104447116687389,
          -1.558655174317639,
          -0.9199814652760847,
          -0.18782731816837916,
          -1.3100004219740646,
          -0.7557409267312515,
          -1.7220569027147947,
          -1.133944039813008,
          -1.1612086020067538,
          -0.9745961226119855,
          -0.5492046397036022,
          -0.8421825263791973,
          -1.3435863500597998,
          -1.3735791468754188,
          -1.57125909901107,
          -0.9008501399366151,
          -0.5805082930627475,
          -0.5672961853376608,
          -1.1876424750450572
         ],
         "xaxis": "x",
         "y": [
          -1.5364843110780853,
          -0.43525804604404017,
          -0.7085923931420889,
          -1.4438144820424181,
          -1.6982481677440688,
          -1.1983767634279887,
          -1.1490464175513577,
          -1.3806034504475515,
          -0.5860126786963769,
          -0.6913984451462905,
          -1.124685187738705,
          -1.4678847171295344,
          -1.1761249232467592,
          -0.6289779197113322,
          -0.907421791258028,
          -0.8112181068395403,
          -0.9613299658257203,
          -2.030070354748827,
          -0.7949741763958719,
          -0.42763814508019293,
          -0.2400915917889006,
          -1.0063322994594506,
          -1.3418639295871666,
          -0.6189944098439877,
          0.050127568239421105,
          -0.9782015715828766,
          -1.438929208960686,
          -0.37356592238335606,
          -1.1003790344649986,
          -0.557429417864636,
          -1.5499456336570154,
          -0.7066884044089012,
          -0.8827921510914539,
          -0.5619155394418875,
          -1.3058782068250376,
          -0.6509839829638906,
          -1.0377858565105278,
          -1.2522329314732257,
          -0.734822266630907,
          -1.1920271773342077,
          -1.3184978232846767,
          -0.7487528305490658,
          -2.0111006079120015,
          -1.4226028207493597,
          -0.1537726994861267,
          -1.1746713612064388,
          -0.9404956770962706,
          -0.5344489593482213,
          -2.150769348440141,
          -1.319365203727111
         ],
         "yaxis": "y"
        },
        {
         "hovertemplate": "color=1<br>x0=%{x}<br>x1=%{y}<extra></extra>",
         "legendgroup": "1",
         "marker": {
          "color": "#EF553B",
          "symbol": "circle"
         },
         "mode": "markers",
         "name": "1",
         "orientation": "v",
         "showlegend": true,
         "type": "scatter",
         "x": [
          0.9447764867913419,
          1.2602881685366853,
          0.9095398489609248,
          2.0953498644848665,
          1.3964034329596737,
          0.866890746998189,
          1.1243995806938853,
          1.580169284996885,
          1.0087047041500024,
          1.0218344965891946,
          1.116247279589369,
          1.2515924067176631,
          1.4009305159356724,
          0.36372062237700287,
          1.2476056619889802,
          1.2647326621763546,
          1.038910563956353,
          0.3849709321665191,
          0.31344133987662215,
          1.1752729893320537,
          1.4230803237925167,
          1.3702782255481374,
          0.9876915220621109,
          1.519412300929707,
          0.40036598383240696,
          1.2017458208954,
          1.220682221784291,
          1.4344430785029338,
          1.329524898050105,
          0.741452771039886,
          0.07100906777662397,
          1.493167593910621,
          1.3011596401478145,
          1.560708854117832,
          1.6368779650793883,
          2.264162853403199,
          1.665728556293796,
          1.4054758364017779,
          0.7764357176070009,
          0.4525440771294791,
          1.9523293541704905,
          0.9067151140463257,
          0.676541655872546,
          1.8138253765744532,
          1.1403325385613194,
          1.281380548309513,
          0.9806522453669745,
          0.84494161324097,
          0.9317776280519835,
          1.3400349199390522
         ],
         "xaxis": "x",
         "y": [
          0.6913189681438195,
          0.42782930518842865,
          0.6980396861033713,
          0.05181953855445376,
          0.6882346351601042,
          1.0163072733466794,
          0.8516794238145686,
          1.184746358187862,
          0.4389906356265558,
          0.8868428787431974,
          1.3412757034322427,
          1.646612941266131,
          1.0232836492120727,
          1.1567738602317161,
          0.9126484201287495,
          1.068850604998693,
          1.3091901309992622,
          1.2752687479881077,
          1.157579696021146,
          0.3438582943812841,
          0.5702420295840068,
          0.5231496990960327,
          0.6124191904154201,
          2.093489823487129,
          1.4316726587720108,
          1.2967892616185335,
          0.9499223833582501,
          1.3752058199325041,
          0.18628082969187132,
          0.5014865861748685,
          1.6180820152264102,
          1.106766950667721,
          1.2101411018235297,
          1.2044502689684138,
          1.9835508746273673,
          0.87568261114227,
          0.8563460682619906,
          1.5222210473536295,
          1.6122538524027494,
          1.084691216529334,
          1.5555283492802523,
          0.9491270637354274,
          1.4507434458243555,
          1.1690058482872379,
          0.9634436481263611,
          1.1203685461188662,
          0.19211382264835264,
          -0.2174188820535694,
          0.940472906112595,
          0.8400992005506644
         ],
         "yaxis": "y"
        }
       ],
       "frames": [
        {
         "data": [
          {
           "hovertemplate": "w=-1.633123935319537e+16<br>x0=%{x}<br>x1=%{y}<extra></extra>",
           "legendgroup": "",
           "line": {
            "color": "#AA0DFE",
            "dash": "solid"
           },
           "marker": {
            "symbol": "circle"
           },
           "mode": "lines",
           "name": "",
           "orientation": "v",
           "showlegend": false,
           "type": "scatter",
           "x": [
            -3.061616997868383E-16,
            3.061616997868383E-16
           ],
           "xaxis": "x",
           "y": [
            5,
            -5
           ],
           "yaxis": "y"
          }
         ],
         "name": "-1.633123935319537e+16"
        },
        {
         "data": [
          {
           "hovertemplate": "w=-31.502100268964977<br>x0=%{x}<br>x1=%{y}<extra></extra>",
           "legendgroup": "",
           "line": {
            "color": "#AA0DFE",
            "dash": "solid"
           },
           "marker": {
            "symbol": "circle"
           },
           "mode": "lines",
           "name": "",
           "orientation": "v",
           "showlegend": false,
           "type": "scatter",
           "x": [
            -0.1586396674903391,
            0.1586396674903391
           ],
           "xaxis": "x",
           "y": [
            4.997482711915925,
            -4.997482711915925
           ],
           "yaxis": "y"
          }
         ],
         "name": "-31.502100268964977"
        },
        {
         "data": [
          {
           "hovertemplate": "w=-15.735178176875575<br>x0=%{x}<br>x1=%{y}<extra></extra>",
           "legendgroup": "",
           "line": {
            "color": "#AA0DFE",
            "dash": "solid"
           },
           "marker": {
            "symbol": "circle"
           },
           "mode": "lines",
           "name": "",
           "orientation": "v",
           "showlegend": false,
           "type": "scatter",
           "x": [
            -0.3171195982828228,
            0.3171195982828228
           ],
           "xaxis": "x",
           "y": [
            4.989933382359422,
            -4.989933382359422
           ],
           "yaxis": "y"
          }
         ],
         "name": "-15.735178176875575"
        },
        {
         "data": [
          {
           "hovertemplate": "w=-10.472473795143545<br>x0=%{x}<br>x1=%{y}<extra></extra>",
           "legendgroup": "",
           "line": {
            "color": "#AA0DFE",
            "dash": "solid"
           },
           "marker": {
            "symbol": "circle"
           },
           "mode": "lines",
           "name": "",
           "orientation": "v",
           "showlegend": false,
           "type": "scatter",
           "x": [
            -0.47528021652091407,
            0.47528021652091407
           ],
           "xaxis": "x",
           "y": [
            4.977359612865423,
            -4.977359612865423
           ],
           "yaxis": "y"
          }
         ],
         "name": "-10.472473795143545"
        },
        {
         "data": [
          {
           "hovertemplate": "w=-7.835813153371813<br>x0=%{x}<br>x1=%{y}<extra></extra>",
           "legendgroup": "",
           "line": {
            "color": "#AA0DFE",
            "dash": "solid"
           },
           "marker": {
            "symbol": "circle"
           },
           "mode": "lines",
           "name": "",
           "orientation": "v",
           "showlegend": false,
           "type": "scatter",
           "x": [
            -0.6329622678687464,
            0.6329622678687464
           ],
           "xaxis": "x",
           "y": [
            4.959774064153977,
            -4.959774064153977
           ],
           "yaxis": "y"
          }
         ],
         "name": "-7.835813153371813"
        },
        {
         "data": [
          {
           "hovertemplate": "w=-6.24955800291122<br>x0=%{x}<br>x1=%{y}<extra></extra>",
           "legendgroup": "",
           "line": {
            "color": "#AA0DFE",
            "dash": "solid"
           },
           "marker": {
            "symbol": "circle"
           },
           "mode": "lines",
           "name": "",
           "orientation": "v",
           "showlegend": false,
           "type": "scatter",
           "x": [
            -0.7900069798667502,
            0.7900069798667502
           ],
           "xaxis": "x",
           "y": [
            4.937194443381971,
            -4.937194443381971
           ],
           "yaxis": "y"
          }
         ],
         "name": "-6.24955800291122"
        },
        {
         "data": [
          {
           "hovertemplate": "w=-5.188492686434975<br>x0=%{x}<br>x1=%{y}<extra></extra>",
           "legendgroup": "",
           "line": {
            "color": "#AA0DFE",
            "dash": "solid"
           },
           "marker": {
            "symbol": "circle"
           },
           "mode": "lines",
           "name": "",
           "orientation": "v",
           "showlegend": false,
           "type": "scatter",
           "x": [
            -0.946256221802051,
            0.946256221802051
           ],
           "xaxis": "x",
           "y": [
            4.909643486313533,
            -4.909643486313533
           ],
           "yaxis": "y"
          }
         ],
         "name": "-5.188492686434975"
        },
        {
         "data": [
          {
           "hovertemplate": "w=-4.427522254827928<br>x0=%{x}<br>x1=%{y}<extra></extra>",
           "legendgroup": "",
           "line": {
            "color": "#AA0DFE",
            "dash": "solid"
           },
           "marker": {
            "symbol": "circle"
           },
           "mode": "lines",
           "name": "",
           "orientation": "v",
           "showlegend": false,
           "type": "scatter",
           "x": [
            -1.1015526639327038,
            1.1015526639327038
           ],
           "xaxis": "x",
           "y": [
            4.877148934427035,
            -4.877148934427035
           ],
           "yaxis": "y"
          }
         ],
         "name": "-4.427522254827928"
        },
        {
         "data": [
          {
           "hovertemplate": "w=-3.854096989829584<br>x0=%{x}<br>x1=%{y}<extra></extra>",
           "legendgroup": "",
           "line": {
            "color": "#AA0DFE",
            "dash": "solid"
           },
           "marker": {
            "symbol": "circle"
           },
           "mode": "lines",
           "name": "",
           "orientation": "v",
           "showlegend": false,
           "type": "scatter",
           "x": [
            -1.255739935905396,
            1.255739935905396
           ],
           "xaxis": "x",
           "y": [
            4.839743506981781,
            -4.839743506981781
           ],
           "yaxis": "y"
          }
         ],
         "name": "-3.854096989829584"
        },
        {
         "data": [
          {
           "hovertemplate": "w=-3.4056872388892487<br>x0=%{x}<br>x1=%{y}<extra></extra>",
           "legendgroup": "",
           "line": {
            "color": "#AA0DFE",
            "dash": "solid"
           },
           "marker": {
            "symbol": "circle"
           },
           "mode": "lines",
           "name": "",
           "orientation": "v",
           "showlegend": false,
           "type": "scatter",
           "x": [
            -1.4086627842071489,
            1.4086627842071489
           ],
           "xaxis": "x",
           "y": [
            4.7974648680724865,
            -4.7974648680724865
           ],
           "yaxis": "y"
          }
         ],
         "name": "-3.4056872388892487"
        },
        {
         "data": [
          {
           "hovertemplate": "w=-3.044773343492748<br>x0=%{x}<br>x1=%{y}<extra></extra>",
           "legendgroup": "",
           "line": {
            "color": "#AA0DFE",
            "dash": "solid"
           },
           "marker": {
            "symbol": "circle"
           },
           "mode": "lines",
           "name": "",
           "orientation": "v",
           "showlegend": false,
           "type": "scatter",
           "x": [
            -1.5601672284924355,
            1.5601672284924355
           ],
           "xaxis": "x",
           "y": [
            4.7503555887047275,
            -4.7503555887047275
           ],
           "yaxis": "y"
          }
         ],
         "name": "-3.044773343492748"
        },
        {
         "data": [
          {
           "hovertemplate": "w=-2.7474774194546216<br>x0=%{x}<br>x1=%{y}<extra></extra>",
           "legendgroup": "",
           "line": {
            "color": "#AA0DFE",
            "dash": "solid"
           },
           "marker": {
            "symbol": "circle"
           },
           "mode": "lines",
           "name": "",
           "orientation": "v",
           "showlegend": false,
           "type": "scatter",
           "x": [
            -1.7101007166283442,
            1.7101007166283442
           ],
           "xaxis": "x",
           "y": [
            4.698463103929542,
            -4.698463103929542
           ],
           "yaxis": "y"
          }
         ],
         "name": "-2.7474774194546216"
        },
        {
         "data": [
          {
           "hovertemplate": "w=-2.4978792419768476<br>x0=%{x}<br>x1=%{y}<extra></extra>",
           "legendgroup": "",
           "line": {
            "color": "#AA0DFE",
            "dash": "solid"
           },
           "marker": {
            "symbol": "circle"
           },
           "mode": "lines",
           "name": "",
           "orientation": "v",
           "showlegend": false,
           "type": "scatter",
           "x": [
            -1.8583122783016375,
            1.8583122783016375
           ],
           "xaxis": "x",
           "y": [
            4.641839665080363,
            -4.641839665080363
           ],
           "yaxis": "y"
          }
         ],
         "name": "-2.4978792419768476"
        },
        {
         "data": [
          {
           "hovertemplate": "w=-2.2849555634443637<br>x0=%{x}<br>x1=%{y}<extra></extra>",
           "legendgroup": "",
           "line": {
            "color": "#AA0DFE",
            "dash": "solid"
           },
           "marker": {
            "symbol": "circle"
           },
           "mode": "lines",
           "name": "",
           "orientation": "v",
           "showlegend": false,
           "type": "scatter",
           "x": [
            -2.004652677033069,
            2.004652677033069
           ],
           "xaxis": "x",
           "y": [
            4.580542287160348,
            -4.580542287160348
           ],
           "yaxis": "y"
          }
         ],
         "name": "-2.2849555634443637"
        },
        {
         "data": [
          {
           "hovertemplate": "w=-2.1008311473433317<br>x0=%{x}<br>x1=%{y}<extra></extra>",
           "legendgroup": "",
           "line": {
            "color": "#AA0DFE",
            "dash": "solid"
           },
           "marker": {
            "symbol": "circle"
           },
           "mode": "lines",
           "name": "",
           "orientation": "v",
           "showlegend": false,
           "type": "scatter",
           "x": [
            -2.1489745604458586,
            2.1489745604458586
           ],
           "xaxis": "x",
           "y": [
            4.514632691433106,
            -4.514632691433106
           ],
           "yaxis": "y"
          }
         ],
         "name": "-2.1008311473433317"
        },
        {
         "data": [
          {
           "hovertemplate": "w=-1.9397293838519312<br>x0=%{x}<br>x1=%{y}<extra></extra>",
           "legendgroup": "",
           "line": {
            "color": "#AA0DFE",
            "dash": "solid"
           },
           "marker": {
            "symbol": "circle"
           },
           "mode": "lines",
           "name": "",
           "orientation": "v",
           "showlegend": false,
           "type": "scatter",
           "x": [
            -2.2911326086370525,
            2.2911326086370525
           ],
           "xaxis": "x",
           "y": [
            4.444177243274617,
            -4.444177243274617
           ],
           "yaxis": "y"
          }
         ],
         "name": "-1.9397293838519312"
        },
        {
         "data": [
          {
           "hovertemplate": "w=-1.7973164198478104<br>x0=%{x}<br>x1=%{y}<extra></extra>",
           "legendgroup": "",
           "line": {
            "color": "#AA0DFE",
            "dash": "solid"
           },
           "marker": {
            "symbol": "circle"
           },
           "mode": "lines",
           "name": "",
           "orientation": "v",
           "showlegend": false,
           "type": "scatter",
           "x": [
            -2.4309836805023433,
            2.4309836805023433
           ],
           "xaxis": "x",
           "y": [
            4.369246885348924,
            -4.369246885348924
           ],
           "yaxis": "y"
          }
         ],
         "name": "-1.7973164198478104"
        },
        {
         "data": [
          {
           "hovertemplate": "w=-1.6702767676945112<br>x0=%{x}<br>x1=%{y}<extra></extra>",
           "legendgroup": "",
           "line": {
            "color": "#AA0DFE",
            "dash": "solid"
           },
           "marker": {
            "symbol": "circle"
           },
           "mode": "lines",
           "name": "",
           "orientation": "v",
           "showlegend": false,
           "type": "scatter",
           "x": [
            -2.568386957867032,
            2.568386957867032
           ],
           "xaxis": "x",
           "y": [
            4.289917066174885,
            -4.289917066174885
           ],
           "yaxis": "y"
          }
         ],
         "name": "-1.6702767676945112"
        },
        {
         "data": [
          {
           "hovertemplate": "w=-1.5560303729754414<br>x0=%{x}<br>x1=%{y}<extra></extra>",
           "legendgroup": "",
           "line": {
            "color": "#AA0DFE",
            "dash": "solid"
           },
           "marker": {
            "symbol": "circle"
           },
           "mode": "lines",
           "name": "",
           "orientation": "v",
           "showlegend": false,
           "type": "scatter",
           "x": [
            -2.7032040872779883,
            2.7032040872779883
           ],
           "xaxis": "x",
           "y": [
            4.206267664155906,
            -4.206267664155906
           ],
           "yaxis": "y"
          }
         ],
         "name": "-1.5560303729754414"
        },
        {
         "data": [
          {
           "hovertemplate": "w=-1.452539024396838<br>x0=%{x}<br>x1=%{y}<extra></extra>",
           "legendgroup": "",
           "line": {
            "color": "#AA0DFE",
            "dash": "solid"
           },
           "marker": {
            "symbol": "circle"
           },
           "mode": "lines",
           "name": "",
           "orientation": "v",
           "showlegend": false,
           "type": "scatter",
           "x": [
            -2.8352993193138536,
            2.8352993193138536
           ],
           "xaxis": "x",
           "y": [
            4.118382907149164,
            -4.118382907149164
           ],
           "yaxis": "y"
          }
         ],
         "name": "-1.452539024396838"
        },
        {
         "data": [
          {
           "hovertemplate": "w=-1.3581708357569418<br>x0=%{x}<br>x1=%{y}<extra></extra>",
           "legendgroup": "",
           "line": {
            "color": "#AA0DFE",
            "dash": "solid"
           },
           "marker": {
            "symbol": "circle"
           },
           "mode": "lines",
           "name": "",
           "orientation": "v",
           "showlegend": false,
           "type": "scatter",
           "x": [
            -2.9645396452732027,
            2.9645396452732027
           ],
           "xaxis": "x",
           "y": [
            4.0263512876552925,
            -4.0263512876552925
           ],
           "yaxis": "y"
          }
         ],
         "name": "-1.3581708357569418"
        },
        {
         "data": [
          {
           "hovertemplate": "w=-1.2716034422611548<br>x0=%{x}<br>x1=%{y}<extra></extra>",
           "legendgroup": "",
           "line": {
            "color": "#AA0DFE",
            "dash": "solid"
           },
           "marker": {
            "symbol": "circle"
           },
           "mode": "lines",
           "name": "",
           "orientation": "v",
           "showlegend": false,
           "type": "scatter",
           "x": [
            -3.0907949311030265,
            3.0907949311030265
           ],
           "xaxis": "x",
           "y": [
            3.9302654737139378,
            -3.9302654737139378
           ],
           "yaxis": "y"
          }
         ],
         "name": "-1.2716034422611548"
        },
        {
         "data": [
          {
           "hovertemplate": "w=-1.19175359259421<br>x0=%{x}<br>x1=%{y}<extra></extra>",
           "legendgroup": "",
           "line": {
            "color": "#AA0DFE",
            "dash": "solid"
           },
           "marker": {
            "symbol": "circle"
           },
           "mode": "lines",
           "name": "",
           "orientation": "v",
           "showlegend": false,
           "type": "scatter",
           "x": [
            -3.2139380484326967,
            3.2139380484326967
           ],
           "xaxis": "x",
           "y": [
            3.83022221559489,
            -3.83022221559489
           ],
           "yaxis": "y"
          }
         ],
         "name": "-1.19175359259421"
        },
        {
         "data": [
          {
           "hovertemplate": "w=-1.1177251028447373<br>x0=%{x}<br>x1=%{y}<extra></extra>",
           "legendgroup": "",
           "line": {
            "color": "#AA0DFE",
            "dash": "solid"
           },
           "marker": {
            "symbol": "circle"
           },
           "mode": "lines",
           "name": "",
           "orientation": "v",
           "showlegend": false,
           "type": "scatter",
           "x": [
            -3.333845002581458,
            3.333845002581458
           ],
           "xaxis": "x",
           "y": [
            3.7263222483787732,
            -3.7263222483787732
           ],
           "yaxis": "y"
          }
         ],
         "name": "-1.1177251028447373"
        },
        {
         "data": [
          {
           "hovertemplate": "w=-1.0487698163007098<br>x0=%{x}<br>x1=%{y}<extra></extra>",
           "legendgroup": "",
           "line": {
            "color": "#AA0DFE",
            "dash": "solid"
           },
           "marker": {
            "symbol": "circle"
           },
           "mode": "lines",
           "name": "",
           "orientation": "v",
           "showlegend": false,
           "type": "scatter",
           "x": [
            -3.45039505741056,
            3.45039505741056
           ],
           "xaxis": "x",
           "y": [
            3.6186701905253504,
            -3.6186701905253504
           ],
           "yaxis": "y"
          }
         ],
         "name": "-1.0487698163007098"
        },
        {
         "data": [
          {
           "hovertemplate": "w=-0.9842579269999703<br>x0=%{x}<br>x1=%{y}<extra></extra>",
           "legendgroup": "",
           "line": {
            "color": "#AA0DFE",
            "dash": "solid"
           },
           "marker": {
            "symbol": "circle"
           },
           "mode": "lines",
           "name": "",
           "orientation": "v",
           "showlegend": false,
           "type": "scatter",
           "x": [
            -3.5634708568943148,
            3.5634708568943148
           ],
           "xaxis": "x",
           "y": [
            3.5073744385316057,
            -3.5073744385316057
           ],
           "yaxis": "y"
          }
         ],
         "name": "-0.9842579269999703"
        },
        {
         "data": [
          {
           "hovertemplate": "w=-0.92365514551901<br>x0=%{x}<br>x1=%{y}<extra></extra>",
           "legendgroup": "",
           "line": {
            "color": "#AA0DFE",
            "dash": "solid"
           },
           "marker": {
            "symbol": "circle"
           },
           "mode": "lines",
           "name": "",
           "orientation": "v",
           "showlegend": false,
           "type": "scatter",
           "x": [
            -3.672958543287667,
            3.672958543287667
           ],
           "xaxis": "x",
           "y": [
            3.3925470577856602,
            -3.3925470577856602
           ],
           "yaxis": "y"
          }
         ],
         "name": "-0.92365514551901"
        },
        {
         "data": [
          {
           "hovertemplate": "w=-0.8665049325430627<br>x0=%{x}<br>x1=%{y}<extra></extra>",
           "legendgroup": "",
           "line": {
            "color": "#AA0DFE",
            "dash": "solid"
           },
           "marker": {
            "symbol": "circle"
           },
           "mode": "lines",
           "name": "",
           "orientation": "v",
           "showlegend": false,
           "type": "scatter",
           "x": [
            -3.7787478717712917,
            3.7787478717712917
           ],
           "xaxis": "x",
           "y": [
            3.274303669726425,
            -3.274303669726425
           ],
           "yaxis": "y"
          }
         ],
         "name": "-0.8665049325430627"
        },
        {
         "data": [
          {
           "hovertemplate": "w=-0.8124145326873445<br>x0=%{x}<br>x1=%{y}<extra></extra>",
           "legendgroup": "",
           "line": {
            "color": "#AA0DFE",
            "dash": "solid"
           },
           "marker": {
            "symbol": "circle"
           },
           "mode": "lines",
           "name": "",
           "orientation": "v",
           "showlegend": false,
           "type": "scatter",
           "x": [
            -3.880732321458784,
            3.880732321458784
           ],
           "xaxis": "x",
           "y": [
            3.152763335422612,
            -3.152763335422612
           ],
           "yaxis": "y"
          }
         ],
         "name": "-0.8124145326873445"
        },
        {
         "data": [
          {
           "hovertemplate": "w=-0.7610438906365251<br>x0=%{x}<br>x1=%{y}<extra></extra>",
           "legendgroup": "",
           "line": {
            "color": "#AA0DFE",
            "dash": "solid"
           },
           "marker": {
            "symbol": "circle"
           },
           "mode": "lines",
           "name": "",
           "orientation": "v",
           "showlegend": false,
           "type": "scatter",
           "x": [
            -3.978809202654161,
            3.978809202654161
           ],
           "xaxis": "x",
           "y": [
            3.028048435688333,
            -3.028048435688333
           ],
           "yaxis": "y"
          }
         ],
         "name": "-0.7610438906365251"
        },
        {
         "data": [
          {
           "hovertemplate": "w=-0.7120967763793672<br>x0=%{x}<br>x1=%{y}<extra></extra>",
           "legendgroup": "",
           "line": {
            "color": "#AA0DFE",
            "dash": "solid"
           },
           "marker": {
            "symbol": "circle"
           },
           "mode": "lines",
           "name": "",
           "orientation": "v",
           "showlegend": false,
           "type": "scatter",
           "x": [
            -4.072879760251679,
            4.072879760251679
           ],
           "xaxis": "x",
           "y": [
            2.900284547855991,
            -2.900284547855991
           ],
           "yaxis": "y"
          }
         ],
         "name": "-0.7120967763793672"
        },
        {
         "data": [
          {
           "hovertemplate": "w=-0.6653136199713858<br>x0=%{x}<br>x1=%{y}<extra></extra>",
           "legendgroup": "",
           "line": {
            "color": "#AA0DFE",
            "dash": "solid"
           },
           "marker": {
            "symbol": "circle"
           },
           "mode": "lines",
           "name": "",
           "orientation": "v",
           "showlegend": false,
           "type": "scatter",
           "x": [
            -4.162849273173857,
            4.162849273173857
           ],
           "xaxis": "x",
           "y": [
            2.7696003193305514,
            -2.7696003193305514
           ],
           "yaxis": "y"
          }
         ],
         "name": "-0.6653136199713858"
        },
        {
         "data": [
          {
           "hovertemplate": "w=-0.6204656810633842<br>x0=%{x}<br>x1=%{y}<extra></extra>",
           "legendgroup": "",
           "line": {
            "color": "#AA0DFE",
            "dash": "solid"
           },
           "marker": {
            "symbol": "circle"
           },
           "mode": "lines",
           "name": "",
           "orientation": "v",
           "showlegend": false,
           "type": "scatter",
           "x": [
            -4.248627149747572,
            4.248627149747572
           ],
           "xaxis": "x",
           "y": [
            2.636127338052512,
            -2.636127338052512
           ],
           "yaxis": "y"
          }
         ],
         "name": "-0.6204656810633842"
        },
        {
         "data": [
          {
           "hovertemplate": "w=-0.5773502691896255<br>x0=%{x}<br>x1=%{y}<extra></extra>",
           "legendgroup": "",
           "line": {
            "color": "#AA0DFE",
            "dash": "solid"
           },
           "marker": {
            "symbol": "circle"
           },
           "mode": "lines",
           "name": "",
           "orientation": "v",
           "showlegend": false,
           "type": "scatter",
           "x": [
            -4.330127018922194,
            4.330127018922194
           ],
           "xaxis": "x",
           "y": [
            2.499999999999999,
            -2.499999999999999
           ],
           "yaxis": "y"
          }
         ],
         "name": "-0.5773502691896255"
        },
        {
         "data": [
          {
           "hovertemplate": "w=-0.5357867975289284<br>x0=%{x}<br>x1=%{y}<extra></extra>",
           "legendgroup": "",
           "line": {
            "color": "#AA0DFE",
            "dash": "solid"
           },
           "marker": {
            "symbol": "circle"
           },
           "mode": "lines",
           "name": "",
           "orientation": "v",
           "showlegend": false,
           "type": "scatter",
           "x": [
            -4.40726681723791,
            4.40726681723791
           ],
           "xaxis": "x",
           "y": [
            2.361355373863413,
            -2.361355373863413
           ],
           "yaxis": "y"
          }
         ],
         "name": "-0.5357867975289284"
        },
        {
         "data": [
          {
           "hovertemplate": "w=-0.4956135024007253<br>x0=%{x}<br>x1=%{y}<extra></extra>",
           "legendgroup": "",
           "line": {
            "color": "#AA0DFE",
            "dash": "solid"
           },
           "marker": {
            "symbol": "circle"
           },
           "mode": "lines",
           "name": "",
           "orientation": "v",
           "showlegend": false,
           "type": "scatter",
           "x": [
            -4.47996887145668,
            4.47996887145668
           ],
           "xaxis": "x",
           "y": [
            2.22033306302887,
            -2.22033306302887
           ],
           "yaxis": "y"
          }
         ],
         "name": "-0.4956135024007253"
        },
        {
         "data": [
          {
           "hovertemplate": "w=-0.45668469790355526<br>x0=%{x}<br>x1=%{y}<extra></extra>",
           "legendgroup": "",
           "line": {
            "color": "#AA0DFE",
            "dash": "solid"
           },
           "marker": {
            "symbol": "circle"
           },
           "mode": "lines",
           "name": "",
           "orientation": "v",
           "showlegend": false,
           "type": "scatter",
           "x": [
            -4.548159976772592,
            4.548159976772592
           ],
           "xaxis": "x",
           "y": [
            2.077075065009432,
            -2.077075065009432
           ],
           "yaxis": "y"
          }
         ],
         "name": "-0.45668469790355526"
        },
        {
         "data": [
          {
           "hovertemplate": "w=-0.41886846319525306<br>x0=%{x}<br>x1=%{y}<extra></extra>",
           "legendgroup": "",
           "line": {
            "color": "#AA0DFE",
            "dash": "solid"
           },
           "marker": {
            "symbol": "circle"
           },
           "mode": "lines",
           "name": "",
           "orientation": "v",
           "showlegend": false,
           "type": "scatter",
           "x": [
            -4.611771470522907,
            4.611771470522907
           ],
           "xaxis": "x",
           "y": [
            1.9317256284656426,
            -1.9317256284656426
           ],
           "yaxis": "y"
          }
         ],
         "name": "-0.41886846319525306"
        },
        {
         "data": [
          {
           "hovertemplate": "w=-0.38204468133191377<br>x0=%{x}<br>x1=%{y}<extra></extra>",
           "legendgroup": "",
           "line": {
            "color": "#AA0DFE",
            "dash": "solid"
           },
           "marker": {
            "symbol": "circle"
           },
           "mode": "lines",
           "name": "",
           "orientation": "v",
           "showlegend": false,
           "type": "scatter",
           "x": [
            -4.670739301325534,
            4.670739301325534
           ],
           "xaxis": "x",
           "y": [
            1.784431107959359,
            -1.784431107959359
           ],
           "yaxis": "y"
          }
         ],
         "name": "-0.38204468133191377"
        },
        {
         "data": [
          {
           "hovertemplate": "w=-0.3461033650344124<br>x0=%{x}<br>x1=%{y}<extra></extra>",
           "legendgroup": "",
           "line": {
            "color": "#AA0DFE",
            "dash": "solid"
           },
           "marker": {
            "symbol": "circle"
           },
           "mode": "lines",
           "name": "",
           "orientation": "v",
           "showlegend": false,
           "type": "scatter",
           "x": [
            -4.725004093573343,
            4.725004093573343
           ],
           "xaxis": "x",
           "y": [
            1.6353398165871074,
            -1.6353398165871074
           ],
           "yaxis": "y"
          }
         ],
         "name": "-0.3461033650344124"
        },
        {
         "data": [
          {
           "hovertemplate": "w=-0.3109432174745447<br>x0=%{x}<br>x1=%{y}<extra></extra>",
           "legendgroup": "",
           "line": {
            "color": "#AA0DFE",
            "dash": "solid"
           },
           "marker": {
            "symbol": "circle"
           },
           "mode": "lines",
           "name": "",
           "orientation": "v",
           "showlegend": false,
           "type": "scatter",
           "x": [
            -4.774511207220369,
            4.774511207220369
           ],
           "xaxis": "x",
           "y": [
            1.4846018766413742,
            -1.4846018766413742
           ],
           "yaxis": "y"
          }
         ],
         "name": "-0.3109432174745447"
        },
        {
         "data": [
          {
           "hovertemplate": "w=-0.27647038607251656<br>x0=%{x}<br>x1=%{y}<extra></extra>",
           "legendgroup": "",
           "line": {
            "color": "#AA0DFE",
            "dash": "solid"
           },
           "marker": {
            "symbol": "circle"
           },
           "mode": "lines",
           "name": "",
           "orientation": "v",
           "showlegend": false,
           "type": "scatter",
           "x": [
            -4.81921079279971,
            4.81921079279971
           ],
           "xaxis": "x",
           "y": [
            1.3323690684501743,
            -1.3323690684501743
           ],
           "yaxis": "y"
          }
         ],
         "name": "-0.27647038607251656"
        },
        {
         "data": [
          {
           "hovertemplate": "w=-0.24259737504064868<br>x0=%{x}<br>x1=%{y}<extra></extra>",
           "legendgroup": "",
           "line": {
            "color": "#AA0DFE",
            "dash": "solid"
           },
           "marker": {
            "symbol": "circle"
           },
           "mode": "lines",
           "name": "",
           "orientation": "v",
           "showlegend": false,
           "type": "scatter",
           "x": [
            -4.859057841617708,
            4.859057841617708
           ],
           "xaxis": "x",
           "y": [
            1.178794677547136,
            -1.178794677547136
           ],
           "yaxis": "y"
          }
         ],
         "name": "-0.24259737504064868"
        },
        {
         "data": [
          {
           "hovertemplate": "w=-0.20924208849009132<br>x0=%{x}<br>x1=%{y}<extra></extra>",
           "legendgroup": "",
           "line": {
            "color": "#AA0DFE",
            "dash": "solid"
           },
           "marker": {
            "symbol": "circle"
           },
           "mode": "lines",
           "name": "",
           "orientation": "v",
           "showlegend": false,
           "type": "scatter",
           "x": [
            -4.894012231073893,
            4.894012231073893
           ],
           "xaxis": "x",
           "y": [
            1.024033340325953,
            -1.024033340325953
           ],
           "yaxis": "y"
          }
         ],
         "name": "-0.20924208849009132"
        },
        {
         "data": [
          {
           "hovertemplate": "w=-0.176326980708465<br>x0=%{x}<br>x1=%{y}<extra></extra>",
           "legendgroup": "",
           "line": {
            "color": "#AA0DFE",
            "dash": "solid"
           },
           "marker": {
            "symbol": "circle"
           },
           "mode": "lines",
           "name": "",
           "orientation": "v",
           "showlegend": false,
           "type": "scatter",
           "x": [
            -4.92403876506104,
            4.92403876506104
           ],
           "xaxis": "x",
           "y": [
            0.8682408883346517,
            -0.8682408883346517
           ],
           "yaxis": "y"
          }
         ],
         "name": "-0.176326980708465"
        },
        {
         "data": [
          {
           "hovertemplate": "w=-0.14377829399497322<br>x0=%{x}<br>x1=%{y}<extra></extra>",
           "legendgroup": "",
           "line": {
            "color": "#AA0DFE",
            "dash": "solid"
           },
           "marker": {
            "symbol": "circle"
           },
           "mode": "lines",
           "name": "",
           "orientation": "v",
           "showlegend": false,
           "type": "scatter",
           "x": [
            -4.949107209404664,
            4.949107209404664
           ],
           "xaxis": "x",
           "y": [
            0.7115741913664253,
            -0.7115741913664253
           ],
           "yaxis": "y"
          }
         ],
         "name": "-0.14377829399497322"
        },
        {
         "data": [
          {
           "hovertemplate": "w=-0.11152536741581527<br>x0=%{x}<br>x1=%{y}<extra></extra>",
           "legendgroup": "",
           "line": {
            "color": "#AA0DFE",
            "dash": "solid"
           },
           "marker": {
            "symbol": "circle"
           },
           "mode": "lines",
           "name": "",
           "orientation": "v",
           "showlegend": false,
           "type": "scatter",
           "x": [
            -4.96919232230627,
            4.96919232230627
           ],
           "xaxis": "x",
           "y": [
            0.5541909995050552,
            -0.5541909995050552
           ],
           "yaxis": "y"
          }
         ],
         "name": "-0.11152536741581527"
        },
        {
         "data": [
          {
           "hovertemplate": "w=-0.07950000217545125<br>x0=%{x}<br>x1=%{y}<extra></extra>",
           "legendgroup": "",
           "line": {
            "color": "#AA0DFE",
            "dash": "solid"
           },
           "marker": {
            "symbol": "circle"
           },
           "mode": "lines",
           "name": "",
           "orientation": "v",
           "showlegend": false,
           "type": "scatter",
           "x": [
            -4.984273879759712,
            4.984273879759712
           ],
           "xaxis": "x",
           "y": [
            0.3962497842839419,
            -0.3962497842839419
           ],
           "yaxis": "y"
          }
         ],
         "name": "-0.07950000217545125"
        },
        {
         "data": [
          {
           "hovertemplate": "w=-0.04763587110842992<br>x0=%{x}<br>x1=%{y}<extra></extra>",
           "legendgroup": "",
           "line": {
            "color": "#AA0DFE",
            "dash": "solid"
           },
           "marker": {
            "symbol": "circle"
           },
           "mode": "lines",
           "name": "",
           "orientation": "v",
           "showlegend": false,
           "type": "scatter",
           "x": [
            -4.99433669591504,
            4.99433669591504
           ],
           "xaxis": "x",
           "y": [
            0.23790957911871058,
            -0.23790957911871058
           ],
           "yaxis": "y"
          }
         ],
         "name": "-0.04763587110842992"
        },
        {
         "data": [
          {
           "hovertemplate": "w=-0.01586796117199145<br>x0=%{x}<br>x1=%{y}<extra></extra>",
           "legendgroup": "",
           "line": {
            "color": "#AA0DFE",
            "dash": "solid"
           },
           "marker": {
            "symbol": "circle"
           },
           "mode": "lines",
           "name": "",
           "orientation": "v",
           "showlegend": false,
           "type": "scatter",
           "x": [
            -4.999370638369375,
            4.999370638369375
           ],
           "xaxis": "x",
           "y": [
            0.07932981917403935,
            -0.07932981917403935
           ],
           "yaxis": "y"
          }
         ],
         "name": "-0.01586796117199145"
        },
        {
         "data": [
          {
           "hovertemplate": "w=0.01586796117199167<br>x0=%{x}<br>x1=%{y}<extra></extra>",
           "legendgroup": "",
           "line": {
            "color": "#AA0DFE",
            "dash": "solid"
           },
           "marker": {
            "symbol": "circle"
           },
           "mode": "lines",
           "name": "",
           "orientation": "v",
           "showlegend": false,
           "type": "scatter",
           "x": [
            -4.999370638369375,
            4.999370638369375
           ],
           "xaxis": "x",
           "y": [
            -0.07932981917404046,
            0.07932981917404046
           ],
           "yaxis": "y"
          }
         ],
         "name": "0.01586796117199167"
        },
        {
         "data": [
          {
           "hovertemplate": "w=0.04763587110843014<br>x0=%{x}<br>x1=%{y}<extra></extra>",
           "legendgroup": "",
           "line": {
            "color": "#AA0DFE",
            "dash": "solid"
           },
           "marker": {
            "symbol": "circle"
           },
           "mode": "lines",
           "name": "",
           "orientation": "v",
           "showlegend": false,
           "type": "scatter",
           "x": [
            -4.99433669591504,
            4.99433669591504
           ],
           "xaxis": "x",
           "y": [
            -0.2379095791187117,
            0.2379095791187117
           ],
           "yaxis": "y"
          }
         ],
         "name": "0.04763587110843014"
        },
        {
         "data": [
          {
           "hovertemplate": "w=0.07950000217545147<br>x0=%{x}<br>x1=%{y}<extra></extra>",
           "legendgroup": "",
           "line": {
            "color": "#AA0DFE",
            "dash": "solid"
           },
           "marker": {
            "symbol": "circle"
           },
           "mode": "lines",
           "name": "",
           "orientation": "v",
           "showlegend": false,
           "type": "scatter",
           "x": [
            -4.984273879759712,
            4.984273879759712
           ],
           "xaxis": "x",
           "y": [
            -0.39624978428394303,
            0.39624978428394303
           ],
           "yaxis": "y"
          }
         ],
         "name": "0.07950000217545147"
        },
        {
         "data": [
          {
           "hovertemplate": "w=0.11152536741581527<br>x0=%{x}<br>x1=%{y}<extra></extra>",
           "legendgroup": "",
           "line": {
            "color": "#AA0DFE",
            "dash": "solid"
           },
           "marker": {
            "symbol": "circle"
           },
           "mode": "lines",
           "name": "",
           "orientation": "v",
           "showlegend": false,
           "type": "scatter",
           "x": [
            -4.96919232230627,
            4.96919232230627
           ],
           "xaxis": "x",
           "y": [
            -0.5541909995050552,
            0.5541909995050552
           ],
           "yaxis": "y"
          }
         ],
         "name": "0.11152536741581527"
        },
        {
         "data": [
          {
           "hovertemplate": "w=0.14377829399497347<br>x0=%{x}<br>x1=%{y}<extra></extra>",
           "legendgroup": "",
           "line": {
            "color": "#AA0DFE",
            "dash": "solid"
           },
           "marker": {
            "symbol": "circle"
           },
           "mode": "lines",
           "name": "",
           "orientation": "v",
           "showlegend": false,
           "type": "scatter",
           "x": [
            -4.949107209404663,
            4.949107209404663
           ],
           "xaxis": "x",
           "y": [
            -0.7115741913664264,
            0.7115741913664264
           ],
           "yaxis": "y"
          }
         ],
         "name": "0.14377829399497347"
        },
        {
         "data": [
          {
           "hovertemplate": "w=0.176326980708465<br>x0=%{x}<br>x1=%{y}<extra></extra>",
           "legendgroup": "",
           "line": {
            "color": "#AA0DFE",
            "dash": "solid"
           },
           "marker": {
            "symbol": "circle"
           },
           "mode": "lines",
           "name": "",
           "orientation": "v",
           "showlegend": false,
           "type": "scatter",
           "x": [
            -4.92403876506104,
            4.92403876506104
           ],
           "xaxis": "x",
           "y": [
            -0.8682408883346517,
            0.8682408883346517
           ],
           "yaxis": "y"
          }
         ],
         "name": "0.176326980708465"
        },
        {
         "data": [
          {
           "hovertemplate": "w=0.20924208849009154<br>x0=%{x}<br>x1=%{y}<extra></extra>",
           "legendgroup": "",
           "line": {
            "color": "#AA0DFE",
            "dash": "solid"
           },
           "marker": {
            "symbol": "circle"
           },
           "mode": "lines",
           "name": "",
           "orientation": "v",
           "showlegend": false,
           "type": "scatter",
           "x": [
            -4.894012231073893,
            4.894012231073893
           ],
           "xaxis": "x",
           "y": [
            -1.024033340325954,
            1.024033340325954
           ],
           "yaxis": "y"
          }
         ],
         "name": "0.20924208849009154"
        },
        {
         "data": [
          {
           "hovertemplate": "w=0.24259737504064868<br>x0=%{x}<br>x1=%{y}<extra></extra>",
           "legendgroup": "",
           "line": {
            "color": "#AA0DFE",
            "dash": "solid"
           },
           "marker": {
            "symbol": "circle"
           },
           "mode": "lines",
           "name": "",
           "orientation": "v",
           "showlegend": false,
           "type": "scatter",
           "x": [
            -4.859057841617708,
            4.859057841617708
           ],
           "xaxis": "x",
           "y": [
            -1.178794677547136,
            1.178794677547136
           ],
           "yaxis": "y"
          }
         ],
         "name": "0.24259737504064868"
        },
        {
         "data": [
          {
           "hovertemplate": "w=0.2764703860725168<br>x0=%{x}<br>x1=%{y}<extra></extra>",
           "legendgroup": "",
           "line": {
            "color": "#AA0DFE",
            "dash": "solid"
           },
           "marker": {
            "symbol": "circle"
           },
           "mode": "lines",
           "name": "",
           "orientation": "v",
           "showlegend": false,
           "type": "scatter",
           "x": [
            -4.81921079279971,
            4.81921079279971
           ],
           "xaxis": "x",
           "y": [
            -1.3323690684501754,
            1.3323690684501754
           ],
           "yaxis": "y"
          }
         ],
         "name": "0.2764703860725168"
        },
        {
         "data": [
          {
           "hovertemplate": "w=0.3109432174745447<br>x0=%{x}<br>x1=%{y}<extra></extra>",
           "legendgroup": "",
           "line": {
            "color": "#AA0DFE",
            "dash": "solid"
           },
           "marker": {
            "symbol": "circle"
           },
           "mode": "lines",
           "name": "",
           "orientation": "v",
           "showlegend": false,
           "type": "scatter",
           "x": [
            -4.774511207220369,
            4.774511207220369
           ],
           "xaxis": "x",
           "y": [
            -1.4846018766413742,
            1.4846018766413742
           ],
           "yaxis": "y"
          }
         ],
         "name": "0.3109432174745447"
        },
        {
         "data": [
          {
           "hovertemplate": "w=0.3461033650344127<br>x0=%{x}<br>x1=%{y}<extra></extra>",
           "legendgroup": "",
           "line": {
            "color": "#AA0DFE",
            "dash": "solid"
           },
           "marker": {
            "symbol": "circle"
           },
           "mode": "lines",
           "name": "",
           "orientation": "v",
           "showlegend": false,
           "type": "scatter",
           "x": [
            -4.725004093573342,
            4.725004093573342
           ],
           "xaxis": "x",
           "y": [
            -1.6353398165871087,
            1.6353398165871087
           ],
           "yaxis": "y"
          }
         ],
         "name": "0.3461033650344127"
        },
        {
         "data": [
          {
           "hovertemplate": "w=0.38204468133191377<br>x0=%{x}<br>x1=%{y}<extra></extra>",
           "legendgroup": "",
           "line": {
            "color": "#AA0DFE",
            "dash": "solid"
           },
           "marker": {
            "symbol": "circle"
           },
           "mode": "lines",
           "name": "",
           "orientation": "v",
           "showlegend": false,
           "type": "scatter",
           "x": [
            -4.670739301325534,
            4.670739301325534
           ],
           "xaxis": "x",
           "y": [
            -1.784431107959359,
            1.784431107959359
           ],
           "yaxis": "y"
          }
         ],
         "name": "0.38204468133191377"
        },
        {
         "data": [
          {
           "hovertemplate": "w=0.41886846319525334<br>x0=%{x}<br>x1=%{y}<extra></extra>",
           "legendgroup": "",
           "line": {
            "color": "#AA0DFE",
            "dash": "solid"
           },
           "marker": {
            "symbol": "circle"
           },
           "mode": "lines",
           "name": "",
           "orientation": "v",
           "showlegend": false,
           "type": "scatter",
           "x": [
            -4.611771470522907,
            4.611771470522907
           ],
           "xaxis": "x",
           "y": [
            -1.9317256284656437,
            1.9317256284656437
           ],
           "yaxis": "y"
          }
         ],
         "name": "0.41886846319525334"
        },
        {
         "data": [
          {
           "hovertemplate": "w=0.45668469790355526<br>x0=%{x}<br>x1=%{y}<extra></extra>",
           "legendgroup": "",
           "line": {
            "color": "#AA0DFE",
            "dash": "solid"
           },
           "marker": {
            "symbol": "circle"
           },
           "mode": "lines",
           "name": "",
           "orientation": "v",
           "showlegend": false,
           "type": "scatter",
           "x": [
            -4.548159976772592,
            4.548159976772592
           ],
           "xaxis": "x",
           "y": [
            -2.077075065009432,
            2.077075065009432
           ],
           "yaxis": "y"
          }
         ],
         "name": "0.45668469790355526"
        },
        {
         "data": [
          {
           "hovertemplate": "w=0.4956135024007256<br>x0=%{x}<br>x1=%{y}<extra></extra>",
           "legendgroup": "",
           "line": {
            "color": "#AA0DFE",
            "dash": "solid"
           },
           "marker": {
            "symbol": "circle"
           },
           "mode": "lines",
           "name": "",
           "orientation": "v",
           "showlegend": false,
           "type": "scatter",
           "x": [
            -4.47996887145668,
            4.47996887145668
           ],
           "xaxis": "x",
           "y": [
            -2.220333063028871,
            2.220333063028871
           ],
           "yaxis": "y"
          }
         ],
         "name": "0.4956135024007256"
        },
        {
         "data": [
          {
           "hovertemplate": "w=0.5357867975289284<br>x0=%{x}<br>x1=%{y}<extra></extra>",
           "legendgroup": "",
           "line": {
            "color": "#AA0DFE",
            "dash": "solid"
           },
           "marker": {
            "symbol": "circle"
           },
           "mode": "lines",
           "name": "",
           "orientation": "v",
           "showlegend": false,
           "type": "scatter",
           "x": [
            -4.40726681723791,
            4.40726681723791
           ],
           "xaxis": "x",
           "y": [
            -2.361355373863413,
            2.361355373863413
           ],
           "yaxis": "y"
          }
         ],
         "name": "0.5357867975289284"
        },
        {
         "data": [
          {
           "hovertemplate": "w=0.5773502691896262<br>x0=%{x}<br>x1=%{y}<extra></extra>",
           "legendgroup": "",
           "line": {
            "color": "#AA0DFE",
            "dash": "solid"
           },
           "marker": {
            "symbol": "circle"
           },
           "mode": "lines",
           "name": "",
           "orientation": "v",
           "showlegend": false,
           "type": "scatter",
           "x": [
            -4.330127018922193,
            4.330127018922193
           ],
           "xaxis": "x",
           "y": [
            -2.500000000000001,
            2.500000000000001
           ],
           "yaxis": "y"
          }
         ],
         "name": "0.5773502691896262"
        },
        {
         "data": [
          {
           "hovertemplate": "w=0.6204656810633844<br>x0=%{x}<br>x1=%{y}<extra></extra>",
           "legendgroup": "",
           "line": {
            "color": "#AA0DFE",
            "dash": "solid"
           },
           "marker": {
            "symbol": "circle"
           },
           "mode": "lines",
           "name": "",
           "orientation": "v",
           "showlegend": false,
           "type": "scatter",
           "x": [
            -4.248627149747572,
            4.248627149747572
           ],
           "xaxis": "x",
           "y": [
            -2.636127338052513,
            2.636127338052513
           ],
           "yaxis": "y"
          }
         ],
         "name": "0.6204656810633844"
        },
        {
         "data": [
          {
           "hovertemplate": "w=0.6653136199713859<br>x0=%{x}<br>x1=%{y}<extra></extra>",
           "legendgroup": "",
           "line": {
            "color": "#AA0DFE",
            "dash": "solid"
           },
           "marker": {
            "symbol": "circle"
           },
           "mode": "lines",
           "name": "",
           "orientation": "v",
           "showlegend": false,
           "type": "scatter",
           "x": [
            -4.1628492731738564,
            4.1628492731738564
           ],
           "xaxis": "x",
           "y": [
            -2.7696003193305514,
            2.7696003193305514
           ],
           "yaxis": "y"
          }
         ],
         "name": "0.6653136199713859"
        },
        {
         "data": [
          {
           "hovertemplate": "w=0.7120967763793672<br>x0=%{x}<br>x1=%{y}<extra></extra>",
           "legendgroup": "",
           "line": {
            "color": "#AA0DFE",
            "dash": "solid"
           },
           "marker": {
            "symbol": "circle"
           },
           "mode": "lines",
           "name": "",
           "orientation": "v",
           "showlegend": false,
           "type": "scatter",
           "x": [
            -4.072879760251679,
            4.072879760251679
           ],
           "xaxis": "x",
           "y": [
            -2.900284547855991,
            2.900284547855991
           ],
           "yaxis": "y"
          }
         ],
         "name": "0.7120967763793672"
        },
        {
         "data": [
          {
           "hovertemplate": "w=0.7610438906365257<br>x0=%{x}<br>x1=%{y}<extra></extra>",
           "legendgroup": "",
           "line": {
            "color": "#AA0DFE",
            "dash": "solid"
           },
           "marker": {
            "symbol": "circle"
           },
           "mode": "lines",
           "name": "",
           "orientation": "v",
           "showlegend": false,
           "type": "scatter",
           "x": [
            -3.97880920265416,
            3.97880920265416
           ],
           "xaxis": "x",
           "y": [
            -3.0280484356883344,
            3.0280484356883344
           ],
           "yaxis": "y"
          }
         ],
         "name": "0.7610438906365257"
        },
        {
         "data": [
          {
           "hovertemplate": "w=0.8124145326873449<br>x0=%{x}<br>x1=%{y}<extra></extra>",
           "legendgroup": "",
           "line": {
            "color": "#AA0DFE",
            "dash": "solid"
           },
           "marker": {
            "symbol": "circle"
           },
           "mode": "lines",
           "name": "",
           "orientation": "v",
           "showlegend": false,
           "type": "scatter",
           "x": [
            -3.8807323214587837,
            3.8807323214587837
           ],
           "xaxis": "x",
           "y": [
            -3.152763335422613,
            3.152763335422613
           ],
           "yaxis": "y"
          }
         ],
         "name": "0.8124145326873449"
        },
        {
         "data": [
          {
           "hovertemplate": "w=0.8665049325430629<br>x0=%{x}<br>x1=%{y}<extra></extra>",
           "legendgroup": "",
           "line": {
            "color": "#AA0DFE",
            "dash": "solid"
           },
           "marker": {
            "symbol": "circle"
           },
           "mode": "lines",
           "name": "",
           "orientation": "v",
           "showlegend": false,
           "type": "scatter",
           "x": [
            -3.7787478717712912,
            3.7787478717712912
           ],
           "xaxis": "x",
           "y": [
            -3.2743036697264256,
            3.2743036697264256
           ],
           "yaxis": "y"
          }
         ],
         "name": "0.8665049325430629"
        },
        {
         "data": [
          {
           "hovertemplate": "w=0.92365514551901<br>x0=%{x}<br>x1=%{y}<extra></extra>",
           "legendgroup": "",
           "line": {
            "color": "#AA0DFE",
            "dash": "solid"
           },
           "marker": {
            "symbol": "circle"
           },
           "mode": "lines",
           "name": "",
           "orientation": "v",
           "showlegend": false,
           "type": "scatter",
           "x": [
            -3.672958543287667,
            3.672958543287667
           ],
           "xaxis": "x",
           "y": [
            -3.3925470577856602,
            3.3925470577856602
           ],
           "yaxis": "y"
          }
         ],
         "name": "0.92365514551901"
        },
        {
         "data": [
          {
           "hovertemplate": "w=0.984257926999971<br>x0=%{x}<br>x1=%{y}<extra></extra>",
           "legendgroup": "",
           "line": {
            "color": "#AA0DFE",
            "dash": "solid"
           },
           "marker": {
            "symbol": "circle"
           },
           "mode": "lines",
           "name": "",
           "orientation": "v",
           "showlegend": false,
           "type": "scatter",
           "x": [
            -3.5634708568943134,
            3.5634708568943134
           ],
           "xaxis": "x",
           "y": [
            -3.507374438531607,
            3.507374438531607
           ],
           "yaxis": "y"
          }
         ],
         "name": "0.984257926999971"
        },
        {
         "data": [
          {
           "hovertemplate": "w=1.0487698163007102<br>x0=%{x}<br>x1=%{y}<extra></extra>",
           "legendgroup": "",
           "line": {
            "color": "#AA0DFE",
            "dash": "solid"
           },
           "marker": {
            "symbol": "circle"
           },
           "mode": "lines",
           "name": "",
           "orientation": "v",
           "showlegend": false,
           "type": "scatter",
           "x": [
            -3.4503950574105597,
            3.4503950574105597
           ],
           "xaxis": "x",
           "y": [
            -3.618670190525351,
            3.618670190525351
           ],
           "yaxis": "y"
          }
         ],
         "name": "1.0487698163007102"
        },
        {
         "data": [
          {
           "hovertemplate": "w=1.1177251028447373<br>x0=%{x}<br>x1=%{y}<extra></extra>",
           "legendgroup": "",
           "line": {
            "color": "#AA0DFE",
            "dash": "solid"
           },
           "marker": {
            "symbol": "circle"
           },
           "mode": "lines",
           "name": "",
           "orientation": "v",
           "showlegend": false,
           "type": "scatter",
           "x": [
            -3.333845002581458,
            3.333845002581458
           ],
           "xaxis": "x",
           "y": [
            -3.7263222483787732,
            3.7263222483787732
           ],
           "yaxis": "y"
          }
         ],
         "name": "1.1177251028447373"
        },
        {
         "data": [
          {
           "hovertemplate": "w=1.1917535925942095<br>x0=%{x}<br>x1=%{y}<extra></extra>",
           "legendgroup": "",
           "line": {
            "color": "#AA0DFE",
            "dash": "solid"
           },
           "marker": {
            "symbol": "circle"
           },
           "mode": "lines",
           "name": "",
           "orientation": "v",
           "showlegend": false,
           "type": "scatter",
           "x": [
            -3.2139380484326976,
            3.2139380484326976
           ],
           "xaxis": "x",
           "y": [
            -3.8302222155948895,
            3.8302222155948895
           ],
           "yaxis": "y"
          }
         ],
         "name": "1.1917535925942095"
        },
        {
         "data": [
          {
           "hovertemplate": "w=1.2716034422611555<br>x0=%{x}<br>x1=%{y}<extra></extra>",
           "legendgroup": "",
           "line": {
            "color": "#AA0DFE",
            "dash": "solid"
           },
           "marker": {
            "symbol": "circle"
           },
           "mode": "lines",
           "name": "",
           "orientation": "v",
           "showlegend": false,
           "type": "scatter",
           "x": [
            -3.090794931103025,
            3.090794931103025
           ],
           "xaxis": "x",
           "y": [
            -3.930265473713938,
            3.930265473713938
           ],
           "yaxis": "y"
          }
         ],
         "name": "1.2716034422611555"
        },
        {
         "data": [
          {
           "hovertemplate": "w=1.358170835756942<br>x0=%{x}<br>x1=%{y}<extra></extra>",
           "legendgroup": "",
           "line": {
            "color": "#AA0DFE",
            "dash": "solid"
           },
           "marker": {
            "symbol": "circle"
           },
           "mode": "lines",
           "name": "",
           "orientation": "v",
           "showlegend": false,
           "type": "scatter",
           "x": [
            -2.9645396452732022,
            2.9645396452732022
           ],
           "xaxis": "x",
           "y": [
            -4.026351287655293,
            4.026351287655293
           ],
           "yaxis": "y"
          }
         ],
         "name": "1.358170835756942"
        },
        {
         "data": [
          {
           "hovertemplate": "w=1.452539024396838<br>x0=%{x}<br>x1=%{y}<extra></extra>",
           "legendgroup": "",
           "line": {
            "color": "#AA0DFE",
            "dash": "solid"
           },
           "marker": {
            "symbol": "circle"
           },
           "mode": "lines",
           "name": "",
           "orientation": "v",
           "showlegend": false,
           "type": "scatter",
           "x": [
            -2.8352993193138536,
            2.8352993193138536
           ],
           "xaxis": "x",
           "y": [
            -4.118382907149164,
            4.118382907149164
           ],
           "yaxis": "y"
          }
         ],
         "name": "1.452539024396838"
        },
        {
         "data": [
          {
           "hovertemplate": "w=1.5560303729754426<br>x0=%{x}<br>x1=%{y}<extra></extra>",
           "legendgroup": "",
           "line": {
            "color": "#AA0DFE",
            "dash": "solid"
           },
           "marker": {
            "symbol": "circle"
           },
           "mode": "lines",
           "name": "",
           "orientation": "v",
           "showlegend": false,
           "type": "scatter",
           "x": [
            -2.7032040872779866,
            2.7032040872779866
           ],
           "xaxis": "x",
           "y": [
            -4.206267664155907,
            4.206267664155907
           ],
           "yaxis": "y"
          }
         ],
         "name": "1.5560303729754426"
        },
        {
         "data": [
          {
           "hovertemplate": "w=1.670276767694512<br>x0=%{x}<br>x1=%{y}<extra></extra>",
           "legendgroup": "",
           "line": {
            "color": "#AA0DFE",
            "dash": "solid"
           },
           "marker": {
            "symbol": "circle"
           },
           "mode": "lines",
           "name": "",
           "orientation": "v",
           "showlegend": false,
           "type": "scatter",
           "x": [
            -2.568386957867031,
            2.568386957867031
           ],
           "xaxis": "x",
           "y": [
            -4.289917066174886,
            4.289917066174886
           ],
           "yaxis": "y"
          }
         ],
         "name": "1.670276767694512"
        },
        {
         "data": [
          {
           "hovertemplate": "w=1.7973164198478104<br>x0=%{x}<br>x1=%{y}<extra></extra>",
           "legendgroup": "",
           "line": {
            "color": "#AA0DFE",
            "dash": "solid"
           },
           "marker": {
            "symbol": "circle"
           },
           "mode": "lines",
           "name": "",
           "orientation": "v",
           "showlegend": false,
           "type": "scatter",
           "x": [
            -2.4309836805023433,
            2.4309836805023433
           ],
           "xaxis": "x",
           "y": [
            -4.369246885348924,
            4.369246885348924
           ],
           "yaxis": "y"
          }
         ],
         "name": "1.7973164198478104"
        },
        {
         "data": [
          {
           "hovertemplate": "w=1.9397293838519312<br>x0=%{x}<br>x1=%{y}<extra></extra>",
           "legendgroup": "",
           "line": {
            "color": "#AA0DFE",
            "dash": "solid"
           },
           "marker": {
            "symbol": "circle"
           },
           "mode": "lines",
           "name": "",
           "orientation": "v",
           "showlegend": false,
           "type": "scatter",
           "x": [
            -2.2911326086370525,
            2.2911326086370525
           ],
           "xaxis": "x",
           "y": [
            -4.444177243274617,
            4.444177243274617
           ],
           "yaxis": "y"
          }
         ],
         "name": "1.9397293838519312"
        },
        {
         "data": [
          {
           "hovertemplate": "w=2.1008311473433343<br>x0=%{x}<br>x1=%{y}<extra></extra>",
           "legendgroup": "",
           "line": {
            "color": "#AA0DFE",
            "dash": "solid"
           },
           "marker": {
            "symbol": "circle"
           },
           "mode": "lines",
           "name": "",
           "orientation": "v",
           "showlegend": false,
           "type": "scatter",
           "x": [
            -2.1489745604458568,
            2.1489745604458568
           ],
           "xaxis": "x",
           "y": [
            -4.514632691433106,
            4.514632691433106
           ],
           "yaxis": "y"
          }
         ],
         "name": "2.1008311473433343"
        },
        {
         "data": [
          {
           "hovertemplate": "w=2.284955563444365<br>x0=%{x}<br>x1=%{y}<extra></extra>",
           "legendgroup": "",
           "line": {
            "color": "#AA0DFE",
            "dash": "solid"
           },
           "marker": {
            "symbol": "circle"
           },
           "mode": "lines",
           "name": "",
           "orientation": "v",
           "showlegend": false,
           "type": "scatter",
           "x": [
            -2.004652677033068,
            2.004652677033068
           ],
           "xaxis": "x",
           "y": [
            -4.580542287160348,
            4.580542287160348
           ],
           "yaxis": "y"
          }
         ],
         "name": "2.284955563444365"
        },
        {
         "data": [
          {
           "hovertemplate": "w=2.4978792419768476<br>x0=%{x}<br>x1=%{y}<extra></extra>",
           "legendgroup": "",
           "line": {
            "color": "#AA0DFE",
            "dash": "solid"
           },
           "marker": {
            "symbol": "circle"
           },
           "mode": "lines",
           "name": "",
           "orientation": "v",
           "showlegend": false,
           "type": "scatter",
           "x": [
            -1.8583122783016375,
            1.8583122783016375
           ],
           "xaxis": "x",
           "y": [
            -4.641839665080363,
            4.641839665080363
           ],
           "yaxis": "y"
          }
         ],
         "name": "2.4978792419768476"
        },
        {
         "data": [
          {
           "hovertemplate": "w=2.7474774194546216<br>x0=%{x}<br>x1=%{y}<extra></extra>",
           "legendgroup": "",
           "line": {
            "color": "#AA0DFE",
            "dash": "solid"
           },
           "marker": {
            "symbol": "circle"
           },
           "mode": "lines",
           "name": "",
           "orientation": "v",
           "showlegend": false,
           "type": "scatter",
           "x": [
            -1.7101007166283442,
            1.7101007166283442
           ],
           "xaxis": "x",
           "y": [
            -4.698463103929542,
            4.698463103929542
           ],
           "yaxis": "y"
          }
         ],
         "name": "2.7474774194546216"
        },
        {
         "data": [
          {
           "hovertemplate": "w=3.0447733434927504<br>x0=%{x}<br>x1=%{y}<extra></extra>",
           "legendgroup": "",
           "line": {
            "color": "#AA0DFE",
            "dash": "solid"
           },
           "marker": {
            "symbol": "circle"
           },
           "mode": "lines",
           "name": "",
           "orientation": "v",
           "showlegend": false,
           "type": "scatter",
           "x": [
            -1.5601672284924346,
            1.5601672284924346
           ],
           "xaxis": "x",
           "y": [
            -4.7503555887047275,
            4.7503555887047275
           ],
           "yaxis": "y"
          }
         ],
         "name": "3.0447733434927504"
        },
        {
         "data": [
          {
           "hovertemplate": "w=3.4056872388892514<br>x0=%{x}<br>x1=%{y}<extra></extra>",
           "legendgroup": "",
           "line": {
            "color": "#AA0DFE",
            "dash": "solid"
           },
           "marker": {
            "symbol": "circle"
           },
           "mode": "lines",
           "name": "",
           "orientation": "v",
           "showlegend": false,
           "type": "scatter",
           "x": [
            -1.4086627842071482,
            1.4086627842071482
           ],
           "xaxis": "x",
           "y": [
            -4.7974648680724865,
            4.7974648680724865
           ],
           "yaxis": "y"
          }
         ],
         "name": "3.4056872388892514"
        },
        {
         "data": [
          {
           "hovertemplate": "w=3.854096989829584<br>x0=%{x}<br>x1=%{y}<extra></extra>",
           "legendgroup": "",
           "line": {
            "color": "#AA0DFE",
            "dash": "solid"
           },
           "marker": {
            "symbol": "circle"
           },
           "mode": "lines",
           "name": "",
           "orientation": "v",
           "showlegend": false,
           "type": "scatter",
           "x": [
            -1.255739935905396,
            1.255739935905396
           ],
           "xaxis": "x",
           "y": [
            -4.839743506981781,
            4.839743506981781
           ],
           "yaxis": "y"
          }
         ],
         "name": "3.854096989829584"
        },
        {
         "data": [
          {
           "hovertemplate": "w=4.427522254827928<br>x0=%{x}<br>x1=%{y}<extra></extra>",
           "legendgroup": "",
           "line": {
            "color": "#AA0DFE",
            "dash": "solid"
           },
           "marker": {
            "symbol": "circle"
           },
           "mode": "lines",
           "name": "",
           "orientation": "v",
           "showlegend": false,
           "type": "scatter",
           "x": [
            -1.1015526639327038,
            1.1015526639327038
           ],
           "xaxis": "x",
           "y": [
            -4.877148934427035,
            4.877148934427035
           ],
           "yaxis": "y"
          }
         ],
         "name": "4.427522254827928"
        },
        {
         "data": [
          {
           "hovertemplate": "w=5.188492686434981<br>x0=%{x}<br>x1=%{y}<extra></extra>",
           "legendgroup": "",
           "line": {
            "color": "#AA0DFE",
            "dash": "solid"
           },
           "marker": {
            "symbol": "circle"
           },
           "mode": "lines",
           "name": "",
           "orientation": "v",
           "showlegend": false,
           "type": "scatter",
           "x": [
            -0.9462562218020499,
            0.9462562218020499
           ],
           "xaxis": "x",
           "y": [
            -4.909643486313533,
            4.909643486313533
           ],
           "yaxis": "y"
          }
         ],
         "name": "5.188492686434981"
        },
        {
         "data": [
          {
           "hovertemplate": "w=6.249558002911229<br>x0=%{x}<br>x1=%{y}<extra></extra>",
           "legendgroup": "",
           "line": {
            "color": "#AA0DFE",
            "dash": "solid"
           },
           "marker": {
            "symbol": "circle"
           },
           "mode": "lines",
           "name": "",
           "orientation": "v",
           "showlegend": false,
           "type": "scatter",
           "x": [
            -0.7900069798667491,
            0.7900069798667491
           ],
           "xaxis": "x",
           "y": [
            -4.937194443381972,
            4.937194443381972
           ],
           "yaxis": "y"
          }
         ],
         "name": "6.249558002911229"
        },
        {
         "data": [
          {
           "hovertemplate": "w=7.835813153371813<br>x0=%{x}<br>x1=%{y}<extra></extra>",
           "legendgroup": "",
           "line": {
            "color": "#AA0DFE",
            "dash": "solid"
           },
           "marker": {
            "symbol": "circle"
           },
           "mode": "lines",
           "name": "",
           "orientation": "v",
           "showlegend": false,
           "type": "scatter",
           "x": [
            -0.6329622678687464,
            0.6329622678687464
           ],
           "xaxis": "x",
           "y": [
            -4.959774064153977,
            4.959774064153977
           ],
           "yaxis": "y"
          }
         ],
         "name": "7.835813153371813"
        },
        {
         "data": [
          {
           "hovertemplate": "w=10.472473795143594<br>x0=%{x}<br>x1=%{y}<extra></extra>",
           "legendgroup": "",
           "line": {
            "color": "#AA0DFE",
            "dash": "solid"
           },
           "marker": {
            "symbol": "circle"
           },
           "mode": "lines",
           "name": "",
           "orientation": "v",
           "showlegend": false,
           "type": "scatter",
           "x": [
            -0.47528021652091185,
            0.47528021652091185
           ],
           "xaxis": "x",
           "y": [
            -4.977359612865423,
            4.977359612865423
           ],
           "yaxis": "y"
          }
         ],
         "name": "10.472473795143594"
        },
        {
         "data": [
          {
           "hovertemplate": "w=15.73517817687563<br>x0=%{x}<br>x1=%{y}<extra></extra>",
           "legendgroup": "",
           "line": {
            "color": "#AA0DFE",
            "dash": "solid"
           },
           "marker": {
            "symbol": "circle"
           },
           "mode": "lines",
           "name": "",
           "orientation": "v",
           "showlegend": false,
           "type": "scatter",
           "x": [
            -0.3171195982828217,
            0.3171195982828217
           ],
           "xaxis": "x",
           "y": [
            -4.989933382359422,
            4.989933382359422
           ],
           "yaxis": "y"
          }
         ],
         "name": "15.73517817687563"
        },
        {
         "data": [
          {
           "hovertemplate": "w=31.502100268965197<br>x0=%{x}<br>x1=%{y}<extra></extra>",
           "legendgroup": "",
           "line": {
            "color": "#AA0DFE",
            "dash": "solid"
           },
           "marker": {
            "symbol": "circle"
           },
           "mode": "lines",
           "name": "",
           "orientation": "v",
           "showlegend": false,
           "type": "scatter",
           "x": [
            -0.15863966749033798,
            0.15863966749033798
           ],
           "xaxis": "x",
           "y": [
            -4.997482711915925,
            4.997482711915925
           ],
           "yaxis": "y"
          }
         ],
         "name": "31.502100268965197"
        },
        {
         "data": [
          {
           "hovertemplate": "w=1.633123935319537e+16<br>x0=%{x}<br>x1=%{y}<extra></extra>",
           "legendgroup": "",
           "line": {
            "color": "#AA0DFE",
            "dash": "solid"
           },
           "marker": {
            "symbol": "circle"
           },
           "mode": "lines",
           "name": "",
           "orientation": "v",
           "showlegend": false,
           "type": "scatter",
           "x": [
            -3.061616997868383E-16,
            3.061616997868383E-16
           ],
           "xaxis": "x",
           "y": [
            -5,
            5
           ],
           "yaxis": "y"
          }
         ],
         "name": "1.633123935319537e+16"
        }
       ],
       "layout": {
        "height": 600,
        "legend": {
         "tracegroupgap": 0
        },
        "margin": {
         "t": 60
        },
        "sliders": [
         {
          "active": 0,
          "currentvalue": {
           "prefix": "w="
          },
          "len": 0.9,
          "pad": {
           "b": 10,
           "t": 60
          },
          "steps": [
           {
            "args": [
             [
              "-1.633123935319537e+16"
             ],
             {
              "frame": {
               "duration": 0,
               "redraw": false
              },
              "fromcurrent": true,
              "mode": "immediate",
              "transition": {
               "duration": 0,
               "easing": "linear"
              }
             }
            ],
            "label": "-1.633123935319537e+16",
            "method": "animate"
           },
           {
            "args": [
             [
              "-31.502100268964977"
             ],
             {
              "frame": {
               "duration": 0,
               "redraw": false
              },
              "fromcurrent": true,
              "mode": "immediate",
              "transition": {
               "duration": 0,
               "easing": "linear"
              }
             }
            ],
            "label": "-31.502100268964977",
            "method": "animate"
           },
           {
            "args": [
             [
              "-15.735178176875575"
             ],
             {
              "frame": {
               "duration": 0,
               "redraw": false
              },
              "fromcurrent": true,
              "mode": "immediate",
              "transition": {
               "duration": 0,
               "easing": "linear"
              }
             }
            ],
            "label": "-15.735178176875575",
            "method": "animate"
           },
           {
            "args": [
             [
              "-10.472473795143545"
             ],
             {
              "frame": {
               "duration": 0,
               "redraw": false
              },
              "fromcurrent": true,
              "mode": "immediate",
              "transition": {
               "duration": 0,
               "easing": "linear"
              }
             }
            ],
            "label": "-10.472473795143545",
            "method": "animate"
           },
           {
            "args": [
             [
              "-7.835813153371813"
             ],
             {
              "frame": {
               "duration": 0,
               "redraw": false
              },
              "fromcurrent": true,
              "mode": "immediate",
              "transition": {
               "duration": 0,
               "easing": "linear"
              }
             }
            ],
            "label": "-7.835813153371813",
            "method": "animate"
           },
           {
            "args": [
             [
              "-6.24955800291122"
             ],
             {
              "frame": {
               "duration": 0,
               "redraw": false
              },
              "fromcurrent": true,
              "mode": "immediate",
              "transition": {
               "duration": 0,
               "easing": "linear"
              }
             }
            ],
            "label": "-6.24955800291122",
            "method": "animate"
           },
           {
            "args": [
             [
              "-5.188492686434975"
             ],
             {
              "frame": {
               "duration": 0,
               "redraw": false
              },
              "fromcurrent": true,
              "mode": "immediate",
              "transition": {
               "duration": 0,
               "easing": "linear"
              }
             }
            ],
            "label": "-5.188492686434975",
            "method": "animate"
           },
           {
            "args": [
             [
              "-4.427522254827928"
             ],
             {
              "frame": {
               "duration": 0,
               "redraw": false
              },
              "fromcurrent": true,
              "mode": "immediate",
              "transition": {
               "duration": 0,
               "easing": "linear"
              }
             }
            ],
            "label": "-4.427522254827928",
            "method": "animate"
           },
           {
            "args": [
             [
              "-3.854096989829584"
             ],
             {
              "frame": {
               "duration": 0,
               "redraw": false
              },
              "fromcurrent": true,
              "mode": "immediate",
              "transition": {
               "duration": 0,
               "easing": "linear"
              }
             }
            ],
            "label": "-3.854096989829584",
            "method": "animate"
           },
           {
            "args": [
             [
              "-3.4056872388892487"
             ],
             {
              "frame": {
               "duration": 0,
               "redraw": false
              },
              "fromcurrent": true,
              "mode": "immediate",
              "transition": {
               "duration": 0,
               "easing": "linear"
              }
             }
            ],
            "label": "-3.4056872388892487",
            "method": "animate"
           },
           {
            "args": [
             [
              "-3.044773343492748"
             ],
             {
              "frame": {
               "duration": 0,
               "redraw": false
              },
              "fromcurrent": true,
              "mode": "immediate",
              "transition": {
               "duration": 0,
               "easing": "linear"
              }
             }
            ],
            "label": "-3.044773343492748",
            "method": "animate"
           },
           {
            "args": [
             [
              "-2.7474774194546216"
             ],
             {
              "frame": {
               "duration": 0,
               "redraw": false
              },
              "fromcurrent": true,
              "mode": "immediate",
              "transition": {
               "duration": 0,
               "easing": "linear"
              }
             }
            ],
            "label": "-2.7474774194546216",
            "method": "animate"
           },
           {
            "args": [
             [
              "-2.4978792419768476"
             ],
             {
              "frame": {
               "duration": 0,
               "redraw": false
              },
              "fromcurrent": true,
              "mode": "immediate",
              "transition": {
               "duration": 0,
               "easing": "linear"
              }
             }
            ],
            "label": "-2.4978792419768476",
            "method": "animate"
           },
           {
            "args": [
             [
              "-2.2849555634443637"
             ],
             {
              "frame": {
               "duration": 0,
               "redraw": false
              },
              "fromcurrent": true,
              "mode": "immediate",
              "transition": {
               "duration": 0,
               "easing": "linear"
              }
             }
            ],
            "label": "-2.2849555634443637",
            "method": "animate"
           },
           {
            "args": [
             [
              "-2.1008311473433317"
             ],
             {
              "frame": {
               "duration": 0,
               "redraw": false
              },
              "fromcurrent": true,
              "mode": "immediate",
              "transition": {
               "duration": 0,
               "easing": "linear"
              }
             }
            ],
            "label": "-2.1008311473433317",
            "method": "animate"
           },
           {
            "args": [
             [
              "-1.9397293838519312"
             ],
             {
              "frame": {
               "duration": 0,
               "redraw": false
              },
              "fromcurrent": true,
              "mode": "immediate",
              "transition": {
               "duration": 0,
               "easing": "linear"
              }
             }
            ],
            "label": "-1.9397293838519312",
            "method": "animate"
           },
           {
            "args": [
             [
              "-1.7973164198478104"
             ],
             {
              "frame": {
               "duration": 0,
               "redraw": false
              },
              "fromcurrent": true,
              "mode": "immediate",
              "transition": {
               "duration": 0,
               "easing": "linear"
              }
             }
            ],
            "label": "-1.7973164198478104",
            "method": "animate"
           },
           {
            "args": [
             [
              "-1.6702767676945112"
             ],
             {
              "frame": {
               "duration": 0,
               "redraw": false
              },
              "fromcurrent": true,
              "mode": "immediate",
              "transition": {
               "duration": 0,
               "easing": "linear"
              }
             }
            ],
            "label": "-1.6702767676945112",
            "method": "animate"
           },
           {
            "args": [
             [
              "-1.5560303729754414"
             ],
             {
              "frame": {
               "duration": 0,
               "redraw": false
              },
              "fromcurrent": true,
              "mode": "immediate",
              "transition": {
               "duration": 0,
               "easing": "linear"
              }
             }
            ],
            "label": "-1.5560303729754414",
            "method": "animate"
           },
           {
            "args": [
             [
              "-1.452539024396838"
             ],
             {
              "frame": {
               "duration": 0,
               "redraw": false
              },
              "fromcurrent": true,
              "mode": "immediate",
              "transition": {
               "duration": 0,
               "easing": "linear"
              }
             }
            ],
            "label": "-1.452539024396838",
            "method": "animate"
           },
           {
            "args": [
             [
              "-1.3581708357569418"
             ],
             {
              "frame": {
               "duration": 0,
               "redraw": false
              },
              "fromcurrent": true,
              "mode": "immediate",
              "transition": {
               "duration": 0,
               "easing": "linear"
              }
             }
            ],
            "label": "-1.3581708357569418",
            "method": "animate"
           },
           {
            "args": [
             [
              "-1.2716034422611548"
             ],
             {
              "frame": {
               "duration": 0,
               "redraw": false
              },
              "fromcurrent": true,
              "mode": "immediate",
              "transition": {
               "duration": 0,
               "easing": "linear"
              }
             }
            ],
            "label": "-1.2716034422611548",
            "method": "animate"
           },
           {
            "args": [
             [
              "-1.19175359259421"
             ],
             {
              "frame": {
               "duration": 0,
               "redraw": false
              },
              "fromcurrent": true,
              "mode": "immediate",
              "transition": {
               "duration": 0,
               "easing": "linear"
              }
             }
            ],
            "label": "-1.19175359259421",
            "method": "animate"
           },
           {
            "args": [
             [
              "-1.1177251028447373"
             ],
             {
              "frame": {
               "duration": 0,
               "redraw": false
              },
              "fromcurrent": true,
              "mode": "immediate",
              "transition": {
               "duration": 0,
               "easing": "linear"
              }
             }
            ],
            "label": "-1.1177251028447373",
            "method": "animate"
           },
           {
            "args": [
             [
              "-1.0487698163007098"
             ],
             {
              "frame": {
               "duration": 0,
               "redraw": false
              },
              "fromcurrent": true,
              "mode": "immediate",
              "transition": {
               "duration": 0,
               "easing": "linear"
              }
             }
            ],
            "label": "-1.0487698163007098",
            "method": "animate"
           },
           {
            "args": [
             [
              "-0.9842579269999703"
             ],
             {
              "frame": {
               "duration": 0,
               "redraw": false
              },
              "fromcurrent": true,
              "mode": "immediate",
              "transition": {
               "duration": 0,
               "easing": "linear"
              }
             }
            ],
            "label": "-0.9842579269999703",
            "method": "animate"
           },
           {
            "args": [
             [
              "-0.92365514551901"
             ],
             {
              "frame": {
               "duration": 0,
               "redraw": false
              },
              "fromcurrent": true,
              "mode": "immediate",
              "transition": {
               "duration": 0,
               "easing": "linear"
              }
             }
            ],
            "label": "-0.92365514551901",
            "method": "animate"
           },
           {
            "args": [
             [
              "-0.8665049325430627"
             ],
             {
              "frame": {
               "duration": 0,
               "redraw": false
              },
              "fromcurrent": true,
              "mode": "immediate",
              "transition": {
               "duration": 0,
               "easing": "linear"
              }
             }
            ],
            "label": "-0.8665049325430627",
            "method": "animate"
           },
           {
            "args": [
             [
              "-0.8124145326873445"
             ],
             {
              "frame": {
               "duration": 0,
               "redraw": false
              },
              "fromcurrent": true,
              "mode": "immediate",
              "transition": {
               "duration": 0,
               "easing": "linear"
              }
             }
            ],
            "label": "-0.8124145326873445",
            "method": "animate"
           },
           {
            "args": [
             [
              "-0.7610438906365251"
             ],
             {
              "frame": {
               "duration": 0,
               "redraw": false
              },
              "fromcurrent": true,
              "mode": "immediate",
              "transition": {
               "duration": 0,
               "easing": "linear"
              }
             }
            ],
            "label": "-0.7610438906365251",
            "method": "animate"
           },
           {
            "args": [
             [
              "-0.7120967763793672"
             ],
             {
              "frame": {
               "duration": 0,
               "redraw": false
              },
              "fromcurrent": true,
              "mode": "immediate",
              "transition": {
               "duration": 0,
               "easing": "linear"
              }
             }
            ],
            "label": "-0.7120967763793672",
            "method": "animate"
           },
           {
            "args": [
             [
              "-0.6653136199713858"
             ],
             {
              "frame": {
               "duration": 0,
               "redraw": false
              },
              "fromcurrent": true,
              "mode": "immediate",
              "transition": {
               "duration": 0,
               "easing": "linear"
              }
             }
            ],
            "label": "-0.6653136199713858",
            "method": "animate"
           },
           {
            "args": [
             [
              "-0.6204656810633842"
             ],
             {
              "frame": {
               "duration": 0,
               "redraw": false
              },
              "fromcurrent": true,
              "mode": "immediate",
              "transition": {
               "duration": 0,
               "easing": "linear"
              }
             }
            ],
            "label": "-0.6204656810633842",
            "method": "animate"
           },
           {
            "args": [
             [
              "-0.5773502691896255"
             ],
             {
              "frame": {
               "duration": 0,
               "redraw": false
              },
              "fromcurrent": true,
              "mode": "immediate",
              "transition": {
               "duration": 0,
               "easing": "linear"
              }
             }
            ],
            "label": "-0.5773502691896255",
            "method": "animate"
           },
           {
            "args": [
             [
              "-0.5357867975289284"
             ],
             {
              "frame": {
               "duration": 0,
               "redraw": false
              },
              "fromcurrent": true,
              "mode": "immediate",
              "transition": {
               "duration": 0,
               "easing": "linear"
              }
             }
            ],
            "label": "-0.5357867975289284",
            "method": "animate"
           },
           {
            "args": [
             [
              "-0.4956135024007253"
             ],
             {
              "frame": {
               "duration": 0,
               "redraw": false
              },
              "fromcurrent": true,
              "mode": "immediate",
              "transition": {
               "duration": 0,
               "easing": "linear"
              }
             }
            ],
            "label": "-0.4956135024007253",
            "method": "animate"
           },
           {
            "args": [
             [
              "-0.45668469790355526"
             ],
             {
              "frame": {
               "duration": 0,
               "redraw": false
              },
              "fromcurrent": true,
              "mode": "immediate",
              "transition": {
               "duration": 0,
               "easing": "linear"
              }
             }
            ],
            "label": "-0.45668469790355526",
            "method": "animate"
           },
           {
            "args": [
             [
              "-0.41886846319525306"
             ],
             {
              "frame": {
               "duration": 0,
               "redraw": false
              },
              "fromcurrent": true,
              "mode": "immediate",
              "transition": {
               "duration": 0,
               "easing": "linear"
              }
             }
            ],
            "label": "-0.41886846319525306",
            "method": "animate"
           },
           {
            "args": [
             [
              "-0.38204468133191377"
             ],
             {
              "frame": {
               "duration": 0,
               "redraw": false
              },
              "fromcurrent": true,
              "mode": "immediate",
              "transition": {
               "duration": 0,
               "easing": "linear"
              }
             }
            ],
            "label": "-0.38204468133191377",
            "method": "animate"
           },
           {
            "args": [
             [
              "-0.3461033650344124"
             ],
             {
              "frame": {
               "duration": 0,
               "redraw": false
              },
              "fromcurrent": true,
              "mode": "immediate",
              "transition": {
               "duration": 0,
               "easing": "linear"
              }
             }
            ],
            "label": "-0.3461033650344124",
            "method": "animate"
           },
           {
            "args": [
             [
              "-0.3109432174745447"
             ],
             {
              "frame": {
               "duration": 0,
               "redraw": false
              },
              "fromcurrent": true,
              "mode": "immediate",
              "transition": {
               "duration": 0,
               "easing": "linear"
              }
             }
            ],
            "label": "-0.3109432174745447",
            "method": "animate"
           },
           {
            "args": [
             [
              "-0.27647038607251656"
             ],
             {
              "frame": {
               "duration": 0,
               "redraw": false
              },
              "fromcurrent": true,
              "mode": "immediate",
              "transition": {
               "duration": 0,
               "easing": "linear"
              }
             }
            ],
            "label": "-0.27647038607251656",
            "method": "animate"
           },
           {
            "args": [
             [
              "-0.24259737504064868"
             ],
             {
              "frame": {
               "duration": 0,
               "redraw": false
              },
              "fromcurrent": true,
              "mode": "immediate",
              "transition": {
               "duration": 0,
               "easing": "linear"
              }
             }
            ],
            "label": "-0.24259737504064868",
            "method": "animate"
           },
           {
            "args": [
             [
              "-0.20924208849009132"
             ],
             {
              "frame": {
               "duration": 0,
               "redraw": false
              },
              "fromcurrent": true,
              "mode": "immediate",
              "transition": {
               "duration": 0,
               "easing": "linear"
              }
             }
            ],
            "label": "-0.20924208849009132",
            "method": "animate"
           },
           {
            "args": [
             [
              "-0.176326980708465"
             ],
             {
              "frame": {
               "duration": 0,
               "redraw": false
              },
              "fromcurrent": true,
              "mode": "immediate",
              "transition": {
               "duration": 0,
               "easing": "linear"
              }
             }
            ],
            "label": "-0.176326980708465",
            "method": "animate"
           },
           {
            "args": [
             [
              "-0.14377829399497322"
             ],
             {
              "frame": {
               "duration": 0,
               "redraw": false
              },
              "fromcurrent": true,
              "mode": "immediate",
              "transition": {
               "duration": 0,
               "easing": "linear"
              }
             }
            ],
            "label": "-0.14377829399497322",
            "method": "animate"
           },
           {
            "args": [
             [
              "-0.11152536741581527"
             ],
             {
              "frame": {
               "duration": 0,
               "redraw": false
              },
              "fromcurrent": true,
              "mode": "immediate",
              "transition": {
               "duration": 0,
               "easing": "linear"
              }
             }
            ],
            "label": "-0.11152536741581527",
            "method": "animate"
           },
           {
            "args": [
             [
              "-0.07950000217545125"
             ],
             {
              "frame": {
               "duration": 0,
               "redraw": false
              },
              "fromcurrent": true,
              "mode": "immediate",
              "transition": {
               "duration": 0,
               "easing": "linear"
              }
             }
            ],
            "label": "-0.07950000217545125",
            "method": "animate"
           },
           {
            "args": [
             [
              "-0.04763587110842992"
             ],
             {
              "frame": {
               "duration": 0,
               "redraw": false
              },
              "fromcurrent": true,
              "mode": "immediate",
              "transition": {
               "duration": 0,
               "easing": "linear"
              }
             }
            ],
            "label": "-0.04763587110842992",
            "method": "animate"
           },
           {
            "args": [
             [
              "-0.01586796117199145"
             ],
             {
              "frame": {
               "duration": 0,
               "redraw": false
              },
              "fromcurrent": true,
              "mode": "immediate",
              "transition": {
               "duration": 0,
               "easing": "linear"
              }
             }
            ],
            "label": "-0.01586796117199145",
            "method": "animate"
           },
           {
            "args": [
             [
              "0.01586796117199167"
             ],
             {
              "frame": {
               "duration": 0,
               "redraw": false
              },
              "fromcurrent": true,
              "mode": "immediate",
              "transition": {
               "duration": 0,
               "easing": "linear"
              }
             }
            ],
            "label": "0.01586796117199167",
            "method": "animate"
           },
           {
            "args": [
             [
              "0.04763587110843014"
             ],
             {
              "frame": {
               "duration": 0,
               "redraw": false
              },
              "fromcurrent": true,
              "mode": "immediate",
              "transition": {
               "duration": 0,
               "easing": "linear"
              }
             }
            ],
            "label": "0.04763587110843014",
            "method": "animate"
           },
           {
            "args": [
             [
              "0.07950000217545147"
             ],
             {
              "frame": {
               "duration": 0,
               "redraw": false
              },
              "fromcurrent": true,
              "mode": "immediate",
              "transition": {
               "duration": 0,
               "easing": "linear"
              }
             }
            ],
            "label": "0.07950000217545147",
            "method": "animate"
           },
           {
            "args": [
             [
              "0.11152536741581527"
             ],
             {
              "frame": {
               "duration": 0,
               "redraw": false
              },
              "fromcurrent": true,
              "mode": "immediate",
              "transition": {
               "duration": 0,
               "easing": "linear"
              }
             }
            ],
            "label": "0.11152536741581527",
            "method": "animate"
           },
           {
            "args": [
             [
              "0.14377829399497347"
             ],
             {
              "frame": {
               "duration": 0,
               "redraw": false
              },
              "fromcurrent": true,
              "mode": "immediate",
              "transition": {
               "duration": 0,
               "easing": "linear"
              }
             }
            ],
            "label": "0.14377829399497347",
            "method": "animate"
           },
           {
            "args": [
             [
              "0.176326980708465"
             ],
             {
              "frame": {
               "duration": 0,
               "redraw": false
              },
              "fromcurrent": true,
              "mode": "immediate",
              "transition": {
               "duration": 0,
               "easing": "linear"
              }
             }
            ],
            "label": "0.176326980708465",
            "method": "animate"
           },
           {
            "args": [
             [
              "0.20924208849009154"
             ],
             {
              "frame": {
               "duration": 0,
               "redraw": false
              },
              "fromcurrent": true,
              "mode": "immediate",
              "transition": {
               "duration": 0,
               "easing": "linear"
              }
             }
            ],
            "label": "0.20924208849009154",
            "method": "animate"
           },
           {
            "args": [
             [
              "0.24259737504064868"
             ],
             {
              "frame": {
               "duration": 0,
               "redraw": false
              },
              "fromcurrent": true,
              "mode": "immediate",
              "transition": {
               "duration": 0,
               "easing": "linear"
              }
             }
            ],
            "label": "0.24259737504064868",
            "method": "animate"
           },
           {
            "args": [
             [
              "0.2764703860725168"
             ],
             {
              "frame": {
               "duration": 0,
               "redraw": false
              },
              "fromcurrent": true,
              "mode": "immediate",
              "transition": {
               "duration": 0,
               "easing": "linear"
              }
             }
            ],
            "label": "0.2764703860725168",
            "method": "animate"
           },
           {
            "args": [
             [
              "0.3109432174745447"
             ],
             {
              "frame": {
               "duration": 0,
               "redraw": false
              },
              "fromcurrent": true,
              "mode": "immediate",
              "transition": {
               "duration": 0,
               "easing": "linear"
              }
             }
            ],
            "label": "0.3109432174745447",
            "method": "animate"
           },
           {
            "args": [
             [
              "0.3461033650344127"
             ],
             {
              "frame": {
               "duration": 0,
               "redraw": false
              },
              "fromcurrent": true,
              "mode": "immediate",
              "transition": {
               "duration": 0,
               "easing": "linear"
              }
             }
            ],
            "label": "0.3461033650344127",
            "method": "animate"
           },
           {
            "args": [
             [
              "0.38204468133191377"
             ],
             {
              "frame": {
               "duration": 0,
               "redraw": false
              },
              "fromcurrent": true,
              "mode": "immediate",
              "transition": {
               "duration": 0,
               "easing": "linear"
              }
             }
            ],
            "label": "0.38204468133191377",
            "method": "animate"
           },
           {
            "args": [
             [
              "0.41886846319525334"
             ],
             {
              "frame": {
               "duration": 0,
               "redraw": false
              },
              "fromcurrent": true,
              "mode": "immediate",
              "transition": {
               "duration": 0,
               "easing": "linear"
              }
             }
            ],
            "label": "0.41886846319525334",
            "method": "animate"
           },
           {
            "args": [
             [
              "0.45668469790355526"
             ],
             {
              "frame": {
               "duration": 0,
               "redraw": false
              },
              "fromcurrent": true,
              "mode": "immediate",
              "transition": {
               "duration": 0,
               "easing": "linear"
              }
             }
            ],
            "label": "0.45668469790355526",
            "method": "animate"
           },
           {
            "args": [
             [
              "0.4956135024007256"
             ],
             {
              "frame": {
               "duration": 0,
               "redraw": false
              },
              "fromcurrent": true,
              "mode": "immediate",
              "transition": {
               "duration": 0,
               "easing": "linear"
              }
             }
            ],
            "label": "0.4956135024007256",
            "method": "animate"
           },
           {
            "args": [
             [
              "0.5357867975289284"
             ],
             {
              "frame": {
               "duration": 0,
               "redraw": false
              },
              "fromcurrent": true,
              "mode": "immediate",
              "transition": {
               "duration": 0,
               "easing": "linear"
              }
             }
            ],
            "label": "0.5357867975289284",
            "method": "animate"
           },
           {
            "args": [
             [
              "0.5773502691896262"
             ],
             {
              "frame": {
               "duration": 0,
               "redraw": false
              },
              "fromcurrent": true,
              "mode": "immediate",
              "transition": {
               "duration": 0,
               "easing": "linear"
              }
             }
            ],
            "label": "0.5773502691896262",
            "method": "animate"
           },
           {
            "args": [
             [
              "0.6204656810633844"
             ],
             {
              "frame": {
               "duration": 0,
               "redraw": false
              },
              "fromcurrent": true,
              "mode": "immediate",
              "transition": {
               "duration": 0,
               "easing": "linear"
              }
             }
            ],
            "label": "0.6204656810633844",
            "method": "animate"
           },
           {
            "args": [
             [
              "0.6653136199713859"
             ],
             {
              "frame": {
               "duration": 0,
               "redraw": false
              },
              "fromcurrent": true,
              "mode": "immediate",
              "transition": {
               "duration": 0,
               "easing": "linear"
              }
             }
            ],
            "label": "0.6653136199713859",
            "method": "animate"
           },
           {
            "args": [
             [
              "0.7120967763793672"
             ],
             {
              "frame": {
               "duration": 0,
               "redraw": false
              },
              "fromcurrent": true,
              "mode": "immediate",
              "transition": {
               "duration": 0,
               "easing": "linear"
              }
             }
            ],
            "label": "0.7120967763793672",
            "method": "animate"
           },
           {
            "args": [
             [
              "0.7610438906365257"
             ],
             {
              "frame": {
               "duration": 0,
               "redraw": false
              },
              "fromcurrent": true,
              "mode": "immediate",
              "transition": {
               "duration": 0,
               "easing": "linear"
              }
             }
            ],
            "label": "0.7610438906365257",
            "method": "animate"
           },
           {
            "args": [
             [
              "0.8124145326873449"
             ],
             {
              "frame": {
               "duration": 0,
               "redraw": false
              },
              "fromcurrent": true,
              "mode": "immediate",
              "transition": {
               "duration": 0,
               "easing": "linear"
              }
             }
            ],
            "label": "0.8124145326873449",
            "method": "animate"
           },
           {
            "args": [
             [
              "0.8665049325430629"
             ],
             {
              "frame": {
               "duration": 0,
               "redraw": false
              },
              "fromcurrent": true,
              "mode": "immediate",
              "transition": {
               "duration": 0,
               "easing": "linear"
              }
             }
            ],
            "label": "0.8665049325430629",
            "method": "animate"
           },
           {
            "args": [
             [
              "0.92365514551901"
             ],
             {
              "frame": {
               "duration": 0,
               "redraw": false
              },
              "fromcurrent": true,
              "mode": "immediate",
              "transition": {
               "duration": 0,
               "easing": "linear"
              }
             }
            ],
            "label": "0.92365514551901",
            "method": "animate"
           },
           {
            "args": [
             [
              "0.984257926999971"
             ],
             {
              "frame": {
               "duration": 0,
               "redraw": false
              },
              "fromcurrent": true,
              "mode": "immediate",
              "transition": {
               "duration": 0,
               "easing": "linear"
              }
             }
            ],
            "label": "0.984257926999971",
            "method": "animate"
           },
           {
            "args": [
             [
              "1.0487698163007102"
             ],
             {
              "frame": {
               "duration": 0,
               "redraw": false
              },
              "fromcurrent": true,
              "mode": "immediate",
              "transition": {
               "duration": 0,
               "easing": "linear"
              }
             }
            ],
            "label": "1.0487698163007102",
            "method": "animate"
           },
           {
            "args": [
             [
              "1.1177251028447373"
             ],
             {
              "frame": {
               "duration": 0,
               "redraw": false
              },
              "fromcurrent": true,
              "mode": "immediate",
              "transition": {
               "duration": 0,
               "easing": "linear"
              }
             }
            ],
            "label": "1.1177251028447373",
            "method": "animate"
           },
           {
            "args": [
             [
              "1.1917535925942095"
             ],
             {
              "frame": {
               "duration": 0,
               "redraw": false
              },
              "fromcurrent": true,
              "mode": "immediate",
              "transition": {
               "duration": 0,
               "easing": "linear"
              }
             }
            ],
            "label": "1.1917535925942095",
            "method": "animate"
           },
           {
            "args": [
             [
              "1.2716034422611555"
             ],
             {
              "frame": {
               "duration": 0,
               "redraw": false
              },
              "fromcurrent": true,
              "mode": "immediate",
              "transition": {
               "duration": 0,
               "easing": "linear"
              }
             }
            ],
            "label": "1.2716034422611555",
            "method": "animate"
           },
           {
            "args": [
             [
              "1.358170835756942"
             ],
             {
              "frame": {
               "duration": 0,
               "redraw": false
              },
              "fromcurrent": true,
              "mode": "immediate",
              "transition": {
               "duration": 0,
               "easing": "linear"
              }
             }
            ],
            "label": "1.358170835756942",
            "method": "animate"
           },
           {
            "args": [
             [
              "1.452539024396838"
             ],
             {
              "frame": {
               "duration": 0,
               "redraw": false
              },
              "fromcurrent": true,
              "mode": "immediate",
              "transition": {
               "duration": 0,
               "easing": "linear"
              }
             }
            ],
            "label": "1.452539024396838",
            "method": "animate"
           },
           {
            "args": [
             [
              "1.5560303729754426"
             ],
             {
              "frame": {
               "duration": 0,
               "redraw": false
              },
              "fromcurrent": true,
              "mode": "immediate",
              "transition": {
               "duration": 0,
               "easing": "linear"
              }
             }
            ],
            "label": "1.5560303729754426",
            "method": "animate"
           },
           {
            "args": [
             [
              "1.670276767694512"
             ],
             {
              "frame": {
               "duration": 0,
               "redraw": false
              },
              "fromcurrent": true,
              "mode": "immediate",
              "transition": {
               "duration": 0,
               "easing": "linear"
              }
             }
            ],
            "label": "1.670276767694512",
            "method": "animate"
           },
           {
            "args": [
             [
              "1.7973164198478104"
             ],
             {
              "frame": {
               "duration": 0,
               "redraw": false
              },
              "fromcurrent": true,
              "mode": "immediate",
              "transition": {
               "duration": 0,
               "easing": "linear"
              }
             }
            ],
            "label": "1.7973164198478104",
            "method": "animate"
           },
           {
            "args": [
             [
              "1.9397293838519312"
             ],
             {
              "frame": {
               "duration": 0,
               "redraw": false
              },
              "fromcurrent": true,
              "mode": "immediate",
              "transition": {
               "duration": 0,
               "easing": "linear"
              }
             }
            ],
            "label": "1.9397293838519312",
            "method": "animate"
           },
           {
            "args": [
             [
              "2.1008311473433343"
             ],
             {
              "frame": {
               "duration": 0,
               "redraw": false
              },
              "fromcurrent": true,
              "mode": "immediate",
              "transition": {
               "duration": 0,
               "easing": "linear"
              }
             }
            ],
            "label": "2.1008311473433343",
            "method": "animate"
           },
           {
            "args": [
             [
              "2.284955563444365"
             ],
             {
              "frame": {
               "duration": 0,
               "redraw": false
              },
              "fromcurrent": true,
              "mode": "immediate",
              "transition": {
               "duration": 0,
               "easing": "linear"
              }
             }
            ],
            "label": "2.284955563444365",
            "method": "animate"
           },
           {
            "args": [
             [
              "2.4978792419768476"
             ],
             {
              "frame": {
               "duration": 0,
               "redraw": false
              },
              "fromcurrent": true,
              "mode": "immediate",
              "transition": {
               "duration": 0,
               "easing": "linear"
              }
             }
            ],
            "label": "2.4978792419768476",
            "method": "animate"
           },
           {
            "args": [
             [
              "2.7474774194546216"
             ],
             {
              "frame": {
               "duration": 0,
               "redraw": false
              },
              "fromcurrent": true,
              "mode": "immediate",
              "transition": {
               "duration": 0,
               "easing": "linear"
              }
             }
            ],
            "label": "2.7474774194546216",
            "method": "animate"
           },
           {
            "args": [
             [
              "3.0447733434927504"
             ],
             {
              "frame": {
               "duration": 0,
               "redraw": false
              },
              "fromcurrent": true,
              "mode": "immediate",
              "transition": {
               "duration": 0,
               "easing": "linear"
              }
             }
            ],
            "label": "3.0447733434927504",
            "method": "animate"
           },
           {
            "args": [
             [
              "3.4056872388892514"
             ],
             {
              "frame": {
               "duration": 0,
               "redraw": false
              },
              "fromcurrent": true,
              "mode": "immediate",
              "transition": {
               "duration": 0,
               "easing": "linear"
              }
             }
            ],
            "label": "3.4056872388892514",
            "method": "animate"
           },
           {
            "args": [
             [
              "3.854096989829584"
             ],
             {
              "frame": {
               "duration": 0,
               "redraw": false
              },
              "fromcurrent": true,
              "mode": "immediate",
              "transition": {
               "duration": 0,
               "easing": "linear"
              }
             }
            ],
            "label": "3.854096989829584",
            "method": "animate"
           },
           {
            "args": [
             [
              "4.427522254827928"
             ],
             {
              "frame": {
               "duration": 0,
               "redraw": false
              },
              "fromcurrent": true,
              "mode": "immediate",
              "transition": {
               "duration": 0,
               "easing": "linear"
              }
             }
            ],
            "label": "4.427522254827928",
            "method": "animate"
           },
           {
            "args": [
             [
              "5.188492686434981"
             ],
             {
              "frame": {
               "duration": 0,
               "redraw": false
              },
              "fromcurrent": true,
              "mode": "immediate",
              "transition": {
               "duration": 0,
               "easing": "linear"
              }
             }
            ],
            "label": "5.188492686434981",
            "method": "animate"
           },
           {
            "args": [
             [
              "6.249558002911229"
             ],
             {
              "frame": {
               "duration": 0,
               "redraw": false
              },
              "fromcurrent": true,
              "mode": "immediate",
              "transition": {
               "duration": 0,
               "easing": "linear"
              }
             }
            ],
            "label": "6.249558002911229",
            "method": "animate"
           },
           {
            "args": [
             [
              "7.835813153371813"
             ],
             {
              "frame": {
               "duration": 0,
               "redraw": false
              },
              "fromcurrent": true,
              "mode": "immediate",
              "transition": {
               "duration": 0,
               "easing": "linear"
              }
             }
            ],
            "label": "7.835813153371813",
            "method": "animate"
           },
           {
            "args": [
             [
              "10.472473795143594"
             ],
             {
              "frame": {
               "duration": 0,
               "redraw": false
              },
              "fromcurrent": true,
              "mode": "immediate",
              "transition": {
               "duration": 0,
               "easing": "linear"
              }
             }
            ],
            "label": "10.472473795143594",
            "method": "animate"
           },
           {
            "args": [
             [
              "15.73517817687563"
             ],
             {
              "frame": {
               "duration": 0,
               "redraw": false
              },
              "fromcurrent": true,
              "mode": "immediate",
              "transition": {
               "duration": 0,
               "easing": "linear"
              }
             }
            ],
            "label": "15.73517817687563",
            "method": "animate"
           },
           {
            "args": [
             [
              "31.502100268965197"
             ],
             {
              "frame": {
               "duration": 0,
               "redraw": false
              },
              "fromcurrent": true,
              "mode": "immediate",
              "transition": {
               "duration": 0,
               "easing": "linear"
              }
             }
            ],
            "label": "31.502100268965197",
            "method": "animate"
           },
           {
            "args": [
             [
              "1.633123935319537e+16"
             ],
             {
              "frame": {
               "duration": 0,
               "redraw": false
              },
              "fromcurrent": true,
              "mode": "immediate",
              "transition": {
               "duration": 0,
               "easing": "linear"
              }
             }
            ],
            "label": "1.633123935319537e+16",
            "method": "animate"
           }
          ],
          "x": 0.1,
          "xanchor": "left",
          "y": 0,
          "yanchor": "top"
         }
        ],
        "template": {
         "data": {
          "bar": [
           {
            "error_x": {
             "color": "#2a3f5f"
            },
            "error_y": {
             "color": "#2a3f5f"
            },
            "marker": {
             "line": {
              "color": "#E5ECF6",
              "width": 0.5
             },
             "pattern": {
              "fillmode": "overlay",
              "size": 10,
              "solidity": 0.2
             }
            },
            "type": "bar"
           }
          ],
          "barpolar": [
           {
            "marker": {
             "line": {
              "color": "#E5ECF6",
              "width": 0.5
             },
             "pattern": {
              "fillmode": "overlay",
              "size": 10,
              "solidity": 0.2
             }
            },
            "type": "barpolar"
           }
          ],
          "carpet": [
           {
            "aaxis": {
             "endlinecolor": "#2a3f5f",
             "gridcolor": "white",
             "linecolor": "white",
             "minorgridcolor": "white",
             "startlinecolor": "#2a3f5f"
            },
            "baxis": {
             "endlinecolor": "#2a3f5f",
             "gridcolor": "white",
             "linecolor": "white",
             "minorgridcolor": "white",
             "startlinecolor": "#2a3f5f"
            },
            "type": "carpet"
           }
          ],
          "choropleth": [
           {
            "colorbar": {
             "outlinewidth": 0,
             "ticks": ""
            },
            "type": "choropleth"
           }
          ],
          "contour": [
           {
            "colorbar": {
             "outlinewidth": 0,
             "ticks": ""
            },
            "colorscale": [
             [
              0,
              "#0d0887"
             ],
             [
              0.1111111111111111,
              "#46039f"
             ],
             [
              0.2222222222222222,
              "#7201a8"
             ],
             [
              0.3333333333333333,
              "#9c179e"
             ],
             [
              0.4444444444444444,
              "#bd3786"
             ],
             [
              0.5555555555555556,
              "#d8576b"
             ],
             [
              0.6666666666666666,
              "#ed7953"
             ],
             [
              0.7777777777777778,
              "#fb9f3a"
             ],
             [
              0.8888888888888888,
              "#fdca26"
             ],
             [
              1,
              "#f0f921"
             ]
            ],
            "type": "contour"
           }
          ],
          "contourcarpet": [
           {
            "colorbar": {
             "outlinewidth": 0,
             "ticks": ""
            },
            "type": "contourcarpet"
           }
          ],
          "heatmap": [
           {
            "colorbar": {
             "outlinewidth": 0,
             "ticks": ""
            },
            "colorscale": [
             [
              0,
              "#0d0887"
             ],
             [
              0.1111111111111111,
              "#46039f"
             ],
             [
              0.2222222222222222,
              "#7201a8"
             ],
             [
              0.3333333333333333,
              "#9c179e"
             ],
             [
              0.4444444444444444,
              "#bd3786"
             ],
             [
              0.5555555555555556,
              "#d8576b"
             ],
             [
              0.6666666666666666,
              "#ed7953"
             ],
             [
              0.7777777777777778,
              "#fb9f3a"
             ],
             [
              0.8888888888888888,
              "#fdca26"
             ],
             [
              1,
              "#f0f921"
             ]
            ],
            "type": "heatmap"
           }
          ],
          "heatmapgl": [
           {
            "colorbar": {
             "outlinewidth": 0,
             "ticks": ""
            },
            "colorscale": [
             [
              0,
              "#0d0887"
             ],
             [
              0.1111111111111111,
              "#46039f"
             ],
             [
              0.2222222222222222,
              "#7201a8"
             ],
             [
              0.3333333333333333,
              "#9c179e"
             ],
             [
              0.4444444444444444,
              "#bd3786"
             ],
             [
              0.5555555555555556,
              "#d8576b"
             ],
             [
              0.6666666666666666,
              "#ed7953"
             ],
             [
              0.7777777777777778,
              "#fb9f3a"
             ],
             [
              0.8888888888888888,
              "#fdca26"
             ],
             [
              1,
              "#f0f921"
             ]
            ],
            "type": "heatmapgl"
           }
          ],
          "histogram": [
           {
            "marker": {
             "pattern": {
              "fillmode": "overlay",
              "size": 10,
              "solidity": 0.2
             }
            },
            "type": "histogram"
           }
          ],
          "histogram2d": [
           {
            "colorbar": {
             "outlinewidth": 0,
             "ticks": ""
            },
            "colorscale": [
             [
              0,
              "#0d0887"
             ],
             [
              0.1111111111111111,
              "#46039f"
             ],
             [
              0.2222222222222222,
              "#7201a8"
             ],
             [
              0.3333333333333333,
              "#9c179e"
             ],
             [
              0.4444444444444444,
              "#bd3786"
             ],
             [
              0.5555555555555556,
              "#d8576b"
             ],
             [
              0.6666666666666666,
              "#ed7953"
             ],
             [
              0.7777777777777778,
              "#fb9f3a"
             ],
             [
              0.8888888888888888,
              "#fdca26"
             ],
             [
              1,
              "#f0f921"
             ]
            ],
            "type": "histogram2d"
           }
          ],
          "histogram2dcontour": [
           {
            "colorbar": {
             "outlinewidth": 0,
             "ticks": ""
            },
            "colorscale": [
             [
              0,
              "#0d0887"
             ],
             [
              0.1111111111111111,
              "#46039f"
             ],
             [
              0.2222222222222222,
              "#7201a8"
             ],
             [
              0.3333333333333333,
              "#9c179e"
             ],
             [
              0.4444444444444444,
              "#bd3786"
             ],
             [
              0.5555555555555556,
              "#d8576b"
             ],
             [
              0.6666666666666666,
              "#ed7953"
             ],
             [
              0.7777777777777778,
              "#fb9f3a"
             ],
             [
              0.8888888888888888,
              "#fdca26"
             ],
             [
              1,
              "#f0f921"
             ]
            ],
            "type": "histogram2dcontour"
           }
          ],
          "mesh3d": [
           {
            "colorbar": {
             "outlinewidth": 0,
             "ticks": ""
            },
            "type": "mesh3d"
           }
          ],
          "parcoords": [
           {
            "line": {
             "colorbar": {
              "outlinewidth": 0,
              "ticks": ""
             }
            },
            "type": "parcoords"
           }
          ],
          "pie": [
           {
            "automargin": true,
            "type": "pie"
           }
          ],
          "scatter": [
           {
            "fillpattern": {
             "fillmode": "overlay",
             "size": 10,
             "solidity": 0.2
            },
            "type": "scatter"
           }
          ],
          "scatter3d": [
           {
            "line": {
             "colorbar": {
              "outlinewidth": 0,
              "ticks": ""
             }
            },
            "marker": {
             "colorbar": {
              "outlinewidth": 0,
              "ticks": ""
             }
            },
            "type": "scatter3d"
           }
          ],
          "scattercarpet": [
           {
            "marker": {
             "colorbar": {
              "outlinewidth": 0,
              "ticks": ""
             }
            },
            "type": "scattercarpet"
           }
          ],
          "scattergeo": [
           {
            "marker": {
             "colorbar": {
              "outlinewidth": 0,
              "ticks": ""
             }
            },
            "type": "scattergeo"
           }
          ],
          "scattergl": [
           {
            "marker": {
             "colorbar": {
              "outlinewidth": 0,
              "ticks": ""
             }
            },
            "type": "scattergl"
           }
          ],
          "scattermapbox": [
           {
            "marker": {
             "colorbar": {
              "outlinewidth": 0,
              "ticks": ""
             }
            },
            "type": "scattermapbox"
           }
          ],
          "scatterpolar": [
           {
            "marker": {
             "colorbar": {
              "outlinewidth": 0,
              "ticks": ""
             }
            },
            "type": "scatterpolar"
           }
          ],
          "scatterpolargl": [
           {
            "marker": {
             "colorbar": {
              "outlinewidth": 0,
              "ticks": ""
             }
            },
            "type": "scatterpolargl"
           }
          ],
          "scatterternary": [
           {
            "marker": {
             "colorbar": {
              "outlinewidth": 0,
              "ticks": ""
             }
            },
            "type": "scatterternary"
           }
          ],
          "surface": [
           {
            "colorbar": {
             "outlinewidth": 0,
             "ticks": ""
            },
            "colorscale": [
             [
              0,
              "#0d0887"
             ],
             [
              0.1111111111111111,
              "#46039f"
             ],
             [
              0.2222222222222222,
              "#7201a8"
             ],
             [
              0.3333333333333333,
              "#9c179e"
             ],
             [
              0.4444444444444444,
              "#bd3786"
             ],
             [
              0.5555555555555556,
              "#d8576b"
             ],
             [
              0.6666666666666666,
              "#ed7953"
             ],
             [
              0.7777777777777778,
              "#fb9f3a"
             ],
             [
              0.8888888888888888,
              "#fdca26"
             ],
             [
              1,
              "#f0f921"
             ]
            ],
            "type": "surface"
           }
          ],
          "table": [
           {
            "cells": {
             "fill": {
              "color": "#EBF0F8"
             },
             "line": {
              "color": "white"
             }
            },
            "header": {
             "fill": {
              "color": "#C8D4E3"
             },
             "line": {
              "color": "white"
             }
            },
            "type": "table"
           }
          ]
         },
         "layout": {
          "annotationdefaults": {
           "arrowcolor": "#2a3f5f",
           "arrowhead": 0,
           "arrowwidth": 1
          },
          "autotypenumbers": "strict",
          "coloraxis": {
           "colorbar": {
            "outlinewidth": 0,
            "ticks": ""
           }
          },
          "colorscale": {
           "diverging": [
            [
             0,
             "#8e0152"
            ],
            [
             0.1,
             "#c51b7d"
            ],
            [
             0.2,
             "#de77ae"
            ],
            [
             0.3,
             "#f1b6da"
            ],
            [
             0.4,
             "#fde0ef"
            ],
            [
             0.5,
             "#f7f7f7"
            ],
            [
             0.6,
             "#e6f5d0"
            ],
            [
             0.7,
             "#b8e186"
            ],
            [
             0.8,
             "#7fbc41"
            ],
            [
             0.9,
             "#4d9221"
            ],
            [
             1,
             "#276419"
            ]
           ],
           "sequential": [
            [
             0,
             "#0d0887"
            ],
            [
             0.1111111111111111,
             "#46039f"
            ],
            [
             0.2222222222222222,
             "#7201a8"
            ],
            [
             0.3333333333333333,
             "#9c179e"
            ],
            [
             0.4444444444444444,
             "#bd3786"
            ],
            [
             0.5555555555555556,
             "#d8576b"
            ],
            [
             0.6666666666666666,
             "#ed7953"
            ],
            [
             0.7777777777777778,
             "#fb9f3a"
            ],
            [
             0.8888888888888888,
             "#fdca26"
            ],
            [
             1,
             "#f0f921"
            ]
           ],
           "sequentialminus": [
            [
             0,
             "#0d0887"
            ],
            [
             0.1111111111111111,
             "#46039f"
            ],
            [
             0.2222222222222222,
             "#7201a8"
            ],
            [
             0.3333333333333333,
             "#9c179e"
            ],
            [
             0.4444444444444444,
             "#bd3786"
            ],
            [
             0.5555555555555556,
             "#d8576b"
            ],
            [
             0.6666666666666666,
             "#ed7953"
            ],
            [
             0.7777777777777778,
             "#fb9f3a"
            ],
            [
             0.8888888888888888,
             "#fdca26"
            ],
            [
             1,
             "#f0f921"
            ]
           ]
          },
          "colorway": [
           "#636efa",
           "#EF553B",
           "#00cc96",
           "#ab63fa",
           "#FFA15A",
           "#19d3f3",
           "#FF6692",
           "#B6E880",
           "#FF97FF",
           "#FECB52"
          ],
          "font": {
           "color": "#2a3f5f"
          },
          "geo": {
           "bgcolor": "white",
           "lakecolor": "white",
           "landcolor": "#E5ECF6",
           "showlakes": true,
           "showland": true,
           "subunitcolor": "white"
          },
          "hoverlabel": {
           "align": "left"
          },
          "hovermode": "closest",
          "mapbox": {
           "style": "light"
          },
          "paper_bgcolor": "white",
          "plot_bgcolor": "#E5ECF6",
          "polar": {
           "angularaxis": {
            "gridcolor": "white",
            "linecolor": "white",
            "ticks": ""
           },
           "bgcolor": "#E5ECF6",
           "radialaxis": {
            "gridcolor": "white",
            "linecolor": "white",
            "ticks": ""
           }
          },
          "scene": {
           "xaxis": {
            "backgroundcolor": "#E5ECF6",
            "gridcolor": "white",
            "gridwidth": 2,
            "linecolor": "white",
            "showbackground": true,
            "ticks": "",
            "zerolinecolor": "white"
           },
           "yaxis": {
            "backgroundcolor": "#E5ECF6",
            "gridcolor": "white",
            "gridwidth": 2,
            "linecolor": "white",
            "showbackground": true,
            "ticks": "",
            "zerolinecolor": "white"
           },
           "zaxis": {
            "backgroundcolor": "#E5ECF6",
            "gridcolor": "white",
            "gridwidth": 2,
            "linecolor": "white",
            "showbackground": true,
            "ticks": "",
            "zerolinecolor": "white"
           }
          },
          "shapedefaults": {
           "line": {
            "color": "#2a3f5f"
           }
          },
          "ternary": {
           "aaxis": {
            "gridcolor": "white",
            "linecolor": "white",
            "ticks": ""
           },
           "baxis": {
            "gridcolor": "white",
            "linecolor": "white",
            "ticks": ""
           },
           "bgcolor": "#E5ECF6",
           "caxis": {
            "gridcolor": "white",
            "linecolor": "white",
            "ticks": ""
           }
          },
          "title": {
           "x": 0.05
          },
          "xaxis": {
           "automargin": true,
           "gridcolor": "white",
           "linecolor": "white",
           "ticks": "",
           "title": {
            "standoff": 15
           },
           "zerolinecolor": "white",
           "zerolinewidth": 2
          },
          "yaxis": {
           "automargin": true,
           "gridcolor": "white",
           "linecolor": "white",
           "ticks": "",
           "title": {
            "standoff": 15
           },
           "zerolinecolor": "white",
           "zerolinewidth": 2
          }
         }
        },
        "width": 600,
        "xaxis": {
         "anchor": "y",
         "domain": [
          0,
          1
         ],
         "range": [
          -3,
          3
         ],
         "title": {
          "text": "x0"
         }
        },
        "yaxis": {
         "anchor": "x",
         "domain": [
          0,
          1
         ],
         "range": [
          -3,
          3
         ],
         "title": {
          "text": "x1"
         }
        }
       }
      }
     },
     "metadata": {},
     "output_type": "display_data"
    }
   ],
   "source": [
    "from sklearn.datasets import make_blobs\n",
    "import plotly.express as px\n",
    "import plotly.graph_objects as go\n",
    "\n",
    "X, y = make_blobs(n_samples=100, centers=[[-1, -1], [1, 1]],\n",
    "                  random_state=1, cluster_std=0.5)\n",
    "y = np.where(y == 0, -1, 1)\n",
    "\n",
    "# add an interactive classification line\n",
    "a = np.linspace(-np.pi/2, np.pi/2, 100)\n",
    "points = []\n",
    "for ai in a:\n",
    "    x00, x01 = -5 * np.cos(ai), 5 * np.cos(ai)\n",
    "    x10, x11 = -5 * np.sin(ai), 5 * np.sin(ai)\n",
    "    wi = np.tan(ai)\n",
    "    points.append([x00, x10, wi])\n",
    "    points.append([x01, x11, wi])\n",
    "\n",
    "clf_line = pd.DataFrame(points, columns=['x0', 'x1', 'w'])\n",
    "fig = px.line(clf_line, x='x0', y='x1', animation_frame='w',\n",
    "              color_discrete_sequence=px.colors.qualitative.Alphabet,\n",
    "              width=600, height=600, range_x=[-3, 3], range_y=[-3, 3])\n",
    "\n",
    "# plot the data points\n",
    "df = pd.DataFrame(X, columns=['x0', 'x1']).join(\n",
    "    pd.Series(y, name='target'))\n",
    "fig.add_traces(px.scatter(df, x='x0', y='x1', color=y.astype(str)).data)\n",
    "\n",
    "fig.layout.pop('updatemenus')\n",
    "fig"
   ]
  },
  {
   "attachments": {},
   "cell_type": "markdown",
   "metadata": {},
   "source": [
    "### Margin\n",
    "\n",
    "For a linear model $f_w(x) = w^Tx + b$, the distance from a point $x$ to the decision boundary $f_w=0$ is given by $$\\frac{|w^Tx + b|}{\\|w\\|}.$$\n",
    "A dataset $\\mathcal{D} = \\{(x_1, y_1), \\ldots, (x_n, y_n)\\}$, $x_i\\in\\mathbb{R^m}$, $y_i\\in\\{-1,1\\}$,  is **linearly separable** if there exists a linear model $f_w$ such that $f_w(x_i) \\ge 0$ for all $i$ with $y_i = 1$ and $f_w(x_i) \\le 0$ for all $i$ with $y_i = -1$.\n",
    "In this case, the distance from $x$ to $f_w=0$ can be written as $$\\frac{y(w^Tx + b)}{\\|w\\|}.$$\n",
    "The minimum distance from any point $x$ to the decision boundary is called the **margin**: $$\\min_{x \\in \\mathcal{D}} \\frac{y(w^Tx + b)}{\\|w\\|}.$$ "
   ]
  },
  {
   "cell_type": "code",
   "execution_count": 111,
   "metadata": {},
   "outputs": [
    {
     "data": {
      "text/plain": [
       "(array([ 0.84494161, -0.21741888]), 0.4437255785713139)"
      ]
     },
     "execution_count": 111,
     "metadata": {},
     "output_type": "execute_result"
    }
   ],
   "source": [
    "def point_line_dist(x0, x1, y, w):\n",
    "    return y * (-w * x0 + x1) / np.sqrt(1 + w**2)\n",
    "\n",
    "def find_support_vectors(X, y, w):\n",
    "    # find the support vectors\n",
    "    dists = point_line_dist(X[:, 0], X[:, 1], y, w)\n",
    "    s = np.argmin(dists)\n",
    "    return X[s], dists[s]\n",
    "\n",
    "find_support_vectors(df[['x0', 'x1']].values, df['target'].values, w=-1.0)"
   ]
  },
  {
   "cell_type": "code",
   "execution_count": 112,
   "metadata": {},
   "outputs": [
    {
     "data": {
      "text/plain": [
       "(array([ 0.84494161, -0.21741888]), -0.2174188820535694)"
      ]
     },
     "execution_count": 112,
     "metadata": {},
     "output_type": "execute_result"
    }
   ],
   "source": [
    "# min distance < 0: not linearly separable\n",
    "# check this with the plot above!\n",
    "find_support_vectors(df[['x0', 'x1']].values, df['target'].values, w=0.0)"
   ]
  },
  {
   "attachments": {},
   "cell_type": "markdown",
   "metadata": {},
   "source": [
    "### Maximum Margin Classifier"
   ]
  },
  {
   "cell_type": "code",
   "execution_count": 113,
   "metadata": {},
   "outputs": [
    {
     "data": {
      "text/plain": [
       "{'supvec': array([-0.43418531, -0.24009159]),\n",
       " 'mindist': 0.49377457413347914,\n",
       " 'weight': -1.452539024396838}"
      ]
     },
     "execution_count": 113,
     "metadata": {},
     "output_type": "execute_result"
    }
   ],
   "source": [
    "ws = clf_line.w.unique()  # get the unique values of w\n",
    "res = max(\n",
    "    [dict(supvec=v, mindist=d, weight=w)\n",
    "     for w in ws\n",
    "     for v, d in [find_support_vectors(\n",
    "         df[['x0', 'x1']].values, df['target'].values, w)]],\n",
    "    key=lambda dct: dct['mindist'])  # key is a function for which the max is taken\n",
    "res"
   ]
  },
  {
   "cell_type": "code",
   "execution_count": 114,
   "metadata": {},
   "outputs": [
    {
     "data": {
      "application/vnd.plotly.v1+json": {
       "config": {
        "plotlyServerURL": "https://plot.ly"
       },
       "data": [
        {
         "hovertemplate": "color=-1<br>x0=%{x}<br>x1=%{y}<extra></extra>",
         "legendgroup": "-1",
         "marker": {
          "color": "#636efa",
          "symbol": "circle"
         },
         "mode": "markers",
         "name": "-1",
         "orientation": "v",
         "showlegend": true,
         "type": "scatter",
         "x": [
          -1.2640858761317277,
          -0.9390893645042815,
          -0.9788931266422036,
          -1.0959177761808074,
          0.0927877032665807,
          -1.3458303758626546,
          -0.7435350897909956,
          -0.12759411789176,
          -1.153102006314186,
          -0.9399205237591854,
          -0.8404804519714507,
          -1.061445112759324,
          -0.8499148400220863,
          -0.17009891144506473,
          -0.4005410600492465,
          -1.3353311431445154,
          -0.7882528229679435,
          -0.26894603147751295,
          -0.9067193045058578,
          -1.5503095886064606,
          -0.43418530627428653,
          -1.3356230654184096,
          -0.549572025367794,
          -0.8849526323178083,
          -0.904542257666267,
          -1.1719268377855379,
          -1.0862141037752178,
          -1.3771989704983265,
          -1.1111640713051796,
          -0.8572063373728707,
          -0.4331152788322813,
          -1.104447116687389,
          -1.558655174317639,
          -0.9199814652760847,
          -0.18782731816837916,
          -1.3100004219740646,
          -0.7557409267312515,
          -1.7220569027147947,
          -1.133944039813008,
          -1.1612086020067538,
          -0.9745961226119855,
          -0.5492046397036022,
          -0.8421825263791973,
          -1.3435863500597998,
          -1.3735791468754188,
          -1.57125909901107,
          -0.9008501399366151,
          -0.5805082930627475,
          -0.5672961853376608,
          -1.1876424750450572
         ],
         "xaxis": "x",
         "y": [
          -1.5364843110780853,
          -0.43525804604404017,
          -0.7085923931420889,
          -1.4438144820424181,
          -1.6982481677440688,
          -1.1983767634279887,
          -1.1490464175513577,
          -1.3806034504475515,
          -0.5860126786963769,
          -0.6913984451462905,
          -1.124685187738705,
          -1.4678847171295344,
          -1.1761249232467592,
          -0.6289779197113322,
          -0.907421791258028,
          -0.8112181068395403,
          -0.9613299658257203,
          -2.030070354748827,
          -0.7949741763958719,
          -0.42763814508019293,
          -0.2400915917889006,
          -1.0063322994594506,
          -1.3418639295871666,
          -0.6189944098439877,
          0.050127568239421105,
          -0.9782015715828766,
          -1.438929208960686,
          -0.37356592238335606,
          -1.1003790344649986,
          -0.557429417864636,
          -1.5499456336570154,
          -0.7066884044089012,
          -0.8827921510914539,
          -0.5619155394418875,
          -1.3058782068250376,
          -0.6509839829638906,
          -1.0377858565105278,
          -1.2522329314732257,
          -0.734822266630907,
          -1.1920271773342077,
          -1.3184978232846767,
          -0.7487528305490658,
          -2.0111006079120015,
          -1.4226028207493597,
          -0.1537726994861267,
          -1.1746713612064388,
          -0.9404956770962706,
          -0.5344489593482213,
          -2.150769348440141,
          -1.319365203727111
         ],
         "yaxis": "y"
        },
        {
         "hovertemplate": "color=1<br>x0=%{x}<br>x1=%{y}<extra></extra>",
         "legendgroup": "1",
         "marker": {
          "color": "#EF553B",
          "symbol": "circle"
         },
         "mode": "markers",
         "name": "1",
         "orientation": "v",
         "showlegend": true,
         "type": "scatter",
         "x": [
          0.9447764867913419,
          1.2602881685366853,
          0.9095398489609248,
          2.0953498644848665,
          1.3964034329596737,
          0.866890746998189,
          1.1243995806938853,
          1.580169284996885,
          1.0087047041500024,
          1.0218344965891946,
          1.116247279589369,
          1.2515924067176631,
          1.4009305159356724,
          0.36372062237700287,
          1.2476056619889802,
          1.2647326621763546,
          1.038910563956353,
          0.3849709321665191,
          0.31344133987662215,
          1.1752729893320537,
          1.4230803237925167,
          1.3702782255481374,
          0.9876915220621109,
          1.519412300929707,
          0.40036598383240696,
          1.2017458208954,
          1.220682221784291,
          1.4344430785029338,
          1.329524898050105,
          0.741452771039886,
          0.07100906777662397,
          1.493167593910621,
          1.3011596401478145,
          1.560708854117832,
          1.6368779650793883,
          2.264162853403199,
          1.665728556293796,
          1.4054758364017779,
          0.7764357176070009,
          0.4525440771294791,
          1.9523293541704905,
          0.9067151140463257,
          0.676541655872546,
          1.8138253765744532,
          1.1403325385613194,
          1.281380548309513,
          0.9806522453669745,
          0.84494161324097,
          0.9317776280519835,
          1.3400349199390522
         ],
         "xaxis": "x",
         "y": [
          0.6913189681438195,
          0.42782930518842865,
          0.6980396861033713,
          0.05181953855445376,
          0.6882346351601042,
          1.0163072733466794,
          0.8516794238145686,
          1.184746358187862,
          0.4389906356265558,
          0.8868428787431974,
          1.3412757034322427,
          1.646612941266131,
          1.0232836492120727,
          1.1567738602317161,
          0.9126484201287495,
          1.068850604998693,
          1.3091901309992622,
          1.2752687479881077,
          1.157579696021146,
          0.3438582943812841,
          0.5702420295840068,
          0.5231496990960327,
          0.6124191904154201,
          2.093489823487129,
          1.4316726587720108,
          1.2967892616185335,
          0.9499223833582501,
          1.3752058199325041,
          0.18628082969187132,
          0.5014865861748685,
          1.6180820152264102,
          1.106766950667721,
          1.2101411018235297,
          1.2044502689684138,
          1.9835508746273673,
          0.87568261114227,
          0.8563460682619906,
          1.5222210473536295,
          1.6122538524027494,
          1.084691216529334,
          1.5555283492802523,
          0.9491270637354274,
          1.4507434458243555,
          1.1690058482872379,
          0.9634436481263611,
          1.1203685461188662,
          0.19211382264835264,
          -0.2174188820535694,
          0.940472906112595,
          0.8400992005506644
         ],
         "yaxis": "y"
        },
        {
         "hovertemplate": "x0=%{x}<br>x1=%{y}<extra></extra>",
         "legendgroup": "",
         "line": {
          "color": "#AA0DFE",
          "dash": "solid"
         },
         "marker": {
          "symbol": "circle"
         },
         "mode": "lines",
         "name": "",
         "orientation": "v",
         "showlegend": false,
         "type": "scatter",
         "x": [
          -2.8352993193138536,
          2.8352993193138536
         ],
         "xaxis": "x",
         "y": [
          4.118382907149164,
          -4.118382907149164
         ],
         "yaxis": "y"
        },
        {
         "hovertemplate": "x0=%{x}<br>x1=%{y}<extra></extra>",
         "legendgroup": "",
         "line": {
          "color": "rgb(102, 197, 204)",
          "dash": "solid"
         },
         "marker": {
          "symbol": "circle"
         },
         "mode": "lines",
         "name": "",
         "orientation": "v",
         "showlegend": false,
         "type": "scatter",
         "x": [
          -5,
          5
         ],
         "xaxis": "x",
         "y": [
          8.133457814956184,
          -6.391932429012194
         ],
         "yaxis": "y"
        },
        {
         "hovertemplate": "x0=%{x}<br>x1=%{y}<extra></extra>",
         "legendgroup": "",
         "line": {
          "color": "rgb(102, 197, 204)",
          "dash": "solid"
         },
         "marker": {
          "symbol": "circle"
         },
         "mode": "lines",
         "name": "",
         "orientation": "v",
         "showlegend": false,
         "type": "scatter",
         "x": [
          -5,
          5
         ],
         "xaxis": "x",
         "y": [
          6.391932429012194,
          -8.133457814956184
         ],
         "yaxis": "y"
        }
       ],
       "layout": {
        "height": 600,
        "legend": {
         "title": {
          "text": "color"
         },
         "tracegroupgap": 0
        },
        "margin": {
         "t": 60
        },
        "template": {
         "data": {
          "bar": [
           {
            "error_x": {
             "color": "#2a3f5f"
            },
            "error_y": {
             "color": "#2a3f5f"
            },
            "marker": {
             "line": {
              "color": "#E5ECF6",
              "width": 0.5
             },
             "pattern": {
              "fillmode": "overlay",
              "size": 10,
              "solidity": 0.2
             }
            },
            "type": "bar"
           }
          ],
          "barpolar": [
           {
            "marker": {
             "line": {
              "color": "#E5ECF6",
              "width": 0.5
             },
             "pattern": {
              "fillmode": "overlay",
              "size": 10,
              "solidity": 0.2
             }
            },
            "type": "barpolar"
           }
          ],
          "carpet": [
           {
            "aaxis": {
             "endlinecolor": "#2a3f5f",
             "gridcolor": "white",
             "linecolor": "white",
             "minorgridcolor": "white",
             "startlinecolor": "#2a3f5f"
            },
            "baxis": {
             "endlinecolor": "#2a3f5f",
             "gridcolor": "white",
             "linecolor": "white",
             "minorgridcolor": "white",
             "startlinecolor": "#2a3f5f"
            },
            "type": "carpet"
           }
          ],
          "choropleth": [
           {
            "colorbar": {
             "outlinewidth": 0,
             "ticks": ""
            },
            "type": "choropleth"
           }
          ],
          "contour": [
           {
            "colorbar": {
             "outlinewidth": 0,
             "ticks": ""
            },
            "colorscale": [
             [
              0,
              "#0d0887"
             ],
             [
              0.1111111111111111,
              "#46039f"
             ],
             [
              0.2222222222222222,
              "#7201a8"
             ],
             [
              0.3333333333333333,
              "#9c179e"
             ],
             [
              0.4444444444444444,
              "#bd3786"
             ],
             [
              0.5555555555555556,
              "#d8576b"
             ],
             [
              0.6666666666666666,
              "#ed7953"
             ],
             [
              0.7777777777777778,
              "#fb9f3a"
             ],
             [
              0.8888888888888888,
              "#fdca26"
             ],
             [
              1,
              "#f0f921"
             ]
            ],
            "type": "contour"
           }
          ],
          "contourcarpet": [
           {
            "colorbar": {
             "outlinewidth": 0,
             "ticks": ""
            },
            "type": "contourcarpet"
           }
          ],
          "heatmap": [
           {
            "colorbar": {
             "outlinewidth": 0,
             "ticks": ""
            },
            "colorscale": [
             [
              0,
              "#0d0887"
             ],
             [
              0.1111111111111111,
              "#46039f"
             ],
             [
              0.2222222222222222,
              "#7201a8"
             ],
             [
              0.3333333333333333,
              "#9c179e"
             ],
             [
              0.4444444444444444,
              "#bd3786"
             ],
             [
              0.5555555555555556,
              "#d8576b"
             ],
             [
              0.6666666666666666,
              "#ed7953"
             ],
             [
              0.7777777777777778,
              "#fb9f3a"
             ],
             [
              0.8888888888888888,
              "#fdca26"
             ],
             [
              1,
              "#f0f921"
             ]
            ],
            "type": "heatmap"
           }
          ],
          "heatmapgl": [
           {
            "colorbar": {
             "outlinewidth": 0,
             "ticks": ""
            },
            "colorscale": [
             [
              0,
              "#0d0887"
             ],
             [
              0.1111111111111111,
              "#46039f"
             ],
             [
              0.2222222222222222,
              "#7201a8"
             ],
             [
              0.3333333333333333,
              "#9c179e"
             ],
             [
              0.4444444444444444,
              "#bd3786"
             ],
             [
              0.5555555555555556,
              "#d8576b"
             ],
             [
              0.6666666666666666,
              "#ed7953"
             ],
             [
              0.7777777777777778,
              "#fb9f3a"
             ],
             [
              0.8888888888888888,
              "#fdca26"
             ],
             [
              1,
              "#f0f921"
             ]
            ],
            "type": "heatmapgl"
           }
          ],
          "histogram": [
           {
            "marker": {
             "pattern": {
              "fillmode": "overlay",
              "size": 10,
              "solidity": 0.2
             }
            },
            "type": "histogram"
           }
          ],
          "histogram2d": [
           {
            "colorbar": {
             "outlinewidth": 0,
             "ticks": ""
            },
            "colorscale": [
             [
              0,
              "#0d0887"
             ],
             [
              0.1111111111111111,
              "#46039f"
             ],
             [
              0.2222222222222222,
              "#7201a8"
             ],
             [
              0.3333333333333333,
              "#9c179e"
             ],
             [
              0.4444444444444444,
              "#bd3786"
             ],
             [
              0.5555555555555556,
              "#d8576b"
             ],
             [
              0.6666666666666666,
              "#ed7953"
             ],
             [
              0.7777777777777778,
              "#fb9f3a"
             ],
             [
              0.8888888888888888,
              "#fdca26"
             ],
             [
              1,
              "#f0f921"
             ]
            ],
            "type": "histogram2d"
           }
          ],
          "histogram2dcontour": [
           {
            "colorbar": {
             "outlinewidth": 0,
             "ticks": ""
            },
            "colorscale": [
             [
              0,
              "#0d0887"
             ],
             [
              0.1111111111111111,
              "#46039f"
             ],
             [
              0.2222222222222222,
              "#7201a8"
             ],
             [
              0.3333333333333333,
              "#9c179e"
             ],
             [
              0.4444444444444444,
              "#bd3786"
             ],
             [
              0.5555555555555556,
              "#d8576b"
             ],
             [
              0.6666666666666666,
              "#ed7953"
             ],
             [
              0.7777777777777778,
              "#fb9f3a"
             ],
             [
              0.8888888888888888,
              "#fdca26"
             ],
             [
              1,
              "#f0f921"
             ]
            ],
            "type": "histogram2dcontour"
           }
          ],
          "mesh3d": [
           {
            "colorbar": {
             "outlinewidth": 0,
             "ticks": ""
            },
            "type": "mesh3d"
           }
          ],
          "parcoords": [
           {
            "line": {
             "colorbar": {
              "outlinewidth": 0,
              "ticks": ""
             }
            },
            "type": "parcoords"
           }
          ],
          "pie": [
           {
            "automargin": true,
            "type": "pie"
           }
          ],
          "scatter": [
           {
            "fillpattern": {
             "fillmode": "overlay",
             "size": 10,
             "solidity": 0.2
            },
            "type": "scatter"
           }
          ],
          "scatter3d": [
           {
            "line": {
             "colorbar": {
              "outlinewidth": 0,
              "ticks": ""
             }
            },
            "marker": {
             "colorbar": {
              "outlinewidth": 0,
              "ticks": ""
             }
            },
            "type": "scatter3d"
           }
          ],
          "scattercarpet": [
           {
            "marker": {
             "colorbar": {
              "outlinewidth": 0,
              "ticks": ""
             }
            },
            "type": "scattercarpet"
           }
          ],
          "scattergeo": [
           {
            "marker": {
             "colorbar": {
              "outlinewidth": 0,
              "ticks": ""
             }
            },
            "type": "scattergeo"
           }
          ],
          "scattergl": [
           {
            "marker": {
             "colorbar": {
              "outlinewidth": 0,
              "ticks": ""
             }
            },
            "type": "scattergl"
           }
          ],
          "scattermapbox": [
           {
            "marker": {
             "colorbar": {
              "outlinewidth": 0,
              "ticks": ""
             }
            },
            "type": "scattermapbox"
           }
          ],
          "scatterpolar": [
           {
            "marker": {
             "colorbar": {
              "outlinewidth": 0,
              "ticks": ""
             }
            },
            "type": "scatterpolar"
           }
          ],
          "scatterpolargl": [
           {
            "marker": {
             "colorbar": {
              "outlinewidth": 0,
              "ticks": ""
             }
            },
            "type": "scatterpolargl"
           }
          ],
          "scatterternary": [
           {
            "marker": {
             "colorbar": {
              "outlinewidth": 0,
              "ticks": ""
             }
            },
            "type": "scatterternary"
           }
          ],
          "surface": [
           {
            "colorbar": {
             "outlinewidth": 0,
             "ticks": ""
            },
            "colorscale": [
             [
              0,
              "#0d0887"
             ],
             [
              0.1111111111111111,
              "#46039f"
             ],
             [
              0.2222222222222222,
              "#7201a8"
             ],
             [
              0.3333333333333333,
              "#9c179e"
             ],
             [
              0.4444444444444444,
              "#bd3786"
             ],
             [
              0.5555555555555556,
              "#d8576b"
             ],
             [
              0.6666666666666666,
              "#ed7953"
             ],
             [
              0.7777777777777778,
              "#fb9f3a"
             ],
             [
              0.8888888888888888,
              "#fdca26"
             ],
             [
              1,
              "#f0f921"
             ]
            ],
            "type": "surface"
           }
          ],
          "table": [
           {
            "cells": {
             "fill": {
              "color": "#EBF0F8"
             },
             "line": {
              "color": "white"
             }
            },
            "header": {
             "fill": {
              "color": "#C8D4E3"
             },
             "line": {
              "color": "white"
             }
            },
            "type": "table"
           }
          ]
         },
         "layout": {
          "annotationdefaults": {
           "arrowcolor": "#2a3f5f",
           "arrowhead": 0,
           "arrowwidth": 1
          },
          "autotypenumbers": "strict",
          "coloraxis": {
           "colorbar": {
            "outlinewidth": 0,
            "ticks": ""
           }
          },
          "colorscale": {
           "diverging": [
            [
             0,
             "#8e0152"
            ],
            [
             0.1,
             "#c51b7d"
            ],
            [
             0.2,
             "#de77ae"
            ],
            [
             0.3,
             "#f1b6da"
            ],
            [
             0.4,
             "#fde0ef"
            ],
            [
             0.5,
             "#f7f7f7"
            ],
            [
             0.6,
             "#e6f5d0"
            ],
            [
             0.7,
             "#b8e186"
            ],
            [
             0.8,
             "#7fbc41"
            ],
            [
             0.9,
             "#4d9221"
            ],
            [
             1,
             "#276419"
            ]
           ],
           "sequential": [
            [
             0,
             "#0d0887"
            ],
            [
             0.1111111111111111,
             "#46039f"
            ],
            [
             0.2222222222222222,
             "#7201a8"
            ],
            [
             0.3333333333333333,
             "#9c179e"
            ],
            [
             0.4444444444444444,
             "#bd3786"
            ],
            [
             0.5555555555555556,
             "#d8576b"
            ],
            [
             0.6666666666666666,
             "#ed7953"
            ],
            [
             0.7777777777777778,
             "#fb9f3a"
            ],
            [
             0.8888888888888888,
             "#fdca26"
            ],
            [
             1,
             "#f0f921"
            ]
           ],
           "sequentialminus": [
            [
             0,
             "#0d0887"
            ],
            [
             0.1111111111111111,
             "#46039f"
            ],
            [
             0.2222222222222222,
             "#7201a8"
            ],
            [
             0.3333333333333333,
             "#9c179e"
            ],
            [
             0.4444444444444444,
             "#bd3786"
            ],
            [
             0.5555555555555556,
             "#d8576b"
            ],
            [
             0.6666666666666666,
             "#ed7953"
            ],
            [
             0.7777777777777778,
             "#fb9f3a"
            ],
            [
             0.8888888888888888,
             "#fdca26"
            ],
            [
             1,
             "#f0f921"
            ]
           ]
          },
          "colorway": [
           "#636efa",
           "#EF553B",
           "#00cc96",
           "#ab63fa",
           "#FFA15A",
           "#19d3f3",
           "#FF6692",
           "#B6E880",
           "#FF97FF",
           "#FECB52"
          ],
          "font": {
           "color": "#2a3f5f"
          },
          "geo": {
           "bgcolor": "white",
           "lakecolor": "white",
           "landcolor": "#E5ECF6",
           "showlakes": true,
           "showland": true,
           "subunitcolor": "white"
          },
          "hoverlabel": {
           "align": "left"
          },
          "hovermode": "closest",
          "mapbox": {
           "style": "light"
          },
          "paper_bgcolor": "white",
          "plot_bgcolor": "#E5ECF6",
          "polar": {
           "angularaxis": {
            "gridcolor": "white",
            "linecolor": "white",
            "ticks": ""
           },
           "bgcolor": "#E5ECF6",
           "radialaxis": {
            "gridcolor": "white",
            "linecolor": "white",
            "ticks": ""
           }
          },
          "scene": {
           "xaxis": {
            "backgroundcolor": "#E5ECF6",
            "gridcolor": "white",
            "gridwidth": 2,
            "linecolor": "white",
            "showbackground": true,
            "ticks": "",
            "zerolinecolor": "white"
           },
           "yaxis": {
            "backgroundcolor": "#E5ECF6",
            "gridcolor": "white",
            "gridwidth": 2,
            "linecolor": "white",
            "showbackground": true,
            "ticks": "",
            "zerolinecolor": "white"
           },
           "zaxis": {
            "backgroundcolor": "#E5ECF6",
            "gridcolor": "white",
            "gridwidth": 2,
            "linecolor": "white",
            "showbackground": true,
            "ticks": "",
            "zerolinecolor": "white"
           }
          },
          "shapedefaults": {
           "line": {
            "color": "#2a3f5f"
           }
          },
          "ternary": {
           "aaxis": {
            "gridcolor": "white",
            "linecolor": "white",
            "ticks": ""
           },
           "baxis": {
            "gridcolor": "white",
            "linecolor": "white",
            "ticks": ""
           },
           "bgcolor": "#E5ECF6",
           "caxis": {
            "gridcolor": "white",
            "linecolor": "white",
            "ticks": ""
           }
          },
          "title": {
           "x": 0.05
          },
          "xaxis": {
           "automargin": true,
           "gridcolor": "white",
           "linecolor": "white",
           "ticks": "",
           "title": {
            "standoff": 15
           },
           "zerolinecolor": "white",
           "zerolinewidth": 2
          },
          "yaxis": {
           "automargin": true,
           "gridcolor": "white",
           "linecolor": "white",
           "ticks": "",
           "title": {
            "standoff": 15
           },
           "zerolinecolor": "white",
           "zerolinewidth": 2
          }
         }
        },
        "width": 600,
        "xaxis": {
         "anchor": "y",
         "domain": [
          0,
          1
         ],
         "range": [
          -3,
          3
         ],
         "title": {
          "text": "x0"
         }
        },
        "yaxis": {
         "anchor": "x",
         "domain": [
          0,
          1
         ],
         "range": [
          -3,
          3
         ],
         "title": {
          "text": "x1"
         }
        }
       }
      }
     },
     "metadata": {},
     "output_type": "display_data"
    }
   ],
   "source": [
    "supvec = res['supvec']\n",
    "optimal_w = res['weight']\n",
    "\n",
    "def margin_lines(x, y, w):\n",
    "    x0 = -5\n",
    "    x1 = 5\n",
    "    b = -w * x + y\n",
    "    xs = np.array([x0, x1])\n",
    "    for b_ in [-b, b]:\n",
    "        ys = w * xs + b_\n",
    "        yield np.array([xs, ys, [w, w]]).T\n",
    "\n",
    "margin1, margin2 = margin_lines(*supvec, optimal_w)\n",
    "df1 = pd.DataFrame(margin1, columns=['x0', 'x1', 'w'])\n",
    "df2 = pd.DataFrame(margin2, columns=['x0', 'x1', 'w'])\n",
    "\n",
    "fig = px.scatter(df, x='x0', y='x1', color=y.astype(str),\n",
    "                 width=600, height=600, range_x=[-3, 3], range_y=[-3, 3])\n",
    "fig.add_traces(px.line(clf_line[clf_line.w == optimal_w], x='x0', y='x1',\n",
    "                       color_discrete_sequence=px.colors.qualitative.Alphabet).data)\n",
    "fig.add_traces(px.line(df1, x='x0', y='x1',\n",
    "                       color_discrete_sequence=px.colors.qualitative.Pastel).data)\n",
    "fig.add_traces(px.line(df2, x='x0', y='x1',\n",
    "                       color_discrete_sequence=px.colors.qualitative.Pastel).data)\n",
    "\n",
    "fig"
   ]
  },
  {
   "attachments": {},
   "cell_type": "markdown",
   "metadata": {},
   "source": [
    "### Soft Margin\n",
    "\n",
    "What if the dataset is not perfectly linearly separable? We still want to find a linear model that separates the data as well as possible. We can allow some data points to be on the wrong side of the decision boundary.\n",
    "\n",
    "The loss function is now defined as $$L(w, b) = \\sum_{i=1}^n \\max(0, 1 - y_i(w^Tx_i + b)) + \\lambda \\|w\\|^2,$$ where $\\lambda$ is a hyperparameter that controls the trade-off between the margin and the loss. "
   ]
  },
  {
   "cell_type": "code",
   "execution_count": 20,
   "metadata": {},
   "outputs": [
    {
     "data": {
      "application/vnd.plotly.v1+json": {
       "config": {
        "plotlyServerURL": "https://plot.ly"
       },
       "data": [
        {
         "hovertemplate": "color=-1<br>x0=%{x}<br>x1=%{y}<extra></extra>",
         "legendgroup": "-1",
         "marker": {
          "color": "#636efa",
          "symbol": "circle"
         },
         "mode": "markers",
         "name": "-1",
         "orientation": "v",
         "showlegend": true,
         "type": "scatter",
         "x": [
          -1.5281717522634557,
          -0.8781787290085631,
          -0.9577862532844071,
          -1.1918355523616149,
          1.1855754065331614,
          -1.691660751725309,
          -0.48707017958199117,
          0.74481176421648,
          -1.3062040126283718,
          -0.8798410475183709,
          -0.6809609039429014,
          -1.1228902255186481,
          -0.6998296800441726,
          0.6598021771098705,
          0.198917879901507,
          -1.6706622862890306,
          -0.576505645935887,
          0.4621079370449741,
          -0.8134386090117157,
          -2.1006191772129212,
          0.13162938745142694,
          -1.6712461308368192,
          -0.09914405073558819,
          -0.7699052646356166,
          -0.809084515332534,
          -1.3438536755710757,
          -1.1724282075504358,
          -1.7543979409966528,
          -1.2223281426103592,
          -0.7144126747457412,
          0.13376944233543742,
          -1.208894233374778,
          -2.117310348635278,
          -0.8399629305521695,
          0.6243453636632417,
          -1.6200008439481293,
          -0.511481853462503,
          -2.4441138054295894,
          -1.267888079626016,
          -1.3224172040135076,
          -0.949192245223971,
          -0.09840927940720445,
          -0.6843650527583948,
          -1.6871727001195995,
          -1.7471582937508376,
          -2.14251819802214,
          -0.8017002798732302,
          -0.16101658612549508,
          -0.13459237067532148,
          -1.3752849500901143
         ],
         "xaxis": "x",
         "y": [
          -2.0729686221561705,
          0.12948390791191966,
          -0.41718478628417777,
          -1.8876289640848363,
          -2.3964963354881377,
          -1.3967535268559774,
          -1.2980928351027157,
          -1.7612069008951028,
          -0.17202535739275382,
          -0.3827968902925808,
          -1.2493703754774101,
          -1.9357694342590688,
          -1.3522498464935186,
          -0.2579558394226644,
          -0.8148435825160562,
          -0.6224362136790806,
          -0.9226599316514406,
          -3.060140709497654,
          -0.5899483527917437,
          0.14472370983961413,
          0.5198168164221988,
          -1.0126645989189014,
          -1.6837278591743332,
          -0.23798881968797525,
          1.1002551364788422,
          -0.956403143165753,
          -1.8778584179213718,
          0.2528681552332879,
          -1.2007580689299975,
          -0.11485883572927191,
          -2.099891267314031,
          -0.41337680881780237,
          -0.7655843021829078,
          -0.12383107888377509,
          -1.6117564136500753,
          -0.3019679659277811,
          -1.0755717130210558,
          -1.5044658629464513,
          -0.469644533261814,
          -1.3840543546684156,
          -1.6369956465693534,
          -0.49750566109813177,
          -3.022201215824003,
          -1.8452056414987195,
          0.6924546010277466,
          -1.3493427224128776,
          -0.8809913541925412,
          -0.06889791869644268,
          -3.3015386968802827,
          -1.6387304074542224
         ],
         "yaxis": "y"
        },
        {
         "hovertemplate": "color=1<br>x0=%{x}<br>x1=%{y}<extra></extra>",
         "legendgroup": "1",
         "marker": {
          "color": "#EF553B",
          "symbol": "circle"
         },
         "mode": "markers",
         "name": "1",
         "orientation": "v",
         "showlegend": true,
         "type": "scatter",
         "x": [
          0.8895529735826837,
          1.5205763370733707,
          0.8190796979218495,
          3.1906997289697334,
          1.7928068659193477,
          0.7337814939963779,
          1.2487991613877705,
          2.16033856999377,
          1.0174094083000047,
          1.0436689931783891,
          1.232494559178738,
          1.503184813435326,
          1.8018610318713448,
          -0.27255875524599427,
          1.4952113239779603,
          1.5294653243527092,
          1.077821127912706,
          -0.23005813566696176,
          -0.3731173202467557,
          1.3505459786641074,
          1.8461606475850334,
          1.7405564510962748,
          0.9753830441242216,
          2.038824601859414,
          -0.19926803233518608,
          1.4034916417907999,
          1.441364443568582,
          1.868886157005868,
          1.6590497961002102,
          0.4829055420797721,
          -0.8579818644467521,
          1.986335187821242,
          1.602319280295629,
          2.121417708235664,
          2.2737559301587766,
          3.528325706806398,
          2.331457112587592,
          1.8109516728035557,
          0.5528714352140018,
          -0.09491184574104183,
          2.904658708340981,
          0.8134302280926512,
          0.353083311745092,
          2.6276507531489064,
          1.280665077122639,
          1.5627610966190262,
          0.9613044907339489,
          0.68988322648194,
          0.863555256103967,
          1.6800698398781044
         ],
         "xaxis": "x",
         "y": [
          0.3826379362876391,
          -0.1443413896231427,
          0.3960793722067427,
          -0.8963609228910925,
          0.3764692703202084,
          1.0326145466933585,
          0.7033588476291373,
          1.3694927163757238,
          -0.12201872874688835,
          0.7736857574863948,
          1.6825514068644851,
          2.293225882532262,
          1.0465672984241456,
          1.3135477204634323,
          0.825296840257499,
          1.137701209997386,
          1.6183802619985244,
          1.5505374959762155,
          1.3151593920422917,
          -0.31228341123743175,
          0.14048405916801365,
          0.04629939819206541,
          0.2248383808308404,
          3.1869796469742577,
          1.8633453175440216,
          1.593578523237067,
          0.8998447667165003,
          1.7504116398650083,
          -0.6274383406162574,
          0.002973172349737041,
          2.2361640304528203,
          1.2135339013354418,
          1.4202822036470595,
          1.4089005379368278,
          2.9671017492547347,
          0.75136522228454,
          0.7126921365239811,
          2.044442094707259,
          2.224507704805499,
          1.1693824330586682,
          2.1110566985605046,
          0.8982541274708548,
          1.901486891648711,
          1.3380116965744757,
          0.9268872962527223,
          1.2407370922377323,
          -0.6157723547032947,
          -1.4348377641071388,
          0.8809458122251901,
          0.6801984011013288
         ],
         "yaxis": "y"
        }
       ],
       "layout": {
        "height": 600,
        "legend": {
         "title": {
          "text": "color"
         },
         "tracegroupgap": 0
        },
        "margin": {
         "t": 60
        },
        "template": {
         "data": {
          "bar": [
           {
            "error_x": {
             "color": "#2a3f5f"
            },
            "error_y": {
             "color": "#2a3f5f"
            },
            "marker": {
             "line": {
              "color": "#E5ECF6",
              "width": 0.5
             },
             "pattern": {
              "fillmode": "overlay",
              "size": 10,
              "solidity": 0.2
             }
            },
            "type": "bar"
           }
          ],
          "barpolar": [
           {
            "marker": {
             "line": {
              "color": "#E5ECF6",
              "width": 0.5
             },
             "pattern": {
              "fillmode": "overlay",
              "size": 10,
              "solidity": 0.2
             }
            },
            "type": "barpolar"
           }
          ],
          "carpet": [
           {
            "aaxis": {
             "endlinecolor": "#2a3f5f",
             "gridcolor": "white",
             "linecolor": "white",
             "minorgridcolor": "white",
             "startlinecolor": "#2a3f5f"
            },
            "baxis": {
             "endlinecolor": "#2a3f5f",
             "gridcolor": "white",
             "linecolor": "white",
             "minorgridcolor": "white",
             "startlinecolor": "#2a3f5f"
            },
            "type": "carpet"
           }
          ],
          "choropleth": [
           {
            "colorbar": {
             "outlinewidth": 0,
             "ticks": ""
            },
            "type": "choropleth"
           }
          ],
          "contour": [
           {
            "colorbar": {
             "outlinewidth": 0,
             "ticks": ""
            },
            "colorscale": [
             [
              0,
              "#0d0887"
             ],
             [
              0.1111111111111111,
              "#46039f"
             ],
             [
              0.2222222222222222,
              "#7201a8"
             ],
             [
              0.3333333333333333,
              "#9c179e"
             ],
             [
              0.4444444444444444,
              "#bd3786"
             ],
             [
              0.5555555555555556,
              "#d8576b"
             ],
             [
              0.6666666666666666,
              "#ed7953"
             ],
             [
              0.7777777777777778,
              "#fb9f3a"
             ],
             [
              0.8888888888888888,
              "#fdca26"
             ],
             [
              1,
              "#f0f921"
             ]
            ],
            "type": "contour"
           }
          ],
          "contourcarpet": [
           {
            "colorbar": {
             "outlinewidth": 0,
             "ticks": ""
            },
            "type": "contourcarpet"
           }
          ],
          "heatmap": [
           {
            "colorbar": {
             "outlinewidth": 0,
             "ticks": ""
            },
            "colorscale": [
             [
              0,
              "#0d0887"
             ],
             [
              0.1111111111111111,
              "#46039f"
             ],
             [
              0.2222222222222222,
              "#7201a8"
             ],
             [
              0.3333333333333333,
              "#9c179e"
             ],
             [
              0.4444444444444444,
              "#bd3786"
             ],
             [
              0.5555555555555556,
              "#d8576b"
             ],
             [
              0.6666666666666666,
              "#ed7953"
             ],
             [
              0.7777777777777778,
              "#fb9f3a"
             ],
             [
              0.8888888888888888,
              "#fdca26"
             ],
             [
              1,
              "#f0f921"
             ]
            ],
            "type": "heatmap"
           }
          ],
          "heatmapgl": [
           {
            "colorbar": {
             "outlinewidth": 0,
             "ticks": ""
            },
            "colorscale": [
             [
              0,
              "#0d0887"
             ],
             [
              0.1111111111111111,
              "#46039f"
             ],
             [
              0.2222222222222222,
              "#7201a8"
             ],
             [
              0.3333333333333333,
              "#9c179e"
             ],
             [
              0.4444444444444444,
              "#bd3786"
             ],
             [
              0.5555555555555556,
              "#d8576b"
             ],
             [
              0.6666666666666666,
              "#ed7953"
             ],
             [
              0.7777777777777778,
              "#fb9f3a"
             ],
             [
              0.8888888888888888,
              "#fdca26"
             ],
             [
              1,
              "#f0f921"
             ]
            ],
            "type": "heatmapgl"
           }
          ],
          "histogram": [
           {
            "marker": {
             "pattern": {
              "fillmode": "overlay",
              "size": 10,
              "solidity": 0.2
             }
            },
            "type": "histogram"
           }
          ],
          "histogram2d": [
           {
            "colorbar": {
             "outlinewidth": 0,
             "ticks": ""
            },
            "colorscale": [
             [
              0,
              "#0d0887"
             ],
             [
              0.1111111111111111,
              "#46039f"
             ],
             [
              0.2222222222222222,
              "#7201a8"
             ],
             [
              0.3333333333333333,
              "#9c179e"
             ],
             [
              0.4444444444444444,
              "#bd3786"
             ],
             [
              0.5555555555555556,
              "#d8576b"
             ],
             [
              0.6666666666666666,
              "#ed7953"
             ],
             [
              0.7777777777777778,
              "#fb9f3a"
             ],
             [
              0.8888888888888888,
              "#fdca26"
             ],
             [
              1,
              "#f0f921"
             ]
            ],
            "type": "histogram2d"
           }
          ],
          "histogram2dcontour": [
           {
            "colorbar": {
             "outlinewidth": 0,
             "ticks": ""
            },
            "colorscale": [
             [
              0,
              "#0d0887"
             ],
             [
              0.1111111111111111,
              "#46039f"
             ],
             [
              0.2222222222222222,
              "#7201a8"
             ],
             [
              0.3333333333333333,
              "#9c179e"
             ],
             [
              0.4444444444444444,
              "#bd3786"
             ],
             [
              0.5555555555555556,
              "#d8576b"
             ],
             [
              0.6666666666666666,
              "#ed7953"
             ],
             [
              0.7777777777777778,
              "#fb9f3a"
             ],
             [
              0.8888888888888888,
              "#fdca26"
             ],
             [
              1,
              "#f0f921"
             ]
            ],
            "type": "histogram2dcontour"
           }
          ],
          "mesh3d": [
           {
            "colorbar": {
             "outlinewidth": 0,
             "ticks": ""
            },
            "type": "mesh3d"
           }
          ],
          "parcoords": [
           {
            "line": {
             "colorbar": {
              "outlinewidth": 0,
              "ticks": ""
             }
            },
            "type": "parcoords"
           }
          ],
          "pie": [
           {
            "automargin": true,
            "type": "pie"
           }
          ],
          "scatter": [
           {
            "fillpattern": {
             "fillmode": "overlay",
             "size": 10,
             "solidity": 0.2
            },
            "type": "scatter"
           }
          ],
          "scatter3d": [
           {
            "line": {
             "colorbar": {
              "outlinewidth": 0,
              "ticks": ""
             }
            },
            "marker": {
             "colorbar": {
              "outlinewidth": 0,
              "ticks": ""
             }
            },
            "type": "scatter3d"
           }
          ],
          "scattercarpet": [
           {
            "marker": {
             "colorbar": {
              "outlinewidth": 0,
              "ticks": ""
             }
            },
            "type": "scattercarpet"
           }
          ],
          "scattergeo": [
           {
            "marker": {
             "colorbar": {
              "outlinewidth": 0,
              "ticks": ""
             }
            },
            "type": "scattergeo"
           }
          ],
          "scattergl": [
           {
            "marker": {
             "colorbar": {
              "outlinewidth": 0,
              "ticks": ""
             }
            },
            "type": "scattergl"
           }
          ],
          "scattermapbox": [
           {
            "marker": {
             "colorbar": {
              "outlinewidth": 0,
              "ticks": ""
             }
            },
            "type": "scattermapbox"
           }
          ],
          "scatterpolar": [
           {
            "marker": {
             "colorbar": {
              "outlinewidth": 0,
              "ticks": ""
             }
            },
            "type": "scatterpolar"
           }
          ],
          "scatterpolargl": [
           {
            "marker": {
             "colorbar": {
              "outlinewidth": 0,
              "ticks": ""
             }
            },
            "type": "scatterpolargl"
           }
          ],
          "scatterternary": [
           {
            "marker": {
             "colorbar": {
              "outlinewidth": 0,
              "ticks": ""
             }
            },
            "type": "scatterternary"
           }
          ],
          "surface": [
           {
            "colorbar": {
             "outlinewidth": 0,
             "ticks": ""
            },
            "colorscale": [
             [
              0,
              "#0d0887"
             ],
             [
              0.1111111111111111,
              "#46039f"
             ],
             [
              0.2222222222222222,
              "#7201a8"
             ],
             [
              0.3333333333333333,
              "#9c179e"
             ],
             [
              0.4444444444444444,
              "#bd3786"
             ],
             [
              0.5555555555555556,
              "#d8576b"
             ],
             [
              0.6666666666666666,
              "#ed7953"
             ],
             [
              0.7777777777777778,
              "#fb9f3a"
             ],
             [
              0.8888888888888888,
              "#fdca26"
             ],
             [
              1,
              "#f0f921"
             ]
            ],
            "type": "surface"
           }
          ],
          "table": [
           {
            "cells": {
             "fill": {
              "color": "#EBF0F8"
             },
             "line": {
              "color": "white"
             }
            },
            "header": {
             "fill": {
              "color": "#C8D4E3"
             },
             "line": {
              "color": "white"
             }
            },
            "type": "table"
           }
          ]
         },
         "layout": {
          "annotationdefaults": {
           "arrowcolor": "#2a3f5f",
           "arrowhead": 0,
           "arrowwidth": 1
          },
          "autotypenumbers": "strict",
          "coloraxis": {
           "colorbar": {
            "outlinewidth": 0,
            "ticks": ""
           }
          },
          "colorscale": {
           "diverging": [
            [
             0,
             "#8e0152"
            ],
            [
             0.1,
             "#c51b7d"
            ],
            [
             0.2,
             "#de77ae"
            ],
            [
             0.3,
             "#f1b6da"
            ],
            [
             0.4,
             "#fde0ef"
            ],
            [
             0.5,
             "#f7f7f7"
            ],
            [
             0.6,
             "#e6f5d0"
            ],
            [
             0.7,
             "#b8e186"
            ],
            [
             0.8,
             "#7fbc41"
            ],
            [
             0.9,
             "#4d9221"
            ],
            [
             1,
             "#276419"
            ]
           ],
           "sequential": [
            [
             0,
             "#0d0887"
            ],
            [
             0.1111111111111111,
             "#46039f"
            ],
            [
             0.2222222222222222,
             "#7201a8"
            ],
            [
             0.3333333333333333,
             "#9c179e"
            ],
            [
             0.4444444444444444,
             "#bd3786"
            ],
            [
             0.5555555555555556,
             "#d8576b"
            ],
            [
             0.6666666666666666,
             "#ed7953"
            ],
            [
             0.7777777777777778,
             "#fb9f3a"
            ],
            [
             0.8888888888888888,
             "#fdca26"
            ],
            [
             1,
             "#f0f921"
            ]
           ],
           "sequentialminus": [
            [
             0,
             "#0d0887"
            ],
            [
             0.1111111111111111,
             "#46039f"
            ],
            [
             0.2222222222222222,
             "#7201a8"
            ],
            [
             0.3333333333333333,
             "#9c179e"
            ],
            [
             0.4444444444444444,
             "#bd3786"
            ],
            [
             0.5555555555555556,
             "#d8576b"
            ],
            [
             0.6666666666666666,
             "#ed7953"
            ],
            [
             0.7777777777777778,
             "#fb9f3a"
            ],
            [
             0.8888888888888888,
             "#fdca26"
            ],
            [
             1,
             "#f0f921"
            ]
           ]
          },
          "colorway": [
           "#636efa",
           "#EF553B",
           "#00cc96",
           "#ab63fa",
           "#FFA15A",
           "#19d3f3",
           "#FF6692",
           "#B6E880",
           "#FF97FF",
           "#FECB52"
          ],
          "font": {
           "color": "#2a3f5f"
          },
          "geo": {
           "bgcolor": "white",
           "lakecolor": "white",
           "landcolor": "#E5ECF6",
           "showlakes": true,
           "showland": true,
           "subunitcolor": "white"
          },
          "hoverlabel": {
           "align": "left"
          },
          "hovermode": "closest",
          "mapbox": {
           "style": "light"
          },
          "paper_bgcolor": "white",
          "plot_bgcolor": "#E5ECF6",
          "polar": {
           "angularaxis": {
            "gridcolor": "white",
            "linecolor": "white",
            "ticks": ""
           },
           "bgcolor": "#E5ECF6",
           "radialaxis": {
            "gridcolor": "white",
            "linecolor": "white",
            "ticks": ""
           }
          },
          "scene": {
           "xaxis": {
            "backgroundcolor": "#E5ECF6",
            "gridcolor": "white",
            "gridwidth": 2,
            "linecolor": "white",
            "showbackground": true,
            "ticks": "",
            "zerolinecolor": "white"
           },
           "yaxis": {
            "backgroundcolor": "#E5ECF6",
            "gridcolor": "white",
            "gridwidth": 2,
            "linecolor": "white",
            "showbackground": true,
            "ticks": "",
            "zerolinecolor": "white"
           },
           "zaxis": {
            "backgroundcolor": "#E5ECF6",
            "gridcolor": "white",
            "gridwidth": 2,
            "linecolor": "white",
            "showbackground": true,
            "ticks": "",
            "zerolinecolor": "white"
           }
          },
          "shapedefaults": {
           "line": {
            "color": "#2a3f5f"
           }
          },
          "ternary": {
           "aaxis": {
            "gridcolor": "white",
            "linecolor": "white",
            "ticks": ""
           },
           "baxis": {
            "gridcolor": "white",
            "linecolor": "white",
            "ticks": ""
           },
           "bgcolor": "#E5ECF6",
           "caxis": {
            "gridcolor": "white",
            "linecolor": "white",
            "ticks": ""
           }
          },
          "title": {
           "x": 0.05
          },
          "xaxis": {
           "automargin": true,
           "gridcolor": "white",
           "linecolor": "white",
           "ticks": "",
           "title": {
            "standoff": 15
           },
           "zerolinecolor": "white",
           "zerolinewidth": 2
          },
          "yaxis": {
           "automargin": true,
           "gridcolor": "white",
           "linecolor": "white",
           "ticks": "",
           "title": {
            "standoff": 15
           },
           "zerolinecolor": "white",
           "zerolinewidth": 2
          }
         }
        },
        "width": 600,
        "xaxis": {
         "anchor": "y",
         "domain": [
          0,
          1
         ],
         "range": [
          -3,
          3
         ],
         "title": {
          "text": "x0"
         }
        },
        "yaxis": {
         "anchor": "x",
         "domain": [
          0,
          1
         ],
         "range": [
          -3,
          3
         ],
         "title": {
          "text": "x1"
         }
        }
       }
      }
     },
     "metadata": {},
     "output_type": "display_data"
    }
   ],
   "source": [
    "from sklearn.datasets import make_blobs\n",
    "import plotly.express as px\n",
    "\n",
    "X, y = make_blobs(n_samples=100, centers=[[-1, -1], [1, 1]],\n",
    "                  random_state=1, cluster_std=1.)\n",
    "y = np.where(y == 0, -1, 1)\n",
    "\n",
    "df = pd.DataFrame(X, columns=['x0', 'x1']).join(\n",
    "    pd.Series(y, name='target'))\n",
    "\n",
    "fig = px.scatter(df, x='x0', y='x1', color=y.astype(str),\n",
    "                 width=600, height=600, range_x=[-3, 3], range_y=[-3, 3])\n",
    "\n",
    "fig"
   ]
  },
  {
   "cell_type": "code",
   "execution_count": 21,
   "metadata": {},
   "outputs": [
    {
     "data": {
      "text/plain": [
       "(array([[1.1664128 , 0.83119657]]), array([-0.22276584]))"
      ]
     },
     "execution_count": 21,
     "metadata": {},
     "output_type": "execute_result"
    }
   ],
   "source": [
    "from sklearn.svm import SVC, LinearSVC\n",
    "\n",
    "lin_svc = LinearSVC(C=1, random_state=42)\n",
    "lin_svc.fit(X, y)\n",
    "lin_svc.coef_, lin_svc.intercept_"
   ]
  },
  {
   "cell_type": "code",
   "execution_count": 22,
   "metadata": {},
   "outputs": [
    {
     "data": {
      "application/vnd.plotly.v1+json": {
       "config": {
        "plotlyServerURL": "https://plot.ly"
       },
       "data": [
        {
         "hovertemplate": "color=-1<br>x0=%{x}<br>x1=%{y}<extra></extra>",
         "legendgroup": "-1",
         "marker": {
          "color": "#636efa",
          "symbol": "circle"
         },
         "mode": "markers",
         "name": "-1",
         "orientation": "v",
         "showlegend": true,
         "type": "scatter",
         "x": [
          -1.5281717522634557,
          -0.8781787290085631,
          -0.9577862532844071,
          -1.1918355523616149,
          1.1855754065331614,
          -1.691660751725309,
          -0.48707017958199117,
          0.74481176421648,
          -1.3062040126283718,
          -0.8798410475183709,
          -0.6809609039429014,
          -1.1228902255186481,
          -0.6998296800441726,
          0.6598021771098705,
          0.198917879901507,
          -1.6706622862890306,
          -0.576505645935887,
          0.4621079370449741,
          -0.8134386090117157,
          -2.1006191772129212,
          0.13162938745142694,
          -1.6712461308368192,
          -0.09914405073558819,
          -0.7699052646356166,
          -0.809084515332534,
          -1.3438536755710757,
          -1.1724282075504358,
          -1.7543979409966528,
          -1.2223281426103592,
          -0.7144126747457412,
          0.13376944233543742,
          -1.208894233374778,
          -2.117310348635278,
          -0.8399629305521695,
          0.6243453636632417,
          -1.6200008439481293,
          -0.511481853462503,
          -2.4441138054295894,
          -1.267888079626016,
          -1.3224172040135076,
          -0.949192245223971,
          -0.09840927940720445,
          -0.6843650527583948,
          -1.6871727001195995,
          -1.7471582937508376,
          -2.14251819802214,
          -0.8017002798732302,
          -0.16101658612549508,
          -0.13459237067532148,
          -1.3752849500901143
         ],
         "xaxis": "x",
         "y": [
          -2.0729686221561705,
          0.12948390791191966,
          -0.41718478628417777,
          -1.8876289640848363,
          -2.3964963354881377,
          -1.3967535268559774,
          -1.2980928351027157,
          -1.7612069008951028,
          -0.17202535739275382,
          -0.3827968902925808,
          -1.2493703754774101,
          -1.9357694342590688,
          -1.3522498464935186,
          -0.2579558394226644,
          -0.8148435825160562,
          -0.6224362136790806,
          -0.9226599316514406,
          -3.060140709497654,
          -0.5899483527917437,
          0.14472370983961413,
          0.5198168164221988,
          -1.0126645989189014,
          -1.6837278591743332,
          -0.23798881968797525,
          1.1002551364788422,
          -0.956403143165753,
          -1.8778584179213718,
          0.2528681552332879,
          -1.2007580689299975,
          -0.11485883572927191,
          -2.099891267314031,
          -0.41337680881780237,
          -0.7655843021829078,
          -0.12383107888377509,
          -1.6117564136500753,
          -0.3019679659277811,
          -1.0755717130210558,
          -1.5044658629464513,
          -0.469644533261814,
          -1.3840543546684156,
          -1.6369956465693534,
          -0.49750566109813177,
          -3.022201215824003,
          -1.8452056414987195,
          0.6924546010277466,
          -1.3493427224128776,
          -0.8809913541925412,
          -0.06889791869644268,
          -3.3015386968802827,
          -1.6387304074542224
         ],
         "yaxis": "y"
        },
        {
         "hovertemplate": "color=1<br>x0=%{x}<br>x1=%{y}<extra></extra>",
         "legendgroup": "1",
         "marker": {
          "color": "#EF553B",
          "symbol": "circle"
         },
         "mode": "markers",
         "name": "1",
         "orientation": "v",
         "showlegend": true,
         "type": "scatter",
         "x": [
          0.8895529735826837,
          1.5205763370733707,
          0.8190796979218495,
          3.1906997289697334,
          1.7928068659193477,
          0.7337814939963779,
          1.2487991613877705,
          2.16033856999377,
          1.0174094083000047,
          1.0436689931783891,
          1.232494559178738,
          1.503184813435326,
          1.8018610318713448,
          -0.27255875524599427,
          1.4952113239779603,
          1.5294653243527092,
          1.077821127912706,
          -0.23005813566696176,
          -0.3731173202467557,
          1.3505459786641074,
          1.8461606475850334,
          1.7405564510962748,
          0.9753830441242216,
          2.038824601859414,
          -0.19926803233518608,
          1.4034916417907999,
          1.441364443568582,
          1.868886157005868,
          1.6590497961002102,
          0.4829055420797721,
          -0.8579818644467521,
          1.986335187821242,
          1.602319280295629,
          2.121417708235664,
          2.2737559301587766,
          3.528325706806398,
          2.331457112587592,
          1.8109516728035557,
          0.5528714352140018,
          -0.09491184574104183,
          2.904658708340981,
          0.8134302280926512,
          0.353083311745092,
          2.6276507531489064,
          1.280665077122639,
          1.5627610966190262,
          0.9613044907339489,
          0.68988322648194,
          0.863555256103967,
          1.6800698398781044
         ],
         "xaxis": "x",
         "y": [
          0.3826379362876391,
          -0.1443413896231427,
          0.3960793722067427,
          -0.8963609228910925,
          0.3764692703202084,
          1.0326145466933585,
          0.7033588476291373,
          1.3694927163757238,
          -0.12201872874688835,
          0.7736857574863948,
          1.6825514068644851,
          2.293225882532262,
          1.0465672984241456,
          1.3135477204634323,
          0.825296840257499,
          1.137701209997386,
          1.6183802619985244,
          1.5505374959762155,
          1.3151593920422917,
          -0.31228341123743175,
          0.14048405916801365,
          0.04629939819206541,
          0.2248383808308404,
          3.1869796469742577,
          1.8633453175440216,
          1.593578523237067,
          0.8998447667165003,
          1.7504116398650083,
          -0.6274383406162574,
          0.002973172349737041,
          2.2361640304528203,
          1.2135339013354418,
          1.4202822036470595,
          1.4089005379368278,
          2.9671017492547347,
          0.75136522228454,
          0.7126921365239811,
          2.044442094707259,
          2.224507704805499,
          1.1693824330586682,
          2.1110566985605046,
          0.8982541274708548,
          1.901486891648711,
          1.3380116965744757,
          0.9268872962527223,
          1.2407370922377323,
          -0.6157723547032947,
          -1.4348377641071388,
          0.8809458122251901,
          0.6801984011013288
         ],
         "yaxis": "y"
        },
        {
         "hovertemplate": "x=%{x}<br>y=%{y}<extra></extra>",
         "legendgroup": "",
         "line": {
          "color": "#636efa",
          "dash": "solid"
         },
         "marker": {
          "symbol": "circle"
         },
         "mode": "lines",
         "name": "",
         "orientation": "v",
         "showlegend": false,
         "type": "scatter",
         "x": [
          -5,
          5
         ],
         "xaxis": "x",
         "y": [
          7.284474003273712,
          -6.748461601292383
         ],
         "yaxis": "y"
        }
       ],
       "layout": {
        "height": 600,
        "legend": {
         "title": {
          "text": "color"
         },
         "tracegroupgap": 0
        },
        "margin": {
         "t": 60
        },
        "template": {
         "data": {
          "bar": [
           {
            "error_x": {
             "color": "#2a3f5f"
            },
            "error_y": {
             "color": "#2a3f5f"
            },
            "marker": {
             "line": {
              "color": "#E5ECF6",
              "width": 0.5
             },
             "pattern": {
              "fillmode": "overlay",
              "size": 10,
              "solidity": 0.2
             }
            },
            "type": "bar"
           }
          ],
          "barpolar": [
           {
            "marker": {
             "line": {
              "color": "#E5ECF6",
              "width": 0.5
             },
             "pattern": {
              "fillmode": "overlay",
              "size": 10,
              "solidity": 0.2
             }
            },
            "type": "barpolar"
           }
          ],
          "carpet": [
           {
            "aaxis": {
             "endlinecolor": "#2a3f5f",
             "gridcolor": "white",
             "linecolor": "white",
             "minorgridcolor": "white",
             "startlinecolor": "#2a3f5f"
            },
            "baxis": {
             "endlinecolor": "#2a3f5f",
             "gridcolor": "white",
             "linecolor": "white",
             "minorgridcolor": "white",
             "startlinecolor": "#2a3f5f"
            },
            "type": "carpet"
           }
          ],
          "choropleth": [
           {
            "colorbar": {
             "outlinewidth": 0,
             "ticks": ""
            },
            "type": "choropleth"
           }
          ],
          "contour": [
           {
            "colorbar": {
             "outlinewidth": 0,
             "ticks": ""
            },
            "colorscale": [
             [
              0,
              "#0d0887"
             ],
             [
              0.1111111111111111,
              "#46039f"
             ],
             [
              0.2222222222222222,
              "#7201a8"
             ],
             [
              0.3333333333333333,
              "#9c179e"
             ],
             [
              0.4444444444444444,
              "#bd3786"
             ],
             [
              0.5555555555555556,
              "#d8576b"
             ],
             [
              0.6666666666666666,
              "#ed7953"
             ],
             [
              0.7777777777777778,
              "#fb9f3a"
             ],
             [
              0.8888888888888888,
              "#fdca26"
             ],
             [
              1,
              "#f0f921"
             ]
            ],
            "type": "contour"
           }
          ],
          "contourcarpet": [
           {
            "colorbar": {
             "outlinewidth": 0,
             "ticks": ""
            },
            "type": "contourcarpet"
           }
          ],
          "heatmap": [
           {
            "colorbar": {
             "outlinewidth": 0,
             "ticks": ""
            },
            "colorscale": [
             [
              0,
              "#0d0887"
             ],
             [
              0.1111111111111111,
              "#46039f"
             ],
             [
              0.2222222222222222,
              "#7201a8"
             ],
             [
              0.3333333333333333,
              "#9c179e"
             ],
             [
              0.4444444444444444,
              "#bd3786"
             ],
             [
              0.5555555555555556,
              "#d8576b"
             ],
             [
              0.6666666666666666,
              "#ed7953"
             ],
             [
              0.7777777777777778,
              "#fb9f3a"
             ],
             [
              0.8888888888888888,
              "#fdca26"
             ],
             [
              1,
              "#f0f921"
             ]
            ],
            "type": "heatmap"
           }
          ],
          "heatmapgl": [
           {
            "colorbar": {
             "outlinewidth": 0,
             "ticks": ""
            },
            "colorscale": [
             [
              0,
              "#0d0887"
             ],
             [
              0.1111111111111111,
              "#46039f"
             ],
             [
              0.2222222222222222,
              "#7201a8"
             ],
             [
              0.3333333333333333,
              "#9c179e"
             ],
             [
              0.4444444444444444,
              "#bd3786"
             ],
             [
              0.5555555555555556,
              "#d8576b"
             ],
             [
              0.6666666666666666,
              "#ed7953"
             ],
             [
              0.7777777777777778,
              "#fb9f3a"
             ],
             [
              0.8888888888888888,
              "#fdca26"
             ],
             [
              1,
              "#f0f921"
             ]
            ],
            "type": "heatmapgl"
           }
          ],
          "histogram": [
           {
            "marker": {
             "pattern": {
              "fillmode": "overlay",
              "size": 10,
              "solidity": 0.2
             }
            },
            "type": "histogram"
           }
          ],
          "histogram2d": [
           {
            "colorbar": {
             "outlinewidth": 0,
             "ticks": ""
            },
            "colorscale": [
             [
              0,
              "#0d0887"
             ],
             [
              0.1111111111111111,
              "#46039f"
             ],
             [
              0.2222222222222222,
              "#7201a8"
             ],
             [
              0.3333333333333333,
              "#9c179e"
             ],
             [
              0.4444444444444444,
              "#bd3786"
             ],
             [
              0.5555555555555556,
              "#d8576b"
             ],
             [
              0.6666666666666666,
              "#ed7953"
             ],
             [
              0.7777777777777778,
              "#fb9f3a"
             ],
             [
              0.8888888888888888,
              "#fdca26"
             ],
             [
              1,
              "#f0f921"
             ]
            ],
            "type": "histogram2d"
           }
          ],
          "histogram2dcontour": [
           {
            "colorbar": {
             "outlinewidth": 0,
             "ticks": ""
            },
            "colorscale": [
             [
              0,
              "#0d0887"
             ],
             [
              0.1111111111111111,
              "#46039f"
             ],
             [
              0.2222222222222222,
              "#7201a8"
             ],
             [
              0.3333333333333333,
              "#9c179e"
             ],
             [
              0.4444444444444444,
              "#bd3786"
             ],
             [
              0.5555555555555556,
              "#d8576b"
             ],
             [
              0.6666666666666666,
              "#ed7953"
             ],
             [
              0.7777777777777778,
              "#fb9f3a"
             ],
             [
              0.8888888888888888,
              "#fdca26"
             ],
             [
              1,
              "#f0f921"
             ]
            ],
            "type": "histogram2dcontour"
           }
          ],
          "mesh3d": [
           {
            "colorbar": {
             "outlinewidth": 0,
             "ticks": ""
            },
            "type": "mesh3d"
           }
          ],
          "parcoords": [
           {
            "line": {
             "colorbar": {
              "outlinewidth": 0,
              "ticks": ""
             }
            },
            "type": "parcoords"
           }
          ],
          "pie": [
           {
            "automargin": true,
            "type": "pie"
           }
          ],
          "scatter": [
           {
            "fillpattern": {
             "fillmode": "overlay",
             "size": 10,
             "solidity": 0.2
            },
            "type": "scatter"
           }
          ],
          "scatter3d": [
           {
            "line": {
             "colorbar": {
              "outlinewidth": 0,
              "ticks": ""
             }
            },
            "marker": {
             "colorbar": {
              "outlinewidth": 0,
              "ticks": ""
             }
            },
            "type": "scatter3d"
           }
          ],
          "scattercarpet": [
           {
            "marker": {
             "colorbar": {
              "outlinewidth": 0,
              "ticks": ""
             }
            },
            "type": "scattercarpet"
           }
          ],
          "scattergeo": [
           {
            "marker": {
             "colorbar": {
              "outlinewidth": 0,
              "ticks": ""
             }
            },
            "type": "scattergeo"
           }
          ],
          "scattergl": [
           {
            "marker": {
             "colorbar": {
              "outlinewidth": 0,
              "ticks": ""
             }
            },
            "type": "scattergl"
           }
          ],
          "scattermapbox": [
           {
            "marker": {
             "colorbar": {
              "outlinewidth": 0,
              "ticks": ""
             }
            },
            "type": "scattermapbox"
           }
          ],
          "scatterpolar": [
           {
            "marker": {
             "colorbar": {
              "outlinewidth": 0,
              "ticks": ""
             }
            },
            "type": "scatterpolar"
           }
          ],
          "scatterpolargl": [
           {
            "marker": {
             "colorbar": {
              "outlinewidth": 0,
              "ticks": ""
             }
            },
            "type": "scatterpolargl"
           }
          ],
          "scatterternary": [
           {
            "marker": {
             "colorbar": {
              "outlinewidth": 0,
              "ticks": ""
             }
            },
            "type": "scatterternary"
           }
          ],
          "surface": [
           {
            "colorbar": {
             "outlinewidth": 0,
             "ticks": ""
            },
            "colorscale": [
             [
              0,
              "#0d0887"
             ],
             [
              0.1111111111111111,
              "#46039f"
             ],
             [
              0.2222222222222222,
              "#7201a8"
             ],
             [
              0.3333333333333333,
              "#9c179e"
             ],
             [
              0.4444444444444444,
              "#bd3786"
             ],
             [
              0.5555555555555556,
              "#d8576b"
             ],
             [
              0.6666666666666666,
              "#ed7953"
             ],
             [
              0.7777777777777778,
              "#fb9f3a"
             ],
             [
              0.8888888888888888,
              "#fdca26"
             ],
             [
              1,
              "#f0f921"
             ]
            ],
            "type": "surface"
           }
          ],
          "table": [
           {
            "cells": {
             "fill": {
              "color": "#EBF0F8"
             },
             "line": {
              "color": "white"
             }
            },
            "header": {
             "fill": {
              "color": "#C8D4E3"
             },
             "line": {
              "color": "white"
             }
            },
            "type": "table"
           }
          ]
         },
         "layout": {
          "annotationdefaults": {
           "arrowcolor": "#2a3f5f",
           "arrowhead": 0,
           "arrowwidth": 1
          },
          "autotypenumbers": "strict",
          "coloraxis": {
           "colorbar": {
            "outlinewidth": 0,
            "ticks": ""
           }
          },
          "colorscale": {
           "diverging": [
            [
             0,
             "#8e0152"
            ],
            [
             0.1,
             "#c51b7d"
            ],
            [
             0.2,
             "#de77ae"
            ],
            [
             0.3,
             "#f1b6da"
            ],
            [
             0.4,
             "#fde0ef"
            ],
            [
             0.5,
             "#f7f7f7"
            ],
            [
             0.6,
             "#e6f5d0"
            ],
            [
             0.7,
             "#b8e186"
            ],
            [
             0.8,
             "#7fbc41"
            ],
            [
             0.9,
             "#4d9221"
            ],
            [
             1,
             "#276419"
            ]
           ],
           "sequential": [
            [
             0,
             "#0d0887"
            ],
            [
             0.1111111111111111,
             "#46039f"
            ],
            [
             0.2222222222222222,
             "#7201a8"
            ],
            [
             0.3333333333333333,
             "#9c179e"
            ],
            [
             0.4444444444444444,
             "#bd3786"
            ],
            [
             0.5555555555555556,
             "#d8576b"
            ],
            [
             0.6666666666666666,
             "#ed7953"
            ],
            [
             0.7777777777777778,
             "#fb9f3a"
            ],
            [
             0.8888888888888888,
             "#fdca26"
            ],
            [
             1,
             "#f0f921"
            ]
           ],
           "sequentialminus": [
            [
             0,
             "#0d0887"
            ],
            [
             0.1111111111111111,
             "#46039f"
            ],
            [
             0.2222222222222222,
             "#7201a8"
            ],
            [
             0.3333333333333333,
             "#9c179e"
            ],
            [
             0.4444444444444444,
             "#bd3786"
            ],
            [
             0.5555555555555556,
             "#d8576b"
            ],
            [
             0.6666666666666666,
             "#ed7953"
            ],
            [
             0.7777777777777778,
             "#fb9f3a"
            ],
            [
             0.8888888888888888,
             "#fdca26"
            ],
            [
             1,
             "#f0f921"
            ]
           ]
          },
          "colorway": [
           "#636efa",
           "#EF553B",
           "#00cc96",
           "#ab63fa",
           "#FFA15A",
           "#19d3f3",
           "#FF6692",
           "#B6E880",
           "#FF97FF",
           "#FECB52"
          ],
          "font": {
           "color": "#2a3f5f"
          },
          "geo": {
           "bgcolor": "white",
           "lakecolor": "white",
           "landcolor": "#E5ECF6",
           "showlakes": true,
           "showland": true,
           "subunitcolor": "white"
          },
          "hoverlabel": {
           "align": "left"
          },
          "hovermode": "closest",
          "mapbox": {
           "style": "light"
          },
          "paper_bgcolor": "white",
          "plot_bgcolor": "#E5ECF6",
          "polar": {
           "angularaxis": {
            "gridcolor": "white",
            "linecolor": "white",
            "ticks": ""
           },
           "bgcolor": "#E5ECF6",
           "radialaxis": {
            "gridcolor": "white",
            "linecolor": "white",
            "ticks": ""
           }
          },
          "scene": {
           "xaxis": {
            "backgroundcolor": "#E5ECF6",
            "gridcolor": "white",
            "gridwidth": 2,
            "linecolor": "white",
            "showbackground": true,
            "ticks": "",
            "zerolinecolor": "white"
           },
           "yaxis": {
            "backgroundcolor": "#E5ECF6",
            "gridcolor": "white",
            "gridwidth": 2,
            "linecolor": "white",
            "showbackground": true,
            "ticks": "",
            "zerolinecolor": "white"
           },
           "zaxis": {
            "backgroundcolor": "#E5ECF6",
            "gridcolor": "white",
            "gridwidth": 2,
            "linecolor": "white",
            "showbackground": true,
            "ticks": "",
            "zerolinecolor": "white"
           }
          },
          "shapedefaults": {
           "line": {
            "color": "#2a3f5f"
           }
          },
          "ternary": {
           "aaxis": {
            "gridcolor": "white",
            "linecolor": "white",
            "ticks": ""
           },
           "baxis": {
            "gridcolor": "white",
            "linecolor": "white",
            "ticks": ""
           },
           "bgcolor": "#E5ECF6",
           "caxis": {
            "gridcolor": "white",
            "linecolor": "white",
            "ticks": ""
           }
          },
          "title": {
           "x": 0.05
          },
          "xaxis": {
           "automargin": true,
           "gridcolor": "white",
           "linecolor": "white",
           "ticks": "",
           "title": {
            "standoff": 15
           },
           "zerolinecolor": "white",
           "zerolinewidth": 2
          },
          "yaxis": {
           "automargin": true,
           "gridcolor": "white",
           "linecolor": "white",
           "ticks": "",
           "title": {
            "standoff": 15
           },
           "zerolinecolor": "white",
           "zerolinewidth": 2
          }
         }
        },
        "width": 600,
        "xaxis": {
         "anchor": "y",
         "domain": [
          0,
          1
         ],
         "range": [
          -3,
          3
         ],
         "title": {
          "text": "x0"
         }
        },
        "yaxis": {
         "anchor": "x",
         "domain": [
          0,
          1
         ],
         "range": [
          -3,
          3
         ],
         "title": {
          "text": "x1"
         }
        }
       }
      }
     },
     "metadata": {},
     "output_type": "display_data"
    }
   ],
   "source": [
    "xlim = np.array([-5, 5])\n",
    "(w0, w1), b = lin_svc.coef_[0], lin_svc.intercept_[0]\n",
    "ylim = -w0/w1 * xlim - b/w1\n",
    "fig.add_traces(px.line(x=xlim, y=ylim).data)"
   ]
  },
  {
   "attachments": {},
   "cell_type": "markdown",
   "metadata": {},
   "source": [
    "### Feature Maps"
   ]
  },
  {
   "cell_type": "code",
   "execution_count": 24,
   "metadata": {},
   "outputs": [
    {
     "name": "stderr",
     "output_type": "stream",
     "text": [
      "C:\\Users\\13818\\AppData\\Roaming\\Python\\Python39\\site-packages\\sklearn\\svm\\_base.py:1244: ConvergenceWarning:\n",
      "\n",
      "Liblinear failed to converge, increase the number of iterations.\n",
      "\n"
     ]
    },
    {
     "data": {
      "image/png": "[encoded data removed]",
      "text/plain": [
       "<Figure size 864x216 with 4 Axes>"
      ]
     },
     "metadata": {},
     "output_type": "display_data"
    }
   ],
   "source": [
    "from sklearn.preprocessing import PolynomialFeatures, StandardScaler\n",
    "from sklearn.kernel_approximation import Nystroem\n",
    "\n",
    "from sklearn.datasets import make_moons\n",
    "from sklearn.pipeline import make_pipeline\n",
    "from matplotlib.colors import ListedColormap\n",
    "from sklearn.inspection import DecisionBoundaryDisplay\n",
    "\n",
    "X, y = make_moons(noise=0.2, random_state=0, n_samples=400)\n",
    "X_train, X_test, y_train, y_test = train_test_split(\n",
    "    X, y, test_size=0.4, random_state=42\n",
    ")\n",
    "\n",
    "# create feature maps\n",
    "poly = PolynomialFeatures(degree=4)\n",
    "rbf = Nystroem(gamma=1, n_components=100)\n",
    "\n",
    "classifiers = {\n",
    "    'Linear SVC':\n",
    "        LinearSVC(C=1, random_state=42),\n",
    "    'SVC with polynomial features':\n",
    "        make_pipeline(poly, LinearSVC(C=1, random_state=42)),\n",
    "    'SVC with RBF features':\n",
    "        make_pipeline(rbf, LinearSVC(C=1, random_state=42)),\n",
    "}\n",
    "\n",
    "x_min, x_max = X[:, 0].min() - 0.5, X[:, 0].max() + 0.5\n",
    "y_min, y_max = X[:, 1].min() - 0.5, X[:, 1].max() + 0.5\n",
    "\n",
    "# just plot the dataset first\n",
    "cm = plt.cm.RdBu\n",
    "cm_bright = ListedColormap([\"#FF0000\", \"#0000FF\"])\n",
    "\n",
    "plt.figure(figsize=(3 * (len(classifiers) + 1), 3))\n",
    "\n",
    "i = 1\n",
    "ax = plt.subplot(1, len(classifiers) + 1, i)\n",
    "\n",
    "ax.set_title(\"Input data\")\n",
    "# Plot the training points\n",
    "ax.scatter(X_train[:, 0], X_train[:, 1], c=y_train, cmap=cm_bright, edgecolors=\"k\")\n",
    "# Plot the testing points\n",
    "ax.scatter(\n",
    "    X_test[:, 0], X_test[:, 1], c=y_test, cmap=cm_bright, alpha=0.6, edgecolors=\"k\"\n",
    ")\n",
    "ax.set_xlim(x_min, x_max)\n",
    "ax.set_ylim(y_min, y_max)\n",
    "ax.set_xticks(())\n",
    "ax.set_yticks(())\n",
    "i += 1\n",
    "\n",
    "# iterate over classifiers\n",
    "for name, clf in classifiers.items():\n",
    "    ax = plt.subplot(1, len(classifiers) + 1, i)\n",
    "\n",
    "    clf = make_pipeline(StandardScaler(), clf)\n",
    "    clf.fit(X_train, y_train)\n",
    "    score = clf.score(X_test, y_test)\n",
    "    DecisionBoundaryDisplay.from_estimator(\n",
    "        clf, X, cmap=cm, alpha=0.8, ax=ax, eps=0.5\n",
    "    )\n",
    "\n",
    "    # Plot the training points\n",
    "    ax.scatter(\n",
    "        X_train[:, 0], X_train[:, 1], c=y_train, cmap=cm_bright, edgecolors=\"k\"\n",
    "    )\n",
    "    # Plot the testing points\n",
    "    ax.scatter(\n",
    "        X_test[:, 0],\n",
    "        X_test[:, 1],\n",
    "        c=y_test,\n",
    "        cmap=cm_bright,\n",
    "        edgecolors=\"k\",\n",
    "        alpha=0.6,\n",
    "    )\n",
    "\n",
    "    ax.set_xlim(x_min, x_max)\n",
    "    ax.set_ylim(y_min, y_max)\n",
    "    ax.set_xticks(())\n",
    "    ax.set_yticks(())\n",
    "    ax.set_title(name)\n",
    "    ax.text(\n",
    "        x_max - 0.3,\n",
    "        y_min + 0.3,\n",
    "        (\"%.2f\" % score).lstrip(\"0\"),\n",
    "        size=15,\n",
    "        horizontalalignment=\"right\",\n",
    "    )\n",
    "    i += 1\n",
    "\n",
    "plt.tight_layout()\n",
    "plt.show()"
   ]
  },
  {
   "attachments": {},
   "cell_type": "markdown",
   "metadata": {},
   "source": [
    "## Regressions"
   ]
  },
  {
   "cell_type": "code",
   "execution_count": 49,
   "metadata": {},
   "outputs": [
    {
     "name": "stdout",
     "output_type": "stream",
     "text": [
      "<class 'pandas.core.frame.DataFrame'>\n",
      "Int64Index: 15480 entries, 8158 to 15795\n",
      "Data columns (total 8 columns):\n",
      " #   Column      Non-Null Count  Dtype  \n",
      "---  ------      --------------  -----  \n",
      " 0   MedInc      15480 non-null  float64\n",
      " 1   HouseAge    15480 non-null  float64\n",
      " 2   AveRooms    15480 non-null  float64\n",
      " 3   AveBedrms   15480 non-null  float64\n",
      " 4   Population  15480 non-null  float64\n",
      " 5   AveOccup    15480 non-null  float64\n",
      " 6   Latitude    15480 non-null  float64\n",
      " 7   Longitude   15480 non-null  float64\n",
      "dtypes: float64(8)\n",
      "memory usage: 1.1 MB\n"
     ]
    }
   ],
   "source": [
    "from sklearn.datasets import fetch_california_housing\n",
    "from sklearn.neighbors import KNeighborsRegressor\n",
    "from sklearn.svm import SVR, LinearSVR\n",
    "\n",
    "X, y = fetch_california_housing(return_X_y=True, as_frame=True)\n",
    "X_train, X_test, y_train, y_test = train_test_split(X, y, random_state=42)\n",
    "X_train.info()"
   ]
  },
  {
   "attachments": {},
   "cell_type": "markdown",
   "metadata": {},
   "source": [
    "### KNN Regression"
   ]
  },
  {
   "cell_type": "code",
   "execution_count": 28,
   "metadata": {},
   "outputs": [
    {
     "data": {
      "text/plain": [
       "0.14434206676911643"
      ]
     },
     "execution_count": 28,
     "metadata": {},
     "output_type": "execute_result"
    }
   ],
   "source": [
    "from sklearn.metrics import r2_score\n",
    "\n",
    "r2_score(y_test, KNeighborsRegressor().fit(X_train, y_train).predict(X_test))"
   ]
  },
  {
   "attachments": {},
   "cell_type": "markdown",
   "metadata": {},
   "source": [
    "### Standard Scaling\n",
    "\n",
    "Shift and scale the data so that it has zero mean and unit variance. This is useful for algorithms (KNN, SVM, etc.) that assume that all features are centered around zero and have approximately the same variance."
   ]
  },
  {
   "attachments": {},
   "cell_type": "markdown",
   "metadata": {},
   "source": [
    "Compare with the performance before standard scaling!"
   ]
  },
  {
   "cell_type": "code",
   "execution_count": 29,
   "metadata": {},
   "outputs": [
    {
     "data": {
      "text/plain": [
       "0.6737569252627673"
      ]
     },
     "execution_count": 29,
     "metadata": {},
     "output_type": "execute_result"
    }
   ],
   "source": [
    "knn_reg = make_pipeline(\n",
    "    StandardScaler(),\n",
    "    KNeighborsRegressor()\n",
    ").fit(X_train, y_train)\n",
    "r2_score(y_test, knn_reg.predict(X_test))"
   ]
  },
  {
   "attachments": {},
   "cell_type": "markdown",
   "metadata": {},
   "source": [
    "### Support Vector Regression"
   ]
  },
  {
   "cell_type": "code",
   "execution_count": 55,
   "metadata": {},
   "outputs": [
    {
     "data": {
      "text/plain": [
       "0.739658999804535"
      ]
     },
     "execution_count": 55,
     "metadata": {},
     "output_type": "execute_result"
    }
   ],
   "source": [
    "# problem: not scalable (try using the full training set!)\n",
    "svr = make_pipeline(\n",
    "    StandardScaler(),\n",
    "    SVR(kernel='rbf', C=1)\n",
    ").fit(X_train[:2000], y_train[:2000])\n",
    "r2_score(y_test, svr.predict(X_test))"
   ]
  },
  {
   "attachments": {},
   "cell_type": "markdown",
   "metadata": {},
   "source": [
    "A big problem with kernel (rbf or poly) SVR is its scalability to large datasets. The training time complexity is more than $O(\\mathrm{n\\_samples}^2)$. This is because the algorithm needs to solve a quadratic programming problem at every step.\n",
    "\n",
    "A solution: combine feature mapping with a linear SVR."
   ]
  },
  {
   "cell_type": "code",
   "execution_count": 66,
   "metadata": {},
   "outputs": [
    {
     "data": {
      "text/plain": [
       "0.7261067635785365"
      ]
     },
     "execution_count": 66,
     "metadata": {},
     "output_type": "execute_result"
    }
   ],
   "source": [
    "svr = make_pipeline(\n",
    "    StandardScaler(),\n",
    "    Nystroem(gamma=0.2, n_components=300),  # RBF features\n",
    "    LinearSVR(C=1)\n",
    ").fit(X_train, y_train)\n",
    "r2_score(y_test, svr.predict(X_test))"
   ]
  },
  {
   "attachments": {
    "grid_search_cross_validation.png": {
     "image/png": "[encoded data removed]"
    }
   },
   "cell_type": "markdown",
   "metadata": {},
   "source": [
    "## Cross Validation\n",
    "![grid_search_cross_validation.png](attachment:grid_search_cross_validation.png)"
   ]
  },
  {
   "cell_type": "code",
   "execution_count": 67,
   "metadata": {},
   "outputs": [
    {
     "data": {
      "text/html": [
       "<div>\n",
       "<style scoped>\n",
       "    .dataframe tbody tr th:only-of-type {\n",
       "        vertical-align: middle;\n",
       "    }\n",
       "\n",
       "    .dataframe tbody tr th {\n",
       "        vertical-align: top;\n",
       "    }\n",
       "\n",
       "    .dataframe thead th {\n",
       "        text-align: right;\n",
       "    }\n",
       "</style>\n",
       "<table border=\"1\" class=\"dataframe\">\n",
       "  <thead>\n",
       "    <tr style=\"text-align: right;\">\n",
       "      <th></th>\n",
       "      <th>fit_time</th>\n",
       "      <th>score_time</th>\n",
       "      <th>test_score</th>\n",
       "    </tr>\n",
       "  </thead>\n",
       "  <tbody>\n",
       "    <tr>\n",
       "      <th>0</th>\n",
       "      <td>1.096889</td>\n",
       "      <td>0.035356</td>\n",
       "      <td>0.719945</td>\n",
       "    </tr>\n",
       "    <tr>\n",
       "      <th>1</th>\n",
       "      <td>0.855191</td>\n",
       "      <td>0.031174</td>\n",
       "      <td>0.738408</td>\n",
       "    </tr>\n",
       "    <tr>\n",
       "      <th>2</th>\n",
       "      <td>0.978317</td>\n",
       "      <td>0.029761</td>\n",
       "      <td>0.730461</td>\n",
       "    </tr>\n",
       "    <tr>\n",
       "      <th>3</th>\n",
       "      <td>0.960773</td>\n",
       "      <td>0.030195</td>\n",
       "      <td>0.736996</td>\n",
       "    </tr>\n",
       "    <tr>\n",
       "      <th>4</th>\n",
       "      <td>0.860390</td>\n",
       "      <td>0.025346</td>\n",
       "      <td>0.709497</td>\n",
       "    </tr>\n",
       "  </tbody>\n",
       "</table>\n",
       "</div>"
      ],
      "text/plain": [
       "   fit_time  score_time  test_score\n",
       "0  1.096889    0.035356    0.719945\n",
       "1  0.855191    0.031174    0.738408\n",
       "2  0.978317    0.029761    0.730461\n",
       "3  0.960773    0.030195    0.736996\n",
       "4  0.860390    0.025346    0.709497"
      ]
     },
     "execution_count": 67,
     "metadata": {},
     "output_type": "execute_result"
    }
   ],
   "source": [
    "from sklearn.model_selection import cross_validate\n",
    "\n",
    "pd.DataFrame(cross_validate(svr, X_train, y_train, cv=5, scoring='r2'))"
   ]
  },
  {
   "attachments": {},
   "cell_type": "markdown",
   "metadata": {},
   "source": [
    "## Hyperparameter Searching"
   ]
  },
  {
   "cell_type": "code",
   "execution_count": 91,
   "metadata": {},
   "outputs": [
    {
     "name": "stdout",
     "output_type": "stream",
     "text": [
      "Fitting 5 folds for each of 40 candidates, totalling 200 fits\n"
     ]
    },
    {
     "data": {
      "text/html": [
       "<style>#sk-container-id-1 {color: black;background-color: white;}#sk-container-id-1 pre{padding: 0;}#sk-container-id-1 div.sk-toggleable {background-color: white;}#sk-container-id-1 label.sk-toggleable__label {cursor: pointer;display: block;width: 100%;margin-bottom: 0;padding: 0.3em;box-sizing: border-box;text-align: center;}#sk-container-id-1 label.sk-toggleable__label-arrow:before {content: \"▸\";float: left;margin-right: 0.25em;color: #696969;}#sk-container-id-1 label.sk-toggleable__label-arrow:hover:before {color: black;}#sk-container-id-1 div.sk-estimator:hover label.sk-toggleable__label-arrow:before {color: black;}#sk-container-id-1 div.sk-toggleable__content {max-height: 0;max-width: 0;overflow: hidden;text-align: left;background-color: #f0f8ff;}#sk-container-id-1 div.sk-toggleable__content pre {margin: 0.2em;color: black;border-radius: 0.25em;background-color: #f0f8ff;}#sk-container-id-1 input.sk-toggleable__control:checked~div.sk-toggleable__content {max-height: 200px;max-width: 100%;overflow: auto;}#sk-container-id-1 input.sk-toggleable__control:checked~label.sk-toggleable__label-arrow:before {content: \"▾\";}#sk-container-id-1 div.sk-estimator input.sk-toggleable__control:checked~label.sk-toggleable__label {background-color: #d4ebff;}#sk-container-id-1 div.sk-label input.sk-toggleable__control:checked~label.sk-toggleable__label {background-color: #d4ebff;}#sk-container-id-1 input.sk-hidden--visually {border: 0;clip: rect(1px 1px 1px 1px);clip: rect(1px, 1px, 1px, 1px);height: 1px;margin: -1px;overflow: hidden;padding: 0;position: absolute;width: 1px;}#sk-container-id-1 div.sk-estimator {font-family: monospace;background-color: #f0f8ff;border: 1px dotted black;border-radius: 0.25em;box-sizing: border-box;margin-bottom: 0.5em;}#sk-container-id-1 div.sk-estimator:hover {background-color: #d4ebff;}#sk-container-id-1 div.sk-parallel-item::after {content: \"\";width: 100%;border-bottom: 1px solid gray;flex-grow: 1;}#sk-container-id-1 div.sk-label:hover label.sk-toggleable__label {background-color: #d4ebff;}#sk-container-id-1 div.sk-serial::before {content: \"\";position: absolute;border-left: 1px solid gray;box-sizing: border-box;top: 0;bottom: 0;left: 50%;z-index: 0;}#sk-container-id-1 div.sk-serial {display: flex;flex-direction: column;align-items: center;background-color: white;padding-right: 0.2em;padding-left: 0.2em;position: relative;}#sk-container-id-1 div.sk-item {position: relative;z-index: 1;}#sk-container-id-1 div.sk-parallel {display: flex;align-items: stretch;justify-content: center;background-color: white;position: relative;}#sk-container-id-1 div.sk-item::before, #sk-container-id-1 div.sk-parallel-item::before {content: \"\";position: absolute;border-left: 1px solid gray;box-sizing: border-box;top: 0;bottom: 0;left: 50%;z-index: -1;}#sk-container-id-1 div.sk-parallel-item {display: flex;flex-direction: column;z-index: 1;position: relative;background-color: white;}#sk-container-id-1 div.sk-parallel-item:first-child::after {align-self: flex-end;width: 50%;}#sk-container-id-1 div.sk-parallel-item:last-child::after {align-self: flex-start;width: 50%;}#sk-container-id-1 div.sk-parallel-item:only-child::after {width: 0;}#sk-container-id-1 div.sk-dashed-wrapped {border: 1px dashed gray;margin: 0 0.4em 0.5em 0.4em;box-sizing: border-box;padding-bottom: 0.4em;background-color: white;}#sk-container-id-1 div.sk-label label {font-family: monospace;font-weight: bold;display: inline-block;line-height: 1.2em;}#sk-container-id-1 div.sk-label-container {text-align: center;}#sk-container-id-1 div.sk-container {/* jupyter's `normalize.less` sets `[hidden] { display: none; }` but bootstrap.min.css set `[hidden] { display: none !important; }` so we also need the `!important` here to be able to override the default hidden behavior on the sphinx rendered scikit-learn.org. See: https://github.com/scikit-learn/scikit-learn/issues/21755 */display: inline-block !important;position: relative;}#sk-container-id-1 div.sk-text-repr-fallback {display: none;}</style><div id=\"sk-container-id-1\" class=\"sk-top-container\"><div class=\"sk-text-repr-fallback\"><pre>GridSearchCV(cv=5, estimator=SGDRegressor(), n_jobs=-1,\n",
       "             param_grid={&#x27;alpha&#x27;: [0.001, 0.01, 0.1, 1],\n",
       "                         &#x27;l1_ratio&#x27;: [0, 0.15, 0.5, 0.85, 1],\n",
       "                         &#x27;penalty&#x27;: [&#x27;l1&#x27;, &#x27;l2&#x27;]},\n",
       "             verbose=1)</pre><b>In a Jupyter environment, please rerun this cell to show the HTML representation or trust the notebook. <br />On GitHub, the HTML representation is unable to render, please try loading this page with nbviewer.org.</b></div><div class=\"sk-container\" hidden><div class=\"sk-item sk-dashed-wrapped\"><div class=\"sk-label-container\"><div class=\"sk-label sk-toggleable\"><input class=\"sk-toggleable__control sk-hidden--visually\" id=\"sk-estimator-id-1\" type=\"checkbox\" ><label for=\"sk-estimator-id-1\" class=\"sk-toggleable__label sk-toggleable__label-arrow\">GridSearchCV</label><div class=\"sk-toggleable__content\"><pre>GridSearchCV(cv=5, estimator=SGDRegressor(), n_jobs=-1,\n",
       "             param_grid={&#x27;alpha&#x27;: [0.001, 0.01, 0.1, 1],\n",
       "                         &#x27;l1_ratio&#x27;: [0, 0.15, 0.5, 0.85, 1],\n",
       "                         &#x27;penalty&#x27;: [&#x27;l1&#x27;, &#x27;l2&#x27;]},\n",
       "             verbose=1)</pre></div></div></div><div class=\"sk-parallel\"><div class=\"sk-parallel-item\"><div class=\"sk-item\"><div class=\"sk-label-container\"><div class=\"sk-label sk-toggleable\"><input class=\"sk-toggleable__control sk-hidden--visually\" id=\"sk-estimator-id-2\" type=\"checkbox\" ><label for=\"sk-estimator-id-2\" class=\"sk-toggleable__label sk-toggleable__label-arrow\">estimator: SGDRegressor</label><div class=\"sk-toggleable__content\"><pre>SGDRegressor()</pre></div></div></div><div class=\"sk-serial\"><div class=\"sk-item\"><div class=\"sk-estimator sk-toggleable\"><input class=\"sk-toggleable__control sk-hidden--visually\" id=\"sk-estimator-id-3\" type=\"checkbox\" ><label for=\"sk-estimator-id-3\" class=\"sk-toggleable__label sk-toggleable__label-arrow\">SGDRegressor</label><div class=\"sk-toggleable__content\"><pre>SGDRegressor()</pre></div></div></div></div></div></div></div></div></div></div>"
      ],
      "text/plain": [
       "GridSearchCV(cv=5, estimator=SGDRegressor(), n_jobs=-1,\n",
       "             param_grid={'alpha': [0.001, 0.01, 0.1, 1],\n",
       "                         'l1_ratio': [0, 0.15, 0.5, 0.85, 1],\n",
       "                         'penalty': ['l1', 'l2']},\n",
       "             verbose=1)"
      ]
     },
     "execution_count": 91,
     "metadata": {},
     "output_type": "execute_result"
    }
   ],
   "source": [
    "from sklearn.linear_model import SGDRegressor\n",
    "from sklearn.model_selection import GridSearchCV\n",
    "\n",
    "param_grid = {\n",
    "    'alpha': [0.001, 0.01, 0.1, 1],\n",
    "    'penalty': ['l1', 'l2'],\n",
    "    'l1_ratio': [0, 0.15, 0.5, 0.85, 1],\n",
    "}\n",
    "\n",
    "X_scaled = StandardScaler().fit_transform(X_train)\n",
    "reg = SGDRegressor()  # faster\n",
    "\n",
    "grid = GridSearchCV(reg, param_grid, cv=5, verbose=1, n_jobs=-1)\n",
    "grid.fit(X_scaled, y_train)"
   ]
  },
  {
   "cell_type": "code",
   "execution_count": 90,
   "metadata": {},
   "outputs": [
    {
     "data": {
      "text/plain": [
       "{'scoring': None,\n",
       " 'estimator': SGDRegressor(),\n",
       " 'n_jobs': -1,\n",
       " 'refit': True,\n",
       " 'cv': 5,\n",
       " 'verbose': 1,\n",
       " 'pre_dispatch': '2*n_jobs',\n",
       " 'error_score': nan,\n",
       " 'return_train_score': False,\n",
       " 'param_grid': {'alpha': [0.001, 0.01, 0.1, 1],\n",
       "  'penalty': ['l1', 'l2'],\n",
       "  'l1_ratio': [0, 0.15, 0.5, 0.85, 1]},\n",
       " 'multimetric_': False,\n",
       " 'best_index_': 14,\n",
       " 'best_score_': 0.603549426148849,\n",
       " 'best_params_': {'alpha': 0.01, 'l1_ratio': 0.5, 'penalty': 'l1'},\n",
       " 'best_estimator_': SGDRegressor(alpha=0.01, l1_ratio=0.5, penalty='l1'),\n",
       " 'refit_time_': 0.033190250396728516,\n",
       " 'scorer_': <function sklearn.metrics._scorer._passthrough_scorer(estimator, *args, **kwargs)>,\n",
       " 'cv_results_': {'mean_fit_time': array([0.06046934, 0.03299432, 0.04963942, 0.06708231, 0.07557983,\n",
       "         0.06305032, 0.06108294, 0.08176193, 0.08549714, 0.085255  ,\n",
       "         0.13995104, 0.07537332, 0.07511387, 0.05547881, 0.10760789,\n",
       "         0.09117484, 0.07499871, 0.06902771, 0.11274419, 0.04731898,\n",
       "         0.09353456, 0.08115578, 0.0675138 , 0.08108282, 0.06833372,\n",
       "         0.08041544, 0.05713677, 0.04674911, 0.06440334, 0.0708148 ,\n",
       "         0.05252404, 0.03278232, 0.04304566, 0.05589929, 0.05000625,\n",
       "         0.03257246, 0.0443316 , 0.03174257, 0.05396819, 0.02676663]),\n",
       "  'std_fit_time': array([0.03759676, 0.01079734, 0.019542  , 0.0283627 , 0.05921085,\n",
       "         0.04474085, 0.0323758 , 0.04565756, 0.02220463, 0.03321057,\n",
       "         0.04103009, 0.0207068 , 0.01649705, 0.02069376, 0.03000677,\n",
       "         0.05091382, 0.01674636, 0.02410034, 0.02483092, 0.015178  ,\n",
       "         0.03210626, 0.02889968, 0.01869524, 0.04350577, 0.04202086,\n",
       "         0.0396861 , 0.01044735, 0.01427444, 0.0132759 , 0.03067817,\n",
       "         0.01803063, 0.0039943 , 0.00523892, 0.03325397, 0.0172767 ,\n",
       "         0.00582885, 0.01512967, 0.00650553, 0.01787259, 0.00364573]),\n",
       "  'mean_score_time': array([0.00212092, 0.00160332, 0.00197916, 0.00752769, 0.00383229,\n",
       "         0.00216131, 0.00221906, 0.0014935 , 0.00148764, 0.00135312,\n",
       "         0.00404091, 0.00293517, 0.00190039, 0.00298872, 0.0019248 ,\n",
       "         0.00264416, 0.00579796, 0.00284228, 0.00221081, 0.00190234,\n",
       "         0.00198965, 0.00252557, 0.00509515, 0.00179815, 0.00175953,\n",
       "         0.00449886, 0.00164227, 0.00142713, 0.00151668, 0.00195198,\n",
       "         0.00098066, 0.00155797, 0.00159221, 0.00118423, 0.00216722,\n",
       "         0.00331373, 0.00246391, 0.00139594, 0.00133233, 0.00166688]),\n",
       "  'std_score_time': array([9.51591451e-04, 8.45772956e-04, 5.49366724e-04, 7.44626648e-03,\n",
       "         4.54167743e-03, 9.18015467e-04, 1.27118865e-03, 4.85545566e-04,\n",
       "         6.03555521e-04, 3.91596332e-04, 3.17538171e-03, 2.01407785e-03,\n",
       "         4.62379981e-04, 1.90055172e-03, 9.56465480e-04, 1.33088966e-03,\n",
       "         7.35143995e-03, 1.99403441e-03, 3.42790648e-04, 8.03829574e-04,\n",
       "         1.44627579e-04, 8.97266560e-04, 5.17288869e-03, 5.15703344e-04,\n",
       "         2.28023958e-04, 4.90038954e-03, 6.53117650e-04, 3.54133137e-04,\n",
       "         7.37023606e-04, 1.00424752e-03, 9.62301098e-05, 5.53462131e-04,\n",
       "         7.70251482e-04, 2.73400189e-04, 1.58260395e-03, 4.38174955e-03,\n",
       "         1.21769192e-03, 5.64103699e-04, 4.47520232e-04, 4.01850016e-04]),\n",
       "  'param_alpha': masked_array(data=[0.001, 0.001, 0.001, 0.001, 0.001, 0.001, 0.001, 0.001,\n",
       "                     0.001, 0.001, 0.01, 0.01, 0.01, 0.01, 0.01, 0.01, 0.01,\n",
       "                     0.01, 0.01, 0.01, 0.1, 0.1, 0.1, 0.1, 0.1, 0.1, 0.1,\n",
       "                     0.1, 0.1, 0.1, 1, 1, 1, 1, 1, 1, 1, 1, 1, 1],\n",
       "               mask=[False, False, False, False, False, False, False, False,\n",
       "                     False, False, False, False, False, False, False, False,\n",
       "                     False, False, False, False, False, False, False, False,\n",
       "                     False, False, False, False, False, False, False, False,\n",
       "                     False, False, False, False, False, False, False, False],\n",
       "         fill_value='?',\n",
       "              dtype=object),\n",
       "  'param_l1_ratio': masked_array(data=[0, 0, 0.15, 0.15, 0.5, 0.5, 0.85, 0.85, 1, 1, 0, 0,\n",
       "                     0.15, 0.15, 0.5, 0.5, 0.85, 0.85, 1, 1, 0, 0, 0.15,\n",
       "                     0.15, 0.5, 0.5, 0.85, 0.85, 1, 1, 0, 0, 0.15, 0.15,\n",
       "                     0.5, 0.5, 0.85, 0.85, 1, 1],\n",
       "               mask=[False, False, False, False, False, False, False, False,\n",
       "                     False, False, False, False, False, False, False, False,\n",
       "                     False, False, False, False, False, False, False, False,\n",
       "                     False, False, False, False, False, False, False, False,\n",
       "                     False, False, False, False, False, False, False, False],\n",
       "         fill_value='?',\n",
       "              dtype=object),\n",
       "  'param_penalty': masked_array(data=['l1', 'l2', 'l1', 'l2', 'l1', 'l2', 'l1', 'l2', 'l1',\n",
       "                     'l2', 'l1', 'l2', 'l1', 'l2', 'l1', 'l2', 'l1', 'l2',\n",
       "                     'l1', 'l2', 'l1', 'l2', 'l1', 'l2', 'l1', 'l2', 'l1',\n",
       "                     'l2', 'l1', 'l2', 'l1', 'l2', 'l1', 'l2', 'l1', 'l2',\n",
       "                     'l1', 'l2', 'l1', 'l2'],\n",
       "               mask=[False, False, False, False, False, False, False, False,\n",
       "                     False, False, False, False, False, False, False, False,\n",
       "                     False, False, False, False, False, False, False, False,\n",
       "                     False, False, False, False, False, False, False, False,\n",
       "                     False, False, False, False, False, False, False, False],\n",
       "         fill_value='?',\n",
       "              dtype=object),\n",
       "  'params': [{'alpha': 0.001, 'l1_ratio': 0, 'penalty': 'l1'},\n",
       "   {'alpha': 0.001, 'l1_ratio': 0, 'penalty': 'l2'},\n",
       "   {'alpha': 0.001, 'l1_ratio': 0.15, 'penalty': 'l1'},\n",
       "   {'alpha': 0.001, 'l1_ratio': 0.15, 'penalty': 'l2'},\n",
       "   {'alpha': 0.001, 'l1_ratio': 0.5, 'penalty': 'l1'},\n",
       "   {'alpha': 0.001, 'l1_ratio': 0.5, 'penalty': 'l2'},\n",
       "   {'alpha': 0.001, 'l1_ratio': 0.85, 'penalty': 'l1'},\n",
       "   {'alpha': 0.001, 'l1_ratio': 0.85, 'penalty': 'l2'},\n",
       "   {'alpha': 0.001, 'l1_ratio': 1, 'penalty': 'l1'},\n",
       "   {'alpha': 0.001, 'l1_ratio': 1, 'penalty': 'l2'},\n",
       "   {'alpha': 0.01, 'l1_ratio': 0, 'penalty': 'l1'},\n",
       "   {'alpha': 0.01, 'l1_ratio': 0, 'penalty': 'l2'},\n",
       "   {'alpha': 0.01, 'l1_ratio': 0.15, 'penalty': 'l1'},\n",
       "   {'alpha': 0.01, 'l1_ratio': 0.15, 'penalty': 'l2'},\n",
       "   {'alpha': 0.01, 'l1_ratio': 0.5, 'penalty': 'l1'},\n",
       "   {'alpha': 0.01, 'l1_ratio': 0.5, 'penalty': 'l2'},\n",
       "   {'alpha': 0.01, 'l1_ratio': 0.85, 'penalty': 'l1'},\n",
       "   {'alpha': 0.01, 'l1_ratio': 0.85, 'penalty': 'l2'},\n",
       "   {'alpha': 0.01, 'l1_ratio': 1, 'penalty': 'l1'},\n",
       "   {'alpha': 0.01, 'l1_ratio': 1, 'penalty': 'l2'},\n",
       "   {'alpha': 0.1, 'l1_ratio': 0, 'penalty': 'l1'},\n",
       "   {'alpha': 0.1, 'l1_ratio': 0, 'penalty': 'l2'},\n",
       "   {'alpha': 0.1, 'l1_ratio': 0.15, 'penalty': 'l1'},\n",
       "   {'alpha': 0.1, 'l1_ratio': 0.15, 'penalty': 'l2'},\n",
       "   {'alpha': 0.1, 'l1_ratio': 0.5, 'penalty': 'l1'},\n",
       "   {'alpha': 0.1, 'l1_ratio': 0.5, 'penalty': 'l2'},\n",
       "   {'alpha': 0.1, 'l1_ratio': 0.85, 'penalty': 'l1'},\n",
       "   {'alpha': 0.1, 'l1_ratio': 0.85, 'penalty': 'l2'},\n",
       "   {'alpha': 0.1, 'l1_ratio': 1, 'penalty': 'l1'},\n",
       "   {'alpha': 0.1, 'l1_ratio': 1, 'penalty': 'l2'},\n",
       "   {'alpha': 1, 'l1_ratio': 0, 'penalty': 'l1'},\n",
       "   {'alpha': 1, 'l1_ratio': 0, 'penalty': 'l2'},\n",
       "   {'alpha': 1, 'l1_ratio': 0.15, 'penalty': 'l1'},\n",
       "   {'alpha': 1, 'l1_ratio': 0.15, 'penalty': 'l2'},\n",
       "   {'alpha': 1, 'l1_ratio': 0.5, 'penalty': 'l1'},\n",
       "   {'alpha': 1, 'l1_ratio': 0.5, 'penalty': 'l2'},\n",
       "   {'alpha': 1, 'l1_ratio': 0.85, 'penalty': 'l1'},\n",
       "   {'alpha': 1, 'l1_ratio': 0.85, 'penalty': 'l2'},\n",
       "   {'alpha': 1, 'l1_ratio': 1, 'penalty': 'l1'},\n",
       "   {'alpha': 1, 'l1_ratio': 1, 'penalty': 'l2'}],\n",
       "  'split0_test_score': array([-5.86885421e+00,  5.14890643e-01,  1.71951441e-01,  1.71054419e-01,\n",
       "          2.91903611e-01, -1.31241539e+00,  5.47264796e-01, -7.52241065e+00,\n",
       "          5.99020561e-01,  3.12192340e-01,  5.97107422e-01,  4.94715322e-01,\n",
       "          5.96644504e-01,  5.74070587e-01,  5.97022361e-01,  3.75574781e-01,\n",
       "          5.92730963e-01,  5.71864627e-01,  5.98554539e-01,  2.65719825e-01,\n",
       "          4.95218624e-01,  5.67070605e-01,  4.93078649e-01,  5.65908352e-01,\n",
       "          4.94547269e-01,  5.64146167e-01,  4.93060009e-01,  5.66103282e-01,\n",
       "          4.93136307e-01,  5.65122390e-01, -7.66327357e-04,  3.88905783e-01,\n",
       "         -2.11785614e-04,  3.99862958e-01, -9.96527436e-04,  4.03639663e-01,\n",
       "         -4.02766543e-04,  3.83693994e-01, -5.73042141e-04,  3.87632476e-01]),\n",
       "  'split1_test_score': array([ 0.6207645 ,  0.36444231,  0.56019882,  0.61270795,  0.61722191,\n",
       "          0.61906684,  0.61777384,  0.61854637,  0.62001258,  0.60324435,\n",
       "          0.60928977,  0.60998347,  0.61072006,  0.61965919,  0.61000462,\n",
       "          0.61735564,  0.61032855,  0.56574078,  0.60961876,  0.6168849 ,\n",
       "          0.49720408,  0.57510021,  0.49860235,  0.56905203,  0.48938098,\n",
       "          0.57707748,  0.49263758,  0.5736722 ,  0.49807516,  0.56681607,\n",
       "         -0.00252465,  0.38581779, -0.00203677,  0.38593428, -0.00143839,\n",
       "          0.38881523, -0.00137525,  0.39302126, -0.00275711,  0.38288725]),\n",
       "  'split2_test_score': array([ 6.09186666e-01,  6.05783785e-01,  6.11604498e-01,  6.08162258e-01,\n",
       "          6.04282727e-01,  6.05499541e-01,  6.03671459e-01,  6.03722999e-01,\n",
       "          6.07769565e-01,  6.09276280e-01,  5.99989555e-01,  6.04309311e-01,\n",
       "          6.01123247e-01,  6.01093062e-01,  6.02577399e-01,  6.00681529e-01,\n",
       "          6.05195310e-01,  6.03528199e-01,  6.04279705e-01,  6.07504880e-01,\n",
       "          4.90591854e-01,  5.68547658e-01,  4.86915273e-01,  5.67828613e-01,\n",
       "          4.87241591e-01,  5.67324780e-01,  4.84803734e-01,  5.62405738e-01,\n",
       "          4.92316820e-01,  5.65273323e-01, -7.26617094e-04,  3.91098868e-01,\n",
       "         -1.41339218e-03,  3.85901342e-01, -9.14071350e-05,  3.84058879e-01,\n",
       "         -1.94034014e-04,  3.92609643e-01, -4.23784322e-04,  3.98276463e-01]),\n",
       "  'split3_test_score': array([ 6.13184703e-01,  6.10267016e-01,  6.16903322e-01,  6.02671451e-01,\n",
       "          6.00292461e-01,  5.77256203e-01,  6.08772893e-01,  6.08108488e-01,\n",
       "          5.90584056e-01,  6.09992216e-01,  6.08465174e-01,  4.13442158e-01,\n",
       "          6.08330667e-01,  6.08990331e-01,  6.08259048e-01,  2.88000080e-01,\n",
       "          6.13028590e-01,  6.12152266e-01,  6.10959934e-01,  5.74966501e-01,\n",
       "          4.98153724e-01,  5.74522242e-01,  4.96185910e-01,  5.68322575e-01,\n",
       "          4.95461323e-01,  5.75812893e-01,  4.96431836e-01,  5.74776952e-01,\n",
       "          4.98669168e-01,  5.76683646e-01, -3.04990906e-03,  4.00209816e-01,\n",
       "         -3.94928505e-04,  4.06073874e-01, -1.23834619e-03,  3.98824766e-01,\n",
       "         -1.76481771e-03,  3.91657613e-01, -6.18137061e-04,  4.03068028e-01]),\n",
       "  'split4_test_score': array([-2.66123464e+04, -8.68201947e+04, -1.49006409e+05, -7.61118073e+04,\n",
       "         -4.20450436e+05, -1.58745094e+05, -1.40875362e+05, -1.50218637e+05,\n",
       "         -6.21748410e+04, -2.94220491e+04,  5.94768477e-01, -2.20685691e+05,\n",
       "          5.92098522e-01, -8.21940014e+04,  5.99883709e-01, -1.32493328e+04,\n",
       "          5.92444168e-01, -9.62492067e+03, -8.26613181e+02, -5.04847178e+04,\n",
       "          4.98502009e-01,  2.43335209e-01,  4.98940269e-01,  1.95379206e-01,\n",
       "          4.99116426e-01, -3.10728708e+00,  4.96230085e-01, -6.75990480e+00,\n",
       "          4.98643524e-01, -4.17002893e+00, -5.48462059e-05,  3.95249040e-01,\n",
       "         -5.00591859e-05,  3.99755864e-01, -1.08450150e-04,  4.00798747e-01,\n",
       "         -4.46451113e-04,  4.02010666e-01, -3.49836173e-04,  4.01326224e-01]),\n",
       "  'mean_test_score': array([-5.32327443e+03, -1.73636199e+04, -2.98008897e+04, -1.52219625e+04,\n",
       "         -8.40896645e+04, -3.17489209e+04, -2.81745969e+04, -3.00448658e+04,\n",
       "         -1.24344847e+04, -5.88398287e+03,  6.01924080e-01, -4.41367137e+04,\n",
       "          6.01783400e-01, -1.64383195e+04,  6.03549426e-01, -2.64949025e+03,\n",
       "          6.02745517e-01, -1.92451348e+03, -1.64837954e+02, -1.00965305e+04,\n",
       "          4.95934059e-01,  5.05715185e-01,  4.94744490e-01,  4.93298156e-01,\n",
       "          4.93149519e-01, -1.64585150e-01,  4.92632649e-01, -8.96589325e-01,\n",
       "          4.96168195e-01, -3.79226700e-01, -1.42447084e-03,  3.92256259e-01,\n",
       "         -8.21386134e-04,  3.95505665e-01, -7.74623997e-04,  3.95227458e-01,\n",
       "         -8.36663667e-04,  3.92598636e-01, -9.44382365e-04,  3.94638089e-01]),\n",
       "  'std_test_score': array([1.06445363e+04, 3.47282874e+04, 5.96027597e+04, 3.04449224e+04,\n",
       "         1.68180386e+05, 6.34980865e+04, 5.63503826e+04, 6.00868857e+04,\n",
       "         2.48701781e+04, 1.17690331e+04, 5.91919899e-03, 8.82744886e+04,\n",
       "         6.97669680e-03, 3.28778409e+04, 4.91599245e-03, 5.29992130e+03,\n",
       "         8.66780973e-03, 3.85020359e+03, 3.30887614e+02, 2.01940936e+04,\n",
       "         2.90466003e-03, 1.31228314e-01, 4.44155378e-03, 1.48963112e-01,\n",
       "         4.28969914e-03, 1.47135916e+00, 4.21544644e-03, 2.93166138e+00,\n",
       "         2.82998416e-03, 1.89540595e+00, 1.15312426e-03, 5.02463832e-03,\n",
       "         7.71497449e-04, 8.15587624e-03, 5.68407664e-04, 7.49131279e-03,\n",
       "         6.17259988e-04, 5.81280006e-03, 9.11572955e-04, 7.95227678e-03]),\n",
       "  'rank_test_score': array([28, 34, 36, 32, 40, 38, 35, 37, 31, 29,  3, 39,  4, 33,  1, 27,  2,\n",
       "         26, 25, 30,  7,  5,  8,  9, 10, 22, 11, 24,  6, 23, 21, 16, 18, 12,\n",
       "         17, 13, 19, 15, 20, 14])},\n",
       " 'n_splits_': 5}"
      ]
     },
     "execution_count": 90,
     "metadata": {},
     "output_type": "execute_result"
    }
   ],
   "source": [
    "vars(grid)"
   ]
  },
  {
   "cell_type": "code",
   "execution_count": 93,
   "metadata": {},
   "outputs": [
    {
     "data": {
      "text/plain": [
       "({'alpha': 0.01, 'l1_ratio': 1, 'penalty': 'l1'}, 0.6034353084990545)"
      ]
     },
     "execution_count": 93,
     "metadata": {},
     "output_type": "execute_result"
    }
   ],
   "source": [
    "grid.best_params_, grid.best_score_"
   ]
  },
  {
   "cell_type": "code",
   "execution_count": 88,
   "metadata": {},
   "outputs": [
    {
     "data": {
      "text/html": [
       "<div>\n",
       "<style scoped>\n",
       "    .dataframe tbody tr th:only-of-type {\n",
       "        vertical-align: middle;\n",
       "    }\n",
       "\n",
       "    .dataframe tbody tr th {\n",
       "        vertical-align: top;\n",
       "    }\n",
       "\n",
       "    .dataframe thead th {\n",
       "        text-align: right;\n",
       "    }\n",
       "</style>\n",
       "<table border=\"1\" class=\"dataframe\">\n",
       "  <thead>\n",
       "    <tr style=\"text-align: right;\">\n",
       "      <th></th>\n",
       "      <th>alpha</th>\n",
       "      <th>penalty</th>\n",
       "      <th>l1_ratio</th>\n",
       "      <th>mean_test_score</th>\n",
       "    </tr>\n",
       "  </thead>\n",
       "  <tbody>\n",
       "    <tr>\n",
       "      <th>0</th>\n",
       "      <td>0.001</td>\n",
       "      <td>l1</td>\n",
       "      <td>0</td>\n",
       "      <td>-5323.274428</td>\n",
       "    </tr>\n",
       "    <tr>\n",
       "      <th>1</th>\n",
       "      <td>0.001</td>\n",
       "      <td>l2</td>\n",
       "      <td>0</td>\n",
       "      <td>-17363.619859</td>\n",
       "    </tr>\n",
       "    <tr>\n",
       "      <th>2</th>\n",
       "      <td>0.001</td>\n",
       "      <td>l1</td>\n",
       "      <td>0.15</td>\n",
       "      <td>-29800.889666</td>\n",
       "    </tr>\n",
       "    <tr>\n",
       "      <th>3</th>\n",
       "      <td>0.001</td>\n",
       "      <td>l2</td>\n",
       "      <td>0.15</td>\n",
       "      <td>-15221.962541</td>\n",
       "    </tr>\n",
       "    <tr>\n",
       "      <th>4</th>\n",
       "      <td>0.001</td>\n",
       "      <td>l1</td>\n",
       "      <td>0.5</td>\n",
       "      <td>-84089.664461</td>\n",
       "    </tr>\n",
       "    <tr>\n",
       "      <th>5</th>\n",
       "      <td>0.001</td>\n",
       "      <td>l2</td>\n",
       "      <td>0.5</td>\n",
       "      <td>-31748.920888</td>\n",
       "    </tr>\n",
       "    <tr>\n",
       "      <th>6</th>\n",
       "      <td>0.001</td>\n",
       "      <td>l1</td>\n",
       "      <td>0.85</td>\n",
       "      <td>-28174.59694</td>\n",
       "    </tr>\n",
       "    <tr>\n",
       "      <th>7</th>\n",
       "      <td>0.001</td>\n",
       "      <td>l2</td>\n",
       "      <td>0.85</td>\n",
       "      <td>-30044.86583</td>\n",
       "    </tr>\n",
       "    <tr>\n",
       "      <th>8</th>\n",
       "      <td>0.001</td>\n",
       "      <td>l1</td>\n",
       "      <td>1</td>\n",
       "      <td>-12434.484722</td>\n",
       "    </tr>\n",
       "    <tr>\n",
       "      <th>9</th>\n",
       "      <td>0.001</td>\n",
       "      <td>l2</td>\n",
       "      <td>1</td>\n",
       "      <td>-5883.982874</td>\n",
       "    </tr>\n",
       "    <tr>\n",
       "      <th>10</th>\n",
       "      <td>0.01</td>\n",
       "      <td>l1</td>\n",
       "      <td>0</td>\n",
       "      <td>0.601924</td>\n",
       "    </tr>\n",
       "    <tr>\n",
       "      <th>11</th>\n",
       "      <td>0.01</td>\n",
       "      <td>l2</td>\n",
       "      <td>0</td>\n",
       "      <td>-44136.713675</td>\n",
       "    </tr>\n",
       "    <tr>\n",
       "      <th>12</th>\n",
       "      <td>0.01</td>\n",
       "      <td>l1</td>\n",
       "      <td>0.15</td>\n",
       "      <td>0.601783</td>\n",
       "    </tr>\n",
       "    <tr>\n",
       "      <th>13</th>\n",
       "      <td>0.01</td>\n",
       "      <td>l2</td>\n",
       "      <td>0.15</td>\n",
       "      <td>-16438.319514</td>\n",
       "    </tr>\n",
       "    <tr>\n",
       "      <th>14</th>\n",
       "      <td>0.01</td>\n",
       "      <td>l1</td>\n",
       "      <td>0.5</td>\n",
       "      <td>0.603549</td>\n",
       "    </tr>\n",
       "    <tr>\n",
       "      <th>15</th>\n",
       "      <td>0.01</td>\n",
       "      <td>l2</td>\n",
       "      <td>0.5</td>\n",
       "      <td>-2649.490247</td>\n",
       "    </tr>\n",
       "    <tr>\n",
       "      <th>16</th>\n",
       "      <td>0.01</td>\n",
       "      <td>l1</td>\n",
       "      <td>0.85</td>\n",
       "      <td>0.602746</td>\n",
       "    </tr>\n",
       "    <tr>\n",
       "      <th>17</th>\n",
       "      <td>0.01</td>\n",
       "      <td>l2</td>\n",
       "      <td>0.85</td>\n",
       "      <td>-1924.513476</td>\n",
       "    </tr>\n",
       "    <tr>\n",
       "      <th>18</th>\n",
       "      <td>0.01</td>\n",
       "      <td>l1</td>\n",
       "      <td>1</td>\n",
       "      <td>-164.837954</td>\n",
       "    </tr>\n",
       "    <tr>\n",
       "      <th>19</th>\n",
       "      <td>0.01</td>\n",
       "      <td>l2</td>\n",
       "      <td>1</td>\n",
       "      <td>-10096.530549</td>\n",
       "    </tr>\n",
       "    <tr>\n",
       "      <th>20</th>\n",
       "      <td>0.1</td>\n",
       "      <td>l1</td>\n",
       "      <td>0</td>\n",
       "      <td>0.495934</td>\n",
       "    </tr>\n",
       "    <tr>\n",
       "      <th>21</th>\n",
       "      <td>0.1</td>\n",
       "      <td>l2</td>\n",
       "      <td>0</td>\n",
       "      <td>0.505715</td>\n",
       "    </tr>\n",
       "    <tr>\n",
       "      <th>22</th>\n",
       "      <td>0.1</td>\n",
       "      <td>l1</td>\n",
       "      <td>0.15</td>\n",
       "      <td>0.494744</td>\n",
       "    </tr>\n",
       "    <tr>\n",
       "      <th>23</th>\n",
       "      <td>0.1</td>\n",
       "      <td>l2</td>\n",
       "      <td>0.15</td>\n",
       "      <td>0.493298</td>\n",
       "    </tr>\n",
       "    <tr>\n",
       "      <th>24</th>\n",
       "      <td>0.1</td>\n",
       "      <td>l1</td>\n",
       "      <td>0.5</td>\n",
       "      <td>0.49315</td>\n",
       "    </tr>\n",
       "    <tr>\n",
       "      <th>25</th>\n",
       "      <td>0.1</td>\n",
       "      <td>l2</td>\n",
       "      <td>0.5</td>\n",
       "      <td>-0.164585</td>\n",
       "    </tr>\n",
       "    <tr>\n",
       "      <th>26</th>\n",
       "      <td>0.1</td>\n",
       "      <td>l1</td>\n",
       "      <td>0.85</td>\n",
       "      <td>0.492633</td>\n",
       "    </tr>\n",
       "    <tr>\n",
       "      <th>27</th>\n",
       "      <td>0.1</td>\n",
       "      <td>l2</td>\n",
       "      <td>0.85</td>\n",
       "      <td>-0.896589</td>\n",
       "    </tr>\n",
       "    <tr>\n",
       "      <th>28</th>\n",
       "      <td>0.1</td>\n",
       "      <td>l1</td>\n",
       "      <td>1</td>\n",
       "      <td>0.496168</td>\n",
       "    </tr>\n",
       "    <tr>\n",
       "      <th>29</th>\n",
       "      <td>0.1</td>\n",
       "      <td>l2</td>\n",
       "      <td>1</td>\n",
       "      <td>-0.379227</td>\n",
       "    </tr>\n",
       "    <tr>\n",
       "      <th>30</th>\n",
       "      <td>1</td>\n",
       "      <td>l1</td>\n",
       "      <td>0</td>\n",
       "      <td>-0.001424</td>\n",
       "    </tr>\n",
       "    <tr>\n",
       "      <th>31</th>\n",
       "      <td>1</td>\n",
       "      <td>l2</td>\n",
       "      <td>0</td>\n",
       "      <td>0.392256</td>\n",
       "    </tr>\n",
       "    <tr>\n",
       "      <th>32</th>\n",
       "      <td>1</td>\n",
       "      <td>l1</td>\n",
       "      <td>0.15</td>\n",
       "      <td>-0.000821</td>\n",
       "    </tr>\n",
       "    <tr>\n",
       "      <th>33</th>\n",
       "      <td>1</td>\n",
       "      <td>l2</td>\n",
       "      <td>0.15</td>\n",
       "      <td>0.395506</td>\n",
       "    </tr>\n",
       "    <tr>\n",
       "      <th>34</th>\n",
       "      <td>1</td>\n",
       "      <td>l1</td>\n",
       "      <td>0.5</td>\n",
       "      <td>-0.000775</td>\n",
       "    </tr>\n",
       "    <tr>\n",
       "      <th>35</th>\n",
       "      <td>1</td>\n",
       "      <td>l2</td>\n",
       "      <td>0.5</td>\n",
       "      <td>0.395227</td>\n",
       "    </tr>\n",
       "    <tr>\n",
       "      <th>36</th>\n",
       "      <td>1</td>\n",
       "      <td>l1</td>\n",
       "      <td>0.85</td>\n",
       "      <td>-0.000837</td>\n",
       "    </tr>\n",
       "    <tr>\n",
       "      <th>37</th>\n",
       "      <td>1</td>\n",
       "      <td>l2</td>\n",
       "      <td>0.85</td>\n",
       "      <td>0.392599</td>\n",
       "    </tr>\n",
       "    <tr>\n",
       "      <th>38</th>\n",
       "      <td>1</td>\n",
       "      <td>l1</td>\n",
       "      <td>1</td>\n",
       "      <td>-0.000944</td>\n",
       "    </tr>\n",
       "    <tr>\n",
       "      <th>39</th>\n",
       "      <td>1</td>\n",
       "      <td>l2</td>\n",
       "      <td>1</td>\n",
       "      <td>0.394638</td>\n",
       "    </tr>\n",
       "  </tbody>\n",
       "</table>\n",
       "</div>"
      ],
      "text/plain": [
       "    alpha penalty l1_ratio mean_test_score\n",
       "0   0.001      l1        0    -5323.274428\n",
       "1   0.001      l2        0   -17363.619859\n",
       "2   0.001      l1     0.15   -29800.889666\n",
       "3   0.001      l2     0.15   -15221.962541\n",
       "4   0.001      l1      0.5   -84089.664461\n",
       "5   0.001      l2      0.5   -31748.920888\n",
       "6   0.001      l1     0.85    -28174.59694\n",
       "7   0.001      l2     0.85    -30044.86583\n",
       "8   0.001      l1        1   -12434.484722\n",
       "9   0.001      l2        1    -5883.982874\n",
       "10   0.01      l1        0        0.601924\n",
       "11   0.01      l2        0   -44136.713675\n",
       "12   0.01      l1     0.15        0.601783\n",
       "13   0.01      l2     0.15   -16438.319514\n",
       "14   0.01      l1      0.5        0.603549\n",
       "15   0.01      l2      0.5    -2649.490247\n",
       "16   0.01      l1     0.85        0.602746\n",
       "17   0.01      l2     0.85    -1924.513476\n",
       "18   0.01      l1        1     -164.837954\n",
       "19   0.01      l2        1   -10096.530549\n",
       "20    0.1      l1        0        0.495934\n",
       "21    0.1      l2        0        0.505715\n",
       "22    0.1      l1     0.15        0.494744\n",
       "23    0.1      l2     0.15        0.493298\n",
       "24    0.1      l1      0.5         0.49315\n",
       "25    0.1      l2      0.5       -0.164585\n",
       "26    0.1      l1     0.85        0.492633\n",
       "27    0.1      l2     0.85       -0.896589\n",
       "28    0.1      l1        1        0.496168\n",
       "29    0.1      l2        1       -0.379227\n",
       "30      1      l1        0       -0.001424\n",
       "31      1      l2        0        0.392256\n",
       "32      1      l1     0.15       -0.000821\n",
       "33      1      l2     0.15        0.395506\n",
       "34      1      l1      0.5       -0.000775\n",
       "35      1      l2      0.5        0.395227\n",
       "36      1      l1     0.85       -0.000837\n",
       "37      1      l2     0.85        0.392599\n",
       "38      1      l1        1       -0.000944\n",
       "39      1      l2        1        0.394638"
      ]
     },
     "execution_count": 88,
     "metadata": {},
     "output_type": "execute_result"
    }
   ],
   "source": [
    "cv = grid.cv_results_\n",
    "pd.DataFrame([cv['param_alpha'], cv['param_penalty'], cv['param_l1_ratio'], cv['mean_test_score']],\n",
    "             index=['alpha', 'penalty', 'l1_ratio', 'mean_test_score']).T"
   ]
  },
  {
   "attachments": {},
   "cell_type": "markdown",
   "metadata": {},
   "source": [
    "## Supplementary"
   ]
  },
  {
   "attachments": {},
   "cell_type": "markdown",
   "metadata": {},
   "source": [
    "About vars() and  \\_\\_dict__"
   ]
  },
  {
   "cell_type": "code",
   "execution_count": 104,
   "metadata": {},
   "outputs": [
    {
     "name": "stdout",
     "output_type": "stream",
     "text": [
      "{'x': 1, 'y': 2}\n",
      "{'x': 2, 'y': 1}\n",
      "{'x': 2, 'y': 1}\n"
     ]
    }
   ],
   "source": [
    "def f(x, y):\n",
    "    return vars()\n",
    "\n",
    "class A:\n",
    "    def __init__(self, x, y):\n",
    "        self.x = x\n",
    "        self.y = y\n",
    "\n",
    "a = A(2, 1)\n",
    "\n",
    "print(f(1, 2))\n",
    "print(vars(a))\n",
    "print(a.__dict__)"
   ]
  },
  {
   "cell_type": "code",
   "execution_count": 106,
   "metadata": {},
   "outputs": [
    {
     "data": {
      "text/plain": [
       "{'x': 3, 'y': 2, 'z': 1}"
      ]
     },
     "execution_count": 106,
     "metadata": {},
     "output_type": "execute_result"
    }
   ],
   "source": [
    "# attributes can be updated by modifying __dict__\n",
    "a.__dict__['x'] = 3\n",
    "a.__dict__.update(y=2, z=1)\n",
    "vars(a)"
   ]
  }
 ],
 "metadata": {
  "kernelspec": {
   "display_name": "base",
   "language": "python",
   "name": "python3"
  },
  "language_info": {
   "codemirror_mode": {
    "name": "ipython",
    "version": 3
   },
   "file_extension": ".py",
   "mimetype": "text/x-python",
   "name": "python",
   "nbconvert_exporter": "python",
   "pygments_lexer": "ipython3",
   "version": "3.9.1"
  },
  "orig_nbformat": 4
 },
 "nbformat": 4,
 "nbformat_minor": 2
}
