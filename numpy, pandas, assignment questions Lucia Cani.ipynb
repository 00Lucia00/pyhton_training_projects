{
 "cells": [
  {
   "cell_type": "markdown",
   "id": "6cac721a",
   "metadata": {},
   "source": [
    "# NUMPY"
   ]
  },
  {
   "cell_type": "code",
   "execution_count": 1,
   "id": "a0efc848",
   "metadata": {},
   "outputs": [],
   "source": [
    "import numpy as np #tar in Numpy module"
   ]
  },
  {
   "cell_type": "code",
   "execution_count": 2,
   "id": "4ada9d63",
   "metadata": {},
   "outputs": [],
   "source": [
    "numbers = [10, 21, 32, 43, 54, 65, 76, 87, 98, 101] #lista"
   ]
  },
  {
   "cell_type": "markdown",
   "id": "31a4c3df",
   "metadata": {},
   "source": [
    "## 1. Convert the list of numbers to a NumPy array."
   ]
  },
  {
   "cell_type": "code",
   "execution_count": 3,
   "id": "7cf678e5",
   "metadata": {},
   "outputs": [
    {
     "name": "stdout",
     "output_type": "stream",
     "text": [
      "[ 10  21  32  43  54  65  76  87  98 101]\n"
     ]
    }
   ],
   "source": [
    "ar = np.array(numbers) #lägger in listan i en Numpy array funktion\n",
    "print(ar) #kollar så innehållet av denna array stämmer"
   ]
  },
  {
   "cell_type": "markdown",
   "id": "343fc55b",
   "metadata": {},
   "source": [
    "## 2. Create a new NumPy array containing only the even numbers from the original array."
   ]
  },
  {
   "cell_type": "code",
   "execution_count": 4,
   "id": "80297374",
   "metadata": {},
   "outputs": [
    {
     "name": "stdout",
     "output_type": "stream",
     "text": [
      "[10 32 54 76 98]\n"
     ]
    }
   ],
   "source": [
    "even = []  # använder mig utav en tom lista där de nummer jag vill ha ska läggas till\n",
    "for nr in numbers: #loopar igenom förgående lista\n",
    "    if nr%2 == 0: #  kan siffran delas med 2 utan kvarläming så är den gemn  \n",
    "        even.append(nr) #lägg då till siffran\n",
    "evenArray = np.array(even) # när loppen är färdig läggs den nya listan in i en Numpy array metod\n",
    "print(evenArray) #skriver ut för att kolla innehåll"
   ]
  },
  {
   "cell_type": "markdown",
   "id": "a845607d",
   "metadata": {},
   "source": [
    "[10 32 54 76 98]"
   ]
  },
  {
   "cell_type": "markdown",
   "id": "f2925651",
   "metadata": {},
   "source": [
    "## 3. Create a new NumPy array containing only the odd numbers from the original array."
   ]
  },
  {
   "cell_type": "code",
   "execution_count": 5,
   "id": "4d7fe6ee",
   "metadata": {},
   "outputs": [
    {
     "name": "stdout",
     "output_type": "stream",
     "text": [
      "[ 21  43  65  87 101]\n"
     ]
    }
   ],
   "source": [
    "odd = [] # samma som föregående cell\n",
    "for nr in numbers:\n",
    "    if nr%2 != 0: # kollar dock så att de inte går gemt ut\n",
    "        odd.append(nr)\n",
    "oddArray = np.array(odd)\n",
    "print(oddArray)"
   ]
  },
  {
   "cell_type": "markdown",
   "id": "55de0aee",
   "metadata": {},
   "source": [
    "[ 21  43  65  87 101]"
   ]
  },
  {
   "cell_type": "markdown",
   "id": "77fd162b",
   "metadata": {},
   "source": [
    "## 4. Calculate the mean, median, and standard deviation of the original array."
   ]
  },
  {
   "cell_type": "code",
   "execution_count": 6,
   "id": "318cfac0",
   "metadata": {},
   "outputs": [
    {
     "name": "stdout",
     "output_type": "stream",
     "text": [
      "58.7\n",
      "59.5\n",
      "30.41068891031573\n"
     ]
    }
   ],
   "source": [
    "#använder den första Numpy arrayen (number) för att lägga in dess värden i dessa inbyggda funtioner.\n",
    "meanArray = np.mean(ar) #Returnerar medelvärdet av arrayelementen. Medelvärdet tas från en tillplattad matris som standard, annars från en angivna axeln.\n",
    "medianArray = np.median(ar)#Beräknar medianen för arrayelementen.\n",
    "devArray = np.std(ar)#Returnerar standardavvikelsen, ett mått på spridningen av fördelningen av arrayelementen.\n",
    "\n",
    "print(meanArray)\n",
    "print(medianArray)\n",
    "print(devArray)\n"
   ]
  },
  {
   "cell_type": "markdown",
   "id": "0ca7cbd9",
   "metadata": {},
   "source": [
    "Mean: 58.7\n",
    "Median: 59.5\n",
    "Standard deviation: 30.41068891031573"
   ]
  },
  {
   "cell_type": "markdown",
   "id": "23188855",
   "metadata": {},
   "source": [
    "## 5. Multiply every element of the original array by 2 and then subtract 10 from each element."
   ]
  },
  {
   "cell_type": "code",
   "execution_count": 7,
   "id": "d570efc9",
   "metadata": {},
   "outputs": [
    {
     "name": "stdout",
     "output_type": "stream",
     "text": [
      "[ 10  32  54  76  98 120 142 164 186 192]\n"
     ]
    }
   ],
   "source": [
    "#för att inte ändra på arrayen (ar)'s värden så sparas ändrigarna i en ny variabel\n",
    "modefideAr = (ar * 2) - 10 #här gångras alla värden inuti arrayen med två och sedan subtraheras dom med 10\n",
    "print(modefideAr)"
   ]
  },
  {
   "cell_type": "markdown",
   "id": "88349c92",
   "metadata": {},
   "source": [
    "[ 10  32  54  76  98 120 142 164 186 192]"
   ]
  },
  {
   "cell_type": "markdown",
   "id": "12db4ee6",
   "metadata": {},
   "source": [
    "## 6. Create a new NumPy array containing the square of every number in the original array."
   ]
  },
  {
   "cell_type": "code",
   "execution_count": 8,
   "id": "322a57c5",
   "metadata": {},
   "outputs": [
    {
     "name": "stdout",
     "output_type": "stream",
     "text": [
      "[  100   441  1024  1849  2916  4225  5776  7569  9604 10201]\n"
     ]
    }
   ],
   "source": [
    "sqArray = ar ** 2 # två gånger täcken betyder upphöjt med. upphöjer varje värde inuti arreyen med 2\n",
    "print(sqArray)"
   ]
  },
  {
   "cell_type": "markdown",
   "id": "1a2af6bf",
   "metadata": {},
   "source": [
    "[  100   441  1024  1849  2916  4225  5776  7569  9604 10201]"
   ]
  },
  {
   "cell_type": "markdown",
   "id": "9583d85d",
   "metadata": {},
   "source": [
    "## 7. Create a new NumPy array containing the square root of every number in the original array."
   ]
  },
  {
   "cell_type": "code",
   "execution_count": 9,
   "id": "cc163662",
   "metadata": {},
   "outputs": [
    {
     "name": "stdout",
     "output_type": "stream",
     "text": [
      "[ 3.16227766  4.58257569  5.65685425  6.55743852  7.34846923  8.06225775\n",
      "  8.71779789  9.32737905  9.89949494 10.04987562]\n"
     ]
    }
   ],
   "source": [
    "sqrArray = np.sqrt(ar) # tar roten ur varje arrayelement med hjälp av metoden sqrt() \n",
    "print(sqrArray)"
   ]
  },
  {
   "cell_type": "markdown",
   "id": "f35a5be8",
   "metadata": {},
   "source": [
    "[ 3.16227766  4.58257569  5.65685425  6.55743852  7.34846923  8.06225775\n",
    "  8.71779789  9.32737905  9.89949494 10.04987562]"
   ]
  },
  {
   "cell_type": "markdown",
   "id": "dd1df15a",
   "metadata": {},
   "source": [
    "## 8. Create a new NumPy array containing the logarithm (base 10) of every number in the original array."
   ]
  },
  {
   "cell_type": "code",
   "execution_count": 10,
   "id": "2516ad39",
   "metadata": {},
   "outputs": [
    {
     "name": "stdout",
     "output_type": "stream",
     "text": [
      "[1.         1.32221929 1.50514998 1.63346846 1.73239376 1.81291336\n",
      " 1.88081359 1.93951925 1.99122608 2.00432137]\n"
     ]
    }
   ],
   "source": [
    "logArray = np.log10(ar) # beräknar log10 bas av varje arrayelement med hjälp av log10() metoden\n",
    "print(logArray)"
   ]
  },
  {
   "cell_type": "markdown",
   "id": "a9010a32",
   "metadata": {},
   "source": [
    "[1.         1.32221929 1.50514998 1.63346846 1.73239376 1.81291336\n",
    " 1.88081359 1.93951925 1.99122608 2.00432137]"
   ]
  },
  {
   "cell_type": "markdown",
   "id": "ae76a30f",
   "metadata": {},
   "source": [
    "## 9. Create a new NumPy array containing the exponential of every number in the original array."
   ]
  },
  {
   "cell_type": "code",
   "execution_count": 11,
   "id": "9624e701",
   "metadata": {},
   "outputs": [
    {
     "name": "stdout",
     "output_type": "stream",
     "text": [
      "[2.20264658e+04 1.31881573e+09 7.89629602e+13 4.72783947e+18\n",
      " 2.83075330e+23 1.69488924e+28 1.01480039e+33 6.07603023e+37\n",
      " 3.63797095e+42 7.30705998e+43]\n"
     ]
    }
   ],
   "source": [
    "exArray = np.exp(ar) #beräknar Euler’s nummer av varje element med hjälp utav exp()metoden\n",
    "print(exArray)"
   ]
  },
  {
   "cell_type": "markdown",
   "id": "487a7109",
   "metadata": {},
   "source": [
    "[2.20264658e+04 1.31881573e+09 7.89629602e+13 4.72783947e+18\n",
    " 2.83075330e+23 1.69488924e+28 1.01480039e+33 6.07603023e+37\n",
    " 3.63797095e+42 7.30705998e+43]"
   ]
  },
  {
   "cell_type": "markdown",
   "id": "2af0009e",
   "metadata": {},
   "source": [
    "# PANDAS"
   ]
  },
  {
   "cell_type": "code",
   "execution_count": 12,
   "id": "b208e624",
   "metadata": {},
   "outputs": [],
   "source": [
    "import pandas as pd"
   ]
  },
  {
   "cell_type": "markdown",
   "id": "9bde8587",
   "metadata": {},
   "source": [
    "## 1. Create a DataFrame from a dictionary containing some data about cities."
   ]
  },
  {
   "cell_type": "markdown",
   "id": "23c58a91",
   "metadata": {},
   "source": [
    "          City State  Population    Area  Density\n",
    "0     New York    NY     8399000   468.9    17883\n",
    "1  Los Angeles    CA     3999000   502.7     7944\n",
    "2      Chicago    IL     2695000   227.3    11861\n",
    "3      Houston    TX     2325000   637.5     3646\n",
    "4      Phoenix    AZ     1665000  1341.1     1240"
   ]
  },
  {
   "cell_type": "code",
   "execution_count": 13,
   "id": "dbe02c28",
   "metadata": {},
   "outputs": [],
   "source": [
    "data = {\n",
    "    'City': ['New York', 'Los Angeles', 'Chicago', 'Houston', 'Phoenix'],\n",
    "    'State': ['NY', 'CA', 'IL', 'TX', 'AZ'],\n",
    "    'Population': [8399000, 3999000, 2695000, 2325000, 1665000],\n",
    "    'Area': [468.9, 502.7, 227.3, 637.5, 1341.1],\n",
    "    'Density': [17883, 7944, 11861, 3646, 1240]\n",
    "}"
   ]
  },
  {
   "cell_type": "code",
   "execution_count": 14,
   "id": "31818e06",
   "metadata": {},
   "outputs": [
    {
     "data": {
      "text/html": [
       "<div>\n",
       "<style scoped>\n",
       "    .dataframe tbody tr th:only-of-type {\n",
       "        vertical-align: middle;\n",
       "    }\n",
       "\n",
       "    .dataframe tbody tr th {\n",
       "        vertical-align: top;\n",
       "    }\n",
       "\n",
       "    .dataframe thead th {\n",
       "        text-align: right;\n",
       "    }\n",
       "</style>\n",
       "<table border=\"1\" class=\"dataframe\">\n",
       "  <thead>\n",
       "    <tr style=\"text-align: right;\">\n",
       "      <th></th>\n",
       "      <th>City</th>\n",
       "      <th>State</th>\n",
       "      <th>Population</th>\n",
       "      <th>Area</th>\n",
       "      <th>Density</th>\n",
       "    </tr>\n",
       "  </thead>\n",
       "  <tbody>\n",
       "    <tr>\n",
       "      <th>0</th>\n",
       "      <td>New York</td>\n",
       "      <td>NY</td>\n",
       "      <td>8399000</td>\n",
       "      <td>468.9</td>\n",
       "      <td>17883</td>\n",
       "    </tr>\n",
       "    <tr>\n",
       "      <th>1</th>\n",
       "      <td>Los Angeles</td>\n",
       "      <td>CA</td>\n",
       "      <td>3999000</td>\n",
       "      <td>502.7</td>\n",
       "      <td>7944</td>\n",
       "    </tr>\n",
       "    <tr>\n",
       "      <th>2</th>\n",
       "      <td>Chicago</td>\n",
       "      <td>IL</td>\n",
       "      <td>2695000</td>\n",
       "      <td>227.3</td>\n",
       "      <td>11861</td>\n",
       "    </tr>\n",
       "    <tr>\n",
       "      <th>3</th>\n",
       "      <td>Houston</td>\n",
       "      <td>TX</td>\n",
       "      <td>2325000</td>\n",
       "      <td>637.5</td>\n",
       "      <td>3646</td>\n",
       "    </tr>\n",
       "    <tr>\n",
       "      <th>4</th>\n",
       "      <td>Phoenix</td>\n",
       "      <td>AZ</td>\n",
       "      <td>1665000</td>\n",
       "      <td>1341.1</td>\n",
       "      <td>1240</td>\n",
       "    </tr>\n",
       "  </tbody>\n",
       "</table>\n",
       "</div>"
      ],
      "text/plain": [
       "          City State  Population    Area  Density\n",
       "0     New York    NY     8399000   468.9    17883\n",
       "1  Los Angeles    CA     3999000   502.7     7944\n",
       "2      Chicago    IL     2695000   227.3    11861\n",
       "3      Houston    TX     2325000   637.5     3646\n",
       "4      Phoenix    AZ     1665000  1341.1     1240"
      ]
     },
     "execution_count": 14,
     "metadata": {},
     "output_type": "execute_result"
    }
   ],
   "source": [
    "df=pd.DataFrame(data) #skapar en data ram för att se informationen visuellt\n",
    "\n",
    "df.head()# kollar de 5 första raderna i ramen"
   ]
  },
  {
   "cell_type": "markdown",
   "id": "a03f9f17",
   "metadata": {},
   "source": [
    "## 2. Select and display only the rows where the population is greater than 3 million."
   ]
  },
  {
   "cell_type": "code",
   "execution_count": 15,
   "id": "3bda666b",
   "metadata": {},
   "outputs": [
    {
     "data": {
      "text/html": [
       "<div>\n",
       "<style scoped>\n",
       "    .dataframe tbody tr th:only-of-type {\n",
       "        vertical-align: middle;\n",
       "    }\n",
       "\n",
       "    .dataframe tbody tr th {\n",
       "        vertical-align: top;\n",
       "    }\n",
       "\n",
       "    .dataframe thead th {\n",
       "        text-align: right;\n",
       "    }\n",
       "</style>\n",
       "<table border=\"1\" class=\"dataframe\">\n",
       "  <thead>\n",
       "    <tr style=\"text-align: right;\">\n",
       "      <th></th>\n",
       "      <th>City</th>\n",
       "      <th>State</th>\n",
       "      <th>Population</th>\n",
       "      <th>Area</th>\n",
       "      <th>Density</th>\n",
       "    </tr>\n",
       "  </thead>\n",
       "  <tbody>\n",
       "    <tr>\n",
       "      <th>0</th>\n",
       "      <td>New York</td>\n",
       "      <td>NY</td>\n",
       "      <td>8399000</td>\n",
       "      <td>468.9</td>\n",
       "      <td>17883</td>\n",
       "    </tr>\n",
       "    <tr>\n",
       "      <th>1</th>\n",
       "      <td>Los Angeles</td>\n",
       "      <td>CA</td>\n",
       "      <td>3999000</td>\n",
       "      <td>502.7</td>\n",
       "      <td>7944</td>\n",
       "    </tr>\n",
       "  </tbody>\n",
       "</table>\n",
       "</div>"
      ],
      "text/plain": [
       "          City State  Population   Area  Density\n",
       "0     New York    NY     8399000  468.9    17883\n",
       "1  Los Angeles    CA     3999000  502.7     7944"
      ]
     },
     "execution_count": 15,
     "metadata": {},
     "output_type": "execute_result"
    }
   ],
   "source": [
    "dfSelect = df[df['Population']>3000000] #tar ut population columnen i ramen och kollar så att de är mer en 3mil.\n",
    "dfSelect.head() # om de är fallet så stoppar värdet in i en ny variabel. sedan kolla vi variabelns innehåll"
   ]
  },
  {
   "cell_type": "markdown",
   "id": "4e8a9461",
   "metadata": {},
   "source": [
    "          City State  Population   Area  Density\n",
    "0     New York    NY     8399000  468.9    17883\n",
    "1  Los Angeles    CA     3999000  502.7     7944"
   ]
  },
  {
   "cell_type": "markdown",
   "id": "634ada18",
   "metadata": {},
   "source": [
    "## 3. Group the DataFrame by State and calculate the mean of the Population, Area, and Density columns."
   ]
  },
  {
   "cell_type": "code",
   "execution_count": 16,
   "id": "6e0c617a",
   "metadata": {
    "scrolled": true
   },
   "outputs": [
    {
     "name": "stdout",
     "output_type": "stream",
     "text": [
      "Mean of population: 3816600.0\n",
      "Mean of Area: 635.5\n",
      "Mean of Density: 8514.8\n"
     ]
    },
    {
     "data": {
      "text/html": [
       "<div>\n",
       "<style scoped>\n",
       "    .dataframe tbody tr th:only-of-type {\n",
       "        vertical-align: middle;\n",
       "    }\n",
       "\n",
       "    .dataframe tbody tr th {\n",
       "        vertical-align: top;\n",
       "    }\n",
       "\n",
       "    .dataframe thead th {\n",
       "        text-align: right;\n",
       "    }\n",
       "</style>\n",
       "<table border=\"1\" class=\"dataframe\">\n",
       "  <thead>\n",
       "    <tr style=\"text-align: right;\">\n",
       "      <th></th>\n",
       "      <th>City</th>\n",
       "      <th>Population</th>\n",
       "      <th>Area</th>\n",
       "      <th>Density</th>\n",
       "    </tr>\n",
       "    <tr>\n",
       "      <th>State</th>\n",
       "      <th></th>\n",
       "      <th></th>\n",
       "      <th></th>\n",
       "      <th></th>\n",
       "    </tr>\n",
       "  </thead>\n",
       "  <tbody>\n",
       "    <tr>\n",
       "      <th>AZ</th>\n",
       "      <td>Phoenix</td>\n",
       "      <td>1665000</td>\n",
       "      <td>1341.1</td>\n",
       "      <td>1240</td>\n",
       "    </tr>\n",
       "    <tr>\n",
       "      <th>CA</th>\n",
       "      <td>Los Angeles</td>\n",
       "      <td>3999000</td>\n",
       "      <td>502.7</td>\n",
       "      <td>7944</td>\n",
       "    </tr>\n",
       "    <tr>\n",
       "      <th>IL</th>\n",
       "      <td>Chicago</td>\n",
       "      <td>2695000</td>\n",
       "      <td>227.3</td>\n",
       "      <td>11861</td>\n",
       "    </tr>\n",
       "    <tr>\n",
       "      <th>NY</th>\n",
       "      <td>New York</td>\n",
       "      <td>8399000</td>\n",
       "      <td>468.9</td>\n",
       "      <td>17883</td>\n",
       "    </tr>\n",
       "    <tr>\n",
       "      <th>TX</th>\n",
       "      <td>Houston</td>\n",
       "      <td>2325000</td>\n",
       "      <td>637.5</td>\n",
       "      <td>3646</td>\n",
       "    </tr>\n",
       "  </tbody>\n",
       "</table>\n",
       "</div>"
      ],
      "text/plain": [
       "              City  Population    Area  Density\n",
       "State                                          \n",
       "AZ         Phoenix     1665000  1341.1     1240\n",
       "CA     Los Angeles     3999000   502.7     7944\n",
       "IL         Chicago     2695000   227.3    11861\n",
       "NY        New York     8399000   468.9    17883\n",
       "TX         Houston     2325000   637.5     3646"
      ]
     },
     "execution_count": 16,
     "metadata": {},
     "output_type": "execute_result"
    }
   ],
   "source": [
    "dfGroup = df.groupby('State') #här grupperas informationen via stad\n",
    "meanP = df['Population'].mean() # gör ny variabel där värdet stoppas in, tar sedan specifik kolumn att göra uträckning på\n",
    "meanA = df['Area'].mean()\n",
    "meanD = df['Density'].mean()\n",
    "print('Mean of population:',meanP) # skriver ut svar\n",
    "print('Mean of Area:',meanA)\n",
    "print('Mean of Density:',meanD)\n",
    "dfGroup.first()#skriver ut gruperad tabell"
   ]
  },
  {
   "cell_type": "markdown",
   "id": "948ef469",
   "metadata": {},
   "source": [
    "       Population    Area  Density\n",
    "State                             \n",
    "AZ      1665000.0  1341.1   1240.0\n",
    "CA      3999000.0   502.7   7944.0\n",
    "IL      2695000.0   227.3  11861.0\n",
    "NY      8399000.0   468.9  17883.0\n",
    "TX      2325000.0   637.5   3646.0"
   ]
  },
  {
   "cell_type": "markdown",
   "id": "0a22cbaa",
   "metadata": {},
   "source": [
    "## 4. Sort the DataFrame by Population in descending order."
   ]
  },
  {
   "cell_type": "code",
   "execution_count": 17,
   "id": "a6b7e8ec",
   "metadata": {},
   "outputs": [
    {
     "data": {
      "text/html": [
       "<div>\n",
       "<style scoped>\n",
       "    .dataframe tbody tr th:only-of-type {\n",
       "        vertical-align: middle;\n",
       "    }\n",
       "\n",
       "    .dataframe tbody tr th {\n",
       "        vertical-align: top;\n",
       "    }\n",
       "\n",
       "    .dataframe thead th {\n",
       "        text-align: right;\n",
       "    }\n",
       "</style>\n",
       "<table border=\"1\" class=\"dataframe\">\n",
       "  <thead>\n",
       "    <tr style=\"text-align: right;\">\n",
       "      <th></th>\n",
       "      <th>City</th>\n",
       "      <th>State</th>\n",
       "      <th>Population</th>\n",
       "      <th>Area</th>\n",
       "      <th>Density</th>\n",
       "    </tr>\n",
       "  </thead>\n",
       "  <tbody>\n",
       "    <tr>\n",
       "      <th>0</th>\n",
       "      <td>New York</td>\n",
       "      <td>NY</td>\n",
       "      <td>8399000</td>\n",
       "      <td>468.9</td>\n",
       "      <td>17883</td>\n",
       "    </tr>\n",
       "    <tr>\n",
       "      <th>1</th>\n",
       "      <td>Los Angeles</td>\n",
       "      <td>CA</td>\n",
       "      <td>3999000</td>\n",
       "      <td>502.7</td>\n",
       "      <td>7944</td>\n",
       "    </tr>\n",
       "    <tr>\n",
       "      <th>2</th>\n",
       "      <td>Chicago</td>\n",
       "      <td>IL</td>\n",
       "      <td>2695000</td>\n",
       "      <td>227.3</td>\n",
       "      <td>11861</td>\n",
       "    </tr>\n",
       "    <tr>\n",
       "      <th>3</th>\n",
       "      <td>Houston</td>\n",
       "      <td>TX</td>\n",
       "      <td>2325000</td>\n",
       "      <td>637.5</td>\n",
       "      <td>3646</td>\n",
       "    </tr>\n",
       "    <tr>\n",
       "      <th>4</th>\n",
       "      <td>Phoenix</td>\n",
       "      <td>AZ</td>\n",
       "      <td>1665000</td>\n",
       "      <td>1341.1</td>\n",
       "      <td>1240</td>\n",
       "    </tr>\n",
       "  </tbody>\n",
       "</table>\n",
       "</div>"
      ],
      "text/plain": [
       "          City State  Population    Area  Density\n",
       "0     New York    NY     8399000   468.9    17883\n",
       "1  Los Angeles    CA     3999000   502.7     7944\n",
       "2      Chicago    IL     2695000   227.3    11861\n",
       "3      Houston    TX     2325000   637.5     3646\n",
       "4      Phoenix    AZ     1665000  1341.1     1240"
      ]
     },
     "execution_count": 17,
     "metadata": {},
     "output_type": "execute_result"
    }
   ],
   "source": [
    "dfpop = pd.DataFrame(data) # skapar ny ram\n",
    "dfpop.sort_values(by='Population', ascending=False) # sorterar denna ram via högst population och sedan minskande"
   ]
  },
  {
   "cell_type": "markdown",
   "id": "0c28eca0",
   "metadata": {},
   "source": [
    "          City State  Population    Area  Density\n",
    "0     New York    NY     8399000   468.9    17883\n",
    "1  Los Angeles    CA     3999000   502.7     7944\n",
    "2      Chicago    IL     2695000   227.3    11861\n",
    "3      Houston    TX     2325000   637.5     3646\n",
    "4      Phoenix    AZ     1665000  1341.1     1240"
   ]
  },
  {
   "cell_type": "markdown",
   "id": "cb7fd729",
   "metadata": {},
   "source": [
    "## 5. Add a new column to the DataFrame that contains the population density per square mile (use Area column in square miles)."
   ]
  },
  {
   "cell_type": "code",
   "execution_count": 18,
   "id": "1ce34423",
   "metadata": {},
   "outputs": [
    {
     "data": {
      "text/html": [
       "<div>\n",
       "<style scoped>\n",
       "    .dataframe tbody tr th:only-of-type {\n",
       "        vertical-align: middle;\n",
       "    }\n",
       "\n",
       "    .dataframe tbody tr th {\n",
       "        vertical-align: top;\n",
       "    }\n",
       "\n",
       "    .dataframe thead th {\n",
       "        text-align: right;\n",
       "    }\n",
       "</style>\n",
       "<table border=\"1\" class=\"dataframe\">\n",
       "  <thead>\n",
       "    <tr style=\"text-align: right;\">\n",
       "      <th></th>\n",
       "      <th>City</th>\n",
       "      <th>State</th>\n",
       "      <th>Population</th>\n",
       "      <th>Area</th>\n",
       "      <th>Density</th>\n",
       "      <th>Density_per_sqmile</th>\n",
       "    </tr>\n",
       "  </thead>\n",
       "  <tbody>\n",
       "    <tr>\n",
       "      <th>0</th>\n",
       "      <td>New York</td>\n",
       "      <td>NY</td>\n",
       "      <td>8399000</td>\n",
       "      <td>468.9</td>\n",
       "      <td>17883</td>\n",
       "      <td>17912.134784</td>\n",
       "    </tr>\n",
       "    <tr>\n",
       "      <th>1</th>\n",
       "      <td>Los Angeles</td>\n",
       "      <td>CA</td>\n",
       "      <td>3999000</td>\n",
       "      <td>502.7</td>\n",
       "      <td>7944</td>\n",
       "      <td>7955.042769</td>\n",
       "    </tr>\n",
       "    <tr>\n",
       "      <th>2</th>\n",
       "      <td>Chicago</td>\n",
       "      <td>IL</td>\n",
       "      <td>2695000</td>\n",
       "      <td>227.3</td>\n",
       "      <td>11861</td>\n",
       "      <td>11856.577211</td>\n",
       "    </tr>\n",
       "    <tr>\n",
       "      <th>3</th>\n",
       "      <td>Houston</td>\n",
       "      <td>TX</td>\n",
       "      <td>2325000</td>\n",
       "      <td>637.5</td>\n",
       "      <td>3646</td>\n",
       "      <td>3647.058824</td>\n",
       "    </tr>\n",
       "    <tr>\n",
       "      <th>4</th>\n",
       "      <td>Phoenix</td>\n",
       "      <td>AZ</td>\n",
       "      <td>1665000</td>\n",
       "      <td>1341.1</td>\n",
       "      <td>1240</td>\n",
       "      <td>1241.518157</td>\n",
       "    </tr>\n",
       "  </tbody>\n",
       "</table>\n",
       "</div>"
      ],
      "text/plain": [
       "          City State  Population    Area  Density  Density_per_sqmile\n",
       "0     New York    NY     8399000   468.9    17883        17912.134784\n",
       "1  Los Angeles    CA     3999000   502.7     7944         7955.042769\n",
       "2      Chicago    IL     2695000   227.3    11861        11856.577211\n",
       "3      Houston    TX     2325000   637.5     3646         3647.058824\n",
       "4      Phoenix    AZ     1665000  1341.1     1240         1241.518157"
      ]
     },
     "execution_count": 18,
     "metadata": {},
     "output_type": "execute_result"
    }
   ],
   "source": [
    "# börjar med ramens namn, ger sedan den nya kolumnen ett namn och säger sedan till vad den ska innehålla\n",
    "newColumn = df[\"Density_per_sqmile\"] = (df[\"Population\"] / df[\"Area\"]) # den nya kolumnen är popul delat med Area\n",
    "df.head()#skriver ut ram för att kolla nya kolumnen"
   ]
  },
  {
   "cell_type": "markdown",
   "id": "dabb8bd8",
   "metadata": {},
   "source": [
    "          City State  Population    Area  Density  Density_per_sqmile\n",
    "0     New York    NY     8399000   468.9    17883        17912.134784\n",
    "1  Los Angeles    CA     3999000   502.7     7944         7955.042769\n",
    "2      Chicago    IL     2695000   227.3    11861        11856.577211\n",
    "3      Houston    TX     2325000   637.5     3646         3647.058824\n",
    "4      Phoenix    AZ     1665000  1341.1     1240         1241.518157"
   ]
  },
  {
   "cell_type": "markdown",
   "id": "dd4a2c0b",
   "metadata": {},
   "source": [
    "# Exploration"
   ]
  },
  {
   "cell_type": "code",
   "execution_count": 19,
   "id": "9a14a7c1",
   "metadata": {},
   "outputs": [],
   "source": [
    "import pandas as pd\n",
    "import matplotlib.pyplot as plt"
   ]
  },
  {
   "cell_type": "code",
   "execution_count": 20,
   "id": "d638a38b",
   "metadata": {},
   "outputs": [],
   "source": [
    "url ='https://raw.githubusercontent.com/cs109/2014_data/master/countries.csv'"
   ]
  },
  {
   "cell_type": "markdown",
   "id": "61d15fd1",
   "metadata": {},
   "source": [
    "## Read data from url and write head data"
   ]
  },
  {
   "cell_type": "code",
   "execution_count": 21,
   "id": "2243acfa",
   "metadata": {},
   "outputs": [
    {
     "data": {
      "text/html": [
       "<div>\n",
       "<style scoped>\n",
       "    .dataframe tbody tr th:only-of-type {\n",
       "        vertical-align: middle;\n",
       "    }\n",
       "\n",
       "    .dataframe tbody tr th {\n",
       "        vertical-align: top;\n",
       "    }\n",
       "\n",
       "    .dataframe thead th {\n",
       "        text-align: right;\n",
       "    }\n",
       "</style>\n",
       "<table border=\"1\" class=\"dataframe\">\n",
       "  <thead>\n",
       "    <tr style=\"text-align: right;\">\n",
       "      <th></th>\n",
       "      <th>Country</th>\n",
       "      <th>Region</th>\n",
       "    </tr>\n",
       "  </thead>\n",
       "  <tbody>\n",
       "    <tr>\n",
       "      <th>0</th>\n",
       "      <td>Algeria</td>\n",
       "      <td>AFRICA</td>\n",
       "    </tr>\n",
       "    <tr>\n",
       "      <th>1</th>\n",
       "      <td>Angola</td>\n",
       "      <td>AFRICA</td>\n",
       "    </tr>\n",
       "    <tr>\n",
       "      <th>2</th>\n",
       "      <td>Benin</td>\n",
       "      <td>AFRICA</td>\n",
       "    </tr>\n",
       "    <tr>\n",
       "      <th>3</th>\n",
       "      <td>Botswana</td>\n",
       "      <td>AFRICA</td>\n",
       "    </tr>\n",
       "    <tr>\n",
       "      <th>4</th>\n",
       "      <td>Burkina</td>\n",
       "      <td>AFRICA</td>\n",
       "    </tr>\n",
       "  </tbody>\n",
       "</table>\n",
       "</div>"
      ],
      "text/plain": [
       "    Country  Region\n",
       "0   Algeria  AFRICA\n",
       "1    Angola  AFRICA\n",
       "2     Benin  AFRICA\n",
       "3  Botswana  AFRICA\n",
       "4   Burkina  AFRICA"
      ]
     },
     "execution_count": 21,
     "metadata": {},
     "output_type": "execute_result"
    }
   ],
   "source": [
    "dataf = pd.read_csv(url) #läser in url via denna metod vilket  returnerar en data ram\n",
    "dataf.head() #kollar data ramens 5 första kolumner"
   ]
  },
  {
   "cell_type": "markdown",
   "id": "e572a1cb",
   "metadata": {},
   "source": [
    "## Describe data"
   ]
  },
  {
   "cell_type": "code",
   "execution_count": 22,
   "id": "81aa29cd",
   "metadata": {
    "scrolled": true
   },
   "outputs": [
    {
     "data": {
      "text/html": [
       "<div>\n",
       "<style scoped>\n",
       "    .dataframe tbody tr th:only-of-type {\n",
       "        vertical-align: middle;\n",
       "    }\n",
       "\n",
       "    .dataframe tbody tr th {\n",
       "        vertical-align: top;\n",
       "    }\n",
       "\n",
       "    .dataframe thead th {\n",
       "        text-align: right;\n",
       "    }\n",
       "</style>\n",
       "<table border=\"1\" class=\"dataframe\">\n",
       "  <thead>\n",
       "    <tr style=\"text-align: right;\">\n",
       "      <th></th>\n",
       "      <th>Country</th>\n",
       "      <th>Region</th>\n",
       "    </tr>\n",
       "  </thead>\n",
       "  <tbody>\n",
       "    <tr>\n",
       "      <th>count</th>\n",
       "      <td>194</td>\n",
       "      <td>194</td>\n",
       "    </tr>\n",
       "    <tr>\n",
       "      <th>unique</th>\n",
       "      <td>194</td>\n",
       "      <td>6</td>\n",
       "    </tr>\n",
       "    <tr>\n",
       "      <th>top</th>\n",
       "      <td>Algeria</td>\n",
       "      <td>AFRICA</td>\n",
       "    </tr>\n",
       "    <tr>\n",
       "      <th>freq</th>\n",
       "      <td>1</td>\n",
       "      <td>54</td>\n",
       "    </tr>\n",
       "  </tbody>\n",
       "</table>\n",
       "</div>"
      ],
      "text/plain": [
       "        Country  Region\n",
       "count       194     194\n",
       "unique      194       6\n",
       "top     Algeria  AFRICA\n",
       "freq          1      54"
      ]
     },
     "execution_count": 22,
     "metadata": {},
     "output_type": "execute_result"
    }
   ],
   "source": [
    "#Detta beskriver ramens innehåll, det fanns 194 rader för country och region. \n",
    "#194 unika värden för country och 6 för reigon. första raden va algeria.\n",
    "# algeria kom upp 1 gång Africa 54 gånger\n",
    "dataf.describe()"
   ]
  },
  {
   "cell_type": "markdown",
   "id": "0fe155de",
   "metadata": {},
   "source": [
    "## Check for missing or null values"
   ]
  },
  {
   "cell_type": "code",
   "execution_count": 23,
   "id": "e3bc6870",
   "metadata": {},
   "outputs": [
    {
     "name": "stdout",
     "output_type": "stream",
     "text": [
      "       Country         Region\n",
      "0      Algeria         AFRICA\n",
      "1       Angola         AFRICA\n",
      "2        Benin         AFRICA\n",
      "3     Botswana         AFRICA\n",
      "4      Burkina         AFRICA\n",
      "..         ...            ...\n",
      "189   Paraguay  SOUTH AMERICA\n",
      "190       Peru  SOUTH AMERICA\n",
      "191   Suriname  SOUTH AMERICA\n",
      "192    Uruguay  SOUTH AMERICA\n",
      "193  Venezuela  SOUTH AMERICA\n",
      "\n",
      "[194 rows x 2 columns]\n"
     ]
    }
   ],
   "source": [
    "drop = dataf.drop_duplicates()# tar bort de rader som här identisk information i varje kolumn\n",
    "print(drop)"
   ]
  },
  {
   "cell_type": "code",
   "execution_count": 24,
   "id": "545bd6e0",
   "metadata": {},
   "outputs": [
    {
     "name": "stdout",
     "output_type": "stream",
     "text": [
      "Country    0\n",
      "Region     0\n",
      "dtype: int64\n"
     ]
    }
   ],
   "source": [
    "mdata = dataf.isnull().sum() #kollar om någon rad i ramen har ett tomt värde i någon av kolumnerna\n",
    "print(mdata)"
   ]
  },
  {
   "cell_type": "markdown",
   "id": "dd916c28",
   "metadata": {},
   "source": [
    "## Rename columns to COUNTRY, REGION"
   ]
  },
  {
   "cell_type": "code",
   "execution_count": 25,
   "id": "6a9b24c5",
   "metadata": {},
   "outputs": [
    {
     "data": {
      "text/html": [
       "<div>\n",
       "<style scoped>\n",
       "    .dataframe tbody tr th:only-of-type {\n",
       "        vertical-align: middle;\n",
       "    }\n",
       "\n",
       "    .dataframe tbody tr th {\n",
       "        vertical-align: top;\n",
       "    }\n",
       "\n",
       "    .dataframe thead th {\n",
       "        text-align: right;\n",
       "    }\n",
       "</style>\n",
       "<table border=\"1\" class=\"dataframe\">\n",
       "  <thead>\n",
       "    <tr style=\"text-align: right;\">\n",
       "      <th></th>\n",
       "      <th>COUNTRY</th>\n",
       "      <th>REGION</th>\n",
       "    </tr>\n",
       "  </thead>\n",
       "  <tbody>\n",
       "    <tr>\n",
       "      <th>0</th>\n",
       "      <td>Algeria</td>\n",
       "      <td>AFRICA</td>\n",
       "    </tr>\n",
       "    <tr>\n",
       "      <th>1</th>\n",
       "      <td>Angola</td>\n",
       "      <td>AFRICA</td>\n",
       "    </tr>\n",
       "    <tr>\n",
       "      <th>2</th>\n",
       "      <td>Benin</td>\n",
       "      <td>AFRICA</td>\n",
       "    </tr>\n",
       "    <tr>\n",
       "      <th>3</th>\n",
       "      <td>Botswana</td>\n",
       "      <td>AFRICA</td>\n",
       "    </tr>\n",
       "    <tr>\n",
       "      <th>4</th>\n",
       "      <td>Burkina</td>\n",
       "      <td>AFRICA</td>\n",
       "    </tr>\n",
       "  </tbody>\n",
       "</table>\n",
       "</div>"
      ],
      "text/plain": [
       "    COUNTRY  REGION\n",
       "0   Algeria  AFRICA\n",
       "1    Angola  AFRICA\n",
       "2     Benin  AFRICA\n",
       "3  Botswana  AFRICA\n",
       "4   Burkina  AFRICA"
      ]
     },
     "execution_count": 25,
     "metadata": {},
     "output_type": "execute_result"
    }
   ],
   "source": [
    "# rename funktionen tar först vart i df namnet ska bytas ut och sedan det gamla nament sen det nya och byter sedan ut dom\n",
    "# tar en dictionary\n",
    "dataf = dataf.rename(columns = {'Country':'COUNTRY' , 'Region':'REGION'}) \n",
    "dataf.head()"
   ]
  },
  {
   "cell_type": "markdown",
   "id": "37444e87",
   "metadata": {},
   "source": [
    "## Count countries in each region"
   ]
  },
  {
   "cell_type": "code",
   "execution_count": 32,
   "id": "19a0aafe",
   "metadata": {},
   "outputs": [
    {
     "name": "stdout",
     "output_type": "stream",
     "text": [
      "AFRICA           54\n",
      "EUROPE           47\n",
      "ASIA             44\n",
      "NORTH AMERICA    23\n",
      "OCEANIA          14\n",
      "SOUTH AMERICA    12\n",
      "Name: REGION, dtype: int64\n"
     ]
    }
   ],
   "source": [
    "# lägger in värdet i en variabel som sedan ska plottas ut\n",
    "# säger till vilken kolumn som ska räknas på och kallar sedan på metoden som räknar hur många ggr ett värde uppstår i den kolumnen\n",
    "ax = dataf['REGION'].value_counts()\n",
    "print(ax)"
   ]
  },
  {
   "cell_type": "markdown",
   "id": "ff61e76a",
   "metadata": {},
   "source": [
    "## Data Visualization, show country count by region with bar chart, title is Number of Countries by Region, x label Region, y label count"
   ]
  },
  {
   "cell_type": "code",
   "execution_count": 37,
   "id": "a6446249",
   "metadata": {},
   "outputs": [
    {
     "data": {
      "text/plain": [
       "<matplotlib.legend.Legend at 0x18d5518beb0>"
      ]
     },
     "execution_count": 37,
     "metadata": {},
     "output_type": "execute_result"
    },
    {
     "data": {
      "image/png": "[encoded data removed]",
      "text/plain": [
       "<Figure size 640x480 with 1 Axes>"
      ]
     },
     "metadata": {},
     "output_type": "display_data"
    }
   ],
   "source": [
    "#plottar ut en bar chart av värderna från den föregående variabeln, då den innheåller de värden vi vill se grafiskt\n",
    "#gör den lite snygg med färg och beskrivande text\n",
    "ax.plot.bar('REGION', 'COUNTRY', color = 'purple', \n",
    "            xlabel = 'Region',\n",
    "            ylabel = 'Count',\n",
    "            title = 'country count by region' , \n",
    "            label = 'Amount of countrys in continent')\n",
    "plt.legend() # skriver ut en beskrivning till bar färgen"
   ]
  },
  {
   "cell_type": "code",
   "execution_count": null,
   "id": "988b20dd",
   "metadata": {},
   "outputs": [],
   "source": []
  }
 ],
 "metadata": {
  "kernelspec": {
   "display_name": "Python 3 (ipykernel)",
   "language": "python",
   "name": "python3"
  },
  "language_info": {
   "codemirror_mode": {
    "name": "ipython",
    "version": 3
   },
   "file_extension": ".py",
   "mimetype": "text/x-python",
   "name": "python",
   "nbconvert_exporter": "python",
   "pygments_lexer": "ipython3",
   "version": "3.9.13"
  }
 },
 "nbformat": 4,
 "nbformat_minor": 5
}
