{
 "cells": [
  {
   "cell_type": "code",
   "execution_count": 48,
   "id": "45587c28",
   "metadata": {},
   "outputs": [
    {
     "name": "stdout",
     "output_type": "stream",
     "text": [
      "Data är korrekt!\n"
     ]
    }
   ],
   "source": [
    "#Hämta data från textfilen. Stäng koppling efteråt\n",
    "file = open('passenger.txt', 'r')\n",
    "strInput = file.read()\n",
    "stations = strInput.split('\\n')\n",
    "file.close()\n",
    "\n",
    "#Skapar grundläggande variabler\n",
    "passengers = 0\n",
    "maxPassenger = 40\n",
    "valid = True\n",
    "\n",
    "#Loop för varje station\n",
    "for station in stations:\n",
    "    #Dela upp stations-data via split\n",
    "    data = station.split(',')\n",
    "    # [0] är påstigande, [1] är avstigande, [2] är resterande på station\n",
    "    \n",
    "    #Kontrollera att antal avstigande är korrekt\n",
    "    if int(data[1]) > passengers:\n",
    "        valid = False\n",
    "        print(\"Fel antal avstigande personer\")\n",
    "        break\n",
    "        \n",
    "    # Personer lämnar tåget och nya går sedan på\n",
    "    passengers -= int(data[1])\n",
    "    passengers += int(data[0])\n",
    "    \n",
    "    #Kontroller att passagerare inte överstiger antalet max-cap\n",
    "    if passengers > maxPassenger:\n",
    "        valid = False\n",
    "        print(\"För många personer på tåget\")\n",
    "        break\n",
    "    \n",
    "    # Kontroller att resterande personer inte kom på\n",
    "    if passengers != maxPassenger and int(data[2]) != 0:\n",
    "        valid = False\n",
    "        print(\"Personer fanns kvar när det fanns lediga platser\")\n",
    "        break\n",
    "\n",
    "#Kontrollera att alla passengers har gått av vid sista station\n",
    "if passengers > 0:\n",
    "    valid = False\n",
    "    print(\"Personer kvar på tåget efter slutstation!\")\n",
    "\n",
    "#Kontrollera Valid\n",
    "if valid:\n",
    "    print(\"Data är korrekt!\")\n",
    "else:\n",
    "    print(\"Data är inkorrekt!\")"
   ]
  }
 ],
 "metadata": {
  "kernelspec": {
   "display_name": "Python 3 (ipykernel)",
   "language": "python",
   "name": "python3"
  },
  "language_info": {
   "codemirror_mode": {
    "name": "ipython",
    "version": 3
   },
   "file_extension": ".py",
   "mimetype": "text/x-python",
   "name": "python",
   "nbconvert_exporter": "python",
   "pygments_lexer": "ipython3",
   "version": "3.9.13"
  }
 },
 "nbformat": 4,
 "nbformat_minor": 5
}
