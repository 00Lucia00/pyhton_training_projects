{
 "cells": [
  {
   "cell_type": "code",
   "execution_count": null,
   "id": "4a370be5",
   "metadata": {},
   "outputs": [],
   "source": [
    "#open läser/skriver filer (sökväg och metod)\n",
    "# mode \"read\" \"write \" \"Append - denna använd om man inte vill skriva över befintlig info i filen utan lägga till info\"(då används 'wa' för write append)\n",
    "file = open(\"pyTextfil.txt\", 'r')\n",
    "\n",
    "print(file.read())\n",
    "file.close()"
   ]
  },
  {
   "cell_type": "code",
   "execution_count": null,
   "id": "b0424d14",
   "metadata": {},
   "outputs": [],
   "source": [
    "#skriv ny text till fil\n",
    "file = open(\"pyTextfil.txt\", \"a\") #kan bara ha en mode variabel. a står för append. den används för att lägga till text till befintlig text\n",
    "\n",
    "strInput = input(\"Skriv in en text: \")\n",
    "file.write(strInput + '\\n')\n",
    "file.close()"
   ]
  },
  {
   "cell_type": "markdown",
   "id": "ee0f6a7b",
   "metadata": {},
   "source": [
    "# Övning tågstation"
   ]
  },
  {
   "cell_type": "code",
   "execution_count": null,
   "id": "783cd274",
   "metadata": {},
   "outputs": [],
   "source": [
    "#Varje rad är en station i tågets rutt och varje rad har 3 tal, separerade med ett komma-tecken.\n",
    "#-Det första talet är antalet passagerare som gick ombord tåget.\n",
    "#-Det andra talet är antalet passagerare som gick av tåget.\n",
    "#-Det tredje talet är antalet passagerare som stod kvar på stationen.\n",
    "#För att datan skall vara korrekt måste följande krav uppfyllas:\n",
    "#• Ingen passagerare kan gå av tåget vid första stationen. Ingen passagerare kan gå på tåget vid sista stationen\n",
    "#• Antalet passagerare som går ombord tåget och som går av tåget genom hela resan måste vara detsamma\n",
    "#• Det får aldrig vara över 40 passagerare ombord på tåget\n",
    "#• Passagerare får endast stå kvar på en station om tåget lämnar stationen full.\n",
    "\n",
    "file = open(\"pyTextfil.txt\", \"a\") \n",
    "\n",
    "strInput = []\n",
    "\n",
    "strInput1 = input(\"Tågförarens anteckningar\" + \"\\n\" +\n",
    "                 \"antal passagerare som gick ombord: \")\n",
    "\n",
    "strInput2 = input(\"antal passagerare som gick av tåget: \")\n",
    "\n",
    "strInput3 = input(\"antal passagerare som stod kvar på stationen: \")\n",
    "\n",
    "file.write(strInput1 + ','+ strInput2 + ','+ strInput3 + \"\\n\")\n",
    "\n",
    "file.close()\n",
    "\n"
   ]
  },
  {
   "cell_type": "code",
   "execution_count": null,
   "id": "6c9d477d",
   "metadata": {},
   "outputs": [],
   "source": [
    "file = open(\"pyTextfil.txt\", 'r')\n",
    "\n",
    "print(file.read())\n",
    "file.close()"
   ]
  },
  {
   "cell_type": "code",
   "execution_count": null,
   "id": "631f4801",
   "metadata": {},
   "outputs": [],
   "source": [
    "#split() - metoden retunerar en array\n"
   ]
  }
 ],
 "metadata": {
  "kernelspec": {
   "display_name": "Python 3 (ipykernel)",
   "language": "python",
   "name": "python3"
  },
  "language_info": {
   "codemirror_mode": {
    "name": "ipython",
    "version": 3
   },
   "file_extension": ".py",
   "mimetype": "text/x-python",
   "name": "python",
   "nbconvert_exporter": "python",
   "pygments_lexer": "ipython3",
   "version": "3.9.13"
  }
 },
 "nbformat": 4,
 "nbformat_minor": 5
}
